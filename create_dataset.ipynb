{
 "cells": [
  {
   "cell_type": "markdown",
   "metadata": {},
   "source": [
    "First is necessary to know which files are going to be used in the data set, in our case we tried to use all the information avaiable (so we should have 1012 patient id's inside our local copy of the LIDC-IDRI) so that we could get more accurate results and since we would be using \"one\" image from each pacient \"nodule\""
   ]
  },
  {
   "cell_type": "code",
   "execution_count": 26,
   "metadata": {},
   "outputs": [
    {
     "name": "stdout",
     "output_type": "stream",
     "text": [
      "Number of patients in the dataset: 1010\n",
      "\n",
      "List of the id's that are missing from our dataset:\n",
      "LIDC-IDRI-0239\n",
      "LIDC-IDRI-0586\n"
     ]
    }
   ],
   "source": [
    "import os\n",
    "\n",
    "#specify the path to your dataset where you have the folders with the name of the pacients\n",
    "directory=\"data/dataset/LIDC-IDRI/\"\n",
    "#list all the folders inside our local copy of LIDC-IDRI (that correspond to the patient id's that are going to be used to get the scans and annotations)\n",
    "folders=os.listdir(directory)\n",
    "\n",
    "print(f\"Number of patients in the dataset: {len(folders)}\")\n",
    "#just so that it is easier to know which patients we are don't have in our copy of the LIDC-IDRI\n",
    "folders.sort()\n",
    "print()\n",
    "#printing the patients id's that we couldn't download\n",
    "print(\"List of the id's that are missing from our dataset:\")\n",
    "count=1\n",
    "for folder in folders:\n",
    "    if(str(count) not in folder):\n",
    "        print(folder)\n",
    "        count=int(folder.split('-')[-1])\n",
    "    count+=1\n"
   ]
  },
  {
   "cell_type": "markdown",
   "metadata": {},
   "source": [
    "As it is possible to see the number is diferent from the expected (1012 number of people that are avaiable in the original LODC-IRDI), this is due to the fact that during the download (which was made using the offical tool nbia-data-retriver) we did not have authority to download this instances"
   ]
  },
  {
   "cell_type": "code",
   "execution_count": 30,
   "metadata": {},
   "outputs": [],
   "source": [
    "import pylidc as pl\n",
    "\n",
    "for folder in folders:\n",
    "    pid=folder\n",
    "\n",
    "    #get the scann corresponding to the patient_id that we have \n",
    "    scann=pl.query(pl.Scan).filter(pl.Scan.patient_id==pid).first()\n",
    "\n"
   ]
  }
 ],
 "metadata": {
  "kernelspec": {
   "display_name": ".venv",
   "language": "python",
   "name": "python3"
  },
  "language_info": {
   "codemirror_mode": {
    "name": "ipython",
    "version": 3
   },
   "file_extension": ".py",
   "mimetype": "text/x-python",
   "name": "python",
   "nbconvert_exporter": "python",
   "pygments_lexer": "ipython3",
   "version": "3.10.12"
  }
 },
 "nbformat": 4,
 "nbformat_minor": 2
}
