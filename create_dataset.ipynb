{
 "cells": [
  {
   "cell_type": "markdown",
   "metadata": {},
   "source": [
    "First is necessary to know which files are going to be used in the data set, in our case we tried to use all the information avaiable (so we should have 1012 patient id's inside our local copy of the LIDC-IDRI) so that we could get more accurate results and since we would be using \"one\" image from each pacient \"nodule\""
   ]
  },
  {
   "cell_type": "code",
   "execution_count": 1,
   "metadata": {},
   "outputs": [
    {
     "name": "stdout",
     "output_type": "stream",
     "text": [
      "Number of patients in the dataset: 1010\n",
      "\n",
      "List of the id's that are missing from our dataset:\n",
      "LIDC-IDRI-0239\n",
      "LIDC-IDRI-0586\n"
     ]
    }
   ],
   "source": [
    "import os\n",
    "\n",
    "#specify the path to your dataset where you have the folders with the name of the pacients\n",
    "directory=\"data/dataset/LIDC-IDRI/\"\n",
    "#list all the folders inside our local copy of LIDC-IDRI (that correspond to the patient id's that are going to be used to get the scans and annotations)\n",
    "folders=os.listdir(directory)\n",
    "\n",
    "print(f\"Number of patients in the dataset: {len(folders)}\")\n",
    "#just so that it is easier to know which patients we are don't have in our copy of the LIDC-IDRI\n",
    "folders.sort()\n",
    "print()\n",
    "#printing the patients id's that we couldn't download\n",
    "print(\"List of the id's that are missing from our dataset:\")\n",
    "count=1\n",
    "for folder in folders:\n",
    "    if(str(count) not in folder):\n",
    "        print(folder)\n",
    "        count=int(folder.split('-')[-1])\n",
    "    count+=1\n"
   ]
  },
  {
   "cell_type": "markdown",
   "metadata": {},
   "source": [
    "As it is possible to see the number is diferent from the expected (1012 number of people that are avaiable in the original LODC-IRDI), this is due to the fact that during the download (which was made using the offical tool nbia-data-retriver) we did not have authority to download this instances"
   ]
  },
  {
   "cell_type": "code",
   "execution_count": 2,
   "metadata": {},
   "outputs": [
    {
     "name": "stdout",
     "output_type": "stream",
     "text": [
      "Failed to reduce all groups to <= 4 Annotations.\n",
      "Some nodules may be close and must be grouped manually.\n",
      "Failed to reduce all groups to <= 4 Annotations.\n",
      "Some nodules may be close and must be grouped manually.\n",
      "Failed to reduce all groups to <= 4 Annotations.\n",
      "Some nodules may be close and must be grouped manually.\n",
      "Failed to reduce all groups to <= 4 Annotations.\n",
      "Some nodules may be close and must be grouped manually.\n",
      "Failed to reduce all groups to <= 4 Annotations.\n",
      "Some nodules may be close and must be grouped manually.\n",
      "Failed to reduce all groups to <= 4 Annotations.\n",
      "Some nodules may be close and must be grouped manually.\n",
      "Failed to reduce all groups to <= 4 Annotations.\n",
      "Some nodules may be close and must be grouped manually.\n",
      "Failed to reduce all groups to <= 4 Annotations.\n",
      "Some nodules may be close and must be grouped manually.\n",
      "Failed to reduce all groups to <= 4 Annotations.\n",
      "Some nodules may be close and must be grouped manually.\n",
      "Failed to reduce all groups to <= 4 Annotations.\n",
      "Some nodules may be close and must be grouped manually.\n",
      "Failed to reduce all groups to <= 4 Annotations.\n",
      "Some nodules may be close and must be grouped manually.\n",
      "Failed to reduce all groups to <= 4 Annotations.\n",
      "Some nodules may be close and must be grouped manually.\n",
      "Failed to reduce all groups to <= 4 Annotations.\n",
      "Some nodules may be close and must be grouped manually.\n",
      "Number of lesions: 2625\n",
      "Number of scanns with 0 nodules: 135\n",
      "[['LIDC-IDRI-0028', []], ['LIDC-IDRI-0032', []], ['LIDC-IDRI-0062', []], ['LIDC-IDRI-0071', []], ['LIDC-IDRI-0100', []], ['LIDC-IDRI-0143', []], ['LIDC-IDRI-0174', []], ['LIDC-IDRI-0189', []], ['LIDC-IDRI-0197', []], ['LIDC-IDRI-0205', []], ['LIDC-IDRI-0214', []], ['LIDC-IDRI-0218', []], ['LIDC-IDRI-0224', []], ['LIDC-IDRI-0225', []], ['LIDC-IDRI-0226', []], ['LIDC-IDRI-0239', []], ['LIDC-IDRI-0253', []], ['LIDC-IDRI-0261', []], ['LIDC-IDRI-0279', []], ['LIDC-IDRI-0293', []], ['LIDC-IDRI-0295', []], ['LIDC-IDRI-0306', []], ['LIDC-IDRI-0307', []], ['LIDC-IDRI-0316', []], ['LIDC-IDRI-0322', []], ['LIDC-IDRI-0327', []], ['LIDC-IDRI-0330', []], ['LIDC-IDRI-0331', []], ['LIDC-IDRI-0333', []], ['LIDC-IDRI-0336', []], ['LIDC-IDRI-0342', []], ['LIDC-IDRI-0349', []], ['LIDC-IDRI-0361', []], ['LIDC-IDRI-0364', []], ['LIDC-IDRI-0382', []], ['LIDC-IDRI-0383', []], ['LIDC-IDRI-0389', []], ['LIDC-IDRI-0391', []], ['LIDC-IDRI-0401', []], ['LIDC-IDRI-0410', []], ['LIDC-IDRI-0417', []], ['LIDC-IDRI-0418', []], ['LIDC-IDRI-0422', []], ['LIDC-IDRI-0425', []], ['LIDC-IDRI-0428', []], ['LIDC-IDRI-0441', []], ['LIDC-IDRI-0446', []], ['LIDC-IDRI-0455', []], ['LIDC-IDRI-0465', []], ['LIDC-IDRI-0472', []], ['LIDC-IDRI-0482', []], ['LIDC-IDRI-0506', []], ['LIDC-IDRI-0511', []], ['LIDC-IDRI-0512', []], ['LIDC-IDRI-0513', []], ['LIDC-IDRI-0514', []], ['LIDC-IDRI-0519', []], ['LIDC-IDRI-0528', []], ['LIDC-IDRI-0531', []], ['LIDC-IDRI-0536', []], ['LIDC-IDRI-0540', []], ['LIDC-IDRI-0544', []], ['LIDC-IDRI-0548', []], ['LIDC-IDRI-0561', []], ['LIDC-IDRI-0564', []], ['LIDC-IDRI-0573', []], ['LIDC-IDRI-0589', []], ['LIDC-IDRI-0600', []], ['LIDC-IDRI-0603', []], ['LIDC-IDRI-0612', []], ['LIDC-IDRI-0616', []], ['LIDC-IDRI-0622', []], ['LIDC-IDRI-0623', []], ['LIDC-IDRI-0627', []], ['LIDC-IDRI-0632', []], ['LIDC-IDRI-0646', []], ['LIDC-IDRI-0653', []], ['LIDC-IDRI-0665', []], ['LIDC-IDRI-0667', []], ['LIDC-IDRI-0668', []], ['LIDC-IDRI-0679', []], ['LIDC-IDRI-0683', []], ['LIDC-IDRI-0685', []], ['LIDC-IDRI-0689', []], ['LIDC-IDRI-0690', []], ['LIDC-IDRI-0691', []], ['LIDC-IDRI-0710', []], ['LIDC-IDRI-0711', []], ['LIDC-IDRI-0716', []], ['LIDC-IDRI-0718', []], ['LIDC-IDRI-0731', []], ['LIDC-IDRI-0737', []], ['LIDC-IDRI-0738', []], ['LIDC-IDRI-0745', []], ['LIDC-IDRI-0746', []], ['LIDC-IDRI-0755', []], ['LIDC-IDRI-0760', []], ['LIDC-IDRI-0764', []], ['LIDC-IDRI-0774', []], ['LIDC-IDRI-0784', []], ['LIDC-IDRI-0804', []], ['LIDC-IDRI-0808', []], ['LIDC-IDRI-0839', []], ['LIDC-IDRI-0853', []], ['LIDC-IDRI-0862', []], ['LIDC-IDRI-0876', []], ['LIDC-IDRI-0877', []], ['LIDC-IDRI-0878', []], ['LIDC-IDRI-0881', []], ['LIDC-IDRI-0885', []], ['LIDC-IDRI-0887', []], ['LIDC-IDRI-0889', []], ['LIDC-IDRI-0891', []], ['LIDC-IDRI-0897', []], ['LIDC-IDRI-0900', []], ['LIDC-IDRI-0901', []], ['LIDC-IDRI-0903', []], ['LIDC-IDRI-0918', []], ['LIDC-IDRI-0927', []], ['LIDC-IDRI-0930', []], ['LIDC-IDRI-0931', []], ['LIDC-IDRI-0934', []], ['LIDC-IDRI-0937', []], ['LIDC-IDRI-0948', []], ['LIDC-IDRI-0952', []], ['LIDC-IDRI-0954', []], ['LIDC-IDRI-0960', []], ['LIDC-IDRI-0964', []], ['LIDC-IDRI-0967', []], ['LIDC-IDRI-0970', []], ['LIDC-IDRI-0975', []], ['LIDC-IDRI-0979', []], ['LIDC-IDRI-0988', []], ['LIDC-IDRI-0992', []], ['LIDC-IDRI-0995', []]]\n"
     ]
    }
   ],
   "source": [
    "import pylidc as pl\n",
    "\n",
    "n_lesions=0\n",
    "scans_0_nods=[]\n",
    "\n",
    "for folder in folders:\n",
    "    pid=folder\n",
    "\n",
    "    #get the scann corresponding to the patient_id that we have \n",
    "    scan=pl.query(pl.Scan).filter(pl.Scan.patient_id==pid).first()\n",
    "    #get all the nodules annotations, each list corresponds to the same nodules\n",
    "    nods=scan.cluster_annotations()    \n",
    "    n_lesions+=len(nods)\n",
    "    if(len(nods)==0):\n",
    "        scans_0_nods.append([scan.patient_id,scan.annotations])\n",
    "        \n",
    "\n",
    "\n",
    "print(f\"Number of lesions: {n_lesions}\" )\n",
    "print(f\"Number of scanns with 0 nodules: {len(scans_0_nods)}\")\n",
    "print(scans_0_nods)\n",
    "#13 of them gave an error so in total we have 123 scanns with 0 annotations\n"
   ]
  },
  {
   "cell_type": "markdown",
   "metadata": {},
   "source": [
    "As it is possible to see above some of the scans don't have nodules/annotations "
   ]
  },
  {
   "cell_type": "markdown",
   "metadata": {},
   "source": [
    "In the following code we use VG16 to extract features from the images of the lesions"
   ]
  },
  {
   "cell_type": "code",
   "execution_count": 3,
   "metadata": {},
   "outputs": [],
   "source": [
    "def get_malignancy(anns):\n",
    "    #Get the Malignancy of the lesion\n",
    "    #\n",
    "    #   1-‘Highly Unlikely’\n",
    "    #   2-‘Moderately Unlikely’\n",
    "    #   3-‘Indeterminate’\n",
    "    #   4-‘Moderately Suspicious’\n",
    "    #   5-‘Highly Suspicious’\n",
    "    #this feature will be used as a label to the dataset\n",
    "    malignancy=0\n",
    "    for i in range(len(anns)):\n",
    "        malignancy+=anns[i].malignancy\n",
    "    malignancy/=len(anns)\n",
    "    malignancy=round(malignancy)\n",
    "\n",
    "    return malignancy"
   ]
  },
  {
   "cell_type": "code",
   "execution_count": 4,
   "metadata": {},
   "outputs": [
    {
     "name": "stderr",
     "output_type": "stream",
     "text": [
      "2024-11-01 11:51:20.729020: I tensorflow/core/util/port.cc:153] oneDNN custom operations are on. You may see slightly different numerical results due to floating-point round-off errors from different computation orders. To turn them off, set the environment variable `TF_ENABLE_ONEDNN_OPTS=0`.\n",
      "2024-11-01 11:51:20.729836: I external/local_xla/xla/tsl/cuda/cudart_stub.cc:32] Could not find cuda drivers on your machine, GPU will not be used.\n",
      "2024-11-01 11:51:20.732729: I external/local_xla/xla/tsl/cuda/cudart_stub.cc:32] Could not find cuda drivers on your machine, GPU will not be used.\n",
      "2024-11-01 11:51:20.738864: E external/local_xla/xla/stream_executor/cuda/cuda_fft.cc:477] Unable to register cuFFT factory: Attempting to register factory for plugin cuFFT when one has already been registered\n",
      "WARNING: All log messages before absl::InitializeLog() is called are written to STDERR\n",
      "E0000 00:00:1730461880.748297   59950 cuda_dnn.cc:8310] Unable to register cuDNN factory: Attempting to register factory for plugin cuDNN when one has already been registered\n",
      "E0000 00:00:1730461880.751202   59950 cuda_blas.cc:1418] Unable to register cuBLAS factory: Attempting to register factory for plugin cuBLAS when one has already been registered\n",
      "2024-11-01 11:51:20.761628: I tensorflow/core/platform/cpu_feature_guard.cc:210] This TensorFlow binary is optimized to use available CPU instructions in performance-critical operations.\n",
      "To enable the following instructions: AVX2 AVX_VNNI FMA, in other operations, rebuild TensorFlow with the appropriate compiler flags.\n",
      "2024-11-01 11:51:22.193881: E external/local_xla/xla/stream_executor/cuda/cuda_driver.cc:152] failed call to cuInit: INTERNAL: CUDA error: Failed call to cuInit: UNKNOWN ERROR (303)\n"
     ]
    },
    {
     "name": "stdout",
     "output_type": "stream",
     "text": [
      "Currently in scan: LIDC-IDRI-0001\n",
      "Loading dicom files ... This may take a moment.\n",
      "Currently in scan: LIDC-IDRI-0002\n",
      "Loading dicom files ... This may take a moment.\n",
      "Currently in scan: LIDC-IDRI-0003\n",
      "Loading dicom files ... This may take a moment.\n"
     ]
    },
    {
     "name": "stderr",
     "output_type": "stream",
     "text": [
      "/home/pedro/Documents/UNI/_3_ano/LAB_IACD/project_1/.venv/lib/python3.10/site-packages/skimage/util/dtype.py:576: UserWarning: Downcasting int16 to uint8 without scaling because max value 208 fits in uint8\n",
      "  return _convert(image, np.uint8, force_copy)\n"
     ]
    },
    {
     "name": "stdout",
     "output_type": "stream",
     "text": [
      "Currently in scan: LIDC-IDRI-0004\n",
      "Loading dicom files ... This may take a moment.\n",
      "Currently in scan: LIDC-IDRI-0005\n",
      "Loading dicom files ... This may take a moment.\n"
     ]
    },
    {
     "name": "stderr",
     "output_type": "stream",
     "text": [
      "/home/pedro/Documents/UNI/_3_ano/LAB_IACD/project_1/.venv/lib/python3.10/site-packages/skimage/util/dtype.py:576: UserWarning: Downcasting int16 to uint8 without scaling because max value 176 fits in uint8\n",
      "  return _convert(image, np.uint8, force_copy)\n"
     ]
    },
    {
     "name": "stdout",
     "output_type": "stream",
     "text": [
      "Currently in scan: LIDC-IDRI-0006\n",
      "Loading dicom files ... This may take a moment.\n"
     ]
    },
    {
     "name": "stderr",
     "output_type": "stream",
     "text": [
      "/home/pedro/Documents/UNI/_3_ano/LAB_IACD/project_1/.venv/lib/python3.10/site-packages/skimage/util/dtype.py:576: UserWarning: Downcasting int16 to uint8 without scaling because max value 215 fits in uint8\n",
      "  return _convert(image, np.uint8, force_copy)\n",
      "/home/pedro/Documents/UNI/_3_ano/LAB_IACD/project_1/.venv/lib/python3.10/site-packages/skimage/util/dtype.py:576: UserWarning: Downcasting int16 to uint8 without scaling because max value 56 fits in uint8\n",
      "  return _convert(image, np.uint8, force_copy)\n",
      "/home/pedro/Documents/UNI/_3_ano/LAB_IACD/project_1/.venv/lib/python3.10/site-packages/skimage/util/dtype.py:576: UserWarning: Downcasting int16 to uint8 without scaling because max value 32 fits in uint8\n",
      "  return _convert(image, np.uint8, force_copy)\n"
     ]
    },
    {
     "name": "stdout",
     "output_type": "stream",
     "text": [
      "Currently in scan: LIDC-IDRI-0007\n",
      "Loading dicom files ... This may take a moment.\n",
      "Currently in scan: LIDC-IDRI-0008\n",
      "Loading dicom files ... This may take a moment.\n",
      "Currently in scan: LIDC-IDRI-0009\n",
      "Loading dicom files ... This may take a moment.\n",
      "Currently in scan: LIDC-IDRI-0010\n",
      "Loading dicom files ... This may take a moment.\n",
      "Currently in scan: LIDC-IDRI-0011\n",
      "Loading dicom files ... This may take a moment.\n"
     ]
    },
    {
     "name": "stderr",
     "output_type": "stream",
     "text": [
      "/home/pedro/Documents/UNI/_3_ano/LAB_IACD/project_1/.venv/lib/python3.10/site-packages/skimage/util/dtype.py:576: UserWarning: Downcasting int16 to uint8 without scaling because max value 124 fits in uint8\n",
      "  return _convert(image, np.uint8, force_copy)\n",
      "/home/pedro/Documents/UNI/_3_ano/LAB_IACD/project_1/.venv/lib/python3.10/site-packages/skimage/util/dtype.py:576: UserWarning: Downcasting int16 to uint8 without scaling because max value 64 fits in uint8\n",
      "  return _convert(image, np.uint8, force_copy)\n",
      "/home/pedro/Documents/UNI/_3_ano/LAB_IACD/project_1/.venv/lib/python3.10/site-packages/skimage/util/dtype.py:576: UserWarning: Downcasting int16 to uint8 without scaling because max value 84 fits in uint8\n",
      "  return _convert(image, np.uint8, force_copy)\n"
     ]
    },
    {
     "name": "stdout",
     "output_type": "stream",
     "text": [
      "Currently in scan: LIDC-IDRI-0012\n",
      "Loading dicom files ... This may take a moment.\n"
     ]
    },
    {
     "name": "stderr",
     "output_type": "stream",
     "text": [
      "/home/pedro/Documents/UNI/_3_ano/LAB_IACD/project_1/.venv/lib/python3.10/site-packages/skimage/util/dtype.py:576: UserWarning: Downcasting int16 to uint8 without scaling because max value 50 fits in uint8\n",
      "  return _convert(image, np.uint8, force_copy)\n",
      "/home/pedro/Documents/UNI/_3_ano/LAB_IACD/project_1/.venv/lib/python3.10/site-packages/skimage/util/dtype.py:576: UserWarning: Downcasting int16 to uint8 without scaling because max value -17 fits in uint8\n",
      "  return _convert(image, np.uint8, force_copy)\n",
      "/home/pedro/Documents/UNI/_3_ano/LAB_IACD/project_1/.venv/lib/python3.10/site-packages/skimage/util/dtype.py:576: UserWarning: Downcasting int16 to uint8 without scaling because max value 72 fits in uint8\n",
      "  return _convert(image, np.uint8, force_copy)\n",
      "/home/pedro/Documents/UNI/_3_ano/LAB_IACD/project_1/.venv/lib/python3.10/site-packages/skimage/util/dtype.py:576: UserWarning: Downcasting int16 to uint8 without scaling because max value 72 fits in uint8\n",
      "  return _convert(image, np.uint8, force_copy)\n",
      "/home/pedro/Documents/UNI/_3_ano/LAB_IACD/project_1/.venv/lib/python3.10/site-packages/skimage/util/dtype.py:576: UserWarning: Downcasting int16 to uint8 without scaling because max value -22 fits in uint8\n",
      "  return _convert(image, np.uint8, force_copy)\n"
     ]
    },
    {
     "name": "stdout",
     "output_type": "stream",
     "text": [
      "Currently in scan: LIDC-IDRI-0013\n",
      "Loading dicom files ... This may take a moment.\n"
     ]
    },
    {
     "name": "stderr",
     "output_type": "stream",
     "text": [
      "/home/pedro/Documents/UNI/_3_ano/LAB_IACD/project_1/.venv/lib/python3.10/site-packages/skimage/util/dtype.py:576: UserWarning: Downcasting int16 to uint8 without scaling because max value 38 fits in uint8\n",
      "  return _convert(image, np.uint8, force_copy)\n"
     ]
    },
    {
     "name": "stdout",
     "output_type": "stream",
     "text": [
      "Currently in scan: LIDC-IDRI-0014\n",
      "Loading dicom files ... This may take a moment.\n"
     ]
    },
    {
     "name": "stderr",
     "output_type": "stream",
     "text": [
      "/home/pedro/Documents/UNI/_3_ano/LAB_IACD/project_1/.venv/lib/python3.10/site-packages/skimage/util/dtype.py:576: UserWarning: Downcasting int16 to uint8 without scaling because max value 233 fits in uint8\n",
      "  return _convert(image, np.uint8, force_copy)\n"
     ]
    },
    {
     "name": "stdout",
     "output_type": "stream",
     "text": [
      "Currently in scan: LIDC-IDRI-0015\n",
      "Loading dicom files ... This may take a moment.\n",
      "Currently in scan: LIDC-IDRI-0016\n",
      "Loading dicom files ... This may take a moment.\n"
     ]
    },
    {
     "name": "stderr",
     "output_type": "stream",
     "text": [
      "/home/pedro/Documents/UNI/_3_ano/LAB_IACD/project_1/.venv/lib/python3.10/site-packages/skimage/util/dtype.py:576: UserWarning: Downcasting int16 to uint8 without scaling because max value 18 fits in uint8\n",
      "  return _convert(image, np.uint8, force_copy)\n",
      "/home/pedro/Documents/UNI/_3_ano/LAB_IACD/project_1/.venv/lib/python3.10/site-packages/skimage/util/dtype.py:576: UserWarning: Downcasting int16 to uint8 without scaling because max value -96 fits in uint8\n",
      "  return _convert(image, np.uint8, force_copy)\n",
      "/home/pedro/Documents/UNI/_3_ano/LAB_IACD/project_1/.venv/lib/python3.10/site-packages/skimage/util/dtype.py:576: UserWarning: Downcasting int16 to uint8 without scaling because max value -92 fits in uint8\n",
      "  return _convert(image, np.uint8, force_copy)\n"
     ]
    },
    {
     "name": "stdout",
     "output_type": "stream",
     "text": [
      "Currently in scan: LIDC-IDRI-0017\n",
      "Loading dicom files ... This may take a moment.\n"
     ]
    },
    {
     "name": "stderr",
     "output_type": "stream",
     "text": [
      "/home/pedro/Documents/UNI/_3_ano/LAB_IACD/project_1/.venv/lib/python3.10/site-packages/skimage/util/dtype.py:576: UserWarning: Downcasting int16 to uint8 without scaling because max value 117 fits in uint8\n",
      "  return _convert(image, np.uint8, force_copy)\n"
     ]
    },
    {
     "name": "stdout",
     "output_type": "stream",
     "text": [
      "Currently in scan: LIDC-IDRI-0018\n",
      "Loading dicom files ... This may take a moment.\n"
     ]
    },
    {
     "name": "stderr",
     "output_type": "stream",
     "text": [
      "/home/pedro/Documents/UNI/_3_ano/LAB_IACD/project_1/.venv/lib/python3.10/site-packages/skimage/util/dtype.py:576: UserWarning: Downcasting int16 to uint8 without scaling because max value 8 fits in uint8\n",
      "  return _convert(image, np.uint8, force_copy)\n",
      "/home/pedro/Documents/UNI/_3_ano/LAB_IACD/project_1/.venv/lib/python3.10/site-packages/skimage/util/dtype.py:576: UserWarning: Downcasting int16 to uint8 without scaling because max value -218 fits in uint8\n",
      "  return _convert(image, np.uint8, force_copy)\n"
     ]
    },
    {
     "name": "stdout",
     "output_type": "stream",
     "text": [
      "Currently in scan: LIDC-IDRI-0019\n",
      "Loading dicom files ... This may take a moment.\n",
      "Currently in scan: LIDC-IDRI-0020\n",
      "Loading dicom files ... This may take a moment.\n",
      "Currently in scan: LIDC-IDRI-0021\n",
      "Loading dicom files ... This may take a moment.\n"
     ]
    },
    {
     "name": "stderr",
     "output_type": "stream",
     "text": [
      "/home/pedro/Documents/UNI/_3_ano/LAB_IACD/project_1/.venv/lib/python3.10/site-packages/skimage/util/dtype.py:576: UserWarning: Downcasting int16 to uint8 without scaling because max value 80 fits in uint8\n",
      "  return _convert(image, np.uint8, force_copy)\n"
     ]
    },
    {
     "name": "stdout",
     "output_type": "stream",
     "text": [
      "Currently in scan: LIDC-IDRI-0022\n",
      "Loading dicom files ... This may take a moment.\n",
      "Currently in scan: LIDC-IDRI-0023\n",
      "Loading dicom files ... This may take a moment.\n",
      "Currently in scan: LIDC-IDRI-0024\n",
      "Loading dicom files ... This may take a moment.\n"
     ]
    },
    {
     "name": "stderr",
     "output_type": "stream",
     "text": [
      "/home/pedro/Documents/UNI/_3_ano/LAB_IACD/project_1/.venv/lib/python3.10/site-packages/skimage/util/dtype.py:576: UserWarning: Downcasting int16 to uint8 without scaling because max value 72 fits in uint8\n",
      "  return _convert(image, np.uint8, force_copy)\n"
     ]
    },
    {
     "name": "stdout",
     "output_type": "stream",
     "text": [
      "Currently in scan: LIDC-IDRI-0025\n",
      "Loading dicom files ... This may take a moment.\n",
      "Currently in scan: LIDC-IDRI-0026\n",
      "Loading dicom files ... This may take a moment.\n",
      "Currently in scan: LIDC-IDRI-0027\n",
      "Loading dicom files ... This may take a moment.\n"
     ]
    },
    {
     "name": "stderr",
     "output_type": "stream",
     "text": [
      "/home/pedro/Documents/UNI/_3_ano/LAB_IACD/project_1/.venv/lib/python3.10/site-packages/skimage/util/dtype.py:576: UserWarning: Downcasting int16 to uint8 without scaling because max value 170 fits in uint8\n",
      "  return _convert(image, np.uint8, force_copy)\n",
      "/home/pedro/Documents/UNI/_3_ano/LAB_IACD/project_1/.venv/lib/python3.10/site-packages/skimage/util/dtype.py:576: UserWarning: Downcasting int16 to uint8 without scaling because max value -131 fits in uint8\n",
      "  return _convert(image, np.uint8, force_copy)\n"
     ]
    },
    {
     "name": "stdout",
     "output_type": "stream",
     "text": [
      "Currently in scan: LIDC-IDRI-0028\n",
      "Loading dicom files ... This may take a moment.\n",
      "Currently in scan: LIDC-IDRI-0029\n",
      "Loading dicom files ... This may take a moment.\n",
      "Currently in scan: LIDC-IDRI-0030\n",
      "Loading dicom files ... This may take a moment.\n",
      "Currently in scan: LIDC-IDRI-0031\n",
      "Loading dicom files ... This may take a moment.\n"
     ]
    },
    {
     "name": "stderr",
     "output_type": "stream",
     "text": [
      "/home/pedro/Documents/UNI/_3_ano/LAB_IACD/project_1/.venv/lib/python3.10/site-packages/skimage/util/dtype.py:576: UserWarning: Downcasting int16 to uint8 without scaling because max value 35 fits in uint8\n",
      "  return _convert(image, np.uint8, force_copy)\n",
      "/home/pedro/Documents/UNI/_3_ano/LAB_IACD/project_1/.venv/lib/python3.10/site-packages/skimage/util/dtype.py:576: UserWarning: Downcasting int16 to uint8 without scaling because max value 25 fits in uint8\n",
      "  return _convert(image, np.uint8, force_copy)\n"
     ]
    },
    {
     "name": "stdout",
     "output_type": "stream",
     "text": [
      "Currently in scan: LIDC-IDRI-0032\n",
      "Loading dicom files ... This may take a moment.\n",
      "Currently in scan: LIDC-IDRI-0033\n",
      "Loading dicom files ... This may take a moment.\n",
      "Currently in scan: LIDC-IDRI-0034\n",
      "Loading dicom files ... This may take a moment.\n",
      "Currently in scan: LIDC-IDRI-0035\n",
      "Loading dicom files ... This may take a moment.\n",
      "Currently in scan: LIDC-IDRI-0036\n",
      "Loading dicom files ... This may take a moment.\n"
     ]
    },
    {
     "name": "stderr",
     "output_type": "stream",
     "text": [
      "/home/pedro/Documents/UNI/_3_ano/LAB_IACD/project_1/.venv/lib/python3.10/site-packages/skimage/util/dtype.py:576: UserWarning: Downcasting int16 to uint8 without scaling because max value 89 fits in uint8\n",
      "  return _convert(image, np.uint8, force_copy)\n"
     ]
    },
    {
     "name": "stdout",
     "output_type": "stream",
     "text": [
      "Currently in scan: LIDC-IDRI-0037\n",
      "Loading dicom files ... This may take a moment.\n",
      "Currently in scan: LIDC-IDRI-0038\n",
      "Loading dicom files ... This may take a moment.\n",
      "Currently in scan: LIDC-IDRI-0039\n",
      "Loading dicom files ... This may take a moment.\n",
      "Currently in scan: LIDC-IDRI-0040\n",
      "Loading dicom files ... This may take a moment.\n"
     ]
    },
    {
     "name": "stderr",
     "output_type": "stream",
     "text": [
      "/home/pedro/Documents/UNI/_3_ano/LAB_IACD/project_1/.venv/lib/python3.10/site-packages/skimage/util/dtype.py:576: UserWarning: Downcasting int16 to uint8 without scaling because max value 203 fits in uint8\n",
      "  return _convert(image, np.uint8, force_copy)\n",
      "/home/pedro/Documents/UNI/_3_ano/LAB_IACD/project_1/.venv/lib/python3.10/site-packages/skimage/util/dtype.py:576: UserWarning: Downcasting int16 to uint8 without scaling because max value 20 fits in uint8\n",
      "  return _convert(image, np.uint8, force_copy)\n"
     ]
    },
    {
     "name": "stdout",
     "output_type": "stream",
     "text": [
      "Currently in scan: LIDC-IDRI-0041\n",
      "Loading dicom files ... This may take a moment.\n",
      "Currently in scan: LIDC-IDRI-0042\n",
      "Loading dicom files ... This may take a moment.\n"
     ]
    },
    {
     "name": "stderr",
     "output_type": "stream",
     "text": [
      "/home/pedro/Documents/UNI/_3_ano/LAB_IACD/project_1/.venv/lib/python3.10/site-packages/skimage/util/dtype.py:576: UserWarning: Downcasting int16 to uint8 without scaling because max value 77 fits in uint8\n",
      "  return _convert(image, np.uint8, force_copy)\n",
      "/home/pedro/Documents/UNI/_3_ano/LAB_IACD/project_1/.venv/lib/python3.10/site-packages/skimage/util/dtype.py:576: UserWarning: Downcasting int16 to uint8 without scaling because max value 204 fits in uint8\n",
      "  return _convert(image, np.uint8, force_copy)\n",
      "/home/pedro/Documents/UNI/_3_ano/LAB_IACD/project_1/.venv/lib/python3.10/site-packages/skimage/util/dtype.py:576: UserWarning: Downcasting int16 to uint8 without scaling because max value 92 fits in uint8\n",
      "  return _convert(image, np.uint8, force_copy)\n"
     ]
    },
    {
     "name": "stdout",
     "output_type": "stream",
     "text": [
      "Currently in scan: LIDC-IDRI-0043\n",
      "Loading dicom files ... This may take a moment.\n",
      "Currently in scan: LIDC-IDRI-0044\n",
      "Loading dicom files ... This may take a moment.\n"
     ]
    },
    {
     "name": "stderr",
     "output_type": "stream",
     "text": [
      "/home/pedro/Documents/UNI/_3_ano/LAB_IACD/project_1/.venv/lib/python3.10/site-packages/skimage/util/dtype.py:576: UserWarning: Downcasting int16 to uint8 without scaling because max value 178 fits in uint8\n",
      "  return _convert(image, np.uint8, force_copy)\n"
     ]
    },
    {
     "name": "stdout",
     "output_type": "stream",
     "text": [
      "Currently in scan: LIDC-IDRI-0045\n",
      "Loading dicom files ... This may take a moment.\n"
     ]
    },
    {
     "name": "stderr",
     "output_type": "stream",
     "text": [
      "/home/pedro/Documents/UNI/_3_ano/LAB_IACD/project_1/.venv/lib/python3.10/site-packages/skimage/util/dtype.py:576: UserWarning: Downcasting int16 to uint8 without scaling because max value 123 fits in uint8\n",
      "  return _convert(image, np.uint8, force_copy)\n",
      "/home/pedro/Documents/UNI/_3_ano/LAB_IACD/project_1/.venv/lib/python3.10/site-packages/skimage/util/dtype.py:576: UserWarning: Downcasting int16 to uint8 without scaling because max value 172 fits in uint8\n",
      "  return _convert(image, np.uint8, force_copy)\n",
      "/home/pedro/Documents/UNI/_3_ano/LAB_IACD/project_1/.venv/lib/python3.10/site-packages/skimage/util/dtype.py:576: UserWarning: Downcasting int16 to uint8 without scaling because max value 81 fits in uint8\n",
      "  return _convert(image, np.uint8, force_copy)\n",
      "/home/pedro/Documents/UNI/_3_ano/LAB_IACD/project_1/.venv/lib/python3.10/site-packages/skimage/util/dtype.py:576: UserWarning: Downcasting int16 to uint8 without scaling because max value 156 fits in uint8\n",
      "  return _convert(image, np.uint8, force_copy)\n"
     ]
    },
    {
     "name": "stdout",
     "output_type": "stream",
     "text": [
      "Currently in scan: LIDC-IDRI-0046\n",
      "Loading dicom files ... This may take a moment.\n"
     ]
    },
    {
     "name": "stderr",
     "output_type": "stream",
     "text": [
      "/home/pedro/Documents/UNI/_3_ano/LAB_IACD/project_1/.venv/lib/python3.10/site-packages/skimage/util/dtype.py:576: UserWarning: Downcasting int16 to uint8 without scaling because max value 20 fits in uint8\n",
      "  return _convert(image, np.uint8, force_copy)\n"
     ]
    },
    {
     "name": "stdout",
     "output_type": "stream",
     "text": [
      "Currently in scan: LIDC-IDRI-0047\n",
      "Loading dicom files ... This may take a moment.\n"
     ]
    },
    {
     "name": "stderr",
     "output_type": "stream",
     "text": [
      "/home/pedro/Documents/UNI/_3_ano/LAB_IACD/project_1/.venv/lib/python3.10/site-packages/skimage/util/dtype.py:576: UserWarning: Downcasting int16 to uint8 without scaling because max value 14 fits in uint8\n",
      "  return _convert(image, np.uint8, force_copy)\n"
     ]
    },
    {
     "name": "stdout",
     "output_type": "stream",
     "text": [
      "Currently in scan: LIDC-IDRI-0048\n",
      "Loading dicom files ... This may take a moment.\n",
      "Currently in scan: LIDC-IDRI-0049\n",
      "Loading dicom files ... This may take a moment.\n"
     ]
    },
    {
     "name": "stderr",
     "output_type": "stream",
     "text": [
      "/home/pedro/Documents/UNI/_3_ano/LAB_IACD/project_1/.venv/lib/python3.10/site-packages/skimage/util/dtype.py:576: UserWarning: Downcasting int16 to uint8 without scaling because max value 228 fits in uint8\n",
      "  return _convert(image, np.uint8, force_copy)\n",
      "/home/pedro/Documents/UNI/_3_ano/LAB_IACD/project_1/.venv/lib/python3.10/site-packages/skimage/util/dtype.py:576: UserWarning: Downcasting int16 to uint8 without scaling because max value 130 fits in uint8\n",
      "  return _convert(image, np.uint8, force_copy)\n",
      "/home/pedro/Documents/UNI/_3_ano/LAB_IACD/project_1/.venv/lib/python3.10/site-packages/skimage/util/dtype.py:576: UserWarning: Downcasting int16 to uint8 without scaling because max value 39 fits in uint8\n",
      "  return _convert(image, np.uint8, force_copy)\n",
      "/home/pedro/Documents/UNI/_3_ano/LAB_IACD/project_1/.venv/lib/python3.10/site-packages/skimage/util/dtype.py:576: UserWarning: Downcasting int16 to uint8 without scaling because max value 180 fits in uint8\n",
      "  return _convert(image, np.uint8, force_copy)\n",
      "/home/pedro/Documents/UNI/_3_ano/LAB_IACD/project_1/.venv/lib/python3.10/site-packages/skimage/util/dtype.py:576: UserWarning: Downcasting int16 to uint8 without scaling because max value 123 fits in uint8\n",
      "  return _convert(image, np.uint8, force_copy)\n"
     ]
    },
    {
     "name": "stdout",
     "output_type": "stream",
     "text": [
      "Currently in scan: LIDC-IDRI-0050\n",
      "Loading dicom files ... This may take a moment.\n",
      "Currently in scan: LIDC-IDRI-0051\n",
      "Loading dicom files ... This may take a moment.\n",
      "Currently in scan: LIDC-IDRI-0052\n",
      "Loading dicom files ... This may take a moment.\n",
      "Currently in scan: LIDC-IDRI-0053\n",
      "Loading dicom files ... This may take a moment.\n",
      "Currently in scan: LIDC-IDRI-0054\n",
      "Loading dicom files ... This may take a moment.\n",
      "Currently in scan: LIDC-IDRI-0055\n",
      "Failed to reduce all groups to <= 4 Annotations.\n",
      "Some nodules may be close and must be grouped manually.\n",
      "Loading dicom files ... This may take a moment.\n"
     ]
    },
    {
     "name": "stderr",
     "output_type": "stream",
     "text": [
      "/home/pedro/Documents/UNI/_3_ano/LAB_IACD/project_1/.venv/lib/python3.10/site-packages/skimage/util/dtype.py:576: UserWarning: Downcasting int16 to uint8 without scaling because max value 160 fits in uint8\n",
      "  return _convert(image, np.uint8, force_copy)\n",
      "/home/pedro/Documents/UNI/_3_ano/LAB_IACD/project_1/.venv/lib/python3.10/site-packages/skimage/util/dtype.py:576: UserWarning: Downcasting int16 to uint8 without scaling because max value -390 fits in uint8\n",
      "  return _convert(image, np.uint8, force_copy)\n",
      "/home/pedro/Documents/UNI/_3_ano/LAB_IACD/project_1/.venv/lib/python3.10/site-packages/skimage/util/dtype.py:576: UserWarning: Downcasting int16 to uint8 without scaling because max value 109 fits in uint8\n",
      "  return _convert(image, np.uint8, force_copy)\n"
     ]
    },
    {
     "name": "stdout",
     "output_type": "stream",
     "text": [
      "Currently in scan: LIDC-IDRI-0056\n",
      "Loading dicom files ... This may take a moment.\n"
     ]
    },
    {
     "name": "stderr",
     "output_type": "stream",
     "text": [
      "/home/pedro/Documents/UNI/_3_ano/LAB_IACD/project_1/.venv/lib/python3.10/site-packages/skimage/util/dtype.py:576: UserWarning: Downcasting int16 to uint8 without scaling because max value 174 fits in uint8\n",
      "  return _convert(image, np.uint8, force_copy)\n"
     ]
    },
    {
     "name": "stdout",
     "output_type": "stream",
     "text": [
      "Currently in scan: LIDC-IDRI-0057\n",
      "Loading dicom files ... This may take a moment.\n",
      "Currently in scan: LIDC-IDRI-0058\n",
      "Loading dicom files ... This may take a moment.\n",
      "Currently in scan: LIDC-IDRI-0059\n",
      "Loading dicom files ... This may take a moment.\n",
      "Currently in scan: LIDC-IDRI-0060\n",
      "Loading dicom files ... This may take a moment.\n"
     ]
    },
    {
     "name": "stderr",
     "output_type": "stream",
     "text": [
      "/home/pedro/Documents/UNI/_3_ano/LAB_IACD/project_1/.venv/lib/python3.10/site-packages/skimage/util/dtype.py:576: UserWarning: Downcasting int16 to uint8 without scaling because max value 61 fits in uint8\n",
      "  return _convert(image, np.uint8, force_copy)\n",
      "/home/pedro/Documents/UNI/_3_ano/LAB_IACD/project_1/.venv/lib/python3.10/site-packages/skimage/util/dtype.py:576: UserWarning: Downcasting int16 to uint8 without scaling because max value 64 fits in uint8\n",
      "  return _convert(image, np.uint8, force_copy)\n",
      "/home/pedro/Documents/UNI/_3_ano/LAB_IACD/project_1/.venv/lib/python3.10/site-packages/skimage/util/dtype.py:576: UserWarning: Downcasting int16 to uint8 without scaling because max value 216 fits in uint8\n",
      "  return _convert(image, np.uint8, force_copy)\n"
     ]
    },
    {
     "name": "stdout",
     "output_type": "stream",
     "text": [
      "Currently in scan: LIDC-IDRI-0061\n",
      "Loading dicom files ... This may take a moment.\n",
      "Currently in scan: LIDC-IDRI-0062\n",
      "Loading dicom files ... This may take a moment.\n",
      "Currently in scan: LIDC-IDRI-0063\n",
      "Loading dicom files ... This may take a moment.\n",
      "Currently in scan: LIDC-IDRI-0064\n",
      "Loading dicom files ... This may take a moment.\n",
      "Currently in scan: LIDC-IDRI-0065\n",
      "Loading dicom files ... This may take a moment.\n",
      "Currently in scan: LIDC-IDRI-0066\n",
      "Loading dicom files ... This may take a moment.\n",
      "Currently in scan: LIDC-IDRI-0067\n",
      "Loading dicom files ... This may take a moment.\n",
      "Currently in scan: LIDC-IDRI-0068\n",
      "Loading dicom files ... This may take a moment.\n"
     ]
    },
    {
     "name": "stderr",
     "output_type": "stream",
     "text": [
      "/home/pedro/Documents/UNI/_3_ano/LAB_IACD/project_1/.venv/lib/python3.10/site-packages/skimage/util/dtype.py:576: UserWarning: Downcasting int16 to uint8 without scaling because max value 116 fits in uint8\n",
      "  return _convert(image, np.uint8, force_copy)\n"
     ]
    },
    {
     "name": "stdout",
     "output_type": "stream",
     "text": [
      "Currently in scan: LIDC-IDRI-0069\n",
      "Loading dicom files ... This may take a moment.\n",
      "Currently in scan: LIDC-IDRI-0070\n",
      "Loading dicom files ... This may take a moment.\n"
     ]
    },
    {
     "name": "stderr",
     "output_type": "stream",
     "text": [
      "/home/pedro/Documents/UNI/_3_ano/LAB_IACD/project_1/.venv/lib/python3.10/site-packages/skimage/util/dtype.py:576: UserWarning: Downcasting int16 to uint8 without scaling because max value -73 fits in uint8\n",
      "  return _convert(image, np.uint8, force_copy)\n"
     ]
    },
    {
     "name": "stdout",
     "output_type": "stream",
     "text": [
      "Currently in scan: LIDC-IDRI-0071\n",
      "Loading dicom files ... This may take a moment.\n",
      "Currently in scan: LIDC-IDRI-0072\n",
      "Loading dicom files ... This may take a moment.\n",
      "Currently in scan: LIDC-IDRI-0073\n",
      "Loading dicom files ... This may take a moment.\n",
      "Currently in scan: LIDC-IDRI-0074\n",
      "Loading dicom files ... This may take a moment.\n",
      "Currently in scan: LIDC-IDRI-0075\n",
      "Loading dicom files ... This may take a moment.\n",
      "Currently in scan: LIDC-IDRI-0076\n",
      "Loading dicom files ... This may take a moment.\n",
      "Currently in scan: LIDC-IDRI-0077\n",
      "Loading dicom files ... This may take a moment.\n",
      "Currently in scan: LIDC-IDRI-0078\n",
      "Loading dicom files ... This may take a moment.\n"
     ]
    },
    {
     "name": "stderr",
     "output_type": "stream",
     "text": [
      "/home/pedro/Documents/UNI/_3_ano/LAB_IACD/project_1/.venv/lib/python3.10/site-packages/skimage/util/dtype.py:576: UserWarning: Downcasting int16 to uint8 without scaling because max value 79 fits in uint8\n",
      "  return _convert(image, np.uint8, force_copy)\n",
      "/home/pedro/Documents/UNI/_3_ano/LAB_IACD/project_1/.venv/lib/python3.10/site-packages/skimage/util/dtype.py:576: UserWarning: Downcasting int16 to uint8 without scaling because max value 133 fits in uint8\n",
      "  return _convert(image, np.uint8, force_copy)\n"
     ]
    },
    {
     "name": "stdout",
     "output_type": "stream",
     "text": [
      "Currently in scan: LIDC-IDRI-0079\n",
      "Loading dicom files ... This may take a moment.\n",
      "Currently in scan: LIDC-IDRI-0080\n",
      "Loading dicom files ... This may take a moment.\n",
      "Currently in scan: LIDC-IDRI-0081\n",
      "Loading dicom files ... This may take a moment.\n",
      "Currently in scan: LIDC-IDRI-0082\n",
      "Loading dicom files ... This may take a moment.\n",
      "Currently in scan: LIDC-IDRI-0083\n",
      "Loading dicom files ... This may take a moment.\n",
      "Currently in scan: LIDC-IDRI-0084\n",
      "Loading dicom files ... This may take a moment.\n"
     ]
    },
    {
     "name": "stderr",
     "output_type": "stream",
     "text": [
      "/home/pedro/Documents/UNI/_3_ano/LAB_IACD/project_1/.venv/lib/python3.10/site-packages/skimage/util/dtype.py:576: UserWarning: Downcasting int16 to uint8 without scaling because max value 188 fits in uint8\n",
      "  return _convert(image, np.uint8, force_copy)\n",
      "/home/pedro/Documents/UNI/_3_ano/LAB_IACD/project_1/.venv/lib/python3.10/site-packages/skimage/util/dtype.py:576: UserWarning: Downcasting int16 to uint8 without scaling because max value -129 fits in uint8\n",
      "  return _convert(image, np.uint8, force_copy)\n",
      "/home/pedro/Documents/UNI/_3_ano/LAB_IACD/project_1/.venv/lib/python3.10/site-packages/skimage/util/dtype.py:576: UserWarning: Downcasting int16 to uint8 without scaling because max value 97 fits in uint8\n",
      "  return _convert(image, np.uint8, force_copy)\n"
     ]
    },
    {
     "name": "stdout",
     "output_type": "stream",
     "text": [
      "Currently in scan: LIDC-IDRI-0085\n",
      "Loading dicom files ... This may take a moment.\n",
      "Currently in scan: LIDC-IDRI-0086\n",
      "Loading dicom files ... This may take a moment.\n",
      "Currently in scan: LIDC-IDRI-0087\n",
      "Loading dicom files ... This may take a moment.\n",
      "Currently in scan: LIDC-IDRI-0088\n",
      "Loading dicom files ... This may take a moment.\n",
      "Currently in scan: LIDC-IDRI-0089\n",
      "Loading dicom files ... This may take a moment.\n"
     ]
    },
    {
     "name": "stderr",
     "output_type": "stream",
     "text": [
      "/home/pedro/Documents/UNI/_3_ano/LAB_IACD/project_1/.venv/lib/python3.10/site-packages/skimage/util/dtype.py:576: UserWarning: Downcasting int16 to uint8 without scaling because max value 219 fits in uint8\n",
      "  return _convert(image, np.uint8, force_copy)\n"
     ]
    },
    {
     "name": "stdout",
     "output_type": "stream",
     "text": [
      "Currently in scan: LIDC-IDRI-0090\n",
      "Loading dicom files ... This may take a moment.\n"
     ]
    },
    {
     "name": "stderr",
     "output_type": "stream",
     "text": [
      "/home/pedro/Documents/UNI/_3_ano/LAB_IACD/project_1/.venv/lib/python3.10/site-packages/skimage/util/dtype.py:576: UserWarning: Downcasting int16 to uint8 without scaling because max value 182 fits in uint8\n",
      "  return _convert(image, np.uint8, force_copy)\n"
     ]
    },
    {
     "name": "stdout",
     "output_type": "stream",
     "text": [
      "Currently in scan: LIDC-IDRI-0091\n",
      "Loading dicom files ... This may take a moment.\n"
     ]
    },
    {
     "name": "stderr",
     "output_type": "stream",
     "text": [
      "/home/pedro/Documents/UNI/_3_ano/LAB_IACD/project_1/.venv/lib/python3.10/site-packages/skimage/util/dtype.py:576: UserWarning: Downcasting int16 to uint8 without scaling because max value 171 fits in uint8\n",
      "  return _convert(image, np.uint8, force_copy)\n"
     ]
    },
    {
     "name": "stdout",
     "output_type": "stream",
     "text": [
      "Currently in scan: LIDC-IDRI-0092\n",
      "Failed to reduce all groups to <= 4 Annotations.\n",
      "Some nodules may be close and must be grouped manually.\n",
      "Loading dicom files ... This may take a moment.\n",
      "Currently in scan: LIDC-IDRI-0093\n",
      "Loading dicom files ... This may take a moment.\n",
      "Currently in scan: LIDC-IDRI-0094\n",
      "Loading dicom files ... This may take a moment.\n",
      "Currently in scan: LIDC-IDRI-0095\n",
      "Loading dicom files ... This may take a moment.\n",
      "Currently in scan: LIDC-IDRI-0096\n",
      "Loading dicom files ... This may take a moment.\n",
      "Currently in scan: LIDC-IDRI-0097\n",
      "Loading dicom files ... This may take a moment.\n"
     ]
    },
    {
     "name": "stderr",
     "output_type": "stream",
     "text": [
      "/home/pedro/Documents/UNI/_3_ano/LAB_IACD/project_1/.venv/lib/python3.10/site-packages/skimage/util/dtype.py:576: UserWarning: Downcasting int16 to uint8 without scaling because max value 116 fits in uint8\n",
      "  return _convert(image, np.uint8, force_copy)\n"
     ]
    },
    {
     "name": "stdout",
     "output_type": "stream",
     "text": [
      "Currently in scan: LIDC-IDRI-0098\n",
      "Loading dicom files ... This may take a moment.\n",
      "Currently in scan: LIDC-IDRI-0099\n",
      "Loading dicom files ... This may take a moment.\n",
      "Currently in scan: LIDC-IDRI-0100\n",
      "Loading dicom files ... This may take a moment.\n",
      "Currently in scan: LIDC-IDRI-0101\n",
      "Loading dicom files ... This may take a moment.\n",
      "Currently in scan: LIDC-IDRI-0102\n",
      "Loading dicom files ... This may take a moment.\n"
     ]
    },
    {
     "name": "stderr",
     "output_type": "stream",
     "text": [
      "/home/pedro/Documents/UNI/_3_ano/LAB_IACD/project_1/.venv/lib/python3.10/site-packages/skimage/util/dtype.py:576: UserWarning: Downcasting int16 to uint8 without scaling because max value 118 fits in uint8\n",
      "  return _convert(image, np.uint8, force_copy)\n"
     ]
    },
    {
     "name": "stdout",
     "output_type": "stream",
     "text": [
      "Currently in scan: LIDC-IDRI-0103\n",
      "Loading dicom files ... This may take a moment.\n"
     ]
    },
    {
     "name": "stderr",
     "output_type": "stream",
     "text": [
      "/home/pedro/Documents/UNI/_3_ano/LAB_IACD/project_1/.venv/lib/python3.10/site-packages/skimage/util/dtype.py:576: UserWarning: Downcasting int16 to uint8 without scaling because max value 11 fits in uint8\n",
      "  return _convert(image, np.uint8, force_copy)\n",
      "/home/pedro/Documents/UNI/_3_ano/LAB_IACD/project_1/.venv/lib/python3.10/site-packages/skimage/util/dtype.py:576: UserWarning: Downcasting int16 to uint8 without scaling because max value -274 fits in uint8\n",
      "  return _convert(image, np.uint8, force_copy)\n"
     ]
    },
    {
     "name": "stdout",
     "output_type": "stream",
     "text": [
      "Currently in scan: LIDC-IDRI-0104\n",
      "Loading dicom files ... This may take a moment.\n"
     ]
    },
    {
     "name": "stderr",
     "output_type": "stream",
     "text": [
      "/home/pedro/Documents/UNI/_3_ano/LAB_IACD/project_1/.venv/lib/python3.10/site-packages/skimage/util/dtype.py:576: UserWarning: Downcasting int16 to uint8 without scaling because max value 16 fits in uint8\n",
      "  return _convert(image, np.uint8, force_copy)\n"
     ]
    },
    {
     "name": "stdout",
     "output_type": "stream",
     "text": [
      "Currently in scan: LIDC-IDRI-0105\n",
      "Loading dicom files ... This may take a moment.\n"
     ]
    },
    {
     "name": "stderr",
     "output_type": "stream",
     "text": [
      "/home/pedro/Documents/UNI/_3_ano/LAB_IACD/project_1/.venv/lib/python3.10/site-packages/skimage/util/dtype.py:576: UserWarning: Downcasting int16 to uint8 without scaling because max value 124 fits in uint8\n",
      "  return _convert(image, np.uint8, force_copy)\n"
     ]
    },
    {
     "name": "stdout",
     "output_type": "stream",
     "text": [
      "Currently in scan: LIDC-IDRI-0106\n",
      "Loading dicom files ... This may take a moment.\n"
     ]
    },
    {
     "name": "stderr",
     "output_type": "stream",
     "text": [
      "/home/pedro/Documents/UNI/_3_ano/LAB_IACD/project_1/.venv/lib/python3.10/site-packages/skimage/util/dtype.py:576: UserWarning: Downcasting int16 to uint8 without scaling because max value 84 fits in uint8\n",
      "  return _convert(image, np.uint8, force_copy)\n",
      "/home/pedro/Documents/UNI/_3_ano/LAB_IACD/project_1/.venv/lib/python3.10/site-packages/skimage/util/dtype.py:576: UserWarning: Downcasting int16 to uint8 without scaling because max value 149 fits in uint8\n",
      "  return _convert(image, np.uint8, force_copy)\n",
      "/home/pedro/Documents/UNI/_3_ano/LAB_IACD/project_1/.venv/lib/python3.10/site-packages/skimage/util/dtype.py:576: UserWarning: Downcasting int16 to uint8 without scaling because max value -489 fits in uint8\n",
      "  return _convert(image, np.uint8, force_copy)\n",
      "/home/pedro/Documents/UNI/_3_ano/LAB_IACD/project_1/.venv/lib/python3.10/site-packages/skimage/util/dtype.py:576: UserWarning: Downcasting int16 to uint8 without scaling because max value -317 fits in uint8\n",
      "  return _convert(image, np.uint8, force_copy)\n"
     ]
    },
    {
     "name": "stdout",
     "output_type": "stream",
     "text": [
      "Currently in scan: LIDC-IDRI-0107\n",
      "Loading dicom files ... This may take a moment.\n",
      "Currently in scan: LIDC-IDRI-0108\n",
      "Loading dicom files ... This may take a moment.\n"
     ]
    },
    {
     "name": "stderr",
     "output_type": "stream",
     "text": [
      "/home/pedro/Documents/UNI/_3_ano/LAB_IACD/project_1/.venv/lib/python3.10/site-packages/skimage/util/dtype.py:576: UserWarning: Downcasting int16 to uint8 without scaling because max value 24 fits in uint8\n",
      "  return _convert(image, np.uint8, force_copy)\n"
     ]
    },
    {
     "name": "stdout",
     "output_type": "stream",
     "text": [
      "Currently in scan: LIDC-IDRI-0109\n",
      "Loading dicom files ... This may take a moment.\n",
      "Currently in scan: LIDC-IDRI-0110\n",
      "Loading dicom files ... This may take a moment.\n"
     ]
    },
    {
     "name": "stderr",
     "output_type": "stream",
     "text": [
      "/home/pedro/Documents/UNI/_3_ano/LAB_IACD/project_1/.venv/lib/python3.10/site-packages/skimage/util/dtype.py:576: UserWarning: Downcasting int16 to uint8 without scaling because max value 91 fits in uint8\n",
      "  return _convert(image, np.uint8, force_copy)\n"
     ]
    },
    {
     "name": "stdout",
     "output_type": "stream",
     "text": [
      "Currently in scan: LIDC-IDRI-0111\n",
      "Loading dicom files ... This may take a moment.\n"
     ]
    },
    {
     "name": "stderr",
     "output_type": "stream",
     "text": [
      "/home/pedro/Documents/UNI/_3_ano/LAB_IACD/project_1/.venv/lib/python3.10/site-packages/skimage/util/dtype.py:576: UserWarning: Downcasting int16 to uint8 without scaling because max value 202 fits in uint8\n",
      "  return _convert(image, np.uint8, force_copy)\n",
      "/home/pedro/Documents/UNI/_3_ano/LAB_IACD/project_1/.venv/lib/python3.10/site-packages/skimage/util/dtype.py:576: UserWarning: Downcasting int16 to uint8 without scaling because max value 100 fits in uint8\n",
      "  return _convert(image, np.uint8, force_copy)\n",
      "/home/pedro/Documents/UNI/_3_ano/LAB_IACD/project_1/.venv/lib/python3.10/site-packages/skimage/util/dtype.py:576: UserWarning: Downcasting int16 to uint8 without scaling because max value 131 fits in uint8\n",
      "  return _convert(image, np.uint8, force_copy)\n"
     ]
    },
    {
     "name": "stdout",
     "output_type": "stream",
     "text": [
      "Currently in scan: LIDC-IDRI-0112\n",
      "Loading dicom files ... This may take a moment.\n"
     ]
    },
    {
     "name": "stderr",
     "output_type": "stream",
     "text": [
      "/home/pedro/Documents/UNI/_3_ano/LAB_IACD/project_1/.venv/lib/python3.10/site-packages/skimage/util/dtype.py:576: UserWarning: Downcasting int16 to uint8 without scaling because max value 148 fits in uint8\n",
      "  return _convert(image, np.uint8, force_copy)\n"
     ]
    },
    {
     "name": "stdout",
     "output_type": "stream",
     "text": [
      "Currently in scan: LIDC-IDRI-0113\n",
      "Loading dicom files ... This may take a moment.\n"
     ]
    },
    {
     "name": "stderr",
     "output_type": "stream",
     "text": [
      "/home/pedro/Documents/UNI/_3_ano/LAB_IACD/project_1/.venv/lib/python3.10/site-packages/skimage/util/dtype.py:576: UserWarning: Downcasting int16 to uint8 without scaling because max value 61 fits in uint8\n",
      "  return _convert(image, np.uint8, force_copy)\n"
     ]
    },
    {
     "name": "stdout",
     "output_type": "stream",
     "text": [
      "Currently in scan: LIDC-IDRI-0114\n",
      "Loading dicom files ... This may take a moment.\n",
      "Currently in scan: LIDC-IDRI-0115\n",
      "Loading dicom files ... This may take a moment.\n",
      "Currently in scan: LIDC-IDRI-0116\n",
      "Loading dicom files ... This may take a moment.\n",
      "Currently in scan: LIDC-IDRI-0117\n",
      "Loading dicom files ... This may take a moment.\n"
     ]
    },
    {
     "name": "stderr",
     "output_type": "stream",
     "text": [
      "/home/pedro/Documents/UNI/_3_ano/LAB_IACD/project_1/.venv/lib/python3.10/site-packages/skimage/util/dtype.py:576: UserWarning: Downcasting int16 to uint8 without scaling because max value 18 fits in uint8\n",
      "  return _convert(image, np.uint8, force_copy)\n"
     ]
    },
    {
     "name": "stdout",
     "output_type": "stream",
     "text": [
      "Currently in scan: LIDC-IDRI-0118\n",
      "Loading dicom files ... This may take a moment.\n",
      "Currently in scan: LIDC-IDRI-0119\n",
      "Loading dicom files ... This may take a moment.\n",
      "Currently in scan: LIDC-IDRI-0120\n",
      "Loading dicom files ... This may take a moment.\n"
     ]
    },
    {
     "name": "stderr",
     "output_type": "stream",
     "text": [
      "/home/pedro/Documents/UNI/_3_ano/LAB_IACD/project_1/.venv/lib/python3.10/site-packages/skimage/util/dtype.py:576: UserWarning: Downcasting int16 to uint8 without scaling because max value -55 fits in uint8\n",
      "  return _convert(image, np.uint8, force_copy)\n"
     ]
    },
    {
     "name": "stdout",
     "output_type": "stream",
     "text": [
      "Currently in scan: LIDC-IDRI-0121\n",
      "Loading dicom files ... This may take a moment.\n"
     ]
    },
    {
     "name": "stderr",
     "output_type": "stream",
     "text": [
      "/home/pedro/Documents/UNI/_3_ano/LAB_IACD/project_1/.venv/lib/python3.10/site-packages/skimage/util/dtype.py:576: UserWarning: Downcasting int16 to uint8 without scaling because max value 179 fits in uint8\n",
      "  return _convert(image, np.uint8, force_copy)\n"
     ]
    },
    {
     "name": "stdout",
     "output_type": "stream",
     "text": [
      "Currently in scan: LIDC-IDRI-0122\n",
      "Loading dicom files ... This may take a moment.\n",
      "Currently in scan: LIDC-IDRI-0123\n",
      "Loading dicom files ... This may take a moment.\n",
      "Currently in scan: LIDC-IDRI-0124\n",
      "Loading dicom files ... This may take a moment.\n"
     ]
    },
    {
     "name": "stderr",
     "output_type": "stream",
     "text": [
      "/home/pedro/Documents/UNI/_3_ano/LAB_IACD/project_1/.venv/lib/python3.10/site-packages/skimage/util/dtype.py:576: UserWarning: Downcasting int16 to uint8 without scaling because max value 148 fits in uint8\n",
      "  return _convert(image, np.uint8, force_copy)\n",
      "/home/pedro/Documents/UNI/_3_ano/LAB_IACD/project_1/.venv/lib/python3.10/site-packages/skimage/util/dtype.py:576: UserWarning: Downcasting int16 to uint8 without scaling because max value 208 fits in uint8\n",
      "  return _convert(image, np.uint8, force_copy)\n",
      "/home/pedro/Documents/UNI/_3_ano/LAB_IACD/project_1/.venv/lib/python3.10/site-packages/skimage/util/dtype.py:576: UserWarning: Downcasting int16 to uint8 without scaling because max value -38 fits in uint8\n",
      "  return _convert(image, np.uint8, force_copy)\n",
      "/home/pedro/Documents/UNI/_3_ano/LAB_IACD/project_1/.venv/lib/python3.10/site-packages/skimage/util/dtype.py:576: UserWarning: Downcasting int16 to uint8 without scaling because max value 29 fits in uint8\n",
      "  return _convert(image, np.uint8, force_copy)\n"
     ]
    },
    {
     "name": "stdout",
     "output_type": "stream",
     "text": [
      "Currently in scan: LIDC-IDRI-0125\n",
      "Loading dicom files ... This may take a moment.\n",
      "Currently in scan: LIDC-IDRI-0126\n",
      "Loading dicom files ... This may take a moment.\n",
      "Currently in scan: LIDC-IDRI-0127\n",
      "Loading dicom files ... This may take a moment.\n",
      "Currently in scan: LIDC-IDRI-0128\n",
      "Loading dicom files ... This may take a moment.\n",
      "Currently in scan: LIDC-IDRI-0129\n",
      "Loading dicom files ... This may take a moment.\n"
     ]
    },
    {
     "name": "stderr",
     "output_type": "stream",
     "text": [
      "/home/pedro/Documents/UNI/_3_ano/LAB_IACD/project_1/.venv/lib/python3.10/site-packages/skimage/util/dtype.py:576: UserWarning: Downcasting int16 to uint8 without scaling because max value 252 fits in uint8\n",
      "  return _convert(image, np.uint8, force_copy)\n",
      "/home/pedro/Documents/UNI/_3_ano/LAB_IACD/project_1/.venv/lib/python3.10/site-packages/skimage/util/dtype.py:576: UserWarning: Downcasting int16 to uint8 without scaling because max value 212 fits in uint8\n",
      "  return _convert(image, np.uint8, force_copy)\n"
     ]
    },
    {
     "name": "stdout",
     "output_type": "stream",
     "text": [
      "Currently in scan: LIDC-IDRI-0130\n",
      "Loading dicom files ... This may take a moment.\n",
      "Currently in scan: LIDC-IDRI-0131\n",
      "Loading dicom files ... This may take a moment.\n",
      "Currently in scan: LIDC-IDRI-0132\n",
      "Loading dicom files ... This may take a moment.\n"
     ]
    },
    {
     "name": "stderr",
     "output_type": "stream",
     "text": [
      "/home/pedro/Documents/UNI/_3_ano/LAB_IACD/project_1/.venv/lib/python3.10/site-packages/skimage/util/dtype.py:576: UserWarning: Downcasting int16 to uint8 without scaling because max value 178 fits in uint8\n",
      "  return _convert(image, np.uint8, force_copy)\n",
      "/home/pedro/Documents/UNI/_3_ano/LAB_IACD/project_1/.venv/lib/python3.10/site-packages/skimage/util/dtype.py:576: UserWarning: Downcasting int16 to uint8 without scaling because max value 1 fits in uint8\n",
      "  return _convert(image, np.uint8, force_copy)\n",
      "/home/pedro/Documents/UNI/_3_ano/LAB_IACD/project_1/.venv/lib/python3.10/site-packages/skimage/util/dtype.py:576: UserWarning: Downcasting int16 to uint8 without scaling because max value 31 fits in uint8\n",
      "  return _convert(image, np.uint8, force_copy)\n",
      "/home/pedro/Documents/UNI/_3_ano/LAB_IACD/project_1/.venv/lib/python3.10/site-packages/skimage/util/dtype.py:576: UserWarning: Downcasting int16 to uint8 without scaling because max value 224 fits in uint8\n",
      "  return _convert(image, np.uint8, force_copy)\n"
     ]
    },
    {
     "name": "stdout",
     "output_type": "stream",
     "text": [
      "Currently in scan: LIDC-IDRI-0133\n",
      "Loading dicom files ... This may take a moment.\n",
      "Currently in scan: LIDC-IDRI-0134\n",
      "Loading dicom files ... This may take a moment.\n"
     ]
    },
    {
     "name": "stderr",
     "output_type": "stream",
     "text": [
      "/home/pedro/Documents/UNI/_3_ano/LAB_IACD/project_1/.venv/lib/python3.10/site-packages/skimage/util/dtype.py:576: UserWarning: Downcasting int16 to uint8 without scaling because max value 101 fits in uint8\n",
      "  return _convert(image, np.uint8, force_copy)\n"
     ]
    },
    {
     "name": "stdout",
     "output_type": "stream",
     "text": [
      "Currently in scan: LIDC-IDRI-0135\n",
      "Loading dicom files ... This may take a moment.\n"
     ]
    },
    {
     "name": "stderr",
     "output_type": "stream",
     "text": [
      "/home/pedro/Documents/UNI/_3_ano/LAB_IACD/project_1/.venv/lib/python3.10/site-packages/skimage/util/dtype.py:576: UserWarning: Downcasting int16 to uint8 without scaling because max value 215 fits in uint8\n",
      "  return _convert(image, np.uint8, force_copy)\n",
      "/home/pedro/Documents/UNI/_3_ano/LAB_IACD/project_1/.venv/lib/python3.10/site-packages/skimage/util/dtype.py:576: UserWarning: Downcasting int16 to uint8 without scaling because max value -52 fits in uint8\n",
      "  return _convert(image, np.uint8, force_copy)\n"
     ]
    },
    {
     "name": "stdout",
     "output_type": "stream",
     "text": [
      "Currently in scan: LIDC-IDRI-0136\n",
      "Loading dicom files ... This may take a moment.\n"
     ]
    },
    {
     "name": "stderr",
     "output_type": "stream",
     "text": [
      "/home/pedro/Documents/UNI/_3_ano/LAB_IACD/project_1/.venv/lib/python3.10/site-packages/skimage/util/dtype.py:576: UserWarning: Downcasting int16 to uint8 without scaling because max value 240 fits in uint8\n",
      "  return _convert(image, np.uint8, force_copy)\n",
      "/home/pedro/Documents/UNI/_3_ano/LAB_IACD/project_1/.venv/lib/python3.10/site-packages/skimage/util/dtype.py:576: UserWarning: Downcasting int16 to uint8 without scaling because max value 166 fits in uint8\n",
      "  return _convert(image, np.uint8, force_copy)\n",
      "/home/pedro/Documents/UNI/_3_ano/LAB_IACD/project_1/.venv/lib/python3.10/site-packages/skimage/util/dtype.py:576: UserWarning: Downcasting int16 to uint8 without scaling because max value 115 fits in uint8\n",
      "  return _convert(image, np.uint8, force_copy)\n",
      "/home/pedro/Documents/UNI/_3_ano/LAB_IACD/project_1/.venv/lib/python3.10/site-packages/skimage/util/dtype.py:576: UserWarning: Downcasting int16 to uint8 without scaling because max value -284 fits in uint8\n",
      "  return _convert(image, np.uint8, force_copy)\n"
     ]
    },
    {
     "name": "stdout",
     "output_type": "stream",
     "text": [
      "Currently in scan: LIDC-IDRI-0137\n",
      "Failed to reduce all groups to <= 4 Annotations.\n",
      "Some nodules may be close and must be grouped manually.\n",
      "Loading dicom files ... This may take a moment.\n"
     ]
    },
    {
     "name": "stderr",
     "output_type": "stream",
     "text": [
      "/home/pedro/Documents/UNI/_3_ano/LAB_IACD/project_1/.venv/lib/python3.10/site-packages/skimage/util/dtype.py:576: UserWarning: Downcasting int16 to uint8 without scaling because max value 171 fits in uint8\n",
      "  return _convert(image, np.uint8, force_copy)\n"
     ]
    },
    {
     "name": "stdout",
     "output_type": "stream",
     "text": [
      "Currently in scan: LIDC-IDRI-0138\n",
      "Loading dicom files ... This may take a moment.\n",
      "Currently in scan: LIDC-IDRI-0139\n",
      "Loading dicom files ... This may take a moment.\n",
      "Currently in scan: LIDC-IDRI-0140\n",
      "Loading dicom files ... This may take a moment.\n"
     ]
    },
    {
     "name": "stderr",
     "output_type": "stream",
     "text": [
      "/home/pedro/Documents/UNI/_3_ano/LAB_IACD/project_1/.venv/lib/python3.10/site-packages/skimage/util/dtype.py:576: UserWarning: Downcasting int16 to uint8 without scaling because max value 251 fits in uint8\n",
      "  return _convert(image, np.uint8, force_copy)\n"
     ]
    },
    {
     "name": "stdout",
     "output_type": "stream",
     "text": [
      "Currently in scan: LIDC-IDRI-0141\n",
      "Loading dicom files ... This may take a moment.\n",
      "Currently in scan: LIDC-IDRI-0142\n",
      "Loading dicom files ... This may take a moment.\n"
     ]
    },
    {
     "name": "stderr",
     "output_type": "stream",
     "text": [
      "/home/pedro/Documents/UNI/_3_ano/LAB_IACD/project_1/.venv/lib/python3.10/site-packages/skimage/util/dtype.py:576: UserWarning: Downcasting int16 to uint8 without scaling because max value 100 fits in uint8\n",
      "  return _convert(image, np.uint8, force_copy)\n"
     ]
    },
    {
     "name": "stdout",
     "output_type": "stream",
     "text": [
      "Currently in scan: LIDC-IDRI-0143\n",
      "Loading dicom files ... This may take a moment.\n",
      "Currently in scan: LIDC-IDRI-0144\n",
      "Loading dicom files ... This may take a moment.\n",
      "Currently in scan: LIDC-IDRI-0145\n",
      "Loading dicom files ... This may take a moment.\n",
      "Currently in scan: LIDC-IDRI-0146\n",
      "Loading dicom files ... This may take a moment.\n",
      "Currently in scan: LIDC-IDRI-0147\n",
      "Loading dicom files ... This may take a moment.\n"
     ]
    },
    {
     "name": "stderr",
     "output_type": "stream",
     "text": [
      "/home/pedro/Documents/UNI/_3_ano/LAB_IACD/project_1/.venv/lib/python3.10/site-packages/skimage/util/dtype.py:576: UserWarning: Downcasting int16 to uint8 without scaling because max value 90 fits in uint8\n",
      "  return _convert(image, np.uint8, force_copy)\n",
      "/home/pedro/Documents/UNI/_3_ano/LAB_IACD/project_1/.venv/lib/python3.10/site-packages/skimage/util/dtype.py:576: UserWarning: Downcasting int16 to uint8 without scaling because max value 50 fits in uint8\n",
      "  return _convert(image, np.uint8, force_copy)\n"
     ]
    },
    {
     "name": "stdout",
     "output_type": "stream",
     "text": [
      "Currently in scan: LIDC-IDRI-0148\n",
      "Loading dicom files ... This may take a moment.\n"
     ]
    },
    {
     "name": "stderr",
     "output_type": "stream",
     "text": [
      "/home/pedro/Documents/UNI/_3_ano/LAB_IACD/project_1/.venv/lib/python3.10/site-packages/skimage/util/dtype.py:576: UserWarning: Downcasting int16 to uint8 without scaling because max value 98 fits in uint8\n",
      "  return _convert(image, np.uint8, force_copy)\n",
      "/home/pedro/Documents/UNI/_3_ano/LAB_IACD/project_1/.venv/lib/python3.10/site-packages/skimage/util/dtype.py:576: UserWarning: Downcasting int16 to uint8 without scaling because max value 214 fits in uint8\n",
      "  return _convert(image, np.uint8, force_copy)\n"
     ]
    },
    {
     "name": "stdout",
     "output_type": "stream",
     "text": [
      "Currently in scan: LIDC-IDRI-0149\n",
      "Loading dicom files ... This may take a moment.\n",
      "Currently in scan: LIDC-IDRI-0150\n",
      "Loading dicom files ... This may take a moment.\n",
      "Currently in scan: LIDC-IDRI-0151\n",
      "Loading dicom files ... This may take a moment.\n",
      "Currently in scan: LIDC-IDRI-0152\n",
      "Loading dicom files ... This may take a moment.\n",
      "Currently in scan: LIDC-IDRI-0153\n",
      "Loading dicom files ... This may take a moment.\n",
      "Currently in scan: LIDC-IDRI-0154\n",
      "Loading dicom files ... This may take a moment.\n"
     ]
    },
    {
     "name": "stderr",
     "output_type": "stream",
     "text": [
      "/home/pedro/Documents/UNI/_3_ano/LAB_IACD/project_1/.venv/lib/python3.10/site-packages/skimage/util/dtype.py:576: UserWarning: Downcasting int16 to uint8 without scaling because max value 127 fits in uint8\n",
      "  return _convert(image, np.uint8, force_copy)\n"
     ]
    },
    {
     "name": "stdout",
     "output_type": "stream",
     "text": [
      "Currently in scan: LIDC-IDRI-0155\n",
      "Loading dicom files ... This may take a moment.\n",
      "Currently in scan: LIDC-IDRI-0156\n",
      "Loading dicom files ... This may take a moment.\n"
     ]
    },
    {
     "name": "stderr",
     "output_type": "stream",
     "text": [
      "/home/pedro/Documents/UNI/_3_ano/LAB_IACD/project_1/.venv/lib/python3.10/site-packages/skimage/util/dtype.py:576: UserWarning: Downcasting int16 to uint8 without scaling because max value 57 fits in uint8\n",
      "  return _convert(image, np.uint8, force_copy)\n"
     ]
    },
    {
     "name": "stdout",
     "output_type": "stream",
     "text": [
      "Currently in scan: LIDC-IDRI-0157\n",
      "Loading dicom files ... This may take a moment.\n",
      "Currently in scan: LIDC-IDRI-0158\n",
      "Loading dicom files ... This may take a moment.\n",
      "Currently in scan: LIDC-IDRI-0159\n",
      "Loading dicom files ... This may take a moment.\n",
      "Currently in scan: LIDC-IDRI-0160\n",
      "Loading dicom files ... This may take a moment.\n",
      "Currently in scan: LIDC-IDRI-0161\n",
      "Loading dicom files ... This may take a moment.\n",
      "Currently in scan: LIDC-IDRI-0162\n",
      "Loading dicom files ... This may take a moment.\n",
      "Currently in scan: LIDC-IDRI-0163\n",
      "Loading dicom files ... This may take a moment.\n",
      "Currently in scan: LIDC-IDRI-0164\n",
      "Loading dicom files ... This may take a moment.\n",
      "Currently in scan: LIDC-IDRI-0165\n",
      "Loading dicom files ... This may take a moment.\n",
      "Currently in scan: LIDC-IDRI-0166\n",
      "Loading dicom files ... This may take a moment.\n",
      "Currently in scan: LIDC-IDRI-0167\n",
      "Loading dicom files ... This may take a moment.\n"
     ]
    },
    {
     "name": "stderr",
     "output_type": "stream",
     "text": [
      "/home/pedro/Documents/UNI/_3_ano/LAB_IACD/project_1/.venv/lib/python3.10/site-packages/skimage/util/dtype.py:576: UserWarning: Downcasting int16 to uint8 without scaling because max value 35 fits in uint8\n",
      "  return _convert(image, np.uint8, force_copy)\n"
     ]
    },
    {
     "name": "stdout",
     "output_type": "stream",
     "text": [
      "Currently in scan: LIDC-IDRI-0168\n",
      "Loading dicom files ... This may take a moment.\n",
      "Currently in scan: LIDC-IDRI-0169\n",
      "Loading dicom files ... This may take a moment.\n"
     ]
    },
    {
     "name": "stderr",
     "output_type": "stream",
     "text": [
      "/home/pedro/Documents/UNI/_3_ano/LAB_IACD/project_1/.venv/lib/python3.10/site-packages/skimage/util/dtype.py:576: UserWarning: Downcasting int16 to uint8 without scaling because max value 200 fits in uint8\n",
      "  return _convert(image, np.uint8, force_copy)\n"
     ]
    },
    {
     "name": "stdout",
     "output_type": "stream",
     "text": [
      "Currently in scan: LIDC-IDRI-0170\n",
      "Loading dicom files ... This may take a moment.\n",
      "Currently in scan: LIDC-IDRI-0171\n",
      "Loading dicom files ... This may take a moment.\n",
      "Currently in scan: LIDC-IDRI-0172\n",
      "Loading dicom files ... This may take a moment.\n"
     ]
    },
    {
     "name": "stderr",
     "output_type": "stream",
     "text": [
      "/home/pedro/Documents/UNI/_3_ano/LAB_IACD/project_1/.venv/lib/python3.10/site-packages/skimage/util/dtype.py:576: UserWarning: Downcasting int16 to uint8 without scaling because max value 181 fits in uint8\n",
      "  return _convert(image, np.uint8, force_copy)\n"
     ]
    },
    {
     "name": "stdout",
     "output_type": "stream",
     "text": [
      "Currently in scan: LIDC-IDRI-0173\n",
      "Loading dicom files ... This may take a moment.\n",
      "Currently in scan: LIDC-IDRI-0174\n",
      "Loading dicom files ... This may take a moment.\n",
      "Currently in scan: LIDC-IDRI-0175\n",
      "Loading dicom files ... This may take a moment.\n",
      "Currently in scan: LIDC-IDRI-0176\n",
      "Loading dicom files ... This may take a moment.\n",
      "Currently in scan: LIDC-IDRI-0177\n",
      "Loading dicom files ... This may take a moment.\n",
      "Currently in scan: LIDC-IDRI-0178\n",
      "Loading dicom files ... This may take a moment.\n",
      "Currently in scan: LIDC-IDRI-0179\n",
      "Loading dicom files ... This may take a moment.\n"
     ]
    },
    {
     "name": "stderr",
     "output_type": "stream",
     "text": [
      "/home/pedro/Documents/UNI/_3_ano/LAB_IACD/project_1/.venv/lib/python3.10/site-packages/skimage/util/dtype.py:576: UserWarning: Downcasting int16 to uint8 without scaling because max value 154 fits in uint8\n",
      "  return _convert(image, np.uint8, force_copy)\n",
      "/home/pedro/Documents/UNI/_3_ano/LAB_IACD/project_1/.venv/lib/python3.10/site-packages/skimage/util/dtype.py:576: UserWarning: Downcasting int16 to uint8 without scaling because max value 173 fits in uint8\n",
      "  return _convert(image, np.uint8, force_copy)\n",
      "/home/pedro/Documents/UNI/_3_ano/LAB_IACD/project_1/.venv/lib/python3.10/site-packages/skimage/util/dtype.py:576: UserWarning: Downcasting int16 to uint8 without scaling because max value 42 fits in uint8\n",
      "  return _convert(image, np.uint8, force_copy)\n",
      "/home/pedro/Documents/UNI/_3_ano/LAB_IACD/project_1/.venv/lib/python3.10/site-packages/skimage/util/dtype.py:576: UserWarning: Downcasting int16 to uint8 without scaling because max value 179 fits in uint8\n",
      "  return _convert(image, np.uint8, force_copy)\n"
     ]
    },
    {
     "name": "stdout",
     "output_type": "stream",
     "text": [
      "Currently in scan: LIDC-IDRI-0180\n",
      "Loading dicom files ... This may take a moment.\n",
      "Currently in scan: LIDC-IDRI-0181\n",
      "Loading dicom files ... This may take a moment.\n",
      "Currently in scan: LIDC-IDRI-0182\n",
      "Loading dicom files ... This may take a moment.\n"
     ]
    },
    {
     "name": "stderr",
     "output_type": "stream",
     "text": [
      "/home/pedro/Documents/UNI/_3_ano/LAB_IACD/project_1/.venv/lib/python3.10/site-packages/skimage/util/dtype.py:576: UserWarning: Downcasting int16 to uint8 without scaling because max value 45 fits in uint8\n",
      "  return _convert(image, np.uint8, force_copy)\n",
      "/home/pedro/Documents/UNI/_3_ano/LAB_IACD/project_1/.venv/lib/python3.10/site-packages/skimage/util/dtype.py:576: UserWarning: Downcasting int16 to uint8 without scaling because max value 69 fits in uint8\n",
      "  return _convert(image, np.uint8, force_copy)\n",
      "/home/pedro/Documents/UNI/_3_ano/LAB_IACD/project_1/.venv/lib/python3.10/site-packages/skimage/util/dtype.py:576: UserWarning: Downcasting int16 to uint8 without scaling because max value 140 fits in uint8\n",
      "  return _convert(image, np.uint8, force_copy)\n"
     ]
    },
    {
     "name": "stdout",
     "output_type": "stream",
     "text": [
      "Currently in scan: LIDC-IDRI-0183\n",
      "Loading dicom files ... This may take a moment.\n",
      "Currently in scan: LIDC-IDRI-0184\n",
      "Loading dicom files ... This may take a moment.\n"
     ]
    },
    {
     "name": "stderr",
     "output_type": "stream",
     "text": [
      "/home/pedro/Documents/UNI/_3_ano/LAB_IACD/project_1/.venv/lib/python3.10/site-packages/skimage/util/dtype.py:576: UserWarning: Downcasting int16 to uint8 without scaling because max value 186 fits in uint8\n",
      "  return _convert(image, np.uint8, force_copy)\n"
     ]
    },
    {
     "name": "stdout",
     "output_type": "stream",
     "text": [
      "Currently in scan: LIDC-IDRI-0185\n",
      "Loading dicom files ... This may take a moment.\n"
     ]
    },
    {
     "name": "stderr",
     "output_type": "stream",
     "text": [
      "/home/pedro/Documents/UNI/_3_ano/LAB_IACD/project_1/.venv/lib/python3.10/site-packages/skimage/util/dtype.py:576: UserWarning: Downcasting int16 to uint8 without scaling because max value 87 fits in uint8\n",
      "  return _convert(image, np.uint8, force_copy)\n"
     ]
    },
    {
     "name": "stdout",
     "output_type": "stream",
     "text": [
      "Currently in scan: LIDC-IDRI-0186\n",
      "Loading dicom files ... This may take a moment.\n"
     ]
    },
    {
     "name": "stderr",
     "output_type": "stream",
     "text": [
      "/home/pedro/Documents/UNI/_3_ano/LAB_IACD/project_1/.venv/lib/python3.10/site-packages/skimage/util/dtype.py:576: UserWarning: Downcasting int16 to uint8 without scaling because max value 128 fits in uint8\n",
      "  return _convert(image, np.uint8, force_copy)\n"
     ]
    },
    {
     "name": "stdout",
     "output_type": "stream",
     "text": [
      "Currently in scan: LIDC-IDRI-0187\n",
      "Loading dicom files ... This may take a moment.\n"
     ]
    },
    {
     "name": "stderr",
     "output_type": "stream",
     "text": [
      "/home/pedro/Documents/UNI/_3_ano/LAB_IACD/project_1/.venv/lib/python3.10/site-packages/skimage/util/dtype.py:576: UserWarning: Downcasting int16 to uint8 without scaling because max value -80 fits in uint8\n",
      "  return _convert(image, np.uint8, force_copy)\n"
     ]
    },
    {
     "name": "stdout",
     "output_type": "stream",
     "text": [
      "Currently in scan: LIDC-IDRI-0188\n",
      "Loading dicom files ... This may take a moment.\n"
     ]
    },
    {
     "name": "stderr",
     "output_type": "stream",
     "text": [
      "/home/pedro/Documents/UNI/_3_ano/LAB_IACD/project_1/.venv/lib/python3.10/site-packages/skimage/util/dtype.py:576: UserWarning: Downcasting int16 to uint8 without scaling because max value 76 fits in uint8\n",
      "  return _convert(image, np.uint8, force_copy)\n",
      "/home/pedro/Documents/UNI/_3_ano/LAB_IACD/project_1/.venv/lib/python3.10/site-packages/skimage/util/dtype.py:576: UserWarning: Downcasting int16 to uint8 without scaling because max value 98 fits in uint8\n",
      "  return _convert(image, np.uint8, force_copy)\n",
      "/home/pedro/Documents/UNI/_3_ano/LAB_IACD/project_1/.venv/lib/python3.10/site-packages/skimage/util/dtype.py:576: UserWarning: Downcasting int16 to uint8 without scaling because max value 240 fits in uint8\n",
      "  return _convert(image, np.uint8, force_copy)\n",
      "/home/pedro/Documents/UNI/_3_ano/LAB_IACD/project_1/.venv/lib/python3.10/site-packages/skimage/util/dtype.py:576: UserWarning: Downcasting int16 to uint8 without scaling because max value -10 fits in uint8\n",
      "  return _convert(image, np.uint8, force_copy)\n",
      "/home/pedro/Documents/UNI/_3_ano/LAB_IACD/project_1/.venv/lib/python3.10/site-packages/skimage/util/dtype.py:576: UserWarning: Downcasting int16 to uint8 without scaling because max value 120 fits in uint8\n",
      "  return _convert(image, np.uint8, force_copy)\n"
     ]
    },
    {
     "name": "stdout",
     "output_type": "stream",
     "text": [
      "Currently in scan: LIDC-IDRI-0189\n",
      "Loading dicom files ... This may take a moment.\n",
      "Currently in scan: LIDC-IDRI-0190\n",
      "Loading dicom files ... This may take a moment.\n",
      "Currently in scan: LIDC-IDRI-0191\n",
      "Loading dicom files ... This may take a moment.\n",
      "Currently in scan: LIDC-IDRI-0192\n",
      "Loading dicom files ... This may take a moment.\n"
     ]
    },
    {
     "name": "stderr",
     "output_type": "stream",
     "text": [
      "/home/pedro/Documents/UNI/_3_ano/LAB_IACD/project_1/.venv/lib/python3.10/site-packages/skimage/util/dtype.py:576: UserWarning: Downcasting int16 to uint8 without scaling because max value 153 fits in uint8\n",
      "  return _convert(image, np.uint8, force_copy)\n"
     ]
    },
    {
     "name": "stdout",
     "output_type": "stream",
     "text": [
      "Currently in scan: LIDC-IDRI-0193\n",
      "Loading dicom files ... This may take a moment.\n"
     ]
    },
    {
     "name": "stderr",
     "output_type": "stream",
     "text": [
      "/home/pedro/Documents/UNI/_3_ano/LAB_IACD/project_1/.venv/lib/python3.10/site-packages/skimage/util/dtype.py:576: UserWarning: Downcasting int16 to uint8 without scaling because max value 94 fits in uint8\n",
      "  return _convert(image, np.uint8, force_copy)\n"
     ]
    },
    {
     "name": "stdout",
     "output_type": "stream",
     "text": [
      "Currently in scan: LIDC-IDRI-0194\n",
      "Loading dicom files ... This may take a moment.\n"
     ]
    },
    {
     "name": "stderr",
     "output_type": "stream",
     "text": [
      "/home/pedro/Documents/UNI/_3_ano/LAB_IACD/project_1/.venv/lib/python3.10/site-packages/skimage/util/dtype.py:576: UserWarning: Downcasting int16 to uint8 without scaling because max value 157 fits in uint8\n",
      "  return _convert(image, np.uint8, force_copy)\n"
     ]
    },
    {
     "name": "stdout",
     "output_type": "stream",
     "text": [
      "Currently in scan: LIDC-IDRI-0195\n",
      "Loading dicom files ... This may take a moment.\n",
      "Currently in scan: LIDC-IDRI-0196\n",
      "Loading dicom files ... This may take a moment.\n",
      "Currently in scan: LIDC-IDRI-0197\n",
      "Loading dicom files ... This may take a moment.\n",
      "Currently in scan: LIDC-IDRI-0198\n",
      "Loading dicom files ... This may take a moment.\n",
      "Currently in scan: LIDC-IDRI-0199\n",
      "Loading dicom files ... This may take a moment.\n",
      "Currently in scan: LIDC-IDRI-0200\n",
      "Loading dicom files ... This may take a moment.\n",
      "Currently in scan: LIDC-IDRI-0201\n",
      "Loading dicom files ... This may take a moment.\n",
      "Currently in scan: LIDC-IDRI-0202\n",
      "Loading dicom files ... This may take a moment.\n",
      "Currently in scan: LIDC-IDRI-0203\n",
      "Loading dicom files ... This may take a moment.\n",
      "Currently in scan: LIDC-IDRI-0204\n",
      "Failed to reduce all groups to <= 4 Annotations.\n",
      "Some nodules may be close and must be grouped manually.\n",
      "Loading dicom files ... This may take a moment.\n",
      "Currently in scan: LIDC-IDRI-0205\n",
      "Loading dicom files ... This may take a moment.\n",
      "Currently in scan: LIDC-IDRI-0206\n",
      "Loading dicom files ... This may take a moment.\n"
     ]
    },
    {
     "name": "stderr",
     "output_type": "stream",
     "text": [
      "/home/pedro/Documents/UNI/_3_ano/LAB_IACD/project_1/.venv/lib/python3.10/site-packages/skimage/util/dtype.py:576: UserWarning: Downcasting int16 to uint8 without scaling because max value 69 fits in uint8\n",
      "  return _convert(image, np.uint8, force_copy)\n",
      "/home/pedro/Documents/UNI/_3_ano/LAB_IACD/project_1/.venv/lib/python3.10/site-packages/skimage/util/dtype.py:576: UserWarning: Downcasting int16 to uint8 without scaling because max value 29 fits in uint8\n",
      "  return _convert(image, np.uint8, force_copy)\n"
     ]
    },
    {
     "name": "stdout",
     "output_type": "stream",
     "text": [
      "Currently in scan: LIDC-IDRI-0207\n",
      "Loading dicom files ... This may take a moment.\n"
     ]
    },
    {
     "name": "stderr",
     "output_type": "stream",
     "text": [
      "/home/pedro/Documents/UNI/_3_ano/LAB_IACD/project_1/.venv/lib/python3.10/site-packages/skimage/util/dtype.py:576: UserWarning: Downcasting int16 to uint8 without scaling because max value 191 fits in uint8\n",
      "  return _convert(image, np.uint8, force_copy)\n"
     ]
    },
    {
     "name": "stdout",
     "output_type": "stream",
     "text": [
      "Currently in scan: LIDC-IDRI-0208\n",
      "Loading dicom files ... This may take a moment.\n",
      "Currently in scan: LIDC-IDRI-0209\n",
      "Loading dicom files ... This may take a moment.\n",
      "Currently in scan: LIDC-IDRI-0210\n",
      "Loading dicom files ... This may take a moment.\n",
      "Currently in scan: LIDC-IDRI-0211\n",
      "Loading dicom files ... This may take a moment.\n",
      "Currently in scan: LIDC-IDRI-0212\n",
      "Loading dicom files ... This may take a moment.\n",
      "Currently in scan: LIDC-IDRI-0213\n",
      "Loading dicom files ... This may take a moment.\n",
      "Currently in scan: LIDC-IDRI-0214\n",
      "Loading dicom files ... This may take a moment.\n",
      "Currently in scan: LIDC-IDRI-0215\n",
      "Loading dicom files ... This may take a moment.\n",
      "Currently in scan: LIDC-IDRI-0216\n",
      "Loading dicom files ... This may take a moment.\n",
      "Currently in scan: LIDC-IDRI-0217\n",
      "Loading dicom files ... This may take a moment.\n",
      "Currently in scan: LIDC-IDRI-0218\n",
      "Loading dicom files ... This may take a moment.\n",
      "Currently in scan: LIDC-IDRI-0219\n",
      "Loading dicom files ... This may take a moment.\n",
      "Currently in scan: LIDC-IDRI-0220\n",
      "Loading dicom files ... This may take a moment.\n"
     ]
    },
    {
     "name": "stderr",
     "output_type": "stream",
     "text": [
      "/home/pedro/Documents/UNI/_3_ano/LAB_IACD/project_1/.venv/lib/python3.10/site-packages/skimage/util/dtype.py:576: UserWarning: Downcasting int16 to uint8 without scaling because max value 209 fits in uint8\n",
      "  return _convert(image, np.uint8, force_copy)\n"
     ]
    },
    {
     "name": "stdout",
     "output_type": "stream",
     "text": [
      "Currently in scan: LIDC-IDRI-0221\n",
      "Loading dicom files ... This may take a moment.\n",
      "Currently in scan: LIDC-IDRI-0222\n",
      "Loading dicom files ... This may take a moment.\n",
      "Currently in scan: LIDC-IDRI-0223\n",
      "Loading dicom files ... This may take a moment.\n",
      "Currently in scan: LIDC-IDRI-0224\n",
      "Loading dicom files ... This may take a moment.\n",
      "Currently in scan: LIDC-IDRI-0225\n",
      "Loading dicom files ... This may take a moment.\n",
      "Currently in scan: LIDC-IDRI-0226\n",
      "Loading dicom files ... This may take a moment.\n",
      "Currently in scan: LIDC-IDRI-0227\n",
      "Loading dicom files ... This may take a moment.\n",
      "Currently in scan: LIDC-IDRI-0228\n",
      "Loading dicom files ... This may take a moment.\n",
      "Currently in scan: LIDC-IDRI-0229\n",
      "Loading dicom files ... This may take a moment.\n"
     ]
    },
    {
     "name": "stderr",
     "output_type": "stream",
     "text": [
      "/home/pedro/Documents/UNI/_3_ano/LAB_IACD/project_1/.venv/lib/python3.10/site-packages/skimage/util/dtype.py:576: UserWarning: Downcasting int16 to uint8 without scaling because max value 160 fits in uint8\n",
      "  return _convert(image, np.uint8, force_copy)\n",
      "/home/pedro/Documents/UNI/_3_ano/LAB_IACD/project_1/.venv/lib/python3.10/site-packages/skimage/util/dtype.py:576: UserWarning: Downcasting int16 to uint8 without scaling because max value 223 fits in uint8\n",
      "  return _convert(image, np.uint8, force_copy)\n"
     ]
    },
    {
     "name": "stdout",
     "output_type": "stream",
     "text": [
      "Currently in scan: LIDC-IDRI-0230\n",
      "Loading dicom files ... This may take a moment.\n"
     ]
    },
    {
     "name": "stderr",
     "output_type": "stream",
     "text": [
      "/home/pedro/Documents/UNI/_3_ano/LAB_IACD/project_1/.venv/lib/python3.10/site-packages/skimage/util/dtype.py:576: UserWarning: Downcasting int16 to uint8 without scaling because max value 85 fits in uint8\n",
      "  return _convert(image, np.uint8, force_copy)\n"
     ]
    },
    {
     "name": "stdout",
     "output_type": "stream",
     "text": [
      "Currently in scan: LIDC-IDRI-0231\n",
      "Loading dicom files ... This may take a moment.\n",
      "Currently in scan: LIDC-IDRI-0232\n",
      "Loading dicom files ... This may take a moment.\n",
      "Currently in scan: LIDC-IDRI-0233\n",
      "Loading dicom files ... This may take a moment.\n",
      "Currently in scan: LIDC-IDRI-0234\n",
      "Loading dicom files ... This may take a moment.\n"
     ]
    },
    {
     "name": "stderr",
     "output_type": "stream",
     "text": [
      "/home/pedro/Documents/UNI/_3_ano/LAB_IACD/project_1/.venv/lib/python3.10/site-packages/skimage/util/dtype.py:576: UserWarning: Downcasting int16 to uint8 without scaling because max value 68 fits in uint8\n",
      "  return _convert(image, np.uint8, force_copy)\n"
     ]
    },
    {
     "name": "stdout",
     "output_type": "stream",
     "text": [
      "Currently in scan: LIDC-IDRI-0235\n",
      "Loading dicom files ... This may take a moment.\n",
      "Currently in scan: LIDC-IDRI-0236\n",
      "Loading dicom files ... This may take a moment.\n",
      "Currently in scan: LIDC-IDRI-0237\n",
      "Loading dicom files ... This may take a moment.\n"
     ]
    },
    {
     "name": "stderr",
     "output_type": "stream",
     "text": [
      "/home/pedro/Documents/UNI/_3_ano/LAB_IACD/project_1/.venv/lib/python3.10/site-packages/skimage/util/dtype.py:576: UserWarning: Downcasting int16 to uint8 without scaling because max value 225 fits in uint8\n",
      "  return _convert(image, np.uint8, force_copy)\n"
     ]
    },
    {
     "name": "stdout",
     "output_type": "stream",
     "text": [
      "Currently in scan: LIDC-IDRI-0239\n",
      "Loading dicom files ... This may take a moment.\n",
      "Currently in scan: LIDC-IDRI-0240\n",
      "Loading dicom files ... This may take a moment.\n"
     ]
    },
    {
     "name": "stderr",
     "output_type": "stream",
     "text": [
      "/home/pedro/Documents/UNI/_3_ano/LAB_IACD/project_1/.venv/lib/python3.10/site-packages/skimage/util/dtype.py:576: UserWarning: Downcasting int16 to uint8 without scaling because max value 91 fits in uint8\n",
      "  return _convert(image, np.uint8, force_copy)\n",
      "/home/pedro/Documents/UNI/_3_ano/LAB_IACD/project_1/.venv/lib/python3.10/site-packages/skimage/util/dtype.py:576: UserWarning: Downcasting int16 to uint8 without scaling because max value 185 fits in uint8\n",
      "  return _convert(image, np.uint8, force_copy)\n"
     ]
    },
    {
     "name": "stdout",
     "output_type": "stream",
     "text": [
      "Currently in scan: LIDC-IDRI-0241\n",
      "Loading dicom files ... This may take a moment.\n"
     ]
    },
    {
     "name": "stderr",
     "output_type": "stream",
     "text": [
      "/home/pedro/Documents/UNI/_3_ano/LAB_IACD/project_1/.venv/lib/python3.10/site-packages/skimage/util/dtype.py:576: UserWarning: Downcasting int16 to uint8 without scaling because max value 44 fits in uint8\n",
      "  return _convert(image, np.uint8, force_copy)\n"
     ]
    },
    {
     "name": "stdout",
     "output_type": "stream",
     "text": [
      "Currently in scan: LIDC-IDRI-0242\n",
      "Loading dicom files ... This may take a moment.\n",
      "Currently in scan: LIDC-IDRI-0243\n",
      "Loading dicom files ... This may take a moment.\n",
      "Currently in scan: LIDC-IDRI-0244\n",
      "Loading dicom files ... This may take a moment.\n",
      "Currently in scan: LIDC-IDRI-0245\n",
      "Loading dicom files ... This may take a moment.\n",
      "Currently in scan: LIDC-IDRI-0246\n",
      "Loading dicom files ... This may take a moment.\n",
      "Currently in scan: LIDC-IDRI-0247\n",
      "Loading dicom files ... This may take a moment.\n",
      "Currently in scan: LIDC-IDRI-0248\n",
      "Loading dicom files ... This may take a moment.\n",
      "Currently in scan: LIDC-IDRI-0249\n",
      "Loading dicom files ... This may take a moment.\n",
      "Currently in scan: LIDC-IDRI-0250\n",
      "Loading dicom files ... This may take a moment.\n",
      "Currently in scan: LIDC-IDRI-0251\n",
      "Loading dicom files ... This may take a moment.\n"
     ]
    },
    {
     "name": "stderr",
     "output_type": "stream",
     "text": [
      "/home/pedro/Documents/UNI/_3_ano/LAB_IACD/project_1/.venv/lib/python3.10/site-packages/skimage/util/dtype.py:576: UserWarning: Downcasting int16 to uint8 without scaling because max value 252 fits in uint8\n",
      "  return _convert(image, np.uint8, force_copy)\n"
     ]
    },
    {
     "name": "stdout",
     "output_type": "stream",
     "text": [
      "Currently in scan: LIDC-IDRI-0252\n",
      "Failed to reduce all groups to <= 4 Annotations.\n",
      "Some nodules may be close and must be grouped manually.\n",
      "Loading dicom files ... This may take a moment.\n",
      "Currently in scan: LIDC-IDRI-0253\n",
      "Loading dicom files ... This may take a moment.\n",
      "Currently in scan: LIDC-IDRI-0254\n",
      "Loading dicom files ... This may take a moment.\n",
      "Currently in scan: LIDC-IDRI-0255\n",
      "Loading dicom files ... This may take a moment.\n",
      "Currently in scan: LIDC-IDRI-0256\n",
      "Loading dicom files ... This may take a moment.\n"
     ]
    },
    {
     "name": "stderr",
     "output_type": "stream",
     "text": [
      "/home/pedro/Documents/UNI/_3_ano/LAB_IACD/project_1/.venv/lib/python3.10/site-packages/skimage/util/dtype.py:576: UserWarning: Downcasting int16 to uint8 without scaling because max value -111 fits in uint8\n",
      "  return _convert(image, np.uint8, force_copy)\n"
     ]
    },
    {
     "name": "stdout",
     "output_type": "stream",
     "text": [
      "Currently in scan: LIDC-IDRI-0257\n",
      "Loading dicom files ... This may take a moment.\n",
      "Currently in scan: LIDC-IDRI-0258\n",
      "Loading dicom files ... This may take a moment.\n",
      "Currently in scan: LIDC-IDRI-0259\n",
      "Loading dicom files ... This may take a moment.\n",
      "Currently in scan: LIDC-IDRI-0260\n",
      "Loading dicom files ... This may take a moment.\n"
     ]
    },
    {
     "name": "stderr",
     "output_type": "stream",
     "text": [
      "/home/pedro/Documents/UNI/_3_ano/LAB_IACD/project_1/.venv/lib/python3.10/site-packages/skimage/util/dtype.py:576: UserWarning: Downcasting int16 to uint8 without scaling because max value 253 fits in uint8\n",
      "  return _convert(image, np.uint8, force_copy)\n"
     ]
    },
    {
     "name": "stdout",
     "output_type": "stream",
     "text": [
      "Currently in scan: LIDC-IDRI-0261\n",
      "Loading dicom files ... This may take a moment.\n",
      "Currently in scan: LIDC-IDRI-0262\n",
      "Loading dicom files ... This may take a moment.\n",
      "Currently in scan: LIDC-IDRI-0263\n",
      "Loading dicom files ... This may take a moment.\n",
      "Currently in scan: LIDC-IDRI-0264\n",
      "Loading dicom files ... This may take a moment.\n"
     ]
    },
    {
     "name": "stderr",
     "output_type": "stream",
     "text": [
      "/home/pedro/Documents/UNI/_3_ano/LAB_IACD/project_1/.venv/lib/python3.10/site-packages/skimage/util/dtype.py:576: UserWarning: Downcasting int16 to uint8 without scaling because max value 130 fits in uint8\n",
      "  return _convert(image, np.uint8, force_copy)\n"
     ]
    },
    {
     "name": "stdout",
     "output_type": "stream",
     "text": [
      "Currently in scan: LIDC-IDRI-0265\n",
      "Loading dicom files ... This may take a moment.\n",
      "Currently in scan: LIDC-IDRI-0266\n",
      "Loading dicom files ... This may take a moment.\n",
      "Currently in scan: LIDC-IDRI-0267\n",
      "Loading dicom files ... This may take a moment.\n",
      "Currently in scan: LIDC-IDRI-0268\n",
      "Loading dicom files ... This may take a moment.\n"
     ]
    },
    {
     "name": "stderr",
     "output_type": "stream",
     "text": [
      "/home/pedro/Documents/UNI/_3_ano/LAB_IACD/project_1/.venv/lib/python3.10/site-packages/skimage/util/dtype.py:576: UserWarning: Downcasting int16 to uint8 without scaling because max value 58 fits in uint8\n",
      "  return _convert(image, np.uint8, force_copy)\n"
     ]
    },
    {
     "name": "stdout",
     "output_type": "stream",
     "text": [
      "Currently in scan: LIDC-IDRI-0269\n",
      "Loading dicom files ... This may take a moment.\n",
      "Currently in scan: LIDC-IDRI-0270\n",
      "Loading dicom files ... This may take a moment.\n"
     ]
    },
    {
     "name": "stderr",
     "output_type": "stream",
     "text": [
      "/home/pedro/Documents/UNI/_3_ano/LAB_IACD/project_1/.venv/lib/python3.10/site-packages/skimage/util/dtype.py:576: UserWarning: Downcasting int16 to uint8 without scaling because max value -306 fits in uint8\n",
      "  return _convert(image, np.uint8, force_copy)\n"
     ]
    },
    {
     "name": "stdout",
     "output_type": "stream",
     "text": [
      "Currently in scan: LIDC-IDRI-0271\n",
      "Loading dicom files ... This may take a moment.\n",
      "Currently in scan: LIDC-IDRI-0272\n",
      "Loading dicom files ... This may take a moment.\n",
      "Currently in scan: LIDC-IDRI-0273\n",
      "Loading dicom files ... This may take a moment.\n"
     ]
    },
    {
     "name": "stderr",
     "output_type": "stream",
     "text": [
      "/home/pedro/Documents/UNI/_3_ano/LAB_IACD/project_1/.venv/lib/python3.10/site-packages/skimage/util/dtype.py:576: UserWarning: Downcasting int16 to uint8 without scaling because max value 125 fits in uint8\n",
      "  return _convert(image, np.uint8, force_copy)\n"
     ]
    },
    {
     "name": "stdout",
     "output_type": "stream",
     "text": [
      "Currently in scan: LIDC-IDRI-0274\n",
      "Loading dicom files ... This may take a moment.\n",
      "Currently in scan: LIDC-IDRI-0275\n",
      "Loading dicom files ... This may take a moment.\n"
     ]
    },
    {
     "name": "stderr",
     "output_type": "stream",
     "text": [
      "/home/pedro/Documents/UNI/_3_ano/LAB_IACD/project_1/.venv/lib/python3.10/site-packages/skimage/util/dtype.py:576: UserWarning: Downcasting int16 to uint8 without scaling because max value 83 fits in uint8\n",
      "  return _convert(image, np.uint8, force_copy)\n"
     ]
    },
    {
     "name": "stdout",
     "output_type": "stream",
     "text": [
      "Currently in scan: LIDC-IDRI-0276\n",
      "Loading dicom files ... This may take a moment.\n",
      "Currently in scan: LIDC-IDRI-0277\n",
      "Loading dicom files ... This may take a moment.\n",
      "Currently in scan: LIDC-IDRI-0278\n",
      "Loading dicom files ... This may take a moment.\n"
     ]
    },
    {
     "name": "stderr",
     "output_type": "stream",
     "text": [
      "/home/pedro/Documents/UNI/_3_ano/LAB_IACD/project_1/.venv/lib/python3.10/site-packages/skimage/util/dtype.py:576: UserWarning: Downcasting int16 to uint8 without scaling because max value 156 fits in uint8\n",
      "  return _convert(image, np.uint8, force_copy)\n"
     ]
    },
    {
     "name": "stdout",
     "output_type": "stream",
     "text": [
      "Currently in scan: LIDC-IDRI-0279\n",
      "Loading dicom files ... This may take a moment.\n",
      "Currently in scan: LIDC-IDRI-0280\n",
      "Loading dicom files ... This may take a moment.\n",
      "Currently in scan: LIDC-IDRI-0281\n",
      "Loading dicom files ... This may take a moment.\n",
      "Currently in scan: LIDC-IDRI-0282\n",
      "Loading dicom files ... This may take a moment.\n",
      "Currently in scan: LIDC-IDRI-0283\n",
      "Loading dicom files ... This may take a moment.\n",
      "Currently in scan: LIDC-IDRI-0284\n",
      "Loading dicom files ... This may take a moment.\n",
      "Currently in scan: LIDC-IDRI-0285\n",
      "Loading dicom files ... This may take a moment.\n",
      "Currently in scan: LIDC-IDRI-0286\n",
      "Loading dicom files ... This may take a moment.\n"
     ]
    },
    {
     "name": "stderr",
     "output_type": "stream",
     "text": [
      "/home/pedro/Documents/UNI/_3_ano/LAB_IACD/project_1/.venv/lib/python3.10/site-packages/skimage/util/dtype.py:576: UserWarning: Downcasting int16 to uint8 without scaling because max value 48 fits in uint8\n",
      "  return _convert(image, np.uint8, force_copy)\n"
     ]
    },
    {
     "name": "stdout",
     "output_type": "stream",
     "text": [
      "Currently in scan: LIDC-IDRI-0287\n",
      "Loading dicom files ... This may take a moment.\n",
      "Currently in scan: LIDC-IDRI-0288\n",
      "Loading dicom files ... This may take a moment.\n",
      "Currently in scan: LIDC-IDRI-0289\n",
      "Loading dicom files ... This may take a moment.\n"
     ]
    },
    {
     "name": "stderr",
     "output_type": "stream",
     "text": [
      "/home/pedro/Documents/UNI/_3_ano/LAB_IACD/project_1/.venv/lib/python3.10/site-packages/skimage/util/dtype.py:576: UserWarning: Downcasting int16 to uint8 without scaling because max value 187 fits in uint8\n",
      "  return _convert(image, np.uint8, force_copy)\n"
     ]
    },
    {
     "name": "stdout",
     "output_type": "stream",
     "text": [
      "Currently in scan: LIDC-IDRI-0290\n",
      "Loading dicom files ... This may take a moment.\n"
     ]
    },
    {
     "name": "stderr",
     "output_type": "stream",
     "text": [
      "/home/pedro/Documents/UNI/_3_ano/LAB_IACD/project_1/.venv/lib/python3.10/site-packages/skimage/util/dtype.py:576: UserWarning: Downcasting int16 to uint8 without scaling because max value 89 fits in uint8\n",
      "  return _convert(image, np.uint8, force_copy)\n"
     ]
    },
    {
     "name": "stdout",
     "output_type": "stream",
     "text": [
      "Currently in scan: LIDC-IDRI-0291\n",
      "Loading dicom files ... This may take a moment.\n"
     ]
    },
    {
     "name": "stderr",
     "output_type": "stream",
     "text": [
      "/home/pedro/Documents/UNI/_3_ano/LAB_IACD/project_1/.venv/lib/python3.10/site-packages/skimage/util/dtype.py:576: UserWarning: Downcasting int16 to uint8 without scaling because max value 212 fits in uint8\n",
      "  return _convert(image, np.uint8, force_copy)\n"
     ]
    },
    {
     "name": "stdout",
     "output_type": "stream",
     "text": [
      "Currently in scan: LIDC-IDRI-0292\n",
      "Loading dicom files ... This may take a moment.\n"
     ]
    },
    {
     "name": "stderr",
     "output_type": "stream",
     "text": [
      "/home/pedro/Documents/UNI/_3_ano/LAB_IACD/project_1/.venv/lib/python3.10/site-packages/skimage/util/dtype.py:576: UserWarning: Downcasting int16 to uint8 without scaling because max value 90 fits in uint8\n",
      "  return _convert(image, np.uint8, force_copy)\n"
     ]
    },
    {
     "name": "stdout",
     "output_type": "stream",
     "text": [
      "Currently in scan: LIDC-IDRI-0293\n",
      "Loading dicom files ... This may take a moment.\n",
      "Currently in scan: LIDC-IDRI-0294\n",
      "Loading dicom files ... This may take a moment.\n"
     ]
    },
    {
     "name": "stderr",
     "output_type": "stream",
     "text": [
      "/home/pedro/Documents/UNI/_3_ano/LAB_IACD/project_1/.venv/lib/python3.10/site-packages/skimage/util/dtype.py:576: UserWarning: Downcasting int16 to uint8 without scaling because max value 167 fits in uint8\n",
      "  return _convert(image, np.uint8, force_copy)\n"
     ]
    },
    {
     "name": "stdout",
     "output_type": "stream",
     "text": [
      "Currently in scan: LIDC-IDRI-0295\n",
      "Loading dicom files ... This may take a moment.\n",
      "Currently in scan: LIDC-IDRI-0296\n",
      "Loading dicom files ... This may take a moment.\n",
      "Currently in scan: LIDC-IDRI-0297\n",
      "Loading dicom files ... This may take a moment.\n",
      "Currently in scan: LIDC-IDRI-0298\n",
      "Loading dicom files ... This may take a moment.\n"
     ]
    },
    {
     "name": "stderr",
     "output_type": "stream",
     "text": [
      "/home/pedro/Documents/UNI/_3_ano/LAB_IACD/project_1/.venv/lib/python3.10/site-packages/skimage/util/dtype.py:576: UserWarning: Downcasting int16 to uint8 without scaling because max value 239 fits in uint8\n",
      "  return _convert(image, np.uint8, force_copy)\n"
     ]
    },
    {
     "name": "stdout",
     "output_type": "stream",
     "text": [
      "Currently in scan: LIDC-IDRI-0299\n",
      "Loading dicom files ... This may take a moment.\n",
      "Currently in scan: LIDC-IDRI-0300\n",
      "Loading dicom files ... This may take a moment.\n"
     ]
    },
    {
     "name": "stderr",
     "output_type": "stream",
     "text": [
      "/home/pedro/Documents/UNI/_3_ano/LAB_IACD/project_1/.venv/lib/python3.10/site-packages/skimage/util/dtype.py:576: UserWarning: Downcasting int16 to uint8 without scaling because max value 165 fits in uint8\n",
      "  return _convert(image, np.uint8, force_copy)\n"
     ]
    },
    {
     "name": "stdout",
     "output_type": "stream",
     "text": [
      "Currently in scan: LIDC-IDRI-0301\n",
      "Loading dicom files ... This may take a moment.\n"
     ]
    },
    {
     "name": "stderr",
     "output_type": "stream",
     "text": [
      "/home/pedro/Documents/UNI/_3_ano/LAB_IACD/project_1/.venv/lib/python3.10/site-packages/skimage/util/dtype.py:576: UserWarning: Downcasting int16 to uint8 without scaling because max value 13 fits in uint8\n",
      "  return _convert(image, np.uint8, force_copy)\n",
      "/home/pedro/Documents/UNI/_3_ano/LAB_IACD/project_1/.venv/lib/python3.10/site-packages/skimage/util/dtype.py:576: UserWarning: Downcasting int16 to uint8 without scaling because max value 68 fits in uint8\n",
      "  return _convert(image, np.uint8, force_copy)\n"
     ]
    },
    {
     "name": "stdout",
     "output_type": "stream",
     "text": [
      "Currently in scan: LIDC-IDRI-0302\n",
      "Loading dicom files ... This may take a moment.\n",
      "Currently in scan: LIDC-IDRI-0303\n",
      "Loading dicom files ... This may take a moment.\n",
      "Currently in scan: LIDC-IDRI-0304\n",
      "Loading dicom files ... This may take a moment.\n"
     ]
    },
    {
     "name": "stderr",
     "output_type": "stream",
     "text": [
      "/home/pedro/Documents/UNI/_3_ano/LAB_IACD/project_1/.venv/lib/python3.10/site-packages/skimage/util/dtype.py:576: UserWarning: Downcasting int16 to uint8 without scaling because max value 140 fits in uint8\n",
      "  return _convert(image, np.uint8, force_copy)\n"
     ]
    },
    {
     "name": "stdout",
     "output_type": "stream",
     "text": [
      "Currently in scan: LIDC-IDRI-0305\n",
      "Loading dicom files ... This may take a moment.\n"
     ]
    },
    {
     "name": "stderr",
     "output_type": "stream",
     "text": [
      "/home/pedro/Documents/UNI/_3_ano/LAB_IACD/project_1/.venv/lib/python3.10/site-packages/skimage/util/dtype.py:576: UserWarning: Downcasting int16 to uint8 without scaling because max value 202 fits in uint8\n",
      "  return _convert(image, np.uint8, force_copy)\n",
      "/home/pedro/Documents/UNI/_3_ano/LAB_IACD/project_1/.venv/lib/python3.10/site-packages/skimage/util/dtype.py:576: UserWarning: Downcasting int16 to uint8 without scaling because max value 242 fits in uint8\n",
      "  return _convert(image, np.uint8, force_copy)\n"
     ]
    },
    {
     "name": "stdout",
     "output_type": "stream",
     "text": [
      "Currently in scan: LIDC-IDRI-0306\n",
      "Loading dicom files ... This may take a moment.\n",
      "Currently in scan: LIDC-IDRI-0307\n",
      "Loading dicom files ... This may take a moment.\n",
      "Currently in scan: LIDC-IDRI-0308\n",
      "Loading dicom files ... This may take a moment.\n"
     ]
    },
    {
     "name": "stderr",
     "output_type": "stream",
     "text": [
      "/home/pedro/Documents/UNI/_3_ano/LAB_IACD/project_1/.venv/lib/python3.10/site-packages/skimage/util/dtype.py:576: UserWarning: Downcasting int16 to uint8 without scaling because max value 77 fits in uint8\n",
      "  return _convert(image, np.uint8, force_copy)\n",
      "/home/pedro/Documents/UNI/_3_ano/LAB_IACD/project_1/.venv/lib/python3.10/site-packages/skimage/util/dtype.py:576: UserWarning: Downcasting int16 to uint8 without scaling because max value 49 fits in uint8\n",
      "  return _convert(image, np.uint8, force_copy)\n"
     ]
    },
    {
     "name": "stdout",
     "output_type": "stream",
     "text": [
      "Currently in scan: LIDC-IDRI-0309\n",
      "Loading dicom files ... This may take a moment.\n",
      "Currently in scan: LIDC-IDRI-0310\n",
      "Loading dicom files ... This may take a moment.\n",
      "Currently in scan: LIDC-IDRI-0311\n",
      "Loading dicom files ... This may take a moment.\n",
      "Currently in scan: LIDC-IDRI-0312\n",
      "Loading dicom files ... This may take a moment.\n",
      "Currently in scan: LIDC-IDRI-0313\n",
      "Loading dicom files ... This may take a moment.\n",
      "Currently in scan: LIDC-IDRI-0314\n",
      "Loading dicom files ... This may take a moment.\n",
      "Currently in scan: LIDC-IDRI-0315\n",
      "Loading dicom files ... This may take a moment.\n"
     ]
    },
    {
     "name": "stderr",
     "output_type": "stream",
     "text": [
      "/home/pedro/Documents/UNI/_3_ano/LAB_IACD/project_1/.venv/lib/python3.10/site-packages/skimage/util/dtype.py:576: UserWarning: Downcasting int16 to uint8 without scaling because max value 117 fits in uint8\n",
      "  return _convert(image, np.uint8, force_copy)\n"
     ]
    },
    {
     "name": "stdout",
     "output_type": "stream",
     "text": [
      "Currently in scan: LIDC-IDRI-0316\n",
      "Loading dicom files ... This may take a moment.\n",
      "Currently in scan: LIDC-IDRI-0317\n",
      "Loading dicom files ... This may take a moment.\n",
      "Currently in scan: LIDC-IDRI-0318\n",
      "Loading dicom files ... This may take a moment.\n",
      "Currently in scan: LIDC-IDRI-0319\n",
      "Loading dicom files ... This may take a moment.\n",
      "Currently in scan: LIDC-IDRI-0320\n",
      "Loading dicom files ... This may take a moment.\n"
     ]
    },
    {
     "name": "stderr",
     "output_type": "stream",
     "text": [
      "/home/pedro/Documents/UNI/_3_ano/LAB_IACD/project_1/.venv/lib/python3.10/site-packages/skimage/util/dtype.py:576: UserWarning: Downcasting int16 to uint8 without scaling because max value 69 fits in uint8\n",
      "  return _convert(image, np.uint8, force_copy)\n"
     ]
    },
    {
     "name": "stdout",
     "output_type": "stream",
     "text": [
      "Currently in scan: LIDC-IDRI-0321\n",
      "Loading dicom files ... This may take a moment.\n",
      "Currently in scan: LIDC-IDRI-0322\n",
      "Loading dicom files ... This may take a moment.\n",
      "Currently in scan: LIDC-IDRI-0323\n",
      "Loading dicom files ... This may take a moment.\n"
     ]
    },
    {
     "name": "stderr",
     "output_type": "stream",
     "text": [
      "/home/pedro/Documents/UNI/_3_ano/LAB_IACD/project_1/.venv/lib/python3.10/site-packages/skimage/util/dtype.py:576: UserWarning: Downcasting int16 to uint8 without scaling because max value 65 fits in uint8\n",
      "  return _convert(image, np.uint8, force_copy)\n"
     ]
    },
    {
     "name": "stdout",
     "output_type": "stream",
     "text": [
      "Currently in scan: LIDC-IDRI-0324\n",
      "Loading dicom files ... This may take a moment.\n"
     ]
    },
    {
     "name": "stderr",
     "output_type": "stream",
     "text": [
      "/home/pedro/Documents/UNI/_3_ano/LAB_IACD/project_1/.venv/lib/python3.10/site-packages/skimage/util/dtype.py:576: UserWarning: Downcasting int16 to uint8 without scaling because max value 145 fits in uint8\n",
      "  return _convert(image, np.uint8, force_copy)\n"
     ]
    },
    {
     "name": "stdout",
     "output_type": "stream",
     "text": [
      "Currently in scan: LIDC-IDRI-0325\n",
      "Loading dicom files ... This may take a moment.\n",
      "Currently in scan: LIDC-IDRI-0326\n",
      "Loading dicom files ... This may take a moment.\n",
      "Currently in scan: LIDC-IDRI-0327\n",
      "Loading dicom files ... This may take a moment.\n",
      "Currently in scan: LIDC-IDRI-0328\n",
      "Loading dicom files ... This may take a moment.\n"
     ]
    },
    {
     "name": "stderr",
     "output_type": "stream",
     "text": [
      "/home/pedro/Documents/UNI/_3_ano/LAB_IACD/project_1/.venv/lib/python3.10/site-packages/skimage/util/dtype.py:576: UserWarning: Downcasting int16 to uint8 without scaling because max value -188 fits in uint8\n",
      "  return _convert(image, np.uint8, force_copy)\n"
     ]
    },
    {
     "name": "stdout",
     "output_type": "stream",
     "text": [
      "Currently in scan: LIDC-IDRI-0329\n",
      "Loading dicom files ... This may take a moment.\n"
     ]
    },
    {
     "name": "stderr",
     "output_type": "stream",
     "text": [
      "/home/pedro/Documents/UNI/_3_ano/LAB_IACD/project_1/.venv/lib/python3.10/site-packages/skimage/util/dtype.py:576: UserWarning: Downcasting int16 to uint8 without scaling because max value -70 fits in uint8\n",
      "  return _convert(image, np.uint8, force_copy)\n",
      "/home/pedro/Documents/UNI/_3_ano/LAB_IACD/project_1/.venv/lib/python3.10/site-packages/skimage/util/dtype.py:576: UserWarning: Downcasting int16 to uint8 without scaling because max value 99 fits in uint8\n",
      "  return _convert(image, np.uint8, force_copy)\n",
      "/home/pedro/Documents/UNI/_3_ano/LAB_IACD/project_1/.venv/lib/python3.10/site-packages/skimage/util/dtype.py:576: UserWarning: Downcasting int16 to uint8 without scaling because max value -284 fits in uint8\n",
      "  return _convert(image, np.uint8, force_copy)\n"
     ]
    },
    {
     "name": "stdout",
     "output_type": "stream",
     "text": [
      "Currently in scan: LIDC-IDRI-0330\n",
      "Loading dicom files ... This may take a moment.\n",
      "Currently in scan: LIDC-IDRI-0331\n",
      "Loading dicom files ... This may take a moment.\n",
      "Currently in scan: LIDC-IDRI-0332\n",
      "Loading dicom files ... This may take a moment.\n"
     ]
    },
    {
     "name": "stderr",
     "output_type": "stream",
     "text": [
      "/home/pedro/Documents/UNI/_3_ano/LAB_IACD/project_1/.venv/lib/python3.10/site-packages/skimage/util/dtype.py:576: UserWarning: Downcasting int16 to uint8 without scaling because max value 66 fits in uint8\n",
      "  return _convert(image, np.uint8, force_copy)\n"
     ]
    },
    {
     "name": "stdout",
     "output_type": "stream",
     "text": [
      "Currently in scan: LIDC-IDRI-0333\n",
      "Loading dicom files ... This may take a moment.\n",
      "Currently in scan: LIDC-IDRI-0334\n",
      "Loading dicom files ... This may take a moment.\n"
     ]
    },
    {
     "name": "stderr",
     "output_type": "stream",
     "text": [
      "/home/pedro/Documents/UNI/_3_ano/LAB_IACD/project_1/.venv/lib/python3.10/site-packages/skimage/util/dtype.py:576: UserWarning: Downcasting int16 to uint8 without scaling because max value 136 fits in uint8\n",
      "  return _convert(image, np.uint8, force_copy)\n",
      "/home/pedro/Documents/UNI/_3_ano/LAB_IACD/project_1/.venv/lib/python3.10/site-packages/skimage/util/dtype.py:576: UserWarning: Downcasting int16 to uint8 without scaling because max value 109 fits in uint8\n",
      "  return _convert(image, np.uint8, force_copy)\n",
      "/home/pedro/Documents/UNI/_3_ano/LAB_IACD/project_1/.venv/lib/python3.10/site-packages/skimage/util/dtype.py:576: UserWarning: Downcasting int16 to uint8 without scaling because max value -212 fits in uint8\n",
      "  return _convert(image, np.uint8, force_copy)\n",
      "/home/pedro/Documents/UNI/_3_ano/LAB_IACD/project_1/.venv/lib/python3.10/site-packages/skimage/util/dtype.py:576: UserWarning: Downcasting int16 to uint8 without scaling because max value -63 fits in uint8\n",
      "  return _convert(image, np.uint8, force_copy)\n",
      "/home/pedro/Documents/UNI/_3_ano/LAB_IACD/project_1/.venv/lib/python3.10/site-packages/skimage/util/dtype.py:576: UserWarning: Downcasting int16 to uint8 without scaling because max value -52 fits in uint8\n",
      "  return _convert(image, np.uint8, force_copy)\n"
     ]
    },
    {
     "name": "stdout",
     "output_type": "stream",
     "text": [
      "Currently in scan: LIDC-IDRI-0335\n",
      "Loading dicom files ... This may take a moment.\n"
     ]
    },
    {
     "name": "stderr",
     "output_type": "stream",
     "text": [
      "/home/pedro/Documents/UNI/_3_ano/LAB_IACD/project_1/.venv/lib/python3.10/site-packages/skimage/util/dtype.py:576: UserWarning: Downcasting int16 to uint8 without scaling because max value 173 fits in uint8\n",
      "  return _convert(image, np.uint8, force_copy)\n",
      "/home/pedro/Documents/UNI/_3_ano/LAB_IACD/project_1/.venv/lib/python3.10/site-packages/skimage/util/dtype.py:576: UserWarning: Downcasting int16 to uint8 without scaling because max value 36 fits in uint8\n",
      "  return _convert(image, np.uint8, force_copy)\n",
      "/home/pedro/Documents/UNI/_3_ano/LAB_IACD/project_1/.venv/lib/python3.10/site-packages/skimage/util/dtype.py:576: UserWarning: Downcasting int16 to uint8 without scaling because max value 112 fits in uint8\n",
      "  return _convert(image, np.uint8, force_copy)\n",
      "/home/pedro/Documents/UNI/_3_ano/LAB_IACD/project_1/.venv/lib/python3.10/site-packages/skimage/util/dtype.py:576: UserWarning: Downcasting int16 to uint8 without scaling because max value 12 fits in uint8\n",
      "  return _convert(image, np.uint8, force_copy)\n"
     ]
    },
    {
     "name": "stdout",
     "output_type": "stream",
     "text": [
      "Currently in scan: LIDC-IDRI-0336\n",
      "Loading dicom files ... This may take a moment.\n",
      "Currently in scan: LIDC-IDRI-0337\n",
      "Loading dicom files ... This may take a moment.\n"
     ]
    },
    {
     "name": "stderr",
     "output_type": "stream",
     "text": [
      "/home/pedro/Documents/UNI/_3_ano/LAB_IACD/project_1/.venv/lib/python3.10/site-packages/skimage/util/dtype.py:576: UserWarning: Downcasting int16 to uint8 without scaling because max value 222 fits in uint8\n",
      "  return _convert(image, np.uint8, force_copy)\n"
     ]
    },
    {
     "name": "stdout",
     "output_type": "stream",
     "text": [
      "Currently in scan: LIDC-IDRI-0338\n",
      "Loading dicom files ... This may take a moment.\n",
      "Currently in scan: LIDC-IDRI-0339\n",
      "Loading dicom files ... This may take a moment.\n",
      "Currently in scan: LIDC-IDRI-0340\n",
      "Failed to reduce all groups to <= 4 Annotations.\n",
      "Some nodules may be close and must be grouped manually.\n",
      "Loading dicom files ... This may take a moment.\n",
      "Currently in scan: LIDC-IDRI-0341\n",
      "Loading dicom files ... This may take a moment.\n"
     ]
    },
    {
     "name": "stderr",
     "output_type": "stream",
     "text": [
      "/home/pedro/Documents/UNI/_3_ano/LAB_IACD/project_1/.venv/lib/python3.10/site-packages/skimage/util/dtype.py:576: UserWarning: Downcasting int16 to uint8 without scaling because max value 248 fits in uint8\n",
      "  return _convert(image, np.uint8, force_copy)\n"
     ]
    },
    {
     "name": "stdout",
     "output_type": "stream",
     "text": [
      "Currently in scan: LIDC-IDRI-0342\n",
      "Loading dicom files ... This may take a moment.\n",
      "Currently in scan: LIDC-IDRI-0343\n",
      "Loading dicom files ... This may take a moment.\n"
     ]
    },
    {
     "name": "stderr",
     "output_type": "stream",
     "text": [
      "/home/pedro/Documents/UNI/_3_ano/LAB_IACD/project_1/.venv/lib/python3.10/site-packages/skimage/util/dtype.py:576: UserWarning: Downcasting int16 to uint8 without scaling because max value 111 fits in uint8\n",
      "  return _convert(image, np.uint8, force_copy)\n"
     ]
    },
    {
     "name": "stdout",
     "output_type": "stream",
     "text": [
      "Currently in scan: LIDC-IDRI-0344\n",
      "Loading dicom files ... This may take a moment.\n"
     ]
    },
    {
     "name": "stderr",
     "output_type": "stream",
     "text": [
      "/home/pedro/Documents/UNI/_3_ano/LAB_IACD/project_1/.venv/lib/python3.10/site-packages/skimage/util/dtype.py:576: UserWarning: Downcasting int16 to uint8 without scaling because max value 116 fits in uint8\n",
      "  return _convert(image, np.uint8, force_copy)\n",
      "/home/pedro/Documents/UNI/_3_ano/LAB_IACD/project_1/.venv/lib/python3.10/site-packages/skimage/util/dtype.py:576: UserWarning: Downcasting int16 to uint8 without scaling because max value 92 fits in uint8\n",
      "  return _convert(image, np.uint8, force_copy)\n"
     ]
    },
    {
     "name": "stdout",
     "output_type": "stream",
     "text": [
      "Currently in scan: LIDC-IDRI-0345\n",
      "Loading dicom files ... This may take a moment.\n"
     ]
    },
    {
     "name": "stderr",
     "output_type": "stream",
     "text": [
      "/home/pedro/Documents/UNI/_3_ano/LAB_IACD/project_1/.venv/lib/python3.10/site-packages/skimage/util/dtype.py:576: UserWarning: Downcasting int16 to uint8 without scaling because max value 77 fits in uint8\n",
      "  return _convert(image, np.uint8, force_copy)\n"
     ]
    },
    {
     "name": "stdout",
     "output_type": "stream",
     "text": [
      "Currently in scan: LIDC-IDRI-0346\n",
      "Loading dicom files ... This may take a moment.\n"
     ]
    },
    {
     "name": "stderr",
     "output_type": "stream",
     "text": [
      "/home/pedro/Documents/UNI/_3_ano/LAB_IACD/project_1/.venv/lib/python3.10/site-packages/skimage/util/dtype.py:576: UserWarning: Downcasting int16 to uint8 without scaling because max value 145 fits in uint8\n",
      "  return _convert(image, np.uint8, force_copy)\n"
     ]
    },
    {
     "name": "stdout",
     "output_type": "stream",
     "text": [
      "Currently in scan: LIDC-IDRI-0347\n",
      "Loading dicom files ... This may take a moment.\n"
     ]
    },
    {
     "name": "stderr",
     "output_type": "stream",
     "text": [
      "/home/pedro/Documents/UNI/_3_ano/LAB_IACD/project_1/.venv/lib/python3.10/site-packages/skimage/util/dtype.py:576: UserWarning: Downcasting int16 to uint8 without scaling because max value 63 fits in uint8\n",
      "  return _convert(image, np.uint8, force_copy)\n"
     ]
    },
    {
     "name": "stdout",
     "output_type": "stream",
     "text": [
      "Currently in scan: LIDC-IDRI-0348\n",
      "Loading dicom files ... This may take a moment.\n"
     ]
    },
    {
     "name": "stderr",
     "output_type": "stream",
     "text": [
      "/home/pedro/Documents/UNI/_3_ano/LAB_IACD/project_1/.venv/lib/python3.10/site-packages/skimage/util/dtype.py:576: UserWarning: Downcasting int16 to uint8 without scaling because max value 48 fits in uint8\n",
      "  return _convert(image, np.uint8, force_copy)\n",
      "/home/pedro/Documents/UNI/_3_ano/LAB_IACD/project_1/.venv/lib/python3.10/site-packages/skimage/util/dtype.py:576: UserWarning: Downcasting int16 to uint8 without scaling because max value 70 fits in uint8\n",
      "  return _convert(image, np.uint8, force_copy)\n"
     ]
    },
    {
     "name": "stdout",
     "output_type": "stream",
     "text": [
      "Currently in scan: LIDC-IDRI-0349\n",
      "Loading dicom files ... This may take a moment.\n",
      "Currently in scan: LIDC-IDRI-0350\n",
      "Loading dicom files ... This may take a moment.\n",
      "Currently in scan: LIDC-IDRI-0351\n",
      "Loading dicom files ... This may take a moment.\n"
     ]
    },
    {
     "name": "stderr",
     "output_type": "stream",
     "text": [
      "/home/pedro/Documents/UNI/_3_ano/LAB_IACD/project_1/.venv/lib/python3.10/site-packages/skimage/util/dtype.py:576: UserWarning: Downcasting int16 to uint8 without scaling because max value 69 fits in uint8\n",
      "  return _convert(image, np.uint8, force_copy)\n"
     ]
    },
    {
     "name": "stdout",
     "output_type": "stream",
     "text": [
      "Currently in scan: LIDC-IDRI-0352\n",
      "Loading dicom files ... This may take a moment.\n",
      "Currently in scan: LIDC-IDRI-0353\n",
      "Loading dicom files ... This may take a moment.\n",
      "Currently in scan: LIDC-IDRI-0354\n",
      "Loading dicom files ... This may take a moment.\n"
     ]
    },
    {
     "name": "stderr",
     "output_type": "stream",
     "text": [
      "/home/pedro/Documents/UNI/_3_ano/LAB_IACD/project_1/.venv/lib/python3.10/site-packages/skimage/util/dtype.py:576: UserWarning: Downcasting int16 to uint8 without scaling because max value -120 fits in uint8\n",
      "  return _convert(image, np.uint8, force_copy)\n"
     ]
    },
    {
     "name": "stdout",
     "output_type": "stream",
     "text": [
      "Currently in scan: LIDC-IDRI-0355\n",
      "Loading dicom files ... This may take a moment.\n",
      "Currently in scan: LIDC-IDRI-0356\n",
      "Loading dicom files ... This may take a moment.\n"
     ]
    },
    {
     "name": "stderr",
     "output_type": "stream",
     "text": [
      "/home/pedro/Documents/UNI/_3_ano/LAB_IACD/project_1/.venv/lib/python3.10/site-packages/skimage/util/dtype.py:576: UserWarning: Downcasting int16 to uint8 without scaling because max value -212 fits in uint8\n",
      "  return _convert(image, np.uint8, force_copy)\n",
      "/home/pedro/Documents/UNI/_3_ano/LAB_IACD/project_1/.venv/lib/python3.10/site-packages/skimage/util/dtype.py:576: UserWarning: Downcasting int16 to uint8 without scaling because max value -474 fits in uint8\n",
      "  return _convert(image, np.uint8, force_copy)\n"
     ]
    },
    {
     "name": "stdout",
     "output_type": "stream",
     "text": [
      "Currently in scan: LIDC-IDRI-0357\n",
      "Loading dicom files ... This may take a moment.\n"
     ]
    },
    {
     "name": "stderr",
     "output_type": "stream",
     "text": [
      "/home/pedro/Documents/UNI/_3_ano/LAB_IACD/project_1/.venv/lib/python3.10/site-packages/skimage/util/dtype.py:576: UserWarning: Downcasting int16 to uint8 without scaling because max value 22 fits in uint8\n",
      "  return _convert(image, np.uint8, force_copy)\n"
     ]
    },
    {
     "name": "stdout",
     "output_type": "stream",
     "text": [
      "Currently in scan: LIDC-IDRI-0358\n",
      "Loading dicom files ... This may take a moment.\n"
     ]
    },
    {
     "name": "stderr",
     "output_type": "stream",
     "text": [
      "/home/pedro/Documents/UNI/_3_ano/LAB_IACD/project_1/.venv/lib/python3.10/site-packages/skimage/util/dtype.py:576: UserWarning: Downcasting int16 to uint8 without scaling because max value 209 fits in uint8\n",
      "  return _convert(image, np.uint8, force_copy)\n"
     ]
    },
    {
     "name": "stdout",
     "output_type": "stream",
     "text": [
      "Currently in scan: LIDC-IDRI-0359\n",
      "Loading dicom files ... This may take a moment.\n",
      "Currently in scan: LIDC-IDRI-0360\n",
      "Loading dicom files ... This may take a moment.\n"
     ]
    },
    {
     "name": "stderr",
     "output_type": "stream",
     "text": [
      "/home/pedro/Documents/UNI/_3_ano/LAB_IACD/project_1/.venv/lib/python3.10/site-packages/skimage/util/dtype.py:576: UserWarning: Downcasting int16 to uint8 without scaling because max value 230 fits in uint8\n",
      "  return _convert(image, np.uint8, force_copy)\n",
      "/home/pedro/Documents/UNI/_3_ano/LAB_IACD/project_1/.venv/lib/python3.10/site-packages/skimage/util/dtype.py:576: UserWarning: Downcasting int16 to uint8 without scaling because max value 183 fits in uint8\n",
      "  return _convert(image, np.uint8, force_copy)\n"
     ]
    },
    {
     "name": "stdout",
     "output_type": "stream",
     "text": [
      "Currently in scan: LIDC-IDRI-0361\n",
      "Loading dicom files ... This may take a moment.\n",
      "Currently in scan: LIDC-IDRI-0362\n",
      "Loading dicom files ... This may take a moment.\n",
      "Currently in scan: LIDC-IDRI-0363\n",
      "Loading dicom files ... This may take a moment.\n",
      "Currently in scan: LIDC-IDRI-0364\n",
      "Loading dicom files ... This may take a moment.\n",
      "Currently in scan: LIDC-IDRI-0365\n",
      "Loading dicom files ... This may take a moment.\n",
      "Currently in scan: LIDC-IDRI-0366\n",
      "Failed to reduce all groups to <= 4 Annotations.\n",
      "Some nodules may be close and must be grouped manually.\n",
      "Loading dicom files ... This may take a moment.\n",
      "Currently in scan: LIDC-IDRI-0367\n",
      "Loading dicom files ... This may take a moment.\n",
      "Currently in scan: LIDC-IDRI-0368\n",
      "Loading dicom files ... This may take a moment.\n"
     ]
    },
    {
     "name": "stderr",
     "output_type": "stream",
     "text": [
      "/home/pedro/Documents/UNI/_3_ano/LAB_IACD/project_1/.venv/lib/python3.10/site-packages/skimage/util/dtype.py:576: UserWarning: Downcasting int16 to uint8 without scaling because max value -27 fits in uint8\n",
      "  return _convert(image, np.uint8, force_copy)\n"
     ]
    },
    {
     "name": "stdout",
     "output_type": "stream",
     "text": [
      "Currently in scan: LIDC-IDRI-0369\n",
      "Loading dicom files ... This may take a moment.\n",
      "Currently in scan: LIDC-IDRI-0370\n",
      "Loading dicom files ... This may take a moment.\n",
      "Currently in scan: LIDC-IDRI-0371\n",
      "Loading dicom files ... This may take a moment.\n",
      "Currently in scan: LIDC-IDRI-0372\n",
      "Loading dicom files ... This may take a moment.\n",
      "Currently in scan: LIDC-IDRI-0373\n",
      "Loading dicom files ... This may take a moment.\n",
      "Currently in scan: LIDC-IDRI-0374\n",
      "Loading dicom files ... This may take a moment.\n"
     ]
    },
    {
     "name": "stderr",
     "output_type": "stream",
     "text": [
      "/home/pedro/Documents/UNI/_3_ano/LAB_IACD/project_1/.venv/lib/python3.10/site-packages/skimage/util/dtype.py:576: UserWarning: Downcasting int16 to uint8 without scaling because max value -103 fits in uint8\n",
      "  return _convert(image, np.uint8, force_copy)\n"
     ]
    },
    {
     "name": "stdout",
     "output_type": "stream",
     "text": [
      "Currently in scan: LIDC-IDRI-0375\n",
      "Loading dicom files ... This may take a moment.\n",
      "Currently in scan: LIDC-IDRI-0376\n",
      "Loading dicom files ... This may take a moment.\n"
     ]
    },
    {
     "name": "stderr",
     "output_type": "stream",
     "text": [
      "/home/pedro/Documents/UNI/_3_ano/LAB_IACD/project_1/.venv/lib/python3.10/site-packages/skimage/util/dtype.py:576: UserWarning: Downcasting int16 to uint8 without scaling because max value 180 fits in uint8\n",
      "  return _convert(image, np.uint8, force_copy)\n"
     ]
    },
    {
     "name": "stdout",
     "output_type": "stream",
     "text": [
      "Currently in scan: LIDC-IDRI-0377\n",
      "Loading dicom files ... This may take a moment.\n",
      "Currently in scan: LIDC-IDRI-0378\n",
      "Loading dicom files ... This may take a moment.\n"
     ]
    },
    {
     "name": "stderr",
     "output_type": "stream",
     "text": [
      "/home/pedro/Documents/UNI/_3_ano/LAB_IACD/project_1/.venv/lib/python3.10/site-packages/skimage/util/dtype.py:576: UserWarning: Downcasting int16 to uint8 without scaling because max value -88 fits in uint8\n",
      "  return _convert(image, np.uint8, force_copy)\n"
     ]
    },
    {
     "name": "stdout",
     "output_type": "stream",
     "text": [
      "Currently in scan: LIDC-IDRI-0379\n",
      "Loading dicom files ... This may take a moment.\n"
     ]
    },
    {
     "name": "stderr",
     "output_type": "stream",
     "text": [
      "/home/pedro/Documents/UNI/_3_ano/LAB_IACD/project_1/.venv/lib/python3.10/site-packages/skimage/util/dtype.py:576: UserWarning: Downcasting int16 to uint8 without scaling because max value 65 fits in uint8\n",
      "  return _convert(image, np.uint8, force_copy)\n",
      "/home/pedro/Documents/UNI/_3_ano/LAB_IACD/project_1/.venv/lib/python3.10/site-packages/skimage/util/dtype.py:576: UserWarning: Downcasting int16 to uint8 without scaling because max value 220 fits in uint8\n",
      "  return _convert(image, np.uint8, force_copy)\n"
     ]
    },
    {
     "name": "stdout",
     "output_type": "stream",
     "text": [
      "Currently in scan: LIDC-IDRI-0380\n",
      "Loading dicom files ... This may take a moment.\n"
     ]
    },
    {
     "name": "stderr",
     "output_type": "stream",
     "text": [
      "/home/pedro/Documents/UNI/_3_ano/LAB_IACD/project_1/.venv/lib/python3.10/site-packages/skimage/util/dtype.py:576: UserWarning: Downcasting int16 to uint8 without scaling because max value -209 fits in uint8\n",
      "  return _convert(image, np.uint8, force_copy)\n",
      "/home/pedro/Documents/UNI/_3_ano/LAB_IACD/project_1/.venv/lib/python3.10/site-packages/skimage/util/dtype.py:576: UserWarning: Downcasting int16 to uint8 without scaling because max value 86 fits in uint8\n",
      "  return _convert(image, np.uint8, force_copy)\n"
     ]
    },
    {
     "name": "stdout",
     "output_type": "stream",
     "text": [
      "Currently in scan: LIDC-IDRI-0381\n",
      "Loading dicom files ... This may take a moment.\n",
      "Currently in scan: LIDC-IDRI-0382\n",
      "Loading dicom files ... This may take a moment.\n",
      "Currently in scan: LIDC-IDRI-0383\n",
      "Loading dicom files ... This may take a moment.\n",
      "Currently in scan: LIDC-IDRI-0384\n",
      "Loading dicom files ... This may take a moment.\n"
     ]
    },
    {
     "name": "stderr",
     "output_type": "stream",
     "text": [
      "/home/pedro/Documents/UNI/_3_ano/LAB_IACD/project_1/.venv/lib/python3.10/site-packages/skimage/util/dtype.py:576: UserWarning: Downcasting int16 to uint8 without scaling because max value 176 fits in uint8\n",
      "  return _convert(image, np.uint8, force_copy)\n"
     ]
    },
    {
     "name": "stdout",
     "output_type": "stream",
     "text": [
      "Currently in scan: LIDC-IDRI-0385\n",
      "Loading dicom files ... This may take a moment.\n",
      "Currently in scan: LIDC-IDRI-0386\n",
      "Loading dicom files ... This may take a moment.\n"
     ]
    },
    {
     "name": "stderr",
     "output_type": "stream",
     "text": [
      "/home/pedro/Documents/UNI/_3_ano/LAB_IACD/project_1/.venv/lib/python3.10/site-packages/skimage/util/dtype.py:576: UserWarning: Downcasting int16 to uint8 without scaling because max value -352 fits in uint8\n",
      "  return _convert(image, np.uint8, force_copy)\n",
      "/home/pedro/Documents/UNI/_3_ano/LAB_IACD/project_1/.venv/lib/python3.10/site-packages/skimage/util/dtype.py:576: UserWarning: Downcasting int16 to uint8 without scaling because max value -240 fits in uint8\n",
      "  return _convert(image, np.uint8, force_copy)\n"
     ]
    },
    {
     "name": "stdout",
     "output_type": "stream",
     "text": [
      "Currently in scan: LIDC-IDRI-0387\n",
      "Loading dicom files ... This may take a moment.\n"
     ]
    },
    {
     "name": "stderr",
     "output_type": "stream",
     "text": [
      "/home/pedro/Documents/UNI/_3_ano/LAB_IACD/project_1/.venv/lib/python3.10/site-packages/skimage/util/dtype.py:576: UserWarning: Downcasting int16 to uint8 without scaling because max value 5 fits in uint8\n",
      "  return _convert(image, np.uint8, force_copy)\n",
      "/home/pedro/Documents/UNI/_3_ano/LAB_IACD/project_1/.venv/lib/python3.10/site-packages/skimage/util/dtype.py:576: UserWarning: Downcasting int16 to uint8 without scaling because max value 65 fits in uint8\n",
      "  return _convert(image, np.uint8, force_copy)\n"
     ]
    },
    {
     "name": "stdout",
     "output_type": "stream",
     "text": [
      "Currently in scan: LIDC-IDRI-0388\n",
      "Loading dicom files ... This may take a moment.\n",
      "Currently in scan: LIDC-IDRI-0389\n",
      "Loading dicom files ... This may take a moment.\n",
      "Currently in scan: LIDC-IDRI-0390\n",
      "Loading dicom files ... This may take a moment.\n",
      "Currently in scan: LIDC-IDRI-0391\n",
      "Loading dicom files ... This may take a moment.\n",
      "Currently in scan: LIDC-IDRI-0392\n",
      "Loading dicom files ... This may take a moment.\n"
     ]
    },
    {
     "name": "stderr",
     "output_type": "stream",
     "text": [
      "/home/pedro/Documents/UNI/_3_ano/LAB_IACD/project_1/.venv/lib/python3.10/site-packages/skimage/util/dtype.py:576: UserWarning: Downcasting int16 to uint8 without scaling because max value -72 fits in uint8\n",
      "  return _convert(image, np.uint8, force_copy)\n"
     ]
    },
    {
     "name": "stdout",
     "output_type": "stream",
     "text": [
      "Currently in scan: LIDC-IDRI-0393\n",
      "Loading dicom files ... This may take a moment.\n"
     ]
    },
    {
     "name": "stderr",
     "output_type": "stream",
     "text": [
      "/home/pedro/Documents/UNI/_3_ano/LAB_IACD/project_1/.venv/lib/python3.10/site-packages/skimage/util/dtype.py:576: UserWarning: Downcasting int16 to uint8 without scaling because max value -26 fits in uint8\n",
      "  return _convert(image, np.uint8, force_copy)\n"
     ]
    },
    {
     "name": "stdout",
     "output_type": "stream",
     "text": [
      "Currently in scan: LIDC-IDRI-0394\n",
      "Loading dicom files ... This may take a moment.\n"
     ]
    },
    {
     "name": "stderr",
     "output_type": "stream",
     "text": [
      "/home/pedro/Documents/UNI/_3_ano/LAB_IACD/project_1/.venv/lib/python3.10/site-packages/skimage/util/dtype.py:576: UserWarning: Downcasting int16 to uint8 without scaling because max value 39 fits in uint8\n",
      "  return _convert(image, np.uint8, force_copy)\n",
      "/home/pedro/Documents/UNI/_3_ano/LAB_IACD/project_1/.venv/lib/python3.10/site-packages/skimage/util/dtype.py:576: UserWarning: Downcasting int16 to uint8 without scaling because max value 12 fits in uint8\n",
      "  return _convert(image, np.uint8, force_copy)\n"
     ]
    },
    {
     "name": "stdout",
     "output_type": "stream",
     "text": [
      "Currently in scan: LIDC-IDRI-0395\n",
      "Loading dicom files ... This may take a moment.\n"
     ]
    },
    {
     "name": "stderr",
     "output_type": "stream",
     "text": [
      "/home/pedro/Documents/UNI/_3_ano/LAB_IACD/project_1/.venv/lib/python3.10/site-packages/skimage/util/dtype.py:576: UserWarning: Downcasting int16 to uint8 without scaling because max value 170 fits in uint8\n",
      "  return _convert(image, np.uint8, force_copy)\n",
      "/home/pedro/Documents/UNI/_3_ano/LAB_IACD/project_1/.venv/lib/python3.10/site-packages/skimage/util/dtype.py:576: UserWarning: Downcasting int16 to uint8 without scaling because max value -195 fits in uint8\n",
      "  return _convert(image, np.uint8, force_copy)\n"
     ]
    },
    {
     "name": "stdout",
     "output_type": "stream",
     "text": [
      "Currently in scan: LIDC-IDRI-0396\n",
      "Loading dicom files ... This may take a moment.\n"
     ]
    },
    {
     "name": "stderr",
     "output_type": "stream",
     "text": [
      "/home/pedro/Documents/UNI/_3_ano/LAB_IACD/project_1/.venv/lib/python3.10/site-packages/skimage/util/dtype.py:576: UserWarning: Downcasting int16 to uint8 without scaling because max value 222 fits in uint8\n",
      "  return _convert(image, np.uint8, force_copy)\n"
     ]
    },
    {
     "name": "stdout",
     "output_type": "stream",
     "text": [
      "Currently in scan: LIDC-IDRI-0397\n",
      "Loading dicom files ... This may take a moment.\n"
     ]
    },
    {
     "name": "stderr",
     "output_type": "stream",
     "text": [
      "/home/pedro/Documents/UNI/_3_ano/LAB_IACD/project_1/.venv/lib/python3.10/site-packages/skimage/util/dtype.py:576: UserWarning: Downcasting int16 to uint8 without scaling because max value -72 fits in uint8\n",
      "  return _convert(image, np.uint8, force_copy)\n",
      "/home/pedro/Documents/UNI/_3_ano/LAB_IACD/project_1/.venv/lib/python3.10/site-packages/skimage/util/dtype.py:576: UserWarning: Downcasting int16 to uint8 without scaling because max value -226 fits in uint8\n",
      "  return _convert(image, np.uint8, force_copy)\n"
     ]
    },
    {
     "name": "stdout",
     "output_type": "stream",
     "text": [
      "Currently in scan: LIDC-IDRI-0398\n",
      "Loading dicom files ... This may take a moment.\n"
     ]
    },
    {
     "name": "stderr",
     "output_type": "stream",
     "text": [
      "/home/pedro/Documents/UNI/_3_ano/LAB_IACD/project_1/.venv/lib/python3.10/site-packages/skimage/util/dtype.py:576: UserWarning: Downcasting int16 to uint8 without scaling because max value 202 fits in uint8\n",
      "  return _convert(image, np.uint8, force_copy)\n",
      "/home/pedro/Documents/UNI/_3_ano/LAB_IACD/project_1/.venv/lib/python3.10/site-packages/skimage/util/dtype.py:576: UserWarning: Downcasting int16 to uint8 without scaling because max value -102 fits in uint8\n",
      "  return _convert(image, np.uint8, force_copy)\n",
      "/home/pedro/Documents/UNI/_3_ano/LAB_IACD/project_1/.venv/lib/python3.10/site-packages/skimage/util/dtype.py:576: UserWarning: Downcasting int16 to uint8 without scaling because max value 181 fits in uint8\n",
      "  return _convert(image, np.uint8, force_copy)\n",
      "/home/pedro/Documents/UNI/_3_ano/LAB_IACD/project_1/.venv/lib/python3.10/site-packages/skimage/util/dtype.py:576: UserWarning: Downcasting int16 to uint8 without scaling because max value 16 fits in uint8\n",
      "  return _convert(image, np.uint8, force_copy)\n",
      "/home/pedro/Documents/UNI/_3_ano/LAB_IACD/project_1/.venv/lib/python3.10/site-packages/skimage/util/dtype.py:576: UserWarning: Downcasting int16 to uint8 without scaling because max value 190 fits in uint8\n",
      "  return _convert(image, np.uint8, force_copy)\n",
      "/home/pedro/Documents/UNI/_3_ano/LAB_IACD/project_1/.venv/lib/python3.10/site-packages/skimage/util/dtype.py:576: UserWarning: Downcasting int16 to uint8 without scaling because max value 154 fits in uint8\n",
      "  return _convert(image, np.uint8, force_copy)\n",
      "/home/pedro/Documents/UNI/_3_ano/LAB_IACD/project_1/.venv/lib/python3.10/site-packages/skimage/util/dtype.py:576: UserWarning: Downcasting int16 to uint8 without scaling because max value 100 fits in uint8\n",
      "  return _convert(image, np.uint8, force_copy)\n"
     ]
    },
    {
     "name": "stdout",
     "output_type": "stream",
     "text": [
      "Currently in scan: LIDC-IDRI-0399\n",
      "Loading dicom files ... This may take a moment.\n"
     ]
    },
    {
     "name": "stderr",
     "output_type": "stream",
     "text": [
      "/home/pedro/Documents/UNI/_3_ano/LAB_IACD/project_1/.venv/lib/python3.10/site-packages/skimage/util/dtype.py:576: UserWarning: Downcasting int16 to uint8 without scaling because max value 113 fits in uint8\n",
      "  return _convert(image, np.uint8, force_copy)\n"
     ]
    },
    {
     "name": "stdout",
     "output_type": "stream",
     "text": [
      "Currently in scan: LIDC-IDRI-0400\n",
      "Loading dicom files ... This may take a moment.\n"
     ]
    },
    {
     "name": "stderr",
     "output_type": "stream",
     "text": [
      "/home/pedro/Documents/UNI/_3_ano/LAB_IACD/project_1/.venv/lib/python3.10/site-packages/skimage/util/dtype.py:576: UserWarning: Downcasting int16 to uint8 without scaling because max value 190 fits in uint8\n",
      "  return _convert(image, np.uint8, force_copy)\n"
     ]
    },
    {
     "name": "stdout",
     "output_type": "stream",
     "text": [
      "Currently in scan: LIDC-IDRI-0401\n",
      "Loading dicom files ... This may take a moment.\n",
      "Currently in scan: LIDC-IDRI-0402\n",
      "Loading dicom files ... This may take a moment.\n"
     ]
    },
    {
     "name": "stderr",
     "output_type": "stream",
     "text": [
      "/home/pedro/Documents/UNI/_3_ano/LAB_IACD/project_1/.venv/lib/python3.10/site-packages/skimage/util/dtype.py:576: UserWarning: Downcasting int16 to uint8 without scaling because max value 92 fits in uint8\n",
      "  return _convert(image, np.uint8, force_copy)\n",
      "/home/pedro/Documents/UNI/_3_ano/LAB_IACD/project_1/.venv/lib/python3.10/site-packages/skimage/util/dtype.py:576: UserWarning: Downcasting int16 to uint8 without scaling because max value 167 fits in uint8\n",
      "  return _convert(image, np.uint8, force_copy)\n",
      "/home/pedro/Documents/UNI/_3_ano/LAB_IACD/project_1/.venv/lib/python3.10/site-packages/skimage/util/dtype.py:576: UserWarning: Downcasting int16 to uint8 without scaling because max value 197 fits in uint8\n",
      "  return _convert(image, np.uint8, force_copy)\n"
     ]
    },
    {
     "name": "stdout",
     "output_type": "stream",
     "text": [
      "Currently in scan: LIDC-IDRI-0403\n",
      "Loading dicom files ... This may take a moment.\n",
      "Currently in scan: LIDC-IDRI-0404\n",
      "Failed to reduce all groups to <= 4 Annotations.\n",
      "Some nodules may be close and must be grouped manually.\n",
      "Loading dicom files ... This may take a moment.\n",
      "Currently in scan: LIDC-IDRI-0405\n",
      "Loading dicom files ... This may take a moment.\n"
     ]
    },
    {
     "name": "stderr",
     "output_type": "stream",
     "text": [
      "/home/pedro/Documents/UNI/_3_ano/LAB_IACD/project_1/.venv/lib/python3.10/site-packages/skimage/util/dtype.py:576: UserWarning: Downcasting int16 to uint8 without scaling because max value 202 fits in uint8\n",
      "  return _convert(image, np.uint8, force_copy)\n"
     ]
    },
    {
     "name": "stdout",
     "output_type": "stream",
     "text": [
      "Currently in scan: LIDC-IDRI-0406\n",
      "Loading dicom files ... This may take a moment.\n"
     ]
    },
    {
     "name": "stderr",
     "output_type": "stream",
     "text": [
      "/home/pedro/Documents/UNI/_3_ano/LAB_IACD/project_1/.venv/lib/python3.10/site-packages/skimage/util/dtype.py:576: UserWarning: Downcasting int16 to uint8 without scaling because max value 102 fits in uint8\n",
      "  return _convert(image, np.uint8, force_copy)\n"
     ]
    },
    {
     "name": "stdout",
     "output_type": "stream",
     "text": [
      "Currently in scan: LIDC-IDRI-0407\n",
      "Loading dicom files ... This may take a moment.\n",
      "Currently in scan: LIDC-IDRI-0408\n",
      "Loading dicom files ... This may take a moment.\n"
     ]
    },
    {
     "name": "stderr",
     "output_type": "stream",
     "text": [
      "/home/pedro/Documents/UNI/_3_ano/LAB_IACD/project_1/.venv/lib/python3.10/site-packages/skimage/util/dtype.py:576: UserWarning: Downcasting int16 to uint8 without scaling because max value 237 fits in uint8\n",
      "  return _convert(image, np.uint8, force_copy)\n"
     ]
    },
    {
     "name": "stdout",
     "output_type": "stream",
     "text": [
      "Currently in scan: LIDC-IDRI-0409\n",
      "Loading dicom files ... This may take a moment.\n",
      "Currently in scan: LIDC-IDRI-0410\n",
      "Loading dicom files ... This may take a moment.\n",
      "Currently in scan: LIDC-IDRI-0411\n",
      "Loading dicom files ... This may take a moment.\n",
      "Currently in scan: LIDC-IDRI-0412\n",
      "Loading dicom files ... This may take a moment.\n",
      "Currently in scan: LIDC-IDRI-0413\n",
      "Loading dicom files ... This may take a moment.\n"
     ]
    },
    {
     "name": "stderr",
     "output_type": "stream",
     "text": [
      "/home/pedro/Documents/UNI/_3_ano/LAB_IACD/project_1/.venv/lib/python3.10/site-packages/skimage/util/dtype.py:576: UserWarning: Downcasting int16 to uint8 without scaling because max value 120 fits in uint8\n",
      "  return _convert(image, np.uint8, force_copy)\n"
     ]
    },
    {
     "name": "stdout",
     "output_type": "stream",
     "text": [
      "Currently in scan: LIDC-IDRI-0414\n",
      "Loading dicom files ... This may take a moment.\n",
      "Currently in scan: LIDC-IDRI-0415\n",
      "Loading dicom files ... This may take a moment.\n",
      "Currently in scan: LIDC-IDRI-0416\n",
      "Loading dicom files ... This may take a moment.\n"
     ]
    },
    {
     "name": "stderr",
     "output_type": "stream",
     "text": [
      "/home/pedro/Documents/UNI/_3_ano/LAB_IACD/project_1/.venv/lib/python3.10/site-packages/skimage/util/dtype.py:576: UserWarning: Downcasting int16 to uint8 without scaling because max value -86 fits in uint8\n",
      "  return _convert(image, np.uint8, force_copy)\n"
     ]
    },
    {
     "name": "stdout",
     "output_type": "stream",
     "text": [
      "Currently in scan: LIDC-IDRI-0417\n",
      "Loading dicom files ... This may take a moment.\n",
      "Currently in scan: LIDC-IDRI-0418\n",
      "Loading dicom files ... This may take a moment.\n",
      "Currently in scan: LIDC-IDRI-0419\n",
      "Loading dicom files ... This may take a moment.\n",
      "Currently in scan: LIDC-IDRI-0420\n",
      "Loading dicom files ... This may take a moment.\n"
     ]
    },
    {
     "name": "stderr",
     "output_type": "stream",
     "text": [
      "/home/pedro/Documents/UNI/_3_ano/LAB_IACD/project_1/.venv/lib/python3.10/site-packages/skimage/util/dtype.py:576: UserWarning: Downcasting int16 to uint8 without scaling because max value 130 fits in uint8\n",
      "  return _convert(image, np.uint8, force_copy)\n",
      "/home/pedro/Documents/UNI/_3_ano/LAB_IACD/project_1/.venv/lib/python3.10/site-packages/skimage/util/dtype.py:576: UserWarning: Downcasting int16 to uint8 without scaling because max value 89 fits in uint8\n",
      "  return _convert(image, np.uint8, force_copy)\n"
     ]
    },
    {
     "name": "stdout",
     "output_type": "stream",
     "text": [
      "Currently in scan: LIDC-IDRI-0421\n",
      "Loading dicom files ... This may take a moment.\n",
      "Currently in scan: LIDC-IDRI-0422\n",
      "Loading dicom files ... This may take a moment.\n",
      "Currently in scan: LIDC-IDRI-0423\n",
      "Loading dicom files ... This may take a moment.\n",
      "Currently in scan: LIDC-IDRI-0424\n",
      "Loading dicom files ... This may take a moment.\n"
     ]
    },
    {
     "name": "stderr",
     "output_type": "stream",
     "text": [
      "/home/pedro/Documents/UNI/_3_ano/LAB_IACD/project_1/.venv/lib/python3.10/site-packages/skimage/util/dtype.py:576: UserWarning: Downcasting int16 to uint8 without scaling because max value 73 fits in uint8\n",
      "  return _convert(image, np.uint8, force_copy)\n"
     ]
    },
    {
     "name": "stdout",
     "output_type": "stream",
     "text": [
      "Currently in scan: LIDC-IDRI-0425\n",
      "Loading dicom files ... This may take a moment.\n",
      "Currently in scan: LIDC-IDRI-0426\n",
      "Loading dicom files ... This may take a moment.\n",
      "Currently in scan: LIDC-IDRI-0427\n",
      "Loading dicom files ... This may take a moment.\n"
     ]
    },
    {
     "name": "stderr",
     "output_type": "stream",
     "text": [
      "/home/pedro/Documents/UNI/_3_ano/LAB_IACD/project_1/.venv/lib/python3.10/site-packages/skimage/util/dtype.py:576: UserWarning: Downcasting int16 to uint8 without scaling because max value 2 fits in uint8\n",
      "  return _convert(image, np.uint8, force_copy)\n"
     ]
    },
    {
     "name": "stdout",
     "output_type": "stream",
     "text": [
      "Currently in scan: LIDC-IDRI-0428\n",
      "Loading dicom files ... This may take a moment.\n",
      "Currently in scan: LIDC-IDRI-0429\n",
      "Loading dicom files ... This may take a moment.\n"
     ]
    },
    {
     "name": "stderr",
     "output_type": "stream",
     "text": [
      "/home/pedro/Documents/UNI/_3_ano/LAB_IACD/project_1/.venv/lib/python3.10/site-packages/skimage/util/dtype.py:576: UserWarning: Downcasting int16 to uint8 without scaling because max value 94 fits in uint8\n",
      "  return _convert(image, np.uint8, force_copy)\n"
     ]
    },
    {
     "name": "stdout",
     "output_type": "stream",
     "text": [
      "Currently in scan: LIDC-IDRI-0430\n",
      "Loading dicom files ... This may take a moment.\n",
      "Currently in scan: LIDC-IDRI-0431\n",
      "Loading dicom files ... This may take a moment.\n",
      "Currently in scan: LIDC-IDRI-0432\n",
      "Loading dicom files ... This may take a moment.\n",
      "Currently in scan: LIDC-IDRI-0433\n",
      "Loading dicom files ... This may take a moment.\n"
     ]
    },
    {
     "name": "stderr",
     "output_type": "stream",
     "text": [
      "/home/pedro/Documents/UNI/_3_ano/LAB_IACD/project_1/.venv/lib/python3.10/site-packages/skimage/util/dtype.py:576: UserWarning: Downcasting int16 to uint8 without scaling because max value 223 fits in uint8\n",
      "  return _convert(image, np.uint8, force_copy)\n",
      "/home/pedro/Documents/UNI/_3_ano/LAB_IACD/project_1/.venv/lib/python3.10/site-packages/skimage/util/dtype.py:576: UserWarning: Downcasting int16 to uint8 without scaling because max value -40 fits in uint8\n",
      "  return _convert(image, np.uint8, force_copy)\n"
     ]
    },
    {
     "name": "stdout",
     "output_type": "stream",
     "text": [
      "Currently in scan: LIDC-IDRI-0434\n",
      "Loading dicom files ... This may take a moment.\n"
     ]
    },
    {
     "name": "stderr",
     "output_type": "stream",
     "text": [
      "/home/pedro/Documents/UNI/_3_ano/LAB_IACD/project_1/.venv/lib/python3.10/site-packages/skimage/util/dtype.py:576: UserWarning: Downcasting int16 to uint8 without scaling because max value 170 fits in uint8\n",
      "  return _convert(image, np.uint8, force_copy)\n",
      "/home/pedro/Documents/UNI/_3_ano/LAB_IACD/project_1/.venv/lib/python3.10/site-packages/skimage/util/dtype.py:576: UserWarning: Downcasting int16 to uint8 without scaling because max value 23 fits in uint8\n",
      "  return _convert(image, np.uint8, force_copy)\n"
     ]
    },
    {
     "name": "stdout",
     "output_type": "stream",
     "text": [
      "Currently in scan: LIDC-IDRI-0435\n",
      "Loading dicom files ... This may take a moment.\n"
     ]
    },
    {
     "name": "stderr",
     "output_type": "stream",
     "text": [
      "/home/pedro/Documents/UNI/_3_ano/LAB_IACD/project_1/.venv/lib/python3.10/site-packages/skimage/util/dtype.py:576: UserWarning: Downcasting int16 to uint8 without scaling because max value 55 fits in uint8\n",
      "  return _convert(image, np.uint8, force_copy)\n",
      "/home/pedro/Documents/UNI/_3_ano/LAB_IACD/project_1/.venv/lib/python3.10/site-packages/skimage/util/dtype.py:576: UserWarning: Downcasting int16 to uint8 without scaling because max value -90 fits in uint8\n",
      "  return _convert(image, np.uint8, force_copy)\n",
      "/home/pedro/Documents/UNI/_3_ano/LAB_IACD/project_1/.venv/lib/python3.10/site-packages/skimage/util/dtype.py:576: UserWarning: Downcasting int16 to uint8 without scaling because max value -11 fits in uint8\n",
      "  return _convert(image, np.uint8, force_copy)\n",
      "/home/pedro/Documents/UNI/_3_ano/LAB_IACD/project_1/.venv/lib/python3.10/site-packages/skimage/util/dtype.py:576: UserWarning: Downcasting int16 to uint8 without scaling because max value 101 fits in uint8\n",
      "  return _convert(image, np.uint8, force_copy)\n"
     ]
    },
    {
     "name": "stdout",
     "output_type": "stream",
     "text": [
      "Currently in scan: LIDC-IDRI-0436\n",
      "Loading dicom files ... This may take a moment.\n",
      "Currently in scan: LIDC-IDRI-0437\n",
      "Loading dicom files ... This may take a moment.\n"
     ]
    },
    {
     "name": "stderr",
     "output_type": "stream",
     "text": [
      "/home/pedro/Documents/UNI/_3_ano/LAB_IACD/project_1/.venv/lib/python3.10/site-packages/skimage/util/dtype.py:576: UserWarning: Downcasting int16 to uint8 without scaling because max value 125 fits in uint8\n",
      "  return _convert(image, np.uint8, force_copy)\n"
     ]
    },
    {
     "name": "stdout",
     "output_type": "stream",
     "text": [
      "Currently in scan: LIDC-IDRI-0438\n",
      "Loading dicom files ... This may take a moment.\n"
     ]
    },
    {
     "name": "stderr",
     "output_type": "stream",
     "text": [
      "/home/pedro/Documents/UNI/_3_ano/LAB_IACD/project_1/.venv/lib/python3.10/site-packages/skimage/util/dtype.py:576: UserWarning: Downcasting int16 to uint8 without scaling because max value 242 fits in uint8\n",
      "  return _convert(image, np.uint8, force_copy)\n"
     ]
    },
    {
     "name": "stdout",
     "output_type": "stream",
     "text": [
      "Currently in scan: LIDC-IDRI-0439\n",
      "Loading dicom files ... This may take a moment.\n",
      "Currently in scan: LIDC-IDRI-0440\n",
      "Loading dicom files ... This may take a moment.\n"
     ]
    },
    {
     "name": "stderr",
     "output_type": "stream",
     "text": [
      "/home/pedro/Documents/UNI/_3_ano/LAB_IACD/project_1/.venv/lib/python3.10/site-packages/skimage/util/dtype.py:576: UserWarning: Downcasting int16 to uint8 without scaling because max value 127 fits in uint8\n",
      "  return _convert(image, np.uint8, force_copy)\n"
     ]
    },
    {
     "name": "stdout",
     "output_type": "stream",
     "text": [
      "Currently in scan: LIDC-IDRI-0441\n",
      "Loading dicom files ... This may take a moment.\n",
      "Currently in scan: LIDC-IDRI-0442\n",
      "Loading dicom files ... This may take a moment.\n",
      "Currently in scan: LIDC-IDRI-0443\n",
      "Loading dicom files ... This may take a moment.\n",
      "Currently in scan: LIDC-IDRI-0444\n",
      "Loading dicom files ... This may take a moment.\n",
      "Currently in scan: LIDC-IDRI-0445\n",
      "Loading dicom files ... This may take a moment.\n"
     ]
    },
    {
     "name": "stderr",
     "output_type": "stream",
     "text": [
      "/home/pedro/Documents/UNI/_3_ano/LAB_IACD/project_1/.venv/lib/python3.10/site-packages/skimage/util/dtype.py:576: UserWarning: Downcasting int16 to uint8 without scaling because max value 197 fits in uint8\n",
      "  return _convert(image, np.uint8, force_copy)\n"
     ]
    },
    {
     "name": "stdout",
     "output_type": "stream",
     "text": [
      "Currently in scan: LIDC-IDRI-0446\n",
      "Loading dicom files ... This may take a moment.\n",
      "Currently in scan: LIDC-IDRI-0447\n",
      "Loading dicom files ... This may take a moment.\n",
      "Currently in scan: LIDC-IDRI-0448\n",
      "Loading dicom files ... This may take a moment.\n",
      "Currently in scan: LIDC-IDRI-0449\n",
      "Loading dicom files ... This may take a moment.\n",
      "Currently in scan: LIDC-IDRI-0450\n",
      "Loading dicom files ... This may take a moment.\n"
     ]
    },
    {
     "name": "stderr",
     "output_type": "stream",
     "text": [
      "/home/pedro/Documents/UNI/_3_ano/LAB_IACD/project_1/.venv/lib/python3.10/site-packages/skimage/util/dtype.py:576: UserWarning: Downcasting int16 to uint8 without scaling because max value 77 fits in uint8\n",
      "  return _convert(image, np.uint8, force_copy)\n",
      "/home/pedro/Documents/UNI/_3_ano/LAB_IACD/project_1/.venv/lib/python3.10/site-packages/skimage/util/dtype.py:576: UserWarning: Downcasting int16 to uint8 without scaling because max value 176 fits in uint8\n",
      "  return _convert(image, np.uint8, force_copy)\n",
      "/home/pedro/Documents/UNI/_3_ano/LAB_IACD/project_1/.venv/lib/python3.10/site-packages/skimage/util/dtype.py:576: UserWarning: Downcasting int16 to uint8 without scaling because max value 176 fits in uint8\n",
      "  return _convert(image, np.uint8, force_copy)\n"
     ]
    },
    {
     "name": "stdout",
     "output_type": "stream",
     "text": [
      "Currently in scan: LIDC-IDRI-0451\n",
      "Loading dicom files ... This may take a moment.\n",
      "Currently in scan: LIDC-IDRI-0452\n",
      "Loading dicom files ... This may take a moment.\n"
     ]
    },
    {
     "name": "stderr",
     "output_type": "stream",
     "text": [
      "/home/pedro/Documents/UNI/_3_ano/LAB_IACD/project_1/.venv/lib/python3.10/site-packages/skimage/util/dtype.py:576: UserWarning: Downcasting int16 to uint8 without scaling because max value 110 fits in uint8\n",
      "  return _convert(image, np.uint8, force_copy)\n"
     ]
    },
    {
     "name": "stdout",
     "output_type": "stream",
     "text": [
      "Currently in scan: LIDC-IDRI-0453\n",
      "Loading dicom files ... This may take a moment.\n",
      "Currently in scan: LIDC-IDRI-0454\n",
      "Loading dicom files ... This may take a moment.\n",
      "Currently in scan: LIDC-IDRI-0455\n",
      "Loading dicom files ... This may take a moment.\n",
      "Currently in scan: LIDC-IDRI-0456\n",
      "Loading dicom files ... This may take a moment.\n",
      "Currently in scan: LIDC-IDRI-0457\n",
      "Loading dicom files ... This may take a moment.\n"
     ]
    },
    {
     "name": "stderr",
     "output_type": "stream",
     "text": [
      "/home/pedro/Documents/UNI/_3_ano/LAB_IACD/project_1/.venv/lib/python3.10/site-packages/skimage/util/dtype.py:576: UserWarning: Downcasting int16 to uint8 without scaling because max value 74 fits in uint8\n",
      "  return _convert(image, np.uint8, force_copy)\n"
     ]
    },
    {
     "name": "stdout",
     "output_type": "stream",
     "text": [
      "Currently in scan: LIDC-IDRI-0458\n",
      "Loading dicom files ... This may take a moment.\n",
      "Currently in scan: LIDC-IDRI-0459\n",
      "Loading dicom files ... This may take a moment.\n"
     ]
    },
    {
     "name": "stderr",
     "output_type": "stream",
     "text": [
      "/home/pedro/Documents/UNI/_3_ano/LAB_IACD/project_1/.venv/lib/python3.10/site-packages/skimage/util/dtype.py:576: UserWarning: Downcasting int16 to uint8 without scaling because max value 81 fits in uint8\n",
      "  return _convert(image, np.uint8, force_copy)\n"
     ]
    },
    {
     "name": "stdout",
     "output_type": "stream",
     "text": [
      "Currently in scan: LIDC-IDRI-0460\n",
      "Loading dicom files ... This may take a moment.\n"
     ]
    },
    {
     "name": "stderr",
     "output_type": "stream",
     "text": [
      "/home/pedro/Documents/UNI/_3_ano/LAB_IACD/project_1/.venv/lib/python3.10/site-packages/skimage/util/dtype.py:576: UserWarning: Downcasting int16 to uint8 without scaling because max value 149 fits in uint8\n",
      "  return _convert(image, np.uint8, force_copy)\n",
      "/home/pedro/Documents/UNI/_3_ano/LAB_IACD/project_1/.venv/lib/python3.10/site-packages/skimage/util/dtype.py:576: UserWarning: Downcasting int16 to uint8 without scaling because max value 250 fits in uint8\n",
      "  return _convert(image, np.uint8, force_copy)\n"
     ]
    },
    {
     "name": "stdout",
     "output_type": "stream",
     "text": [
      "Currently in scan: LIDC-IDRI-0461\n",
      "Loading dicom files ... This may take a moment.\n"
     ]
    },
    {
     "name": "stderr",
     "output_type": "stream",
     "text": [
      "/home/pedro/Documents/UNI/_3_ano/LAB_IACD/project_1/.venv/lib/python3.10/site-packages/skimage/util/dtype.py:576: UserWarning: Downcasting int16 to uint8 without scaling because max value 120 fits in uint8\n",
      "  return _convert(image, np.uint8, force_copy)\n"
     ]
    },
    {
     "name": "stdout",
     "output_type": "stream",
     "text": [
      "Currently in scan: LIDC-IDRI-0462\n",
      "Loading dicom files ... This may take a moment.\n",
      "Currently in scan: LIDC-IDRI-0463\n",
      "Loading dicom files ... This may take a moment.\n",
      "Currently in scan: LIDC-IDRI-0464\n",
      "Loading dicom files ... This may take a moment.\n"
     ]
    },
    {
     "name": "stderr",
     "output_type": "stream",
     "text": [
      "/home/pedro/Documents/UNI/_3_ano/LAB_IACD/project_1/.venv/lib/python3.10/site-packages/skimage/util/dtype.py:576: UserWarning: Downcasting int16 to uint8 without scaling because max value 19 fits in uint8\n",
      "  return _convert(image, np.uint8, force_copy)\n"
     ]
    },
    {
     "name": "stdout",
     "output_type": "stream",
     "text": [
      "Currently in scan: LIDC-IDRI-0465\n",
      "Loading dicom files ... This may take a moment.\n",
      "Currently in scan: LIDC-IDRI-0466\n",
      "Loading dicom files ... This may take a moment.\n"
     ]
    },
    {
     "name": "stderr",
     "output_type": "stream",
     "text": [
      "/home/pedro/Documents/UNI/_3_ano/LAB_IACD/project_1/.venv/lib/python3.10/site-packages/skimage/util/dtype.py:576: UserWarning: Downcasting int16 to uint8 without scaling because max value 220 fits in uint8\n",
      "  return _convert(image, np.uint8, force_copy)\n"
     ]
    },
    {
     "name": "stdout",
     "output_type": "stream",
     "text": [
      "Currently in scan: LIDC-IDRI-0467\n",
      "Loading dicom files ... This may take a moment.\n",
      "Currently in scan: LIDC-IDRI-0468\n",
      "Loading dicom files ... This may take a moment.\n",
      "Currently in scan: LIDC-IDRI-0469\n",
      "Loading dicom files ... This may take a moment.\n"
     ]
    },
    {
     "name": "stderr",
     "output_type": "stream",
     "text": [
      "/home/pedro/Documents/UNI/_3_ano/LAB_IACD/project_1/.venv/lib/python3.10/site-packages/skimage/util/dtype.py:576: UserWarning: Downcasting int16 to uint8 without scaling because max value 155 fits in uint8\n",
      "  return _convert(image, np.uint8, force_copy)\n"
     ]
    },
    {
     "name": "stdout",
     "output_type": "stream",
     "text": [
      "Currently in scan: LIDC-IDRI-0470\n",
      "Loading dicom files ... This may take a moment.\n",
      "Currently in scan: LIDC-IDRI-0471\n",
      "Loading dicom files ... This may take a moment.\n",
      "Currently in scan: LIDC-IDRI-0472\n",
      "Loading dicom files ... This may take a moment.\n",
      "Currently in scan: LIDC-IDRI-0473\n",
      "Loading dicom files ... This may take a moment.\n"
     ]
    },
    {
     "name": "stderr",
     "output_type": "stream",
     "text": [
      "/home/pedro/Documents/UNI/_3_ano/LAB_IACD/project_1/.venv/lib/python3.10/site-packages/skimage/util/dtype.py:576: UserWarning: Downcasting int16 to uint8 without scaling because max value 81 fits in uint8\n",
      "  return _convert(image, np.uint8, force_copy)\n"
     ]
    },
    {
     "name": "stdout",
     "output_type": "stream",
     "text": [
      "Currently in scan: LIDC-IDRI-0474\n",
      "Loading dicom files ... This may take a moment.\n"
     ]
    },
    {
     "name": "stderr",
     "output_type": "stream",
     "text": [
      "/home/pedro/Documents/UNI/_3_ano/LAB_IACD/project_1/.venv/lib/python3.10/site-packages/skimage/util/dtype.py:576: UserWarning: Downcasting int16 to uint8 without scaling because max value -30 fits in uint8\n",
      "  return _convert(image, np.uint8, force_copy)\n",
      "/home/pedro/Documents/UNI/_3_ano/LAB_IACD/project_1/.venv/lib/python3.10/site-packages/skimage/util/dtype.py:576: UserWarning: Downcasting int16 to uint8 without scaling because max value -162 fits in uint8\n",
      "  return _convert(image, np.uint8, force_copy)\n",
      "/home/pedro/Documents/UNI/_3_ano/LAB_IACD/project_1/.venv/lib/python3.10/site-packages/skimage/util/dtype.py:576: UserWarning: Downcasting int16 to uint8 without scaling because max value -37 fits in uint8\n",
      "  return _convert(image, np.uint8, force_copy)\n"
     ]
    },
    {
     "name": "stdout",
     "output_type": "stream",
     "text": [
      "Currently in scan: LIDC-IDRI-0475\n",
      "Loading dicom files ... This may take a moment.\n",
      "Currently in scan: LIDC-IDRI-0476\n",
      "Loading dicom files ... This may take a moment.\n",
      "Currently in scan: LIDC-IDRI-0477\n",
      "Loading dicom files ... This may take a moment.\n"
     ]
    },
    {
     "name": "stderr",
     "output_type": "stream",
     "text": [
      "/home/pedro/Documents/UNI/_3_ano/LAB_IACD/project_1/.venv/lib/python3.10/site-packages/skimage/util/dtype.py:576: UserWarning: Downcasting int16 to uint8 without scaling because max value 15 fits in uint8\n",
      "  return _convert(image, np.uint8, force_copy)\n",
      "/home/pedro/Documents/UNI/_3_ano/LAB_IACD/project_1/.venv/lib/python3.10/site-packages/skimage/util/dtype.py:576: UserWarning: Downcasting int16 to uint8 without scaling because max value 188 fits in uint8\n",
      "  return _convert(image, np.uint8, force_copy)\n"
     ]
    },
    {
     "name": "stdout",
     "output_type": "stream",
     "text": [
      "Currently in scan: LIDC-IDRI-0478\n",
      "Loading dicom files ... This may take a moment.\n",
      "Currently in scan: LIDC-IDRI-0479\n",
      "Loading dicom files ... This may take a moment.\n"
     ]
    },
    {
     "name": "stderr",
     "output_type": "stream",
     "text": [
      "/home/pedro/Documents/UNI/_3_ano/LAB_IACD/project_1/.venv/lib/python3.10/site-packages/skimage/util/dtype.py:576: UserWarning: Downcasting int16 to uint8 without scaling because max value 226 fits in uint8\n",
      "  return _convert(image, np.uint8, force_copy)\n"
     ]
    },
    {
     "name": "stdout",
     "output_type": "stream",
     "text": [
      "Currently in scan: LIDC-IDRI-0480\n",
      "Loading dicom files ... This may take a moment.\n"
     ]
    },
    {
     "name": "stderr",
     "output_type": "stream",
     "text": [
      "/home/pedro/Documents/UNI/_3_ano/LAB_IACD/project_1/.venv/lib/python3.10/site-packages/skimage/util/dtype.py:576: UserWarning: Downcasting int16 to uint8 without scaling because max value -317 fits in uint8\n",
      "  return _convert(image, np.uint8, force_copy)\n"
     ]
    },
    {
     "name": "stdout",
     "output_type": "stream",
     "text": [
      "Currently in scan: LIDC-IDRI-0481\n",
      "Loading dicom files ... This may take a moment.\n",
      "Currently in scan: LIDC-IDRI-0482\n",
      "Loading dicom files ... This may take a moment.\n",
      "Currently in scan: LIDC-IDRI-0483\n",
      "Loading dicom files ... This may take a moment.\n",
      "Currently in scan: LIDC-IDRI-0484\n",
      "Loading dicom files ... This may take a moment.\n"
     ]
    },
    {
     "name": "stderr",
     "output_type": "stream",
     "text": [
      "/home/pedro/Documents/UNI/_3_ano/LAB_IACD/project_1/.venv/lib/python3.10/site-packages/skimage/util/dtype.py:576: UserWarning: Downcasting int16 to uint8 without scaling because max value 104 fits in uint8\n",
      "  return _convert(image, np.uint8, force_copy)\n"
     ]
    },
    {
     "name": "stdout",
     "output_type": "stream",
     "text": [
      "Currently in scan: LIDC-IDRI-0485\n",
      "Loading dicom files ... This may take a moment.\n",
      "Currently in scan: LIDC-IDRI-0486\n",
      "Loading dicom files ... This may take a moment.\n"
     ]
    },
    {
     "name": "stderr",
     "output_type": "stream",
     "text": [
      "/home/pedro/Documents/UNI/_3_ano/LAB_IACD/project_1/.venv/lib/python3.10/site-packages/skimage/util/dtype.py:576: UserWarning: Downcasting int16 to uint8 without scaling because max value 238 fits in uint8\n",
      "  return _convert(image, np.uint8, force_copy)\n"
     ]
    },
    {
     "name": "stdout",
     "output_type": "stream",
     "text": [
      "Currently in scan: LIDC-IDRI-0487\n",
      "Loading dicom files ... This may take a moment.\n"
     ]
    },
    {
     "name": "stderr",
     "output_type": "stream",
     "text": [
      "/home/pedro/Documents/UNI/_3_ano/LAB_IACD/project_1/.venv/lib/python3.10/site-packages/skimage/util/dtype.py:576: UserWarning: Downcasting int16 to uint8 without scaling because max value 167 fits in uint8\n",
      "  return _convert(image, np.uint8, force_copy)\n",
      "/home/pedro/Documents/UNI/_3_ano/LAB_IACD/project_1/.venv/lib/python3.10/site-packages/skimage/util/dtype.py:576: UserWarning: Downcasting int16 to uint8 without scaling because max value 132 fits in uint8\n",
      "  return _convert(image, np.uint8, force_copy)\n"
     ]
    },
    {
     "name": "stdout",
     "output_type": "stream",
     "text": [
      "Currently in scan: LIDC-IDRI-0488\n",
      "Loading dicom files ... This may take a moment.\n",
      "Currently in scan: LIDC-IDRI-0489\n",
      "Loading dicom files ... This may take a moment.\n"
     ]
    },
    {
     "name": "stderr",
     "output_type": "stream",
     "text": [
      "/home/pedro/Documents/UNI/_3_ano/LAB_IACD/project_1/.venv/lib/python3.10/site-packages/skimage/util/dtype.py:576: UserWarning: Downcasting int16 to uint8 without scaling because max value 158 fits in uint8\n",
      "  return _convert(image, np.uint8, force_copy)\n",
      "/home/pedro/Documents/UNI/_3_ano/LAB_IACD/project_1/.venv/lib/python3.10/site-packages/skimage/util/dtype.py:576: UserWarning: Downcasting int16 to uint8 without scaling because max value 230 fits in uint8\n",
      "  return _convert(image, np.uint8, force_copy)\n"
     ]
    },
    {
     "name": "stdout",
     "output_type": "stream",
     "text": [
      "Currently in scan: LIDC-IDRI-0490\n",
      "Loading dicom files ... This may take a moment.\n"
     ]
    },
    {
     "name": "stderr",
     "output_type": "stream",
     "text": [
      "/home/pedro/Documents/UNI/_3_ano/LAB_IACD/project_1/.venv/lib/python3.10/site-packages/skimage/util/dtype.py:576: UserWarning: Downcasting int16 to uint8 without scaling because max value 65 fits in uint8\n",
      "  return _convert(image, np.uint8, force_copy)\n"
     ]
    },
    {
     "name": "stdout",
     "output_type": "stream",
     "text": [
      "Currently in scan: LIDC-IDRI-0491\n",
      "Loading dicom files ... This may take a moment.\n",
      "Currently in scan: LIDC-IDRI-0492\n",
      "Loading dicom files ... This may take a moment.\n",
      "Currently in scan: LIDC-IDRI-0493\n",
      "Loading dicom files ... This may take a moment.\n",
      "Currently in scan: LIDC-IDRI-0494\n",
      "Loading dicom files ... This may take a moment.\n",
      "Currently in scan: LIDC-IDRI-0495\n",
      "Loading dicom files ... This may take a moment.\n",
      "Currently in scan: LIDC-IDRI-0496\n",
      "Loading dicom files ... This may take a moment.\n"
     ]
    },
    {
     "name": "stderr",
     "output_type": "stream",
     "text": [
      "/home/pedro/Documents/UNI/_3_ano/LAB_IACD/project_1/.venv/lib/python3.10/site-packages/skimage/util/dtype.py:576: UserWarning: Downcasting int16 to uint8 without scaling because max value 190 fits in uint8\n",
      "  return _convert(image, np.uint8, force_copy)\n",
      "/home/pedro/Documents/UNI/_3_ano/LAB_IACD/project_1/.venv/lib/python3.10/site-packages/skimage/util/dtype.py:576: UserWarning: Downcasting int16 to uint8 without scaling because max value 95 fits in uint8\n",
      "  return _convert(image, np.uint8, force_copy)\n"
     ]
    },
    {
     "name": "stdout",
     "output_type": "stream",
     "text": [
      "Currently in scan: LIDC-IDRI-0497\n",
      "Loading dicom files ... This may take a moment.\n",
      "Currently in scan: LIDC-IDRI-0498\n",
      "Loading dicom files ... This may take a moment.\n",
      "Currently in scan: LIDC-IDRI-0499\n",
      "Loading dicom files ... This may take a moment.\n"
     ]
    },
    {
     "name": "stderr",
     "output_type": "stream",
     "text": [
      "/home/pedro/Documents/UNI/_3_ano/LAB_IACD/project_1/.venv/lib/python3.10/site-packages/skimage/util/dtype.py:576: UserWarning: Downcasting int16 to uint8 without scaling because max value 241 fits in uint8\n",
      "  return _convert(image, np.uint8, force_copy)\n"
     ]
    },
    {
     "name": "stdout",
     "output_type": "stream",
     "text": [
      "Currently in scan: LIDC-IDRI-0500\n",
      "Loading dicom files ... This may take a moment.\n"
     ]
    },
    {
     "name": "stderr",
     "output_type": "stream",
     "text": [
      "/home/pedro/Documents/UNI/_3_ano/LAB_IACD/project_1/.venv/lib/python3.10/site-packages/skimage/util/dtype.py:576: UserWarning: Downcasting int16 to uint8 without scaling because max value 74 fits in uint8\n",
      "  return _convert(image, np.uint8, force_copy)\n"
     ]
    },
    {
     "name": "stdout",
     "output_type": "stream",
     "text": [
      "Currently in scan: LIDC-IDRI-0501\n",
      "Loading dicom files ... This may take a moment.\n"
     ]
    },
    {
     "name": "stderr",
     "output_type": "stream",
     "text": [
      "/home/pedro/Documents/UNI/_3_ano/LAB_IACD/project_1/.venv/lib/python3.10/site-packages/skimage/util/dtype.py:576: UserWarning: Downcasting int16 to uint8 without scaling because max value 98 fits in uint8\n",
      "  return _convert(image, np.uint8, force_copy)\n"
     ]
    },
    {
     "name": "stdout",
     "output_type": "stream",
     "text": [
      "Currently in scan: LIDC-IDRI-0502\n",
      "Loading dicom files ... This may take a moment.\n",
      "Currently in scan: LIDC-IDRI-0503\n",
      "Loading dicom files ... This may take a moment.\n",
      "Currently in scan: LIDC-IDRI-0504\n",
      "Loading dicom files ... This may take a moment.\n",
      "Currently in scan: LIDC-IDRI-0505\n",
      "Loading dicom files ... This may take a moment.\n"
     ]
    },
    {
     "name": "stderr",
     "output_type": "stream",
     "text": [
      "/home/pedro/Documents/UNI/_3_ano/LAB_IACD/project_1/.venv/lib/python3.10/site-packages/skimage/util/dtype.py:576: UserWarning: Downcasting int16 to uint8 without scaling because max value 17 fits in uint8\n",
      "  return _convert(image, np.uint8, force_copy)\n"
     ]
    },
    {
     "name": "stdout",
     "output_type": "stream",
     "text": [
      "Currently in scan: LIDC-IDRI-0506\n",
      "Loading dicom files ... This may take a moment.\n",
      "Currently in scan: LIDC-IDRI-0507\n",
      "Loading dicom files ... This may take a moment.\n"
     ]
    },
    {
     "name": "stderr",
     "output_type": "stream",
     "text": [
      "/home/pedro/Documents/UNI/_3_ano/LAB_IACD/project_1/.venv/lib/python3.10/site-packages/skimage/util/dtype.py:576: UserWarning: Downcasting int16 to uint8 without scaling because max value 103 fits in uint8\n",
      "  return _convert(image, np.uint8, force_copy)\n",
      "/home/pedro/Documents/UNI/_3_ano/LAB_IACD/project_1/.venv/lib/python3.10/site-packages/skimage/util/dtype.py:576: UserWarning: Downcasting int16 to uint8 without scaling because max value 150 fits in uint8\n",
      "  return _convert(image, np.uint8, force_copy)\n",
      "/home/pedro/Documents/UNI/_3_ano/LAB_IACD/project_1/.venv/lib/python3.10/site-packages/skimage/util/dtype.py:576: UserWarning: Downcasting int16 to uint8 without scaling because max value 157 fits in uint8\n",
      "  return _convert(image, np.uint8, force_copy)\n"
     ]
    },
    {
     "name": "stdout",
     "output_type": "stream",
     "text": [
      "Currently in scan: LIDC-IDRI-0508\n",
      "Loading dicom files ... This may take a moment.\n",
      "Currently in scan: LIDC-IDRI-0509\n",
      "Loading dicom files ... This may take a moment.\n"
     ]
    },
    {
     "name": "stderr",
     "output_type": "stream",
     "text": [
      "/home/pedro/Documents/UNI/_3_ano/LAB_IACD/project_1/.venv/lib/python3.10/site-packages/skimage/util/dtype.py:576: UserWarning: Downcasting int16 to uint8 without scaling because max value 145 fits in uint8\n",
      "  return _convert(image, np.uint8, force_copy)\n",
      "/home/pedro/Documents/UNI/_3_ano/LAB_IACD/project_1/.venv/lib/python3.10/site-packages/skimage/util/dtype.py:576: UserWarning: Downcasting int16 to uint8 without scaling because max value -74 fits in uint8\n",
      "  return _convert(image, np.uint8, force_copy)\n"
     ]
    },
    {
     "name": "stdout",
     "output_type": "stream",
     "text": [
      "Currently in scan: LIDC-IDRI-0510\n",
      "Loading dicom files ... This may take a moment.\n",
      "Currently in scan: LIDC-IDRI-0511\n",
      "Loading dicom files ... This may take a moment.\n",
      "Currently in scan: LIDC-IDRI-0512\n",
      "Loading dicom files ... This may take a moment.\n",
      "Currently in scan: LIDC-IDRI-0513\n",
      "Loading dicom files ... This may take a moment.\n",
      "Currently in scan: LIDC-IDRI-0514\n",
      "Loading dicom files ... This may take a moment.\n",
      "Currently in scan: LIDC-IDRI-0515\n",
      "Loading dicom files ... This may take a moment.\n",
      "Currently in scan: LIDC-IDRI-0516\n",
      "Loading dicom files ... This may take a moment.\n"
     ]
    },
    {
     "name": "stderr",
     "output_type": "stream",
     "text": [
      "/home/pedro/Documents/UNI/_3_ano/LAB_IACD/project_1/.venv/lib/python3.10/site-packages/skimage/util/dtype.py:576: UserWarning: Downcasting int16 to uint8 without scaling because max value -378 fits in uint8\n",
      "  return _convert(image, np.uint8, force_copy)\n"
     ]
    },
    {
     "name": "stdout",
     "output_type": "stream",
     "text": [
      "Currently in scan: LIDC-IDRI-0517\n",
      "Loading dicom files ... This may take a moment.\n"
     ]
    },
    {
     "name": "stderr",
     "output_type": "stream",
     "text": [
      "/home/pedro/Documents/UNI/_3_ano/LAB_IACD/project_1/.venv/lib/python3.10/site-packages/skimage/util/dtype.py:576: UserWarning: Downcasting int16 to uint8 without scaling because max value -266 fits in uint8\n",
      "  return _convert(image, np.uint8, force_copy)\n",
      "/home/pedro/Documents/UNI/_3_ano/LAB_IACD/project_1/.venv/lib/python3.10/site-packages/skimage/util/dtype.py:576: UserWarning: Downcasting int16 to uint8 without scaling because max value -2 fits in uint8\n",
      "  return _convert(image, np.uint8, force_copy)\n"
     ]
    },
    {
     "name": "stdout",
     "output_type": "stream",
     "text": [
      "Currently in scan: LIDC-IDRI-0518\n",
      "Loading dicom files ... This may take a moment.\n",
      "Currently in scan: LIDC-IDRI-0519\n",
      "Loading dicom files ... This may take a moment.\n",
      "Currently in scan: LIDC-IDRI-0520\n",
      "Loading dicom files ... This may take a moment.\n",
      "Currently in scan: LIDC-IDRI-0521\n",
      "Loading dicom files ... This may take a moment.\n",
      "Currently in scan: LIDC-IDRI-0522\n",
      "Loading dicom files ... This may take a moment.\n",
      "Currently in scan: LIDC-IDRI-0523\n",
      "Loading dicom files ... This may take a moment.\n",
      "Currently in scan: LIDC-IDRI-0524\n",
      "Loading dicom files ... This may take a moment.\n"
     ]
    },
    {
     "name": "stderr",
     "output_type": "stream",
     "text": [
      "/home/pedro/Documents/UNI/_3_ano/LAB_IACD/project_1/.venv/lib/python3.10/site-packages/skimage/util/dtype.py:576: UserWarning: Downcasting int16 to uint8 without scaling because max value 84 fits in uint8\n",
      "  return _convert(image, np.uint8, force_copy)\n",
      "/home/pedro/Documents/UNI/_3_ano/LAB_IACD/project_1/.venv/lib/python3.10/site-packages/skimage/util/dtype.py:576: UserWarning: Downcasting int16 to uint8 without scaling because max value 141 fits in uint8\n",
      "  return _convert(image, np.uint8, force_copy)\n"
     ]
    },
    {
     "name": "stdout",
     "output_type": "stream",
     "text": [
      "Currently in scan: LIDC-IDRI-0525\n",
      "Loading dicom files ... This may take a moment.\n"
     ]
    },
    {
     "name": "stderr",
     "output_type": "stream",
     "text": [
      "/home/pedro/Documents/UNI/_3_ano/LAB_IACD/project_1/.venv/lib/python3.10/site-packages/skimage/util/dtype.py:576: UserWarning: Downcasting int16 to uint8 without scaling because max value 170 fits in uint8\n",
      "  return _convert(image, np.uint8, force_copy)\n"
     ]
    },
    {
     "name": "stdout",
     "output_type": "stream",
     "text": [
      "Currently in scan: LIDC-IDRI-0526\n",
      "Loading dicom files ... This may take a moment.\n"
     ]
    },
    {
     "name": "stderr",
     "output_type": "stream",
     "text": [
      "/home/pedro/Documents/UNI/_3_ano/LAB_IACD/project_1/.venv/lib/python3.10/site-packages/skimage/util/dtype.py:576: UserWarning: Downcasting int16 to uint8 without scaling because max value 232 fits in uint8\n",
      "  return _convert(image, np.uint8, force_copy)\n",
      "/home/pedro/Documents/UNI/_3_ano/LAB_IACD/project_1/.venv/lib/python3.10/site-packages/skimage/util/dtype.py:576: UserWarning: Downcasting int16 to uint8 without scaling because max value 185 fits in uint8\n",
      "  return _convert(image, np.uint8, force_copy)\n",
      "/home/pedro/Documents/UNI/_3_ano/LAB_IACD/project_1/.venv/lib/python3.10/site-packages/skimage/util/dtype.py:576: UserWarning: Downcasting int16 to uint8 without scaling because max value 197 fits in uint8\n",
      "  return _convert(image, np.uint8, force_copy)\n",
      "/home/pedro/Documents/UNI/_3_ano/LAB_IACD/project_1/.venv/lib/python3.10/site-packages/skimage/util/dtype.py:576: UserWarning: Downcasting int16 to uint8 without scaling because max value 95 fits in uint8\n",
      "  return _convert(image, np.uint8, force_copy)\n",
      "/home/pedro/Documents/UNI/_3_ano/LAB_IACD/project_1/.venv/lib/python3.10/site-packages/skimage/util/dtype.py:576: UserWarning: Downcasting int16 to uint8 without scaling because max value 187 fits in uint8\n",
      "  return _convert(image, np.uint8, force_copy)\n"
     ]
    },
    {
     "name": "stdout",
     "output_type": "stream",
     "text": [
      "Currently in scan: LIDC-IDRI-0527\n",
      "Loading dicom files ... This may take a moment.\n"
     ]
    },
    {
     "name": "stderr",
     "output_type": "stream",
     "text": [
      "/home/pedro/Documents/UNI/_3_ano/LAB_IACD/project_1/.venv/lib/python3.10/site-packages/skimage/util/dtype.py:576: UserWarning: Downcasting int16 to uint8 without scaling because max value 131 fits in uint8\n",
      "  return _convert(image, np.uint8, force_copy)\n"
     ]
    },
    {
     "name": "stdout",
     "output_type": "stream",
     "text": [
      "Currently in scan: LIDC-IDRI-0528\n",
      "Loading dicom files ... This may take a moment.\n",
      "Currently in scan: LIDC-IDRI-0529\n",
      "Loading dicom files ... This may take a moment.\n",
      "Currently in scan: LIDC-IDRI-0530\n",
      "Loading dicom files ... This may take a moment.\n"
     ]
    },
    {
     "name": "stderr",
     "output_type": "stream",
     "text": [
      "/home/pedro/Documents/UNI/_3_ano/LAB_IACD/project_1/.venv/lib/python3.10/site-packages/skimage/util/dtype.py:576: UserWarning: Downcasting int16 to uint8 without scaling because max value 135 fits in uint8\n",
      "  return _convert(image, np.uint8, force_copy)\n",
      "/home/pedro/Documents/UNI/_3_ano/LAB_IACD/project_1/.venv/lib/python3.10/site-packages/skimage/util/dtype.py:576: UserWarning: Downcasting int16 to uint8 without scaling because max value -113 fits in uint8\n",
      "  return _convert(image, np.uint8, force_copy)\n"
     ]
    },
    {
     "name": "stdout",
     "output_type": "stream",
     "text": [
      "Currently in scan: LIDC-IDRI-0531\n",
      "Loading dicom files ... This may take a moment.\n",
      "Currently in scan: LIDC-IDRI-0532\n",
      "Loading dicom files ... This may take a moment.\n",
      "Currently in scan: LIDC-IDRI-0533\n",
      "Loading dicom files ... This may take a moment.\n"
     ]
    },
    {
     "name": "stderr",
     "output_type": "stream",
     "text": [
      "/home/pedro/Documents/UNI/_3_ano/LAB_IACD/project_1/.venv/lib/python3.10/site-packages/skimage/util/dtype.py:576: UserWarning: Downcasting int16 to uint8 without scaling because max value 42 fits in uint8\n",
      "  return _convert(image, np.uint8, force_copy)\n"
     ]
    },
    {
     "name": "stdout",
     "output_type": "stream",
     "text": [
      "Currently in scan: LIDC-IDRI-0534\n",
      "Loading dicom files ... This may take a moment.\n",
      "Currently in scan: LIDC-IDRI-0535\n",
      "Loading dicom files ... This may take a moment.\n"
     ]
    },
    {
     "name": "stderr",
     "output_type": "stream",
     "text": [
      "/home/pedro/Documents/UNI/_3_ano/LAB_IACD/project_1/.venv/lib/python3.10/site-packages/skimage/util/dtype.py:576: UserWarning: Downcasting int16 to uint8 without scaling because max value -170 fits in uint8\n",
      "  return _convert(image, np.uint8, force_copy)\n"
     ]
    },
    {
     "name": "stdout",
     "output_type": "stream",
     "text": [
      "Currently in scan: LIDC-IDRI-0536\n",
      "Loading dicom files ... This may take a moment.\n",
      "Currently in scan: LIDC-IDRI-0537\n",
      "Loading dicom files ... This may take a moment.\n",
      "Currently in scan: LIDC-IDRI-0538\n",
      "Loading dicom files ... This may take a moment.\n",
      "Currently in scan: LIDC-IDRI-0539\n",
      "Loading dicom files ... This may take a moment.\n",
      "Currently in scan: LIDC-IDRI-0540\n",
      "Loading dicom files ... This may take a moment.\n",
      "Currently in scan: LIDC-IDRI-0541\n",
      "Loading dicom files ... This may take a moment.\n",
      "Currently in scan: LIDC-IDRI-0542\n",
      "Loading dicom files ... This may take a moment.\n"
     ]
    },
    {
     "name": "stderr",
     "output_type": "stream",
     "text": [
      "/home/pedro/Documents/UNI/_3_ano/LAB_IACD/project_1/.venv/lib/python3.10/site-packages/skimage/util/dtype.py:576: UserWarning: Downcasting int16 to uint8 without scaling because max value 235 fits in uint8\n",
      "  return _convert(image, np.uint8, force_copy)\n"
     ]
    },
    {
     "name": "stdout",
     "output_type": "stream",
     "text": [
      "Currently in scan: LIDC-IDRI-0543\n",
      "Loading dicom files ... This may take a moment.\n",
      "Currently in scan: LIDC-IDRI-0544\n",
      "Loading dicom files ... This may take a moment.\n",
      "Currently in scan: LIDC-IDRI-0545\n",
      "Loading dicom files ... This may take a moment.\n",
      "Currently in scan: LIDC-IDRI-0546\n",
      "Loading dicom files ... This may take a moment.\n",
      "Currently in scan: LIDC-IDRI-0547\n",
      "Loading dicom files ... This may take a moment.\n",
      "Currently in scan: LIDC-IDRI-0548\n",
      "Loading dicom files ... This may take a moment.\n",
      "Currently in scan: LIDC-IDRI-0549\n",
      "Loading dicom files ... This may take a moment.\n",
      "Currently in scan: LIDC-IDRI-0550\n",
      "Loading dicom files ... This may take a moment.\n",
      "Currently in scan: LIDC-IDRI-0551\n",
      "Loading dicom files ... This may take a moment.\n",
      "Currently in scan: LIDC-IDRI-0552\n",
      "Loading dicom files ... This may take a moment.\n"
     ]
    },
    {
     "name": "stderr",
     "output_type": "stream",
     "text": [
      "/home/pedro/Documents/UNI/_3_ano/LAB_IACD/project_1/.venv/lib/python3.10/site-packages/skimage/util/dtype.py:576: UserWarning: Downcasting int16 to uint8 without scaling because max value 114 fits in uint8\n",
      "  return _convert(image, np.uint8, force_copy)\n"
     ]
    },
    {
     "name": "stdout",
     "output_type": "stream",
     "text": [
      "Currently in scan: LIDC-IDRI-0553\n",
      "Loading dicom files ... This may take a moment.\n",
      "Currently in scan: LIDC-IDRI-0554\n",
      "Loading dicom files ... This may take a moment.\n"
     ]
    },
    {
     "name": "stderr",
     "output_type": "stream",
     "text": [
      "/home/pedro/Documents/UNI/_3_ano/LAB_IACD/project_1/.venv/lib/python3.10/site-packages/skimage/util/dtype.py:576: UserWarning: Downcasting int16 to uint8 without scaling because max value 170 fits in uint8\n",
      "  return _convert(image, np.uint8, force_copy)\n"
     ]
    },
    {
     "name": "stdout",
     "output_type": "stream",
     "text": [
      "Currently in scan: LIDC-IDRI-0555\n",
      "Loading dicom files ... This may take a moment.\n",
      "Currently in scan: LIDC-IDRI-0556\n",
      "Loading dicom files ... This may take a moment.\n"
     ]
    },
    {
     "name": "stderr",
     "output_type": "stream",
     "text": [
      "/home/pedro/Documents/UNI/_3_ano/LAB_IACD/project_1/.venv/lib/python3.10/site-packages/skimage/util/dtype.py:576: UserWarning: Downcasting int16 to uint8 without scaling because max value -101 fits in uint8\n",
      "  return _convert(image, np.uint8, force_copy)\n"
     ]
    },
    {
     "name": "stdout",
     "output_type": "stream",
     "text": [
      "Currently in scan: LIDC-IDRI-0557\n",
      "Loading dicom files ... This may take a moment.\n"
     ]
    },
    {
     "name": "stderr",
     "output_type": "stream",
     "text": [
      "/home/pedro/Documents/UNI/_3_ano/LAB_IACD/project_1/.venv/lib/python3.10/site-packages/skimage/util/dtype.py:576: UserWarning: Downcasting int16 to uint8 without scaling because max value -76 fits in uint8\n",
      "  return _convert(image, np.uint8, force_copy)\n",
      "/home/pedro/Documents/UNI/_3_ano/LAB_IACD/project_1/.venv/lib/python3.10/site-packages/skimage/util/dtype.py:576: UserWarning: Downcasting int16 to uint8 without scaling because max value 129 fits in uint8\n",
      "  return _convert(image, np.uint8, force_copy)\n"
     ]
    },
    {
     "name": "stdout",
     "output_type": "stream",
     "text": [
      "Currently in scan: LIDC-IDRI-0558\n",
      "Loading dicom files ... This may take a moment.\n"
     ]
    },
    {
     "name": "stderr",
     "output_type": "stream",
     "text": [
      "/home/pedro/Documents/UNI/_3_ano/LAB_IACD/project_1/.venv/lib/python3.10/site-packages/skimage/util/dtype.py:576: UserWarning: Downcasting int16 to uint8 without scaling because max value 198 fits in uint8\n",
      "  return _convert(image, np.uint8, force_copy)\n"
     ]
    },
    {
     "name": "stdout",
     "output_type": "stream",
     "text": [
      "Currently in scan: LIDC-IDRI-0559\n",
      "Loading dicom files ... This may take a moment.\n",
      "Currently in scan: LIDC-IDRI-0560\n",
      "Loading dicom files ... This may take a moment.\n",
      "Currently in scan: LIDC-IDRI-0561\n",
      "Loading dicom files ... This may take a moment.\n",
      "Currently in scan: LIDC-IDRI-0562\n",
      "Loading dicom files ... This may take a moment.\n",
      "Currently in scan: LIDC-IDRI-0563\n",
      "Loading dicom files ... This may take a moment.\n"
     ]
    },
    {
     "name": "stderr",
     "output_type": "stream",
     "text": [
      "/home/pedro/Documents/UNI/_3_ano/LAB_IACD/project_1/.venv/lib/python3.10/site-packages/skimage/util/dtype.py:576: UserWarning: Downcasting int16 to uint8 without scaling because max value 66 fits in uint8\n",
      "  return _convert(image, np.uint8, force_copy)\n",
      "/home/pedro/Documents/UNI/_3_ano/LAB_IACD/project_1/.venv/lib/python3.10/site-packages/skimage/util/dtype.py:576: UserWarning: Downcasting int16 to uint8 without scaling because max value 67 fits in uint8\n",
      "  return _convert(image, np.uint8, force_copy)\n"
     ]
    },
    {
     "name": "stdout",
     "output_type": "stream",
     "text": [
      "Currently in scan: LIDC-IDRI-0564\n",
      "Loading dicom files ... This may take a moment.\n",
      "Currently in scan: LIDC-IDRI-0565\n",
      "Loading dicom files ... This may take a moment.\n"
     ]
    },
    {
     "name": "stderr",
     "output_type": "stream",
     "text": [
      "/home/pedro/Documents/UNI/_3_ano/LAB_IACD/project_1/.venv/lib/python3.10/site-packages/skimage/util/dtype.py:576: UserWarning: Downcasting int16 to uint8 without scaling because max value 19 fits in uint8\n",
      "  return _convert(image, np.uint8, force_copy)\n",
      "/home/pedro/Documents/UNI/_3_ano/LAB_IACD/project_1/.venv/lib/python3.10/site-packages/skimage/util/dtype.py:576: UserWarning: Downcasting int16 to uint8 without scaling because max value 137 fits in uint8\n",
      "  return _convert(image, np.uint8, force_copy)\n"
     ]
    },
    {
     "name": "stdout",
     "output_type": "stream",
     "text": [
      "Currently in scan: LIDC-IDRI-0566\n",
      "Loading dicom files ... This may take a moment.\n",
      "Currently in scan: LIDC-IDRI-0567\n",
      "Loading dicom files ... This may take a moment.\n",
      "Currently in scan: LIDC-IDRI-0568\n",
      "Loading dicom files ... This may take a moment.\n"
     ]
    },
    {
     "name": "stderr",
     "output_type": "stream",
     "text": [
      "/home/pedro/Documents/UNI/_3_ano/LAB_IACD/project_1/.venv/lib/python3.10/site-packages/skimage/util/dtype.py:576: UserWarning: Downcasting int16 to uint8 without scaling because max value 78 fits in uint8\n",
      "  return _convert(image, np.uint8, force_copy)\n"
     ]
    },
    {
     "name": "stdout",
     "output_type": "stream",
     "text": [
      "Currently in scan: LIDC-IDRI-0569\n",
      "Loading dicom files ... This may take a moment.\n",
      "Currently in scan: LIDC-IDRI-0570\n",
      "Loading dicom files ... This may take a moment.\n",
      "Currently in scan: LIDC-IDRI-0571\n",
      "Loading dicom files ... This may take a moment.\n"
     ]
    },
    {
     "name": "stderr",
     "output_type": "stream",
     "text": [
      "/home/pedro/Documents/UNI/_3_ano/LAB_IACD/project_1/.venv/lib/python3.10/site-packages/skimage/util/dtype.py:576: UserWarning: Downcasting int16 to uint8 without scaling because max value 212 fits in uint8\n",
      "  return _convert(image, np.uint8, force_copy)\n",
      "/home/pedro/Documents/UNI/_3_ano/LAB_IACD/project_1/.venv/lib/python3.10/site-packages/skimage/util/dtype.py:576: UserWarning: Downcasting int16 to uint8 without scaling because max value 232 fits in uint8\n",
      "  return _convert(image, np.uint8, force_copy)\n",
      "/home/pedro/Documents/UNI/_3_ano/LAB_IACD/project_1/.venv/lib/python3.10/site-packages/skimage/util/dtype.py:576: UserWarning: Downcasting int16 to uint8 without scaling because max value -519 fits in uint8\n",
      "  return _convert(image, np.uint8, force_copy)\n"
     ]
    },
    {
     "name": "stdout",
     "output_type": "stream",
     "text": [
      "Currently in scan: LIDC-IDRI-0572\n",
      "Loading dicom files ... This may take a moment.\n",
      "Currently in scan: LIDC-IDRI-0573\n",
      "Loading dicom files ... This may take a moment.\n",
      "Currently in scan: LIDC-IDRI-0574\n",
      "Loading dicom files ... This may take a moment.\n",
      "Currently in scan: LIDC-IDRI-0575\n",
      "Loading dicom files ... This may take a moment.\n",
      "Currently in scan: LIDC-IDRI-0576\n",
      "Loading dicom files ... This may take a moment.\n"
     ]
    },
    {
     "name": "stderr",
     "output_type": "stream",
     "text": [
      "/home/pedro/Documents/UNI/_3_ano/LAB_IACD/project_1/.venv/lib/python3.10/site-packages/skimage/util/dtype.py:576: UserWarning: Downcasting int16 to uint8 without scaling because max value 176 fits in uint8\n",
      "  return _convert(image, np.uint8, force_copy)\n"
     ]
    },
    {
     "name": "stdout",
     "output_type": "stream",
     "text": [
      "Currently in scan: LIDC-IDRI-0577\n",
      "Loading dicom files ... This may take a moment.\n"
     ]
    },
    {
     "name": "stderr",
     "output_type": "stream",
     "text": [
      "/home/pedro/Documents/UNI/_3_ano/LAB_IACD/project_1/.venv/lib/python3.10/site-packages/skimage/util/dtype.py:576: UserWarning: Downcasting int16 to uint8 without scaling because max value -17 fits in uint8\n",
      "  return _convert(image, np.uint8, force_copy)\n",
      "/home/pedro/Documents/UNI/_3_ano/LAB_IACD/project_1/.venv/lib/python3.10/site-packages/skimage/util/dtype.py:576: UserWarning: Downcasting int16 to uint8 without scaling because max value 188 fits in uint8\n",
      "  return _convert(image, np.uint8, force_copy)\n",
      "/home/pedro/Documents/UNI/_3_ano/LAB_IACD/project_1/.venv/lib/python3.10/site-packages/skimage/util/dtype.py:576: UserWarning: Downcasting int16 to uint8 without scaling because max value 82 fits in uint8\n",
      "  return _convert(image, np.uint8, force_copy)\n"
     ]
    },
    {
     "name": "stdout",
     "output_type": "stream",
     "text": [
      "Currently in scan: LIDC-IDRI-0578\n",
      "Loading dicom files ... This may take a moment.\n"
     ]
    },
    {
     "name": "stderr",
     "output_type": "stream",
     "text": [
      "/home/pedro/Documents/UNI/_3_ano/LAB_IACD/project_1/.venv/lib/python3.10/site-packages/skimage/util/dtype.py:576: UserWarning: Downcasting int16 to uint8 without scaling because max value 113 fits in uint8\n",
      "  return _convert(image, np.uint8, force_copy)\n"
     ]
    },
    {
     "name": "stdout",
     "output_type": "stream",
     "text": [
      "Currently in scan: LIDC-IDRI-0579\n",
      "Loading dicom files ... This may take a moment.\n",
      "Currently in scan: LIDC-IDRI-0580\n",
      "Loading dicom files ... This may take a moment.\n"
     ]
    },
    {
     "name": "stderr",
     "output_type": "stream",
     "text": [
      "/home/pedro/Documents/UNI/_3_ano/LAB_IACD/project_1/.venv/lib/python3.10/site-packages/skimage/util/dtype.py:576: UserWarning: Downcasting int16 to uint8 without scaling because max value 41 fits in uint8\n",
      "  return _convert(image, np.uint8, force_copy)\n"
     ]
    },
    {
     "name": "stdout",
     "output_type": "stream",
     "text": [
      "Currently in scan: LIDC-IDRI-0581\n",
      "Loading dicom files ... This may take a moment.\n",
      "Currently in scan: LIDC-IDRI-0582\n",
      "Loading dicom files ... This may take a moment.\n"
     ]
    },
    {
     "name": "stderr",
     "output_type": "stream",
     "text": [
      "/home/pedro/Documents/UNI/_3_ano/LAB_IACD/project_1/.venv/lib/python3.10/site-packages/skimage/util/dtype.py:576: UserWarning: Downcasting int16 to uint8 without scaling because max value 162 fits in uint8\n",
      "  return _convert(image, np.uint8, force_copy)\n",
      "/home/pedro/Documents/UNI/_3_ano/LAB_IACD/project_1/.venv/lib/python3.10/site-packages/skimage/util/dtype.py:576: UserWarning: Downcasting int16 to uint8 without scaling because max value 202 fits in uint8\n",
      "  return _convert(image, np.uint8, force_copy)\n",
      "/home/pedro/Documents/UNI/_3_ano/LAB_IACD/project_1/.venv/lib/python3.10/site-packages/skimage/util/dtype.py:576: UserWarning: Downcasting int16 to uint8 without scaling because max value 148 fits in uint8\n",
      "  return _convert(image, np.uint8, force_copy)\n"
     ]
    },
    {
     "name": "stdout",
     "output_type": "stream",
     "text": [
      "Currently in scan: LIDC-IDRI-0583\n",
      "Loading dicom files ... This may take a moment.\n"
     ]
    },
    {
     "name": "stderr",
     "output_type": "stream",
     "text": [
      "/home/pedro/Documents/UNI/_3_ano/LAB_IACD/project_1/.venv/lib/python3.10/site-packages/skimage/util/dtype.py:576: UserWarning: Downcasting int16 to uint8 without scaling because max value 149 fits in uint8\n",
      "  return _convert(image, np.uint8, force_copy)\n",
      "/home/pedro/Documents/UNI/_3_ano/LAB_IACD/project_1/.venv/lib/python3.10/site-packages/skimage/util/dtype.py:576: UserWarning: Downcasting int16 to uint8 without scaling because max value -236 fits in uint8\n",
      "  return _convert(image, np.uint8, force_copy)\n",
      "/home/pedro/Documents/UNI/_3_ano/LAB_IACD/project_1/.venv/lib/python3.10/site-packages/skimage/util/dtype.py:576: UserWarning: Downcasting int16 to uint8 without scaling because max value -87 fits in uint8\n",
      "  return _convert(image, np.uint8, force_copy)\n",
      "/home/pedro/Documents/UNI/_3_ano/LAB_IACD/project_1/.venv/lib/python3.10/site-packages/skimage/util/dtype.py:576: UserWarning: Downcasting int16 to uint8 without scaling because max value -166 fits in uint8\n",
      "  return _convert(image, np.uint8, force_copy)\n",
      "/home/pedro/Documents/UNI/_3_ano/LAB_IACD/project_1/.venv/lib/python3.10/site-packages/skimage/util/dtype.py:576: UserWarning: Downcasting int16 to uint8 without scaling because max value 32 fits in uint8\n",
      "  return _convert(image, np.uint8, force_copy)\n",
      "/home/pedro/Documents/UNI/_3_ano/LAB_IACD/project_1/.venv/lib/python3.10/site-packages/skimage/util/dtype.py:576: UserWarning: Downcasting int16 to uint8 without scaling because max value 91 fits in uint8\n",
      "  return _convert(image, np.uint8, force_copy)\n"
     ]
    },
    {
     "name": "stdout",
     "output_type": "stream",
     "text": [
      "Currently in scan: LIDC-IDRI-0584\n",
      "Loading dicom files ... This may take a moment.\n",
      "Currently in scan: LIDC-IDRI-0586\n",
      "Loading dicom files ... This may take a moment.\n"
     ]
    },
    {
     "name": "stderr",
     "output_type": "stream",
     "text": [
      "/home/pedro/Documents/UNI/_3_ano/LAB_IACD/project_1/.venv/lib/python3.10/site-packages/skimage/util/dtype.py:576: UserWarning: Downcasting int16 to uint8 without scaling because max value -81 fits in uint8\n",
      "  return _convert(image, np.uint8, force_copy)\n",
      "/home/pedro/Documents/UNI/_3_ano/LAB_IACD/project_1/.venv/lib/python3.10/site-packages/skimage/util/dtype.py:576: UserWarning: Downcasting int16 to uint8 without scaling because max value -134 fits in uint8\n",
      "  return _convert(image, np.uint8, force_copy)\n"
     ]
    },
    {
     "name": "stdout",
     "output_type": "stream",
     "text": [
      "Currently in scan: LIDC-IDRI-0587\n",
      "Loading dicom files ... This may take a moment.\n"
     ]
    },
    {
     "name": "stderr",
     "output_type": "stream",
     "text": [
      "/home/pedro/Documents/UNI/_3_ano/LAB_IACD/project_1/.venv/lib/python3.10/site-packages/skimage/util/dtype.py:576: UserWarning: Downcasting int16 to uint8 without scaling because max value 24 fits in uint8\n",
      "  return _convert(image, np.uint8, force_copy)\n",
      "/home/pedro/Documents/UNI/_3_ano/LAB_IACD/project_1/.venv/lib/python3.10/site-packages/skimage/util/dtype.py:576: UserWarning: Downcasting int16 to uint8 without scaling because max value 133 fits in uint8\n",
      "  return _convert(image, np.uint8, force_copy)\n"
     ]
    },
    {
     "name": "stdout",
     "output_type": "stream",
     "text": [
      "Currently in scan: LIDC-IDRI-0588\n",
      "Loading dicom files ... This may take a moment.\n",
      "Currently in scan: LIDC-IDRI-0589\n",
      "Loading dicom files ... This may take a moment.\n",
      "Currently in scan: LIDC-IDRI-0590\n",
      "Loading dicom files ... This may take a moment.\n",
      "Currently in scan: LIDC-IDRI-0591\n",
      "Loading dicom files ... This may take a moment.\n",
      "Currently in scan: LIDC-IDRI-0592\n",
      "Loading dicom files ... This may take a moment.\n",
      "Currently in scan: LIDC-IDRI-0593\n",
      "Loading dicom files ... This may take a moment.\n"
     ]
    },
    {
     "name": "stderr",
     "output_type": "stream",
     "text": [
      "/home/pedro/Documents/UNI/_3_ano/LAB_IACD/project_1/.venv/lib/python3.10/site-packages/skimage/util/dtype.py:576: UserWarning: Downcasting int16 to uint8 without scaling because max value 63 fits in uint8\n",
      "  return _convert(image, np.uint8, force_copy)\n"
     ]
    },
    {
     "name": "stdout",
     "output_type": "stream",
     "text": [
      "Currently in scan: LIDC-IDRI-0594\n",
      "Loading dicom files ... This may take a moment.\n"
     ]
    },
    {
     "name": "stderr",
     "output_type": "stream",
     "text": [
      "/home/pedro/Documents/UNI/_3_ano/LAB_IACD/project_1/.venv/lib/python3.10/site-packages/skimage/util/dtype.py:576: UserWarning: Downcasting int16 to uint8 without scaling because max value -21 fits in uint8\n",
      "  return _convert(image, np.uint8, force_copy)\n"
     ]
    },
    {
     "name": "stdout",
     "output_type": "stream",
     "text": [
      "Currently in scan: LIDC-IDRI-0595\n",
      "Loading dicom files ... This may take a moment.\n",
      "Currently in scan: LIDC-IDRI-0596\n",
      "Loading dicom files ... This may take a moment.\n",
      "Currently in scan: LIDC-IDRI-0597\n",
      "Loading dicom files ... This may take a moment.\n"
     ]
    },
    {
     "name": "stderr",
     "output_type": "stream",
     "text": [
      "/home/pedro/Documents/UNI/_3_ano/LAB_IACD/project_1/.venv/lib/python3.10/site-packages/skimage/util/dtype.py:576: UserWarning: Downcasting int16 to uint8 without scaling because max value 116 fits in uint8\n",
      "  return _convert(image, np.uint8, force_copy)\n"
     ]
    },
    {
     "name": "stdout",
     "output_type": "stream",
     "text": [
      "Currently in scan: LIDC-IDRI-0598\n",
      "Loading dicom files ... This may take a moment.\n",
      "Currently in scan: LIDC-IDRI-0599\n",
      "Loading dicom files ... This may take a moment.\n",
      "Currently in scan: LIDC-IDRI-0600\n",
      "Loading dicom files ... This may take a moment.\n",
      "Currently in scan: LIDC-IDRI-0601\n",
      "Loading dicom files ... This may take a moment.\n",
      "Currently in scan: LIDC-IDRI-0602\n",
      "Loading dicom files ... This may take a moment.\n"
     ]
    },
    {
     "name": "stderr",
     "output_type": "stream",
     "text": [
      "/home/pedro/Documents/UNI/_3_ano/LAB_IACD/project_1/.venv/lib/python3.10/site-packages/skimage/util/dtype.py:576: UserWarning: Downcasting int16 to uint8 without scaling because max value 238 fits in uint8\n",
      "  return _convert(image, np.uint8, force_copy)\n"
     ]
    },
    {
     "name": "stdout",
     "output_type": "stream",
     "text": [
      "Currently in scan: LIDC-IDRI-0603\n",
      "Loading dicom files ... This may take a moment.\n",
      "Currently in scan: LIDC-IDRI-0604\n",
      "Loading dicom files ... This may take a moment.\n"
     ]
    },
    {
     "name": "stderr",
     "output_type": "stream",
     "text": [
      "/home/pedro/Documents/UNI/_3_ano/LAB_IACD/project_1/.venv/lib/python3.10/site-packages/skimage/util/dtype.py:576: UserWarning: Downcasting int16 to uint8 without scaling because max value 2 fits in uint8\n",
      "  return _convert(image, np.uint8, force_copy)\n",
      "/home/pedro/Documents/UNI/_3_ano/LAB_IACD/project_1/.venv/lib/python3.10/site-packages/skimage/util/dtype.py:576: UserWarning: Downcasting int16 to uint8 without scaling because max value -191 fits in uint8\n",
      "  return _convert(image, np.uint8, force_copy)\n",
      "/home/pedro/Documents/UNI/_3_ano/LAB_IACD/project_1/.venv/lib/python3.10/site-packages/skimage/util/dtype.py:576: UserWarning: Downcasting int16 to uint8 without scaling because max value -186 fits in uint8\n",
      "  return _convert(image, np.uint8, force_copy)\n",
      "/home/pedro/Documents/UNI/_3_ano/LAB_IACD/project_1/.venv/lib/python3.10/site-packages/skimage/util/dtype.py:576: UserWarning: Downcasting int16 to uint8 without scaling because max value 69 fits in uint8\n",
      "  return _convert(image, np.uint8, force_copy)\n"
     ]
    },
    {
     "name": "stdout",
     "output_type": "stream",
     "text": [
      "Currently in scan: LIDC-IDRI-0605\n",
      "Loading dicom files ... This may take a moment.\n"
     ]
    },
    {
     "name": "stderr",
     "output_type": "stream",
     "text": [
      "/home/pedro/Documents/UNI/_3_ano/LAB_IACD/project_1/.venv/lib/python3.10/site-packages/skimage/util/dtype.py:576: UserWarning: Downcasting int16 to uint8 without scaling because max value 56 fits in uint8\n",
      "  return _convert(image, np.uint8, force_copy)\n",
      "/home/pedro/Documents/UNI/_3_ano/LAB_IACD/project_1/.venv/lib/python3.10/site-packages/skimage/util/dtype.py:576: UserWarning: Downcasting int16 to uint8 without scaling because max value -162 fits in uint8\n",
      "  return _convert(image, np.uint8, force_copy)\n",
      "/home/pedro/Documents/UNI/_3_ano/LAB_IACD/project_1/.venv/lib/python3.10/site-packages/skimage/util/dtype.py:576: UserWarning: Downcasting int16 to uint8 without scaling because max value 40 fits in uint8\n",
      "  return _convert(image, np.uint8, force_copy)\n",
      "/home/pedro/Documents/UNI/_3_ano/LAB_IACD/project_1/.venv/lib/python3.10/site-packages/skimage/util/dtype.py:576: UserWarning: Downcasting int16 to uint8 without scaling because max value -114 fits in uint8\n",
      "  return _convert(image, np.uint8, force_copy)\n"
     ]
    },
    {
     "name": "stdout",
     "output_type": "stream",
     "text": [
      "Currently in scan: LIDC-IDRI-0606\n",
      "Loading dicom files ... This may take a moment.\n",
      "Currently in scan: LIDC-IDRI-0607\n",
      "Loading dicom files ... This may take a moment.\n",
      "Currently in scan: LIDC-IDRI-0608\n",
      "Failed to reduce all groups to <= 4 Annotations.\n",
      "Some nodules may be close and must be grouped manually.\n",
      "Loading dicom files ... This may take a moment.\n",
      "Currently in scan: LIDC-IDRI-0609\n",
      "Loading dicom files ... This may take a moment.\n"
     ]
    },
    {
     "name": "stderr",
     "output_type": "stream",
     "text": [
      "/home/pedro/Documents/UNI/_3_ano/LAB_IACD/project_1/.venv/lib/python3.10/site-packages/skimage/util/dtype.py:576: UserWarning: Downcasting int16 to uint8 without scaling because max value 97 fits in uint8\n",
      "  return _convert(image, np.uint8, force_copy)\n"
     ]
    },
    {
     "name": "stdout",
     "output_type": "stream",
     "text": [
      "Currently in scan: LIDC-IDRI-0610\n",
      "Loading dicom files ... This may take a moment.\n",
      "Currently in scan: LIDC-IDRI-0611\n",
      "Loading dicom files ... This may take a moment.\n",
      "Currently in scan: LIDC-IDRI-0612\n",
      "Loading dicom files ... This may take a moment.\n",
      "Currently in scan: LIDC-IDRI-0613\n",
      "Loading dicom files ... This may take a moment.\n",
      "Currently in scan: LIDC-IDRI-0614\n",
      "Loading dicom files ... This may take a moment.\n"
     ]
    },
    {
     "name": "stderr",
     "output_type": "stream",
     "text": [
      "/home/pedro/Documents/UNI/_3_ano/LAB_IACD/project_1/.venv/lib/python3.10/site-packages/skimage/util/dtype.py:576: UserWarning: Downcasting int16 to uint8 without scaling because max value 96 fits in uint8\n",
      "  return _convert(image, np.uint8, force_copy)\n"
     ]
    },
    {
     "name": "stdout",
     "output_type": "stream",
     "text": [
      "Currently in scan: LIDC-IDRI-0615\n",
      "Loading dicom files ... This may take a moment.\n"
     ]
    },
    {
     "name": "stderr",
     "output_type": "stream",
     "text": [
      "/home/pedro/Documents/UNI/_3_ano/LAB_IACD/project_1/.venv/lib/python3.10/site-packages/skimage/util/dtype.py:576: UserWarning: Downcasting int16 to uint8 without scaling because max value 102 fits in uint8\n",
      "  return _convert(image, np.uint8, force_copy)\n"
     ]
    },
    {
     "name": "stdout",
     "output_type": "stream",
     "text": [
      "Currently in scan: LIDC-IDRI-0616\n",
      "Loading dicom files ... This may take a moment.\n",
      "Currently in scan: LIDC-IDRI-0617\n",
      "Loading dicom files ... This may take a moment.\n"
     ]
    },
    {
     "name": "stderr",
     "output_type": "stream",
     "text": [
      "/home/pedro/Documents/UNI/_3_ano/LAB_IACD/project_1/.venv/lib/python3.10/site-packages/skimage/util/dtype.py:576: UserWarning: Downcasting int16 to uint8 without scaling because max value 3 fits in uint8\n",
      "  return _convert(image, np.uint8, force_copy)\n"
     ]
    },
    {
     "name": "stdout",
     "output_type": "stream",
     "text": [
      "Currently in scan: LIDC-IDRI-0618\n",
      "Loading dicom files ... This may take a moment.\n"
     ]
    },
    {
     "name": "stderr",
     "output_type": "stream",
     "text": [
      "/home/pedro/Documents/UNI/_3_ano/LAB_IACD/project_1/.venv/lib/python3.10/site-packages/skimage/util/dtype.py:576: UserWarning: Downcasting int16 to uint8 without scaling because max value 167 fits in uint8\n",
      "  return _convert(image, np.uint8, force_copy)\n"
     ]
    },
    {
     "name": "stdout",
     "output_type": "stream",
     "text": [
      "Currently in scan: LIDC-IDRI-0619\n",
      "Loading dicom files ... This may take a moment.\n",
      "Currently in scan: LIDC-IDRI-0620\n",
      "Loading dicom files ... This may take a moment.\n"
     ]
    },
    {
     "name": "stderr",
     "output_type": "stream",
     "text": [
      "/home/pedro/Documents/UNI/_3_ano/LAB_IACD/project_1/.venv/lib/python3.10/site-packages/skimage/util/dtype.py:576: UserWarning: Downcasting int16 to uint8 without scaling because max value 125 fits in uint8\n",
      "  return _convert(image, np.uint8, force_copy)\n",
      "/home/pedro/Documents/UNI/_3_ano/LAB_IACD/project_1/.venv/lib/python3.10/site-packages/skimage/util/dtype.py:576: UserWarning: Downcasting int16 to uint8 without scaling because max value 99 fits in uint8\n",
      "  return _convert(image, np.uint8, force_copy)\n"
     ]
    },
    {
     "name": "stdout",
     "output_type": "stream",
     "text": [
      "Currently in scan: LIDC-IDRI-0621\n",
      "Loading dicom files ... This may take a moment.\n",
      "Currently in scan: LIDC-IDRI-0622\n",
      "Loading dicom files ... This may take a moment.\n",
      "Currently in scan: LIDC-IDRI-0623\n",
      "Loading dicom files ... This may take a moment.\n",
      "Currently in scan: LIDC-IDRI-0624\n",
      "Loading dicom files ... This may take a moment.\n"
     ]
    },
    {
     "name": "stderr",
     "output_type": "stream",
     "text": [
      "/home/pedro/Documents/UNI/_3_ano/LAB_IACD/project_1/.venv/lib/python3.10/site-packages/skimage/util/dtype.py:576: UserWarning: Downcasting int16 to uint8 without scaling because max value 92 fits in uint8\n",
      "  return _convert(image, np.uint8, force_copy)\n",
      "/home/pedro/Documents/UNI/_3_ano/LAB_IACD/project_1/.venv/lib/python3.10/site-packages/skimage/util/dtype.py:576: UserWarning: Downcasting int16 to uint8 without scaling because max value 237 fits in uint8\n",
      "  return _convert(image, np.uint8, force_copy)\n"
     ]
    },
    {
     "name": "stdout",
     "output_type": "stream",
     "text": [
      "Currently in scan: LIDC-IDRI-0625\n",
      "Loading dicom files ... This may take a moment.\n"
     ]
    },
    {
     "name": "stderr",
     "output_type": "stream",
     "text": [
      "/home/pedro/Documents/UNI/_3_ano/LAB_IACD/project_1/.venv/lib/python3.10/site-packages/skimage/util/dtype.py:576: UserWarning: Downcasting int16 to uint8 without scaling because max value 149 fits in uint8\n",
      "  return _convert(image, np.uint8, force_copy)\n"
     ]
    },
    {
     "name": "stdout",
     "output_type": "stream",
     "text": [
      "Currently in scan: LIDC-IDRI-0626\n",
      "Loading dicom files ... This may take a moment.\n"
     ]
    },
    {
     "name": "stderr",
     "output_type": "stream",
     "text": [
      "/home/pedro/Documents/UNI/_3_ano/LAB_IACD/project_1/.venv/lib/python3.10/site-packages/skimage/util/dtype.py:576: UserWarning: Downcasting int16 to uint8 without scaling because max value -388 fits in uint8\n",
      "  return _convert(image, np.uint8, force_copy)\n"
     ]
    },
    {
     "name": "stdout",
     "output_type": "stream",
     "text": [
      "Currently in scan: LIDC-IDRI-0627\n",
      "Loading dicom files ... This may take a moment.\n",
      "Currently in scan: LIDC-IDRI-0628\n",
      "Loading dicom files ... This may take a moment.\n"
     ]
    },
    {
     "name": "stderr",
     "output_type": "stream",
     "text": [
      "/home/pedro/Documents/UNI/_3_ano/LAB_IACD/project_1/.venv/lib/python3.10/site-packages/skimage/util/dtype.py:576: UserWarning: Downcasting int16 to uint8 without scaling because max value 254 fits in uint8\n",
      "  return _convert(image, np.uint8, force_copy)\n",
      "/home/pedro/Documents/UNI/_3_ano/LAB_IACD/project_1/.venv/lib/python3.10/site-packages/skimage/util/dtype.py:576: UserWarning: Downcasting int16 to uint8 without scaling because max value -91 fits in uint8\n",
      "  return _convert(image, np.uint8, force_copy)\n",
      "/home/pedro/Documents/UNI/_3_ano/LAB_IACD/project_1/.venv/lib/python3.10/site-packages/skimage/util/dtype.py:576: UserWarning: Downcasting int16 to uint8 without scaling because max value 166 fits in uint8\n",
      "  return _convert(image, np.uint8, force_copy)\n"
     ]
    },
    {
     "name": "stdout",
     "output_type": "stream",
     "text": [
      "Currently in scan: LIDC-IDRI-0629\n",
      "Loading dicom files ... This may take a moment.\n"
     ]
    },
    {
     "name": "stderr",
     "output_type": "stream",
     "text": [
      "/home/pedro/Documents/UNI/_3_ano/LAB_IACD/project_1/.venv/lib/python3.10/site-packages/skimage/util/dtype.py:576: UserWarning: Downcasting int16 to uint8 without scaling because max value 251 fits in uint8\n",
      "  return _convert(image, np.uint8, force_copy)\n"
     ]
    },
    {
     "name": "stdout",
     "output_type": "stream",
     "text": [
      "Currently in scan: LIDC-IDRI-0630\n",
      "Loading dicom files ... This may take a moment.\n",
      "Currently in scan: LIDC-IDRI-0631\n",
      "Loading dicom files ... This may take a moment.\n"
     ]
    },
    {
     "name": "stderr",
     "output_type": "stream",
     "text": [
      "/home/pedro/Documents/UNI/_3_ano/LAB_IACD/project_1/.venv/lib/python3.10/site-packages/skimage/util/dtype.py:576: UserWarning: Downcasting int16 to uint8 without scaling because max value 108 fits in uint8\n",
      "  return _convert(image, np.uint8, force_copy)\n",
      "/home/pedro/Documents/UNI/_3_ano/LAB_IACD/project_1/.venv/lib/python3.10/site-packages/skimage/util/dtype.py:576: UserWarning: Downcasting int16 to uint8 without scaling because max value 112 fits in uint8\n",
      "  return _convert(image, np.uint8, force_copy)\n"
     ]
    },
    {
     "name": "stdout",
     "output_type": "stream",
     "text": [
      "Currently in scan: LIDC-IDRI-0632\n",
      "Loading dicom files ... This may take a moment.\n",
      "Currently in scan: LIDC-IDRI-0633\n",
      "Loading dicom files ... This may take a moment.\n",
      "Currently in scan: LIDC-IDRI-0634\n",
      "Loading dicom files ... This may take a moment.\n"
     ]
    },
    {
     "name": "stderr",
     "output_type": "stream",
     "text": [
      "/home/pedro/Documents/UNI/_3_ano/LAB_IACD/project_1/.venv/lib/python3.10/site-packages/skimage/util/dtype.py:576: UserWarning: Downcasting int16 to uint8 without scaling because max value 57 fits in uint8\n",
      "  return _convert(image, np.uint8, force_copy)\n"
     ]
    },
    {
     "name": "stdout",
     "output_type": "stream",
     "text": [
      "Currently in scan: LIDC-IDRI-0635\n",
      "Loading dicom files ... This may take a moment.\n"
     ]
    },
    {
     "name": "stderr",
     "output_type": "stream",
     "text": [
      "/home/pedro/Documents/UNI/_3_ano/LAB_IACD/project_1/.venv/lib/python3.10/site-packages/skimage/util/dtype.py:576: UserWarning: Downcasting int16 to uint8 without scaling because max value 48 fits in uint8\n",
      "  return _convert(image, np.uint8, force_copy)\n"
     ]
    },
    {
     "name": "stdout",
     "output_type": "stream",
     "text": [
      "Currently in scan: LIDC-IDRI-0636\n",
      "Loading dicom files ... This may take a moment.\n"
     ]
    },
    {
     "name": "stderr",
     "output_type": "stream",
     "text": [
      "/home/pedro/Documents/UNI/_3_ano/LAB_IACD/project_1/.venv/lib/python3.10/site-packages/skimage/util/dtype.py:576: UserWarning: Downcasting int16 to uint8 without scaling because max value 50 fits in uint8\n",
      "  return _convert(image, np.uint8, force_copy)\n",
      "/home/pedro/Documents/UNI/_3_ano/LAB_IACD/project_1/.venv/lib/python3.10/site-packages/skimage/util/dtype.py:576: UserWarning: Downcasting int16 to uint8 without scaling because max value 230 fits in uint8\n",
      "  return _convert(image, np.uint8, force_copy)\n"
     ]
    },
    {
     "name": "stdout",
     "output_type": "stream",
     "text": [
      "Currently in scan: LIDC-IDRI-0637\n",
      "Loading dicom files ... This may take a moment.\n"
     ]
    },
    {
     "name": "stderr",
     "output_type": "stream",
     "text": [
      "/home/pedro/Documents/UNI/_3_ano/LAB_IACD/project_1/.venv/lib/python3.10/site-packages/skimage/util/dtype.py:576: UserWarning: Downcasting int16 to uint8 without scaling because max value 131 fits in uint8\n",
      "  return _convert(image, np.uint8, force_copy)\n",
      "/home/pedro/Documents/UNI/_3_ano/LAB_IACD/project_1/.venv/lib/python3.10/site-packages/skimage/util/dtype.py:576: UserWarning: Downcasting int16 to uint8 without scaling because max value 165 fits in uint8\n",
      "  return _convert(image, np.uint8, force_copy)\n"
     ]
    },
    {
     "name": "stdout",
     "output_type": "stream",
     "text": [
      "Currently in scan: LIDC-IDRI-0638\n",
      "Loading dicom files ... This may take a moment.\n"
     ]
    },
    {
     "name": "stderr",
     "output_type": "stream",
     "text": [
      "/home/pedro/Documents/UNI/_3_ano/LAB_IACD/project_1/.venv/lib/python3.10/site-packages/skimage/util/dtype.py:576: UserWarning: Downcasting int16 to uint8 without scaling because max value 24 fits in uint8\n",
      "  return _convert(image, np.uint8, force_copy)\n"
     ]
    },
    {
     "name": "stdout",
     "output_type": "stream",
     "text": [
      "Currently in scan: LIDC-IDRI-0639\n",
      "Loading dicom files ... This may take a moment.\n"
     ]
    },
    {
     "name": "stderr",
     "output_type": "stream",
     "text": [
      "/home/pedro/Documents/UNI/_3_ano/LAB_IACD/project_1/.venv/lib/python3.10/site-packages/skimage/util/dtype.py:576: UserWarning: Downcasting int16 to uint8 without scaling because max value -108 fits in uint8\n",
      "  return _convert(image, np.uint8, force_copy)\n"
     ]
    },
    {
     "name": "stdout",
     "output_type": "stream",
     "text": [
      "Currently in scan: LIDC-IDRI-0640\n",
      "Loading dicom files ... This may take a moment.\n"
     ]
    },
    {
     "name": "stderr",
     "output_type": "stream",
     "text": [
      "/home/pedro/Documents/UNI/_3_ano/LAB_IACD/project_1/.venv/lib/python3.10/site-packages/skimage/util/dtype.py:576: UserWarning: Downcasting int16 to uint8 without scaling because max value 40 fits in uint8\n",
      "  return _convert(image, np.uint8, force_copy)\n"
     ]
    },
    {
     "name": "stdout",
     "output_type": "stream",
     "text": [
      "Currently in scan: LIDC-IDRI-0641\n",
      "Loading dicom files ... This may take a moment.\n"
     ]
    },
    {
     "name": "stderr",
     "output_type": "stream",
     "text": [
      "/home/pedro/Documents/UNI/_3_ano/LAB_IACD/project_1/.venv/lib/python3.10/site-packages/skimage/util/dtype.py:576: UserWarning: Downcasting int16 to uint8 without scaling because max value 67 fits in uint8\n",
      "  return _convert(image, np.uint8, force_copy)\n"
     ]
    },
    {
     "name": "stdout",
     "output_type": "stream",
     "text": [
      "Currently in scan: LIDC-IDRI-0642\n",
      "Loading dicom files ... This may take a moment.\n"
     ]
    },
    {
     "name": "stderr",
     "output_type": "stream",
     "text": [
      "/home/pedro/Documents/UNI/_3_ano/LAB_IACD/project_1/.venv/lib/python3.10/site-packages/skimage/util/dtype.py:576: UserWarning: Downcasting int16 to uint8 without scaling because max value 139 fits in uint8\n",
      "  return _convert(image, np.uint8, force_copy)\n",
      "/home/pedro/Documents/UNI/_3_ano/LAB_IACD/project_1/.venv/lib/python3.10/site-packages/skimage/util/dtype.py:576: UserWarning: Downcasting int16 to uint8 without scaling because max value -307 fits in uint8\n",
      "  return _convert(image, np.uint8, force_copy)\n"
     ]
    },
    {
     "name": "stdout",
     "output_type": "stream",
     "text": [
      "Currently in scan: LIDC-IDRI-0643\n",
      "Loading dicom files ... This may take a moment.\n",
      "Currently in scan: LIDC-IDRI-0644\n",
      "Loading dicom files ... This may take a moment.\n",
      "Currently in scan: LIDC-IDRI-0645\n",
      "Loading dicom files ... This may take a moment.\n",
      "Currently in scan: LIDC-IDRI-0646\n",
      "Loading dicom files ... This may take a moment.\n",
      "Currently in scan: LIDC-IDRI-0647\n",
      "Loading dicom files ... This may take a moment.\n"
     ]
    },
    {
     "name": "stderr",
     "output_type": "stream",
     "text": [
      "/home/pedro/Documents/UNI/_3_ano/LAB_IACD/project_1/.venv/lib/python3.10/site-packages/skimage/util/dtype.py:576: UserWarning: Downcasting int16 to uint8 without scaling because max value 165 fits in uint8\n",
      "  return _convert(image, np.uint8, force_copy)\n"
     ]
    },
    {
     "name": "stdout",
     "output_type": "stream",
     "text": [
      "Currently in scan: LIDC-IDRI-0648\n",
      "Loading dicom files ... This may take a moment.\n",
      "Currently in scan: LIDC-IDRI-0649\n",
      "Loading dicom files ... This may take a moment.\n",
      "Currently in scan: LIDC-IDRI-0650\n",
      "Loading dicom files ... This may take a moment.\n",
      "Currently in scan: LIDC-IDRI-0651\n",
      "Loading dicom files ... This may take a moment.\n"
     ]
    },
    {
     "name": "stderr",
     "output_type": "stream",
     "text": [
      "/home/pedro/Documents/UNI/_3_ano/LAB_IACD/project_1/.venv/lib/python3.10/site-packages/skimage/util/dtype.py:576: UserWarning: Downcasting int16 to uint8 without scaling because max value 180 fits in uint8\n",
      "  return _convert(image, np.uint8, force_copy)\n"
     ]
    },
    {
     "name": "stdout",
     "output_type": "stream",
     "text": [
      "Currently in scan: LIDC-IDRI-0652\n",
      "Loading dicom files ... This may take a moment.\n",
      "Currently in scan: LIDC-IDRI-0653\n",
      "Loading dicom files ... This may take a moment.\n",
      "Currently in scan: LIDC-IDRI-0654\n",
      "Loading dicom files ... This may take a moment.\n",
      "Currently in scan: LIDC-IDRI-0655\n",
      "Loading dicom files ... This may take a moment.\n",
      "Currently in scan: LIDC-IDRI-0656\n",
      "Loading dicom files ... This may take a moment.\n"
     ]
    },
    {
     "name": "stderr",
     "output_type": "stream",
     "text": [
      "/home/pedro/Documents/UNI/_3_ano/LAB_IACD/project_1/.venv/lib/python3.10/site-packages/skimage/util/dtype.py:576: UserWarning: Downcasting int16 to uint8 without scaling because max value 93 fits in uint8\n",
      "  return _convert(image, np.uint8, force_copy)\n"
     ]
    },
    {
     "name": "stdout",
     "output_type": "stream",
     "text": [
      "Currently in scan: LIDC-IDRI-0657\n",
      "Loading dicom files ... This may take a moment.\n",
      "Currently in scan: LIDC-IDRI-0658\n",
      "Loading dicom files ... This may take a moment.\n",
      "Currently in scan: LIDC-IDRI-0659\n",
      "Loading dicom files ... This may take a moment.\n"
     ]
    },
    {
     "name": "stderr",
     "output_type": "stream",
     "text": [
      "/home/pedro/Documents/UNI/_3_ano/LAB_IACD/project_1/.venv/lib/python3.10/site-packages/skimage/util/dtype.py:576: UserWarning: Downcasting int16 to uint8 without scaling because max value 118 fits in uint8\n",
      "  return _convert(image, np.uint8, force_copy)\n",
      "/home/pedro/Documents/UNI/_3_ano/LAB_IACD/project_1/.venv/lib/python3.10/site-packages/skimage/util/dtype.py:576: UserWarning: Downcasting int16 to uint8 without scaling because max value -376 fits in uint8\n",
      "  return _convert(image, np.uint8, force_copy)\n",
      "/home/pedro/Documents/UNI/_3_ano/LAB_IACD/project_1/.venv/lib/python3.10/site-packages/skimage/util/dtype.py:576: UserWarning: Downcasting int16 to uint8 without scaling because max value 115 fits in uint8\n",
      "  return _convert(image, np.uint8, force_copy)\n"
     ]
    },
    {
     "name": "stdout",
     "output_type": "stream",
     "text": [
      "Currently in scan: LIDC-IDRI-0660\n",
      "Loading dicom files ... This may take a moment.\n"
     ]
    },
    {
     "name": "stderr",
     "output_type": "stream",
     "text": [
      "/home/pedro/Documents/UNI/_3_ano/LAB_IACD/project_1/.venv/lib/python3.10/site-packages/skimage/util/dtype.py:576: UserWarning: Downcasting int16 to uint8 without scaling because max value 191 fits in uint8\n",
      "  return _convert(image, np.uint8, force_copy)\n"
     ]
    },
    {
     "name": "stdout",
     "output_type": "stream",
     "text": [
      "Currently in scan: LIDC-IDRI-0661\n",
      "Loading dicom files ... This may take a moment.\n",
      "Currently in scan: LIDC-IDRI-0662\n",
      "Loading dicom files ... This may take a moment.\n"
     ]
    },
    {
     "name": "stderr",
     "output_type": "stream",
     "text": [
      "/home/pedro/Documents/UNI/_3_ano/LAB_IACD/project_1/.venv/lib/python3.10/site-packages/skimage/util/dtype.py:576: UserWarning: Downcasting int16 to uint8 without scaling because max value 131 fits in uint8\n",
      "  return _convert(image, np.uint8, force_copy)\n",
      "/home/pedro/Documents/UNI/_3_ano/LAB_IACD/project_1/.venv/lib/python3.10/site-packages/skimage/util/dtype.py:576: UserWarning: Downcasting int16 to uint8 without scaling because max value 157 fits in uint8\n",
      "  return _convert(image, np.uint8, force_copy)\n",
      "/home/pedro/Documents/UNI/_3_ano/LAB_IACD/project_1/.venv/lib/python3.10/site-packages/skimage/util/dtype.py:576: UserWarning: Downcasting int16 to uint8 without scaling because max value 232 fits in uint8\n",
      "  return _convert(image, np.uint8, force_copy)\n"
     ]
    },
    {
     "name": "stdout",
     "output_type": "stream",
     "text": [
      "Currently in scan: LIDC-IDRI-0663\n",
      "Loading dicom files ... This may take a moment.\n"
     ]
    },
    {
     "name": "stderr",
     "output_type": "stream",
     "text": [
      "/home/pedro/Documents/UNI/_3_ano/LAB_IACD/project_1/.venv/lib/python3.10/site-packages/skimage/util/dtype.py:576: UserWarning: Downcasting int16 to uint8 without scaling because max value -14 fits in uint8\n",
      "  return _convert(image, np.uint8, force_copy)\n"
     ]
    },
    {
     "name": "stdout",
     "output_type": "stream",
     "text": [
      "Currently in scan: LIDC-IDRI-0664\n",
      "Loading dicom files ... This may take a moment.\n",
      "Currently in scan: LIDC-IDRI-0665\n",
      "Loading dicom files ... This may take a moment.\n",
      "Currently in scan: LIDC-IDRI-0666\n",
      "Loading dicom files ... This may take a moment.\n"
     ]
    },
    {
     "name": "stderr",
     "output_type": "stream",
     "text": [
      "/home/pedro/Documents/UNI/_3_ano/LAB_IACD/project_1/.venv/lib/python3.10/site-packages/skimage/util/dtype.py:576: UserWarning: Downcasting int16 to uint8 without scaling because max value 69 fits in uint8\n",
      "  return _convert(image, np.uint8, force_copy)\n"
     ]
    },
    {
     "name": "stdout",
     "output_type": "stream",
     "text": [
      "Currently in scan: LIDC-IDRI-0667\n",
      "Loading dicom files ... This may take a moment.\n",
      "Currently in scan: LIDC-IDRI-0668\n",
      "Loading dicom files ... This may take a moment.\n",
      "Currently in scan: LIDC-IDRI-0669\n",
      "Loading dicom files ... This may take a moment.\n",
      "Currently in scan: LIDC-IDRI-0670\n",
      "Loading dicom files ... This may take a moment.\n"
     ]
    },
    {
     "name": "stderr",
     "output_type": "stream",
     "text": [
      "/home/pedro/Documents/UNI/_3_ano/LAB_IACD/project_1/.venv/lib/python3.10/site-packages/skimage/util/dtype.py:576: UserWarning: Downcasting int16 to uint8 without scaling because max value 140 fits in uint8\n",
      "  return _convert(image, np.uint8, force_copy)\n"
     ]
    },
    {
     "name": "stdout",
     "output_type": "stream",
     "text": [
      "Currently in scan: LIDC-IDRI-0671\n",
      "Loading dicom files ... This may take a moment.\n"
     ]
    },
    {
     "name": "stderr",
     "output_type": "stream",
     "text": [
      "/home/pedro/Documents/UNI/_3_ano/LAB_IACD/project_1/.venv/lib/python3.10/site-packages/skimage/util/dtype.py:576: UserWarning: Downcasting int16 to uint8 without scaling because max value 64 fits in uint8\n",
      "  return _convert(image, np.uint8, force_copy)\n",
      "/home/pedro/Documents/UNI/_3_ano/LAB_IACD/project_1/.venv/lib/python3.10/site-packages/skimage/util/dtype.py:576: UserWarning: Downcasting int16 to uint8 without scaling because max value 18 fits in uint8\n",
      "  return _convert(image, np.uint8, force_copy)\n",
      "/home/pedro/Documents/UNI/_3_ano/LAB_IACD/project_1/.venv/lib/python3.10/site-packages/skimage/util/dtype.py:576: UserWarning: Downcasting int16 to uint8 without scaling because max value 159 fits in uint8\n",
      "  return _convert(image, np.uint8, force_copy)\n",
      "/home/pedro/Documents/UNI/_3_ano/LAB_IACD/project_1/.venv/lib/python3.10/site-packages/skimage/util/dtype.py:576: UserWarning: Downcasting int16 to uint8 without scaling because max value 162 fits in uint8\n",
      "  return _convert(image, np.uint8, force_copy)\n",
      "/home/pedro/Documents/UNI/_3_ano/LAB_IACD/project_1/.venv/lib/python3.10/site-packages/skimage/util/dtype.py:576: UserWarning: Downcasting int16 to uint8 without scaling because max value 14 fits in uint8\n",
      "  return _convert(image, np.uint8, force_copy)\n"
     ]
    },
    {
     "name": "stdout",
     "output_type": "stream",
     "text": [
      "Currently in scan: LIDC-IDRI-0672\n",
      "Loading dicom files ... This may take a moment.\n",
      "Currently in scan: LIDC-IDRI-0673\n",
      "Loading dicom files ... This may take a moment.\n"
     ]
    },
    {
     "name": "stderr",
     "output_type": "stream",
     "text": [
      "/home/pedro/Documents/UNI/_3_ano/LAB_IACD/project_1/.venv/lib/python3.10/site-packages/skimage/util/dtype.py:576: UserWarning: Downcasting int16 to uint8 without scaling because max value 53 fits in uint8\n",
      "  return _convert(image, np.uint8, force_copy)\n",
      "/home/pedro/Documents/UNI/_3_ano/LAB_IACD/project_1/.venv/lib/python3.10/site-packages/skimage/util/dtype.py:576: UserWarning: Downcasting int16 to uint8 without scaling because max value 52 fits in uint8\n",
      "  return _convert(image, np.uint8, force_copy)\n"
     ]
    },
    {
     "name": "stdout",
     "output_type": "stream",
     "text": [
      "Currently in scan: LIDC-IDRI-0674\n",
      "Loading dicom files ... This may take a moment.\n",
      "Currently in scan: LIDC-IDRI-0675\n",
      "Loading dicom files ... This may take a moment.\n"
     ]
    },
    {
     "name": "stderr",
     "output_type": "stream",
     "text": [
      "/home/pedro/Documents/UNI/_3_ano/LAB_IACD/project_1/.venv/lib/python3.10/site-packages/skimage/util/dtype.py:576: UserWarning: Downcasting int16 to uint8 without scaling because max value -13 fits in uint8\n",
      "  return _convert(image, np.uint8, force_copy)\n"
     ]
    },
    {
     "name": "stdout",
     "output_type": "stream",
     "text": [
      "Currently in scan: LIDC-IDRI-0676\n",
      "Loading dicom files ... This may take a moment.\n",
      "Currently in scan: LIDC-IDRI-0677\n",
      "Loading dicom files ... This may take a moment.\n",
      "Currently in scan: LIDC-IDRI-0678\n",
      "Loading dicom files ... This may take a moment.\n"
     ]
    },
    {
     "name": "stderr",
     "output_type": "stream",
     "text": [
      "/home/pedro/Documents/UNI/_3_ano/LAB_IACD/project_1/.venv/lib/python3.10/site-packages/skimage/util/dtype.py:576: UserWarning: Downcasting int16 to uint8 without scaling because max value -185 fits in uint8\n",
      "  return _convert(image, np.uint8, force_copy)\n"
     ]
    },
    {
     "name": "stdout",
     "output_type": "stream",
     "text": [
      "Currently in scan: LIDC-IDRI-0679\n",
      "Loading dicom files ... This may take a moment.\n",
      "Currently in scan: LIDC-IDRI-0680\n",
      "Loading dicom files ... This may take a moment.\n"
     ]
    },
    {
     "name": "stderr",
     "output_type": "stream",
     "text": [
      "/home/pedro/Documents/UNI/_3_ano/LAB_IACD/project_1/.venv/lib/python3.10/site-packages/skimage/util/dtype.py:576: UserWarning: Downcasting int16 to uint8 without scaling because max value 236 fits in uint8\n",
      "  return _convert(image, np.uint8, force_copy)\n"
     ]
    },
    {
     "name": "stdout",
     "output_type": "stream",
     "text": [
      "Currently in scan: LIDC-IDRI-0681\n",
      "Loading dicom files ... This may take a moment.\n",
      "Currently in scan: LIDC-IDRI-0682\n",
      "Loading dicom files ... This may take a moment.\n"
     ]
    },
    {
     "name": "stderr",
     "output_type": "stream",
     "text": [
      "/home/pedro/Documents/UNI/_3_ano/LAB_IACD/project_1/.venv/lib/python3.10/site-packages/skimage/util/dtype.py:576: UserWarning: Downcasting int16 to uint8 without scaling because max value 22 fits in uint8\n",
      "  return _convert(image, np.uint8, force_copy)\n"
     ]
    },
    {
     "name": "stdout",
     "output_type": "stream",
     "text": [
      "Currently in scan: LIDC-IDRI-0683\n",
      "Loading dicom files ... This may take a moment.\n",
      "Currently in scan: LIDC-IDRI-0684\n",
      "Loading dicom files ... This may take a moment.\n",
      "Currently in scan: LIDC-IDRI-0685\n",
      "Loading dicom files ... This may take a moment.\n",
      "Currently in scan: LIDC-IDRI-0686\n",
      "Loading dicom files ... This may take a moment.\n"
     ]
    },
    {
     "name": "stderr",
     "output_type": "stream",
     "text": [
      "/home/pedro/Documents/UNI/_3_ano/LAB_IACD/project_1/.venv/lib/python3.10/site-packages/skimage/util/dtype.py:576: UserWarning: Downcasting int16 to uint8 without scaling because max value 155 fits in uint8\n",
      "  return _convert(image, np.uint8, force_copy)\n",
      "/home/pedro/Documents/UNI/_3_ano/LAB_IACD/project_1/.venv/lib/python3.10/site-packages/skimage/util/dtype.py:576: UserWarning: Downcasting int16 to uint8 without scaling because max value 251 fits in uint8\n",
      "  return _convert(image, np.uint8, force_copy)\n",
      "/home/pedro/Documents/UNI/_3_ano/LAB_IACD/project_1/.venv/lib/python3.10/site-packages/skimage/util/dtype.py:576: UserWarning: Downcasting int16 to uint8 without scaling because max value 112 fits in uint8\n",
      "  return _convert(image, np.uint8, force_copy)\n",
      "/home/pedro/Documents/UNI/_3_ano/LAB_IACD/project_1/.venv/lib/python3.10/site-packages/skimage/util/dtype.py:576: UserWarning: Downcasting int16 to uint8 without scaling because max value 191 fits in uint8\n",
      "  return _convert(image, np.uint8, force_copy)\n",
      "/home/pedro/Documents/UNI/_3_ano/LAB_IACD/project_1/.venv/lib/python3.10/site-packages/skimage/util/dtype.py:576: UserWarning: Downcasting int16 to uint8 without scaling because max value -2 fits in uint8\n",
      "  return _convert(image, np.uint8, force_copy)\n",
      "/home/pedro/Documents/UNI/_3_ano/LAB_IACD/project_1/.venv/lib/python3.10/site-packages/skimage/util/dtype.py:576: UserWarning: Downcasting int16 to uint8 without scaling because max value 74 fits in uint8\n",
      "  return _convert(image, np.uint8, force_copy)\n",
      "/home/pedro/Documents/UNI/_3_ano/LAB_IACD/project_1/.venv/lib/python3.10/site-packages/skimage/util/dtype.py:576: UserWarning: Downcasting int16 to uint8 without scaling because max value 175 fits in uint8\n",
      "  return _convert(image, np.uint8, force_copy)\n",
      "/home/pedro/Documents/UNI/_3_ano/LAB_IACD/project_1/.venv/lib/python3.10/site-packages/skimage/util/dtype.py:576: UserWarning: Downcasting int16 to uint8 without scaling because max value 80 fits in uint8\n",
      "  return _convert(image, np.uint8, force_copy)\n",
      "/home/pedro/Documents/UNI/_3_ano/LAB_IACD/project_1/.venv/lib/python3.10/site-packages/skimage/util/dtype.py:576: UserWarning: Downcasting int16 to uint8 without scaling because max value 187 fits in uint8\n",
      "  return _convert(image, np.uint8, force_copy)\n",
      "/home/pedro/Documents/UNI/_3_ano/LAB_IACD/project_1/.venv/lib/python3.10/site-packages/skimage/util/dtype.py:576: UserWarning: Downcasting int16 to uint8 without scaling because max value 22 fits in uint8\n",
      "  return _convert(image, np.uint8, force_copy)\n"
     ]
    },
    {
     "name": "stdout",
     "output_type": "stream",
     "text": [
      "Currently in scan: LIDC-IDRI-0687\n",
      "Loading dicom files ... This may take a moment.\n"
     ]
    },
    {
     "name": "stderr",
     "output_type": "stream",
     "text": [
      "/home/pedro/Documents/UNI/_3_ano/LAB_IACD/project_1/.venv/lib/python3.10/site-packages/skimage/util/dtype.py:576: UserWarning: Downcasting int16 to uint8 without scaling because max value -23 fits in uint8\n",
      "  return _convert(image, np.uint8, force_copy)\n",
      "/home/pedro/Documents/UNI/_3_ano/LAB_IACD/project_1/.venv/lib/python3.10/site-packages/skimage/util/dtype.py:576: UserWarning: Downcasting int16 to uint8 without scaling because max value -119 fits in uint8\n",
      "  return _convert(image, np.uint8, force_copy)\n",
      "/home/pedro/Documents/UNI/_3_ano/LAB_IACD/project_1/.venv/lib/python3.10/site-packages/skimage/util/dtype.py:576: UserWarning: Downcasting int16 to uint8 without scaling because max value 60 fits in uint8\n",
      "  return _convert(image, np.uint8, force_copy)\n",
      "/home/pedro/Documents/UNI/_3_ano/LAB_IACD/project_1/.venv/lib/python3.10/site-packages/skimage/util/dtype.py:576: UserWarning: Downcasting int16 to uint8 without scaling because max value 181 fits in uint8\n",
      "  return _convert(image, np.uint8, force_copy)\n"
     ]
    },
    {
     "name": "stdout",
     "output_type": "stream",
     "text": [
      "Currently in scan: LIDC-IDRI-0688\n",
      "Loading dicom files ... This may take a moment.\n",
      "Currently in scan: LIDC-IDRI-0689\n",
      "Loading dicom files ... This may take a moment.\n",
      "Currently in scan: LIDC-IDRI-0690\n",
      "Loading dicom files ... This may take a moment.\n",
      "Currently in scan: LIDC-IDRI-0691\n",
      "Loading dicom files ... This may take a moment.\n",
      "Currently in scan: LIDC-IDRI-0692\n",
      "Loading dicom files ... This may take a moment.\n",
      "Currently in scan: LIDC-IDRI-0693\n",
      "Loading dicom files ... This may take a moment.\n",
      "Currently in scan: LIDC-IDRI-0694\n",
      "Loading dicom files ... This may take a moment.\n"
     ]
    },
    {
     "name": "stderr",
     "output_type": "stream",
     "text": [
      "/home/pedro/Documents/UNI/_3_ano/LAB_IACD/project_1/.venv/lib/python3.10/site-packages/skimage/util/dtype.py:576: UserWarning: Downcasting int16 to uint8 without scaling because max value 248 fits in uint8\n",
      "  return _convert(image, np.uint8, force_copy)\n"
     ]
    },
    {
     "name": "stdout",
     "output_type": "stream",
     "text": [
      "Currently in scan: LIDC-IDRI-0695\n",
      "Loading dicom files ... This may take a moment.\n"
     ]
    },
    {
     "name": "stderr",
     "output_type": "stream",
     "text": [
      "/home/pedro/Documents/UNI/_3_ano/LAB_IACD/project_1/.venv/lib/python3.10/site-packages/skimage/util/dtype.py:576: UserWarning: Downcasting int16 to uint8 without scaling because max value 67 fits in uint8\n",
      "  return _convert(image, np.uint8, force_copy)\n",
      "/home/pedro/Documents/UNI/_3_ano/LAB_IACD/project_1/.venv/lib/python3.10/site-packages/skimage/util/dtype.py:576: UserWarning: Downcasting int16 to uint8 without scaling because max value 69 fits in uint8\n",
      "  return _convert(image, np.uint8, force_copy)\n"
     ]
    },
    {
     "name": "stdout",
     "output_type": "stream",
     "text": [
      "Currently in scan: LIDC-IDRI-0696\n",
      "Loading dicom files ... This may take a moment.\n",
      "Currently in scan: LIDC-IDRI-0697\n",
      "Loading dicom files ... This may take a moment.\n",
      "Currently in scan: LIDC-IDRI-0698\n",
      "Loading dicom files ... This may take a moment.\n",
      "Currently in scan: LIDC-IDRI-0699\n",
      "Loading dicom files ... This may take a moment.\n",
      "Currently in scan: LIDC-IDRI-0700\n",
      "Loading dicom files ... This may take a moment.\n"
     ]
    },
    {
     "name": "stderr",
     "output_type": "stream",
     "text": [
      "/home/pedro/Documents/UNI/_3_ano/LAB_IACD/project_1/.venv/lib/python3.10/site-packages/skimage/util/dtype.py:576: UserWarning: Downcasting int16 to uint8 without scaling because max value 172 fits in uint8\n",
      "  return _convert(image, np.uint8, force_copy)\n"
     ]
    },
    {
     "name": "stdout",
     "output_type": "stream",
     "text": [
      "Currently in scan: LIDC-IDRI-0701\n",
      "Loading dicom files ... This may take a moment.\n"
     ]
    },
    {
     "name": "stderr",
     "output_type": "stream",
     "text": [
      "/home/pedro/Documents/UNI/_3_ano/LAB_IACD/project_1/.venv/lib/python3.10/site-packages/skimage/util/dtype.py:576: UserWarning: Downcasting int16 to uint8 without scaling because max value 181 fits in uint8\n",
      "  return _convert(image, np.uint8, force_copy)\n"
     ]
    },
    {
     "name": "stdout",
     "output_type": "stream",
     "text": [
      "Currently in scan: LIDC-IDRI-0702\n",
      "Loading dicom files ... This may take a moment.\n"
     ]
    },
    {
     "name": "stderr",
     "output_type": "stream",
     "text": [
      "/home/pedro/Documents/UNI/_3_ano/LAB_IACD/project_1/.venv/lib/python3.10/site-packages/skimage/util/dtype.py:576: UserWarning: Downcasting int16 to uint8 without scaling because max value 55 fits in uint8\n",
      "  return _convert(image, np.uint8, force_copy)\n",
      "/home/pedro/Documents/UNI/_3_ano/LAB_IACD/project_1/.venv/lib/python3.10/site-packages/skimage/util/dtype.py:576: UserWarning: Downcasting int16 to uint8 without scaling because max value 97 fits in uint8\n",
      "  return _convert(image, np.uint8, force_copy)\n",
      "/home/pedro/Documents/UNI/_3_ano/LAB_IACD/project_1/.venv/lib/python3.10/site-packages/skimage/util/dtype.py:576: UserWarning: Downcasting int16 to uint8 without scaling because max value 228 fits in uint8\n",
      "  return _convert(image, np.uint8, force_copy)\n",
      "/home/pedro/Documents/UNI/_3_ano/LAB_IACD/project_1/.venv/lib/python3.10/site-packages/skimage/util/dtype.py:576: UserWarning: Downcasting int16 to uint8 without scaling because max value 25 fits in uint8\n",
      "  return _convert(image, np.uint8, force_copy)\n"
     ]
    },
    {
     "name": "stdout",
     "output_type": "stream",
     "text": [
      "Currently in scan: LIDC-IDRI-0703\n",
      "Loading dicom files ... This may take a moment.\n",
      "Currently in scan: LIDC-IDRI-0704\n",
      "Loading dicom files ... This may take a moment.\n"
     ]
    },
    {
     "name": "stderr",
     "output_type": "stream",
     "text": [
      "/home/pedro/Documents/UNI/_3_ano/LAB_IACD/project_1/.venv/lib/python3.10/site-packages/skimage/util/dtype.py:576: UserWarning: Downcasting int16 to uint8 without scaling because max value -27 fits in uint8\n",
      "  return _convert(image, np.uint8, force_copy)\n"
     ]
    },
    {
     "name": "stdout",
     "output_type": "stream",
     "text": [
      "Currently in scan: LIDC-IDRI-0705\n",
      "Loading dicom files ... This may take a moment.\n"
     ]
    },
    {
     "name": "stderr",
     "output_type": "stream",
     "text": [
      "/home/pedro/Documents/UNI/_3_ano/LAB_IACD/project_1/.venv/lib/python3.10/site-packages/skimage/util/dtype.py:576: UserWarning: Downcasting int16 to uint8 without scaling because max value 150 fits in uint8\n",
      "  return _convert(image, np.uint8, force_copy)\n",
      "/home/pedro/Documents/UNI/_3_ano/LAB_IACD/project_1/.venv/lib/python3.10/site-packages/skimage/util/dtype.py:576: UserWarning: Downcasting int16 to uint8 without scaling because max value -34 fits in uint8\n",
      "  return _convert(image, np.uint8, force_copy)\n"
     ]
    },
    {
     "name": "stdout",
     "output_type": "stream",
     "text": [
      "Currently in scan: LIDC-IDRI-0706\n",
      "Loading dicom files ... This may take a moment.\n"
     ]
    },
    {
     "name": "stderr",
     "output_type": "stream",
     "text": [
      "/home/pedro/Documents/UNI/_3_ano/LAB_IACD/project_1/.venv/lib/python3.10/site-packages/skimage/util/dtype.py:576: UserWarning: Downcasting int16 to uint8 without scaling because max value 102 fits in uint8\n",
      "  return _convert(image, np.uint8, force_copy)\n"
     ]
    },
    {
     "name": "stdout",
     "output_type": "stream",
     "text": [
      "Currently in scan: LIDC-IDRI-0707\n",
      "Loading dicom files ... This may take a moment.\n"
     ]
    },
    {
     "name": "stderr",
     "output_type": "stream",
     "text": [
      "/home/pedro/Documents/UNI/_3_ano/LAB_IACD/project_1/.venv/lib/python3.10/site-packages/skimage/util/dtype.py:576: UserWarning: Downcasting int16 to uint8 without scaling because max value -111 fits in uint8\n",
      "  return _convert(image, np.uint8, force_copy)\n",
      "/home/pedro/Documents/UNI/_3_ano/LAB_IACD/project_1/.venv/lib/python3.10/site-packages/skimage/util/dtype.py:576: UserWarning: Downcasting int16 to uint8 without scaling because max value -39 fits in uint8\n",
      "  return _convert(image, np.uint8, force_copy)\n",
      "/home/pedro/Documents/UNI/_3_ano/LAB_IACD/project_1/.venv/lib/python3.10/site-packages/skimage/util/dtype.py:576: UserWarning: Downcasting int16 to uint8 without scaling because max value 209 fits in uint8\n",
      "  return _convert(image, np.uint8, force_copy)\n"
     ]
    },
    {
     "name": "stdout",
     "output_type": "stream",
     "text": [
      "Currently in scan: LIDC-IDRI-0708\n",
      "Loading dicom files ... This may take a moment.\n",
      "Currently in scan: LIDC-IDRI-0709\n",
      "Loading dicom files ... This may take a moment.\n",
      "Currently in scan: LIDC-IDRI-0710\n",
      "Loading dicom files ... This may take a moment.\n",
      "Currently in scan: LIDC-IDRI-0711\n",
      "Loading dicom files ... This may take a moment.\n",
      "Currently in scan: LIDC-IDRI-0712\n",
      "Loading dicom files ... This may take a moment.\n",
      "Currently in scan: LIDC-IDRI-0713\n",
      "Loading dicom files ... This may take a moment.\n"
     ]
    },
    {
     "name": "stderr",
     "output_type": "stream",
     "text": [
      "/home/pedro/Documents/UNI/_3_ano/LAB_IACD/project_1/.venv/lib/python3.10/site-packages/skimage/util/dtype.py:576: UserWarning: Downcasting int16 to uint8 without scaling because max value 183 fits in uint8\n",
      "  return _convert(image, np.uint8, force_copy)\n"
     ]
    },
    {
     "name": "stdout",
     "output_type": "stream",
     "text": [
      "Currently in scan: LIDC-IDRI-0714\n",
      "Loading dicom files ... This may take a moment.\n",
      "Currently in scan: LIDC-IDRI-0715\n",
      "Loading dicom files ... This may take a moment.\n",
      "Currently in scan: LIDC-IDRI-0716\n",
      "Loading dicom files ... This may take a moment.\n",
      "Currently in scan: LIDC-IDRI-0717\n",
      "Loading dicom files ... This may take a moment.\n",
      "Currently in scan: LIDC-IDRI-0718\n",
      "Loading dicom files ... This may take a moment.\n",
      "Currently in scan: LIDC-IDRI-0719\n",
      "Loading dicom files ... This may take a moment.\n",
      "Currently in scan: LIDC-IDRI-0720\n",
      "Loading dicom files ... This may take a moment.\n"
     ]
    },
    {
     "name": "stderr",
     "output_type": "stream",
     "text": [
      "/home/pedro/Documents/UNI/_3_ano/LAB_IACD/project_1/.venv/lib/python3.10/site-packages/skimage/util/dtype.py:576: UserWarning: Downcasting int16 to uint8 without scaling because max value 37 fits in uint8\n",
      "  return _convert(image, np.uint8, force_copy)\n"
     ]
    },
    {
     "name": "stdout",
     "output_type": "stream",
     "text": [
      "Currently in scan: LIDC-IDRI-0721\n",
      "Loading dicom files ... This may take a moment.\n"
     ]
    },
    {
     "name": "stderr",
     "output_type": "stream",
     "text": [
      "/home/pedro/Documents/UNI/_3_ano/LAB_IACD/project_1/.venv/lib/python3.10/site-packages/skimage/util/dtype.py:576: UserWarning: Downcasting int16 to uint8 without scaling because max value 247 fits in uint8\n",
      "  return _convert(image, np.uint8, force_copy)\n"
     ]
    },
    {
     "name": "stdout",
     "output_type": "stream",
     "text": [
      "Currently in scan: LIDC-IDRI-0722\n",
      "Loading dicom files ... This may take a moment.\n"
     ]
    },
    {
     "name": "stderr",
     "output_type": "stream",
     "text": [
      "/home/pedro/Documents/UNI/_3_ano/LAB_IACD/project_1/.venv/lib/python3.10/site-packages/skimage/util/dtype.py:576: UserWarning: Downcasting int16 to uint8 without scaling because max value 226 fits in uint8\n",
      "  return _convert(image, np.uint8, force_copy)\n"
     ]
    },
    {
     "name": "stdout",
     "output_type": "stream",
     "text": [
      "Currently in scan: LIDC-IDRI-0723\n",
      "Loading dicom files ... This may take a moment.\n"
     ]
    },
    {
     "name": "stderr",
     "output_type": "stream",
     "text": [
      "/home/pedro/Documents/UNI/_3_ano/LAB_IACD/project_1/.venv/lib/python3.10/site-packages/skimage/util/dtype.py:576: UserWarning: Downcasting int16 to uint8 without scaling because max value 237 fits in uint8\n",
      "  return _convert(image, np.uint8, force_copy)\n"
     ]
    },
    {
     "name": "stdout",
     "output_type": "stream",
     "text": [
      "Currently in scan: LIDC-IDRI-0724\n",
      "Loading dicom files ... This may take a moment.\n"
     ]
    },
    {
     "name": "stderr",
     "output_type": "stream",
     "text": [
      "/home/pedro/Documents/UNI/_3_ano/LAB_IACD/project_1/.venv/lib/python3.10/site-packages/skimage/util/dtype.py:576: UserWarning: Downcasting int16 to uint8 without scaling because max value 74 fits in uint8\n",
      "  return _convert(image, np.uint8, force_copy)\n",
      "/home/pedro/Documents/UNI/_3_ano/LAB_IACD/project_1/.venv/lib/python3.10/site-packages/skimage/util/dtype.py:576: UserWarning: Downcasting int16 to uint8 without scaling because max value -194 fits in uint8\n",
      "  return _convert(image, np.uint8, force_copy)\n",
      "/home/pedro/Documents/UNI/_3_ano/LAB_IACD/project_1/.venv/lib/python3.10/site-packages/skimage/util/dtype.py:576: UserWarning: Downcasting int16 to uint8 without scaling because max value -42 fits in uint8\n",
      "  return _convert(image, np.uint8, force_copy)\n"
     ]
    },
    {
     "name": "stdout",
     "output_type": "stream",
     "text": [
      "Currently in scan: LIDC-IDRI-0725\n",
      "Loading dicom files ... This may take a moment.\n",
      "Currently in scan: LIDC-IDRI-0726\n",
      "Loading dicom files ... This may take a moment.\n",
      "Currently in scan: LIDC-IDRI-0727\n",
      "Loading dicom files ... This may take a moment.\n",
      "Currently in scan: LIDC-IDRI-0728\n",
      "Loading dicom files ... This may take a moment.\n",
      "Currently in scan: LIDC-IDRI-0729\n",
      "Loading dicom files ... This may take a moment.\n"
     ]
    },
    {
     "name": "stderr",
     "output_type": "stream",
     "text": [
      "/home/pedro/Documents/UNI/_3_ano/LAB_IACD/project_1/.venv/lib/python3.10/site-packages/skimage/util/dtype.py:576: UserWarning: Downcasting int16 to uint8 without scaling because max value 139 fits in uint8\n",
      "  return _convert(image, np.uint8, force_copy)\n"
     ]
    },
    {
     "name": "stdout",
     "output_type": "stream",
     "text": [
      "Currently in scan: LIDC-IDRI-0730\n",
      "Loading dicom files ... This may take a moment.\n",
      "Currently in scan: LIDC-IDRI-0731\n",
      "Loading dicom files ... This may take a moment.\n",
      "Currently in scan: LIDC-IDRI-0732\n",
      "Loading dicom files ... This may take a moment.\n"
     ]
    },
    {
     "name": "stderr",
     "output_type": "stream",
     "text": [
      "/home/pedro/Documents/UNI/_3_ano/LAB_IACD/project_1/.venv/lib/python3.10/site-packages/skimage/util/dtype.py:576: UserWarning: Downcasting int16 to uint8 without scaling because max value 140 fits in uint8\n",
      "  return _convert(image, np.uint8, force_copy)\n"
     ]
    },
    {
     "name": "stdout",
     "output_type": "stream",
     "text": [
      "Currently in scan: LIDC-IDRI-0733\n",
      "Loading dicom files ... This may take a moment.\n"
     ]
    },
    {
     "name": "stderr",
     "output_type": "stream",
     "text": [
      "/home/pedro/Documents/UNI/_3_ano/LAB_IACD/project_1/.venv/lib/python3.10/site-packages/skimage/util/dtype.py:576: UserWarning: Downcasting int16 to uint8 without scaling because max value 245 fits in uint8\n",
      "  return _convert(image, np.uint8, force_copy)\n",
      "/home/pedro/Documents/UNI/_3_ano/LAB_IACD/project_1/.venv/lib/python3.10/site-packages/skimage/util/dtype.py:576: UserWarning: Downcasting int16 to uint8 without scaling because max value 128 fits in uint8\n",
      "  return _convert(image, np.uint8, force_copy)\n",
      "/home/pedro/Documents/UNI/_3_ano/LAB_IACD/project_1/.venv/lib/python3.10/site-packages/skimage/util/dtype.py:576: UserWarning: Downcasting int16 to uint8 without scaling because max value 112 fits in uint8\n",
      "  return _convert(image, np.uint8, force_copy)\n"
     ]
    },
    {
     "name": "stdout",
     "output_type": "stream",
     "text": [
      "Currently in scan: LIDC-IDRI-0734\n",
      "Loading dicom files ... This may take a moment.\n",
      "Currently in scan: LIDC-IDRI-0735\n",
      "Loading dicom files ... This may take a moment.\n",
      "Currently in scan: LIDC-IDRI-0736\n",
      "Loading dicom files ... This may take a moment.\n"
     ]
    },
    {
     "name": "stderr",
     "output_type": "stream",
     "text": [
      "/home/pedro/Documents/UNI/_3_ano/LAB_IACD/project_1/.venv/lib/python3.10/site-packages/skimage/util/dtype.py:576: UserWarning: Downcasting int16 to uint8 without scaling because max value 86 fits in uint8\n",
      "  return _convert(image, np.uint8, force_copy)\n"
     ]
    },
    {
     "name": "stdout",
     "output_type": "stream",
     "text": [
      "Currently in scan: LIDC-IDRI-0737\n",
      "Loading dicom files ... This may take a moment.\n",
      "Currently in scan: LIDC-IDRI-0738\n",
      "Loading dicom files ... This may take a moment.\n",
      "Currently in scan: LIDC-IDRI-0739\n",
      "Loading dicom files ... This may take a moment.\n",
      "Currently in scan: LIDC-IDRI-0740\n",
      "Loading dicom files ... This may take a moment.\n",
      "Currently in scan: LIDC-IDRI-0741\n",
      "Loading dicom files ... This may take a moment.\n"
     ]
    },
    {
     "name": "stderr",
     "output_type": "stream",
     "text": [
      "/home/pedro/Documents/UNI/_3_ano/LAB_IACD/project_1/.venv/lib/python3.10/site-packages/skimage/util/dtype.py:576: UserWarning: Downcasting int16 to uint8 without scaling because max value 246 fits in uint8\n",
      "  return _convert(image, np.uint8, force_copy)\n",
      "/home/pedro/Documents/UNI/_3_ano/LAB_IACD/project_1/.venv/lib/python3.10/site-packages/skimage/util/dtype.py:576: UserWarning: Downcasting int16 to uint8 without scaling because max value -218 fits in uint8\n",
      "  return _convert(image, np.uint8, force_copy)\n",
      "/home/pedro/Documents/UNI/_3_ano/LAB_IACD/project_1/.venv/lib/python3.10/site-packages/skimage/util/dtype.py:576: UserWarning: Downcasting int16 to uint8 without scaling because max value 225 fits in uint8\n",
      "  return _convert(image, np.uint8, force_copy)\n"
     ]
    },
    {
     "name": "stdout",
     "output_type": "stream",
     "text": [
      "Currently in scan: LIDC-IDRI-0742\n",
      "Loading dicom files ... This may take a moment.\n"
     ]
    },
    {
     "name": "stderr",
     "output_type": "stream",
     "text": [
      "/home/pedro/Documents/UNI/_3_ano/LAB_IACD/project_1/.venv/lib/python3.10/site-packages/skimage/util/dtype.py:576: UserWarning: Downcasting int16 to uint8 without scaling because max value -170 fits in uint8\n",
      "  return _convert(image, np.uint8, force_copy)\n"
     ]
    },
    {
     "name": "stdout",
     "output_type": "stream",
     "text": [
      "Currently in scan: LIDC-IDRI-0743\n",
      "Loading dicom files ... This may take a moment.\n"
     ]
    },
    {
     "name": "stderr",
     "output_type": "stream",
     "text": [
      "/home/pedro/Documents/UNI/_3_ano/LAB_IACD/project_1/.venv/lib/python3.10/site-packages/skimage/util/dtype.py:576: UserWarning: Downcasting int16 to uint8 without scaling because max value 128 fits in uint8\n",
      "  return _convert(image, np.uint8, force_copy)\n"
     ]
    },
    {
     "name": "stdout",
     "output_type": "stream",
     "text": [
      "Currently in scan: LIDC-IDRI-0744\n",
      "Loading dicom files ... This may take a moment.\n"
     ]
    },
    {
     "name": "stderr",
     "output_type": "stream",
     "text": [
      "/home/pedro/Documents/UNI/_3_ano/LAB_IACD/project_1/.venv/lib/python3.10/site-packages/skimage/util/dtype.py:576: UserWarning: Downcasting int16 to uint8 without scaling because max value 59 fits in uint8\n",
      "  return _convert(image, np.uint8, force_copy)\n"
     ]
    },
    {
     "name": "stdout",
     "output_type": "stream",
     "text": [
      "Currently in scan: LIDC-IDRI-0745\n",
      "Loading dicom files ... This may take a moment.\n",
      "Currently in scan: LIDC-IDRI-0746\n",
      "Loading dicom files ... This may take a moment.\n",
      "Currently in scan: LIDC-IDRI-0747\n",
      "Loading dicom files ... This may take a moment.\n",
      "Currently in scan: LIDC-IDRI-0748\n",
      "Loading dicom files ... This may take a moment.\n"
     ]
    },
    {
     "name": "stderr",
     "output_type": "stream",
     "text": [
      "/home/pedro/Documents/UNI/_3_ano/LAB_IACD/project_1/.venv/lib/python3.10/site-packages/skimage/util/dtype.py:576: UserWarning: Downcasting int16 to uint8 without scaling because max value 107 fits in uint8\n",
      "  return _convert(image, np.uint8, force_copy)\n",
      "/home/pedro/Documents/UNI/_3_ano/LAB_IACD/project_1/.venv/lib/python3.10/site-packages/skimage/util/dtype.py:576: UserWarning: Downcasting int16 to uint8 without scaling because max value 113 fits in uint8\n",
      "  return _convert(image, np.uint8, force_copy)\n",
      "/home/pedro/Documents/UNI/_3_ano/LAB_IACD/project_1/.venv/lib/python3.10/site-packages/skimage/util/dtype.py:576: UserWarning: Downcasting int16 to uint8 without scaling because max value -216 fits in uint8\n",
      "  return _convert(image, np.uint8, force_copy)\n",
      "/home/pedro/Documents/UNI/_3_ano/LAB_IACD/project_1/.venv/lib/python3.10/site-packages/skimage/util/dtype.py:576: UserWarning: Downcasting int16 to uint8 without scaling because max value 94 fits in uint8\n",
      "  return _convert(image, np.uint8, force_copy)\n"
     ]
    },
    {
     "name": "stdout",
     "output_type": "stream",
     "text": [
      "Currently in scan: LIDC-IDRI-0749\n",
      "Loading dicom files ... This may take a moment.\n"
     ]
    },
    {
     "name": "stderr",
     "output_type": "stream",
     "text": [
      "/home/pedro/Documents/UNI/_3_ano/LAB_IACD/project_1/.venv/lib/python3.10/site-packages/skimage/util/dtype.py:576: UserWarning: Downcasting int16 to uint8 without scaling because max value 125 fits in uint8\n",
      "  return _convert(image, np.uint8, force_copy)\n",
      "/home/pedro/Documents/UNI/_3_ano/LAB_IACD/project_1/.venv/lib/python3.10/site-packages/skimage/util/dtype.py:576: UserWarning: Downcasting int16 to uint8 without scaling because max value 189 fits in uint8\n",
      "  return _convert(image, np.uint8, force_copy)\n"
     ]
    },
    {
     "name": "stdout",
     "output_type": "stream",
     "text": [
      "Currently in scan: LIDC-IDRI-0750\n",
      "Loading dicom files ... This may take a moment.\n"
     ]
    },
    {
     "name": "stderr",
     "output_type": "stream",
     "text": [
      "/home/pedro/Documents/UNI/_3_ano/LAB_IACD/project_1/.venv/lib/python3.10/site-packages/skimage/util/dtype.py:576: UserWarning: Downcasting int16 to uint8 without scaling because max value -6 fits in uint8\n",
      "  return _convert(image, np.uint8, force_copy)\n",
      "/home/pedro/Documents/UNI/_3_ano/LAB_IACD/project_1/.venv/lib/python3.10/site-packages/skimage/util/dtype.py:576: UserWarning: Downcasting int16 to uint8 without scaling because max value 25 fits in uint8\n",
      "  return _convert(image, np.uint8, force_copy)\n"
     ]
    },
    {
     "name": "stdout",
     "output_type": "stream",
     "text": [
      "Currently in scan: LIDC-IDRI-0751\n",
      "Loading dicom files ... This may take a moment.\n"
     ]
    },
    {
     "name": "stderr",
     "output_type": "stream",
     "text": [
      "/home/pedro/Documents/UNI/_3_ano/LAB_IACD/project_1/.venv/lib/python3.10/site-packages/skimage/util/dtype.py:576: UserWarning: Downcasting int16 to uint8 without scaling because max value 118 fits in uint8\n",
      "  return _convert(image, np.uint8, force_copy)\n",
      "/home/pedro/Documents/UNI/_3_ano/LAB_IACD/project_1/.venv/lib/python3.10/site-packages/skimage/util/dtype.py:576: UserWarning: Downcasting int16 to uint8 without scaling because max value 68 fits in uint8\n",
      "  return _convert(image, np.uint8, force_copy)\n",
      "/home/pedro/Documents/UNI/_3_ano/LAB_IACD/project_1/.venv/lib/python3.10/site-packages/skimage/util/dtype.py:576: UserWarning: Downcasting int16 to uint8 without scaling because max value -272 fits in uint8\n",
      "  return _convert(image, np.uint8, force_copy)\n"
     ]
    },
    {
     "name": "stdout",
     "output_type": "stream",
     "text": [
      "Currently in scan: LIDC-IDRI-0752\n",
      "Loading dicom files ... This may take a moment.\n"
     ]
    },
    {
     "name": "stderr",
     "output_type": "stream",
     "text": [
      "/home/pedro/Documents/UNI/_3_ano/LAB_IACD/project_1/.venv/lib/python3.10/site-packages/skimage/util/dtype.py:576: UserWarning: Downcasting int16 to uint8 without scaling because max value 182 fits in uint8\n",
      "  return _convert(image, np.uint8, force_copy)\n"
     ]
    },
    {
     "name": "stdout",
     "output_type": "stream",
     "text": [
      "Currently in scan: LIDC-IDRI-0753\n",
      "Loading dicom files ... This may take a moment.\n",
      "Currently in scan: LIDC-IDRI-0754\n",
      "Loading dicom files ... This may take a moment.\n",
      "Currently in scan: LIDC-IDRI-0755\n",
      "Loading dicom files ... This may take a moment.\n",
      "Currently in scan: LIDC-IDRI-0756\n",
      "Loading dicom files ... This may take a moment.\n",
      "Currently in scan: LIDC-IDRI-0757\n",
      "Loading dicom files ... This may take a moment.\n"
     ]
    },
    {
     "name": "stderr",
     "output_type": "stream",
     "text": [
      "/home/pedro/Documents/UNI/_3_ano/LAB_IACD/project_1/.venv/lib/python3.10/site-packages/skimage/util/dtype.py:576: UserWarning: Downcasting int16 to uint8 without scaling because max value -61 fits in uint8\n",
      "  return _convert(image, np.uint8, force_copy)\n"
     ]
    },
    {
     "name": "stdout",
     "output_type": "stream",
     "text": [
      "Currently in scan: LIDC-IDRI-0758\n",
      "Loading dicom files ... This may take a moment.\n",
      "Currently in scan: LIDC-IDRI-0759\n",
      "Loading dicom files ... This may take a moment.\n"
     ]
    },
    {
     "name": "stderr",
     "output_type": "stream",
     "text": [
      "/home/pedro/Documents/UNI/_3_ano/LAB_IACD/project_1/.venv/lib/python3.10/site-packages/skimage/util/dtype.py:576: UserWarning: Downcasting int16 to uint8 without scaling because max value 93 fits in uint8\n",
      "  return _convert(image, np.uint8, force_copy)\n"
     ]
    },
    {
     "name": "stdout",
     "output_type": "stream",
     "text": [
      "Currently in scan: LIDC-IDRI-0760\n",
      "Loading dicom files ... This may take a moment.\n",
      "Currently in scan: LIDC-IDRI-0761\n",
      "Loading dicom files ... This may take a moment.\n",
      "Currently in scan: LIDC-IDRI-0762\n",
      "Loading dicom files ... This may take a moment.\n"
     ]
    },
    {
     "name": "stderr",
     "output_type": "stream",
     "text": [
      "/home/pedro/Documents/UNI/_3_ano/LAB_IACD/project_1/.venv/lib/python3.10/site-packages/skimage/util/dtype.py:576: UserWarning: Downcasting int16 to uint8 without scaling because max value 173 fits in uint8\n",
      "  return _convert(image, np.uint8, force_copy)\n"
     ]
    },
    {
     "name": "stdout",
     "output_type": "stream",
     "text": [
      "Currently in scan: LIDC-IDRI-0763\n",
      "Loading dicom files ... This may take a moment.\n",
      "Currently in scan: LIDC-IDRI-0764\n",
      "Loading dicom files ... This may take a moment.\n",
      "Currently in scan: LIDC-IDRI-0765\n",
      "Loading dicom files ... This may take a moment.\n",
      "Currently in scan: LIDC-IDRI-0766\n",
      "Loading dicom files ... This may take a moment.\n",
      "Currently in scan: LIDC-IDRI-0767\n",
      "Loading dicom files ... This may take a moment.\n"
     ]
    },
    {
     "name": "stderr",
     "output_type": "stream",
     "text": [
      "/home/pedro/Documents/UNI/_3_ano/LAB_IACD/project_1/.venv/lib/python3.10/site-packages/skimage/util/dtype.py:576: UserWarning: Downcasting int16 to uint8 without scaling because max value 98 fits in uint8\n",
      "  return _convert(image, np.uint8, force_copy)\n"
     ]
    },
    {
     "name": "stdout",
     "output_type": "stream",
     "text": [
      "Currently in scan: LIDC-IDRI-0768\n",
      "Loading dicom files ... This may take a moment.\n"
     ]
    },
    {
     "name": "stderr",
     "output_type": "stream",
     "text": [
      "/home/pedro/Documents/UNI/_3_ano/LAB_IACD/project_1/.venv/lib/python3.10/site-packages/skimage/util/dtype.py:576: UserWarning: Downcasting int16 to uint8 without scaling because max value 169 fits in uint8\n",
      "  return _convert(image, np.uint8, force_copy)\n"
     ]
    },
    {
     "name": "stdout",
     "output_type": "stream",
     "text": [
      "Currently in scan: LIDC-IDRI-0769\n",
      "Loading dicom files ... This may take a moment.\n"
     ]
    },
    {
     "name": "stderr",
     "output_type": "stream",
     "text": [
      "/home/pedro/Documents/UNI/_3_ano/LAB_IACD/project_1/.venv/lib/python3.10/site-packages/skimage/util/dtype.py:576: UserWarning: Downcasting int16 to uint8 without scaling because max value -130 fits in uint8\n",
      "  return _convert(image, np.uint8, force_copy)\n"
     ]
    },
    {
     "name": "stdout",
     "output_type": "stream",
     "text": [
      "Currently in scan: LIDC-IDRI-0770\n",
      "Loading dicom files ... This may take a moment.\n"
     ]
    },
    {
     "name": "stderr",
     "output_type": "stream",
     "text": [
      "/home/pedro/Documents/UNI/_3_ano/LAB_IACD/project_1/.venv/lib/python3.10/site-packages/skimage/util/dtype.py:576: UserWarning: Downcasting int16 to uint8 without scaling because max value 132 fits in uint8\n",
      "  return _convert(image, np.uint8, force_copy)\n",
      "/home/pedro/Documents/UNI/_3_ano/LAB_IACD/project_1/.venv/lib/python3.10/site-packages/skimage/util/dtype.py:576: UserWarning: Downcasting int16 to uint8 without scaling because max value 168 fits in uint8\n",
      "  return _convert(image, np.uint8, force_copy)\n",
      "/home/pedro/Documents/UNI/_3_ano/LAB_IACD/project_1/.venv/lib/python3.10/site-packages/skimage/util/dtype.py:576: UserWarning: Downcasting int16 to uint8 without scaling because max value 110 fits in uint8\n",
      "  return _convert(image, np.uint8, force_copy)\n",
      "/home/pedro/Documents/UNI/_3_ano/LAB_IACD/project_1/.venv/lib/python3.10/site-packages/skimage/util/dtype.py:576: UserWarning: Downcasting int16 to uint8 without scaling because max value 97 fits in uint8\n",
      "  return _convert(image, np.uint8, force_copy)\n",
      "/home/pedro/Documents/UNI/_3_ano/LAB_IACD/project_1/.venv/lib/python3.10/site-packages/skimage/util/dtype.py:576: UserWarning: Downcasting int16 to uint8 without scaling because max value 99 fits in uint8\n",
      "  return _convert(image, np.uint8, force_copy)\n",
      "/home/pedro/Documents/UNI/_3_ano/LAB_IACD/project_1/.venv/lib/python3.10/site-packages/skimage/util/dtype.py:576: UserWarning: Downcasting int16 to uint8 without scaling because max value 161 fits in uint8\n",
      "  return _convert(image, np.uint8, force_copy)\n",
      "/home/pedro/Documents/UNI/_3_ano/LAB_IACD/project_1/.venv/lib/python3.10/site-packages/skimage/util/dtype.py:576: UserWarning: Downcasting int16 to uint8 without scaling because max value 159 fits in uint8\n",
      "  return _convert(image, np.uint8, force_copy)\n"
     ]
    },
    {
     "name": "stdout",
     "output_type": "stream",
     "text": [
      "Currently in scan: LIDC-IDRI-0771\n",
      "Loading dicom files ... This may take a moment.\n"
     ]
    },
    {
     "name": "stderr",
     "output_type": "stream",
     "text": [
      "/home/pedro/Documents/UNI/_3_ano/LAB_IACD/project_1/.venv/lib/python3.10/site-packages/skimage/util/dtype.py:576: UserWarning: Downcasting int16 to uint8 without scaling because max value 26 fits in uint8\n",
      "  return _convert(image, np.uint8, force_copy)\n"
     ]
    },
    {
     "name": "stdout",
     "output_type": "stream",
     "text": [
      "Currently in scan: LIDC-IDRI-0772\n",
      "Loading dicom files ... This may take a moment.\n",
      "Currently in scan: LIDC-IDRI-0773\n",
      "Loading dicom files ... This may take a moment.\n"
     ]
    },
    {
     "name": "stderr",
     "output_type": "stream",
     "text": [
      "/home/pedro/Documents/UNI/_3_ano/LAB_IACD/project_1/.venv/lib/python3.10/site-packages/skimage/util/dtype.py:576: UserWarning: Downcasting int16 to uint8 without scaling because max value -258 fits in uint8\n",
      "  return _convert(image, np.uint8, force_copy)\n",
      "/home/pedro/Documents/UNI/_3_ano/LAB_IACD/project_1/.venv/lib/python3.10/site-packages/skimage/util/dtype.py:576: UserWarning: Downcasting int16 to uint8 without scaling because max value -47 fits in uint8\n",
      "  return _convert(image, np.uint8, force_copy)\n",
      "/home/pedro/Documents/UNI/_3_ano/LAB_IACD/project_1/.venv/lib/python3.10/site-packages/skimage/util/dtype.py:576: UserWarning: Downcasting int16 to uint8 without scaling because max value 37 fits in uint8\n",
      "  return _convert(image, np.uint8, force_copy)\n",
      "/home/pedro/Documents/UNI/_3_ano/LAB_IACD/project_1/.venv/lib/python3.10/site-packages/skimage/util/dtype.py:576: UserWarning: Downcasting int16 to uint8 without scaling because max value -198 fits in uint8\n",
      "  return _convert(image, np.uint8, force_copy)\n",
      "/home/pedro/Documents/UNI/_3_ano/LAB_IACD/project_1/.venv/lib/python3.10/site-packages/skimage/util/dtype.py:576: UserWarning: Downcasting int16 to uint8 without scaling because max value -102 fits in uint8\n",
      "  return _convert(image, np.uint8, force_copy)\n",
      "/home/pedro/Documents/UNI/_3_ano/LAB_IACD/project_1/.venv/lib/python3.10/site-packages/skimage/util/dtype.py:576: UserWarning: Downcasting int16 to uint8 without scaling because max value 245 fits in uint8\n",
      "  return _convert(image, np.uint8, force_copy)\n"
     ]
    },
    {
     "name": "stdout",
     "output_type": "stream",
     "text": [
      "Currently in scan: LIDC-IDRI-0774\n",
      "Loading dicom files ... This may take a moment.\n",
      "Currently in scan: LIDC-IDRI-0775\n",
      "Loading dicom files ... This may take a moment.\n"
     ]
    },
    {
     "name": "stderr",
     "output_type": "stream",
     "text": [
      "/home/pedro/Documents/UNI/_3_ano/LAB_IACD/project_1/.venv/lib/python3.10/site-packages/skimage/util/dtype.py:576: UserWarning: Downcasting int16 to uint8 without scaling because max value 144 fits in uint8\n",
      "  return _convert(image, np.uint8, force_copy)\n",
      "/home/pedro/Documents/UNI/_3_ano/LAB_IACD/project_1/.venv/lib/python3.10/site-packages/skimage/util/dtype.py:576: UserWarning: Downcasting int16 to uint8 without scaling because max value 42 fits in uint8\n",
      "  return _convert(image, np.uint8, force_copy)\n",
      "/home/pedro/Documents/UNI/_3_ano/LAB_IACD/project_1/.venv/lib/python3.10/site-packages/skimage/util/dtype.py:576: UserWarning: Downcasting int16 to uint8 without scaling because max value -16 fits in uint8\n",
      "  return _convert(image, np.uint8, force_copy)\n"
     ]
    },
    {
     "name": "stdout",
     "output_type": "stream",
     "text": [
      "Currently in scan: LIDC-IDRI-0776\n",
      "Loading dicom files ... This may take a moment.\n"
     ]
    },
    {
     "name": "stderr",
     "output_type": "stream",
     "text": [
      "/home/pedro/Documents/UNI/_3_ano/LAB_IACD/project_1/.venv/lib/python3.10/site-packages/skimage/util/dtype.py:576: UserWarning: Downcasting int16 to uint8 without scaling because max value 158 fits in uint8\n",
      "  return _convert(image, np.uint8, force_copy)\n"
     ]
    },
    {
     "name": "stdout",
     "output_type": "stream",
     "text": [
      "Currently in scan: LIDC-IDRI-0777\n",
      "Loading dicom files ... This may take a moment.\n"
     ]
    },
    {
     "name": "stderr",
     "output_type": "stream",
     "text": [
      "/home/pedro/Documents/UNI/_3_ano/LAB_IACD/project_1/.venv/lib/python3.10/site-packages/skimage/util/dtype.py:576: UserWarning: Downcasting int16 to uint8 without scaling because max value 129 fits in uint8\n",
      "  return _convert(image, np.uint8, force_copy)\n",
      "/home/pedro/Documents/UNI/_3_ano/LAB_IACD/project_1/.venv/lib/python3.10/site-packages/skimage/util/dtype.py:576: UserWarning: Downcasting int16 to uint8 without scaling because max value 191 fits in uint8\n",
      "  return _convert(image, np.uint8, force_copy)\n",
      "/home/pedro/Documents/UNI/_3_ano/LAB_IACD/project_1/.venv/lib/python3.10/site-packages/skimage/util/dtype.py:576: UserWarning: Downcasting int16 to uint8 without scaling because max value 204 fits in uint8\n",
      "  return _convert(image, np.uint8, force_copy)\n",
      "/home/pedro/Documents/UNI/_3_ano/LAB_IACD/project_1/.venv/lib/python3.10/site-packages/skimage/util/dtype.py:576: UserWarning: Downcasting int16 to uint8 without scaling because max value -8 fits in uint8\n",
      "  return _convert(image, np.uint8, force_copy)\n",
      "/home/pedro/Documents/UNI/_3_ano/LAB_IACD/project_1/.venv/lib/python3.10/site-packages/skimage/util/dtype.py:576: UserWarning: Downcasting int16 to uint8 without scaling because max value -377 fits in uint8\n",
      "  return _convert(image, np.uint8, force_copy)\n"
     ]
    },
    {
     "name": "stdout",
     "output_type": "stream",
     "text": [
      "Currently in scan: LIDC-IDRI-0778\n",
      "Loading dicom files ... This may take a moment.\n"
     ]
    },
    {
     "name": "stderr",
     "output_type": "stream",
     "text": [
      "/home/pedro/Documents/UNI/_3_ano/LAB_IACD/project_1/.venv/lib/python3.10/site-packages/skimage/util/dtype.py:576: UserWarning: Downcasting int16 to uint8 without scaling because max value -35 fits in uint8\n",
      "  return _convert(image, np.uint8, force_copy)\n"
     ]
    },
    {
     "name": "stdout",
     "output_type": "stream",
     "text": [
      "Currently in scan: LIDC-IDRI-0779\n",
      "Loading dicom files ... This may take a moment.\n",
      "Currently in scan: LIDC-IDRI-0780\n",
      "Loading dicom files ... This may take a moment.\n",
      "Currently in scan: LIDC-IDRI-0781\n",
      "Loading dicom files ... This may take a moment.\n",
      "Currently in scan: LIDC-IDRI-0782\n",
      "Loading dicom files ... This may take a moment.\n",
      "Currently in scan: LIDC-IDRI-0783\n",
      "Loading dicom files ... This may take a moment.\n"
     ]
    },
    {
     "name": "stderr",
     "output_type": "stream",
     "text": [
      "/home/pedro/Documents/UNI/_3_ano/LAB_IACD/project_1/.venv/lib/python3.10/site-packages/skimage/util/dtype.py:576: UserWarning: Downcasting int16 to uint8 without scaling because max value 31 fits in uint8\n",
      "  return _convert(image, np.uint8, force_copy)\n"
     ]
    },
    {
     "name": "stdout",
     "output_type": "stream",
     "text": [
      "Currently in scan: LIDC-IDRI-0784\n",
      "Loading dicom files ... This may take a moment.\n",
      "Currently in scan: LIDC-IDRI-0785\n",
      "Loading dicom files ... This may take a moment.\n"
     ]
    },
    {
     "name": "stderr",
     "output_type": "stream",
     "text": [
      "/home/pedro/Documents/UNI/_3_ano/LAB_IACD/project_1/.venv/lib/python3.10/site-packages/skimage/util/dtype.py:576: UserWarning: Downcasting int16 to uint8 without scaling because max value 49 fits in uint8\n",
      "  return _convert(image, np.uint8, force_copy)\n"
     ]
    },
    {
     "name": "stdout",
     "output_type": "stream",
     "text": [
      "Currently in scan: LIDC-IDRI-0786\n",
      "Loading dicom files ... This may take a moment.\n"
     ]
    },
    {
     "name": "stderr",
     "output_type": "stream",
     "text": [
      "/home/pedro/Documents/UNI/_3_ano/LAB_IACD/project_1/.venv/lib/python3.10/site-packages/skimage/util/dtype.py:576: UserWarning: Downcasting int16 to uint8 without scaling because max value 14 fits in uint8\n",
      "  return _convert(image, np.uint8, force_copy)\n"
     ]
    },
    {
     "name": "stdout",
     "output_type": "stream",
     "text": [
      "Currently in scan: LIDC-IDRI-0787\n",
      "Loading dicom files ... This may take a moment.\n"
     ]
    },
    {
     "name": "stderr",
     "output_type": "stream",
     "text": [
      "/home/pedro/Documents/UNI/_3_ano/LAB_IACD/project_1/.venv/lib/python3.10/site-packages/skimage/util/dtype.py:576: UserWarning: Downcasting int16 to uint8 without scaling because max value -67 fits in uint8\n",
      "  return _convert(image, np.uint8, force_copy)\n"
     ]
    },
    {
     "name": "stdout",
     "output_type": "stream",
     "text": [
      "Currently in scan: LIDC-IDRI-0788\n",
      "Loading dicom files ... This may take a moment.\n"
     ]
    },
    {
     "name": "stderr",
     "output_type": "stream",
     "text": [
      "/home/pedro/Documents/UNI/_3_ano/LAB_IACD/project_1/.venv/lib/python3.10/site-packages/skimage/util/dtype.py:576: UserWarning: Downcasting int16 to uint8 without scaling because max value -112 fits in uint8\n",
      "  return _convert(image, np.uint8, force_copy)\n"
     ]
    },
    {
     "name": "stdout",
     "output_type": "stream",
     "text": [
      "Currently in scan: LIDC-IDRI-0789\n",
      "Loading dicom files ... This may take a moment.\n",
      "Currently in scan: LIDC-IDRI-0790\n",
      "Loading dicom files ... This may take a moment.\n",
      "Currently in scan: LIDC-IDRI-0791\n",
      "Loading dicom files ... This may take a moment.\n",
      "Currently in scan: LIDC-IDRI-0792\n",
      "Loading dicom files ... This may take a moment.\n"
     ]
    },
    {
     "name": "stderr",
     "output_type": "stream",
     "text": [
      "/home/pedro/Documents/UNI/_3_ano/LAB_IACD/project_1/.venv/lib/python3.10/site-packages/skimage/util/dtype.py:576: UserWarning: Downcasting int16 to uint8 without scaling because max value 112 fits in uint8\n",
      "  return _convert(image, np.uint8, force_copy)\n"
     ]
    },
    {
     "name": "stdout",
     "output_type": "stream",
     "text": [
      "Currently in scan: LIDC-IDRI-0793\n",
      "Loading dicom files ... This may take a moment.\n",
      "Currently in scan: LIDC-IDRI-0794\n",
      "Loading dicom files ... This may take a moment.\n"
     ]
    },
    {
     "name": "stderr",
     "output_type": "stream",
     "text": [
      "/home/pedro/Documents/UNI/_3_ano/LAB_IACD/project_1/.venv/lib/python3.10/site-packages/skimage/util/dtype.py:576: UserWarning: Downcasting int16 to uint8 without scaling because max value 36 fits in uint8\n",
      "  return _convert(image, np.uint8, force_copy)\n"
     ]
    },
    {
     "name": "stdout",
     "output_type": "stream",
     "text": [
      "Currently in scan: LIDC-IDRI-0795\n",
      "Loading dicom files ... This may take a moment.\n"
     ]
    },
    {
     "name": "stderr",
     "output_type": "stream",
     "text": [
      "/home/pedro/Documents/UNI/_3_ano/LAB_IACD/project_1/.venv/lib/python3.10/site-packages/skimage/util/dtype.py:576: UserWarning: Downcasting int16 to uint8 without scaling because max value -42 fits in uint8\n",
      "  return _convert(image, np.uint8, force_copy)\n",
      "/home/pedro/Documents/UNI/_3_ano/LAB_IACD/project_1/.venv/lib/python3.10/site-packages/skimage/util/dtype.py:576: UserWarning: Downcasting int16 to uint8 without scaling because max value 20 fits in uint8\n",
      "  return _convert(image, np.uint8, force_copy)\n"
     ]
    },
    {
     "name": "stdout",
     "output_type": "stream",
     "text": [
      "Currently in scan: LIDC-IDRI-0796\n",
      "Loading dicom files ... This may take a moment.\n",
      "Currently in scan: LIDC-IDRI-0797\n",
      "Loading dicom files ... This may take a moment.\n",
      "Currently in scan: LIDC-IDRI-0798\n",
      "Loading dicom files ... This may take a moment.\n"
     ]
    },
    {
     "name": "stderr",
     "output_type": "stream",
     "text": [
      "/home/pedro/Documents/UNI/_3_ano/LAB_IACD/project_1/.venv/lib/python3.10/site-packages/skimage/util/dtype.py:576: UserWarning: Downcasting int16 to uint8 without scaling because max value 47 fits in uint8\n",
      "  return _convert(image, np.uint8, force_copy)\n"
     ]
    },
    {
     "name": "stdout",
     "output_type": "stream",
     "text": [
      "Currently in scan: LIDC-IDRI-0799\n",
      "Loading dicom files ... This may take a moment.\n"
     ]
    },
    {
     "name": "stderr",
     "output_type": "stream",
     "text": [
      "/home/pedro/Documents/UNI/_3_ano/LAB_IACD/project_1/.venv/lib/python3.10/site-packages/skimage/util/dtype.py:576: UserWarning: Downcasting int16 to uint8 without scaling because max value 119 fits in uint8\n",
      "  return _convert(image, np.uint8, force_copy)\n"
     ]
    },
    {
     "name": "stdout",
     "output_type": "stream",
     "text": [
      "Currently in scan: LIDC-IDRI-0800\n",
      "Loading dicom files ... This may take a moment.\n",
      "Currently in scan: LIDC-IDRI-0801\n",
      "Loading dicom files ... This may take a moment.\n"
     ]
    },
    {
     "name": "stderr",
     "output_type": "stream",
     "text": [
      "/home/pedro/Documents/UNI/_3_ano/LAB_IACD/project_1/.venv/lib/python3.10/site-packages/skimage/util/dtype.py:576: UserWarning: Downcasting int16 to uint8 without scaling because max value 225 fits in uint8\n",
      "  return _convert(image, np.uint8, force_copy)\n"
     ]
    },
    {
     "name": "stdout",
     "output_type": "stream",
     "text": [
      "Currently in scan: LIDC-IDRI-0802\n",
      "Loading dicom files ... This may take a moment.\n",
      "Currently in scan: LIDC-IDRI-0803\n",
      "Loading dicom files ... This may take a moment.\n",
      "Currently in scan: LIDC-IDRI-0804\n",
      "Loading dicom files ... This may take a moment.\n",
      "Currently in scan: LIDC-IDRI-0805\n",
      "Loading dicom files ... This may take a moment.\n"
     ]
    },
    {
     "name": "stderr",
     "output_type": "stream",
     "text": [
      "/home/pedro/Documents/UNI/_3_ano/LAB_IACD/project_1/.venv/lib/python3.10/site-packages/skimage/util/dtype.py:576: UserWarning: Downcasting int16 to uint8 without scaling because max value 215 fits in uint8\n",
      "  return _convert(image, np.uint8, force_copy)\n"
     ]
    },
    {
     "name": "stdout",
     "output_type": "stream",
     "text": [
      "Currently in scan: LIDC-IDRI-0806\n",
      "Loading dicom files ... This may take a moment.\n"
     ]
    },
    {
     "name": "stderr",
     "output_type": "stream",
     "text": [
      "/home/pedro/Documents/UNI/_3_ano/LAB_IACD/project_1/.venv/lib/python3.10/site-packages/skimage/util/dtype.py:576: UserWarning: Downcasting int16 to uint8 without scaling because max value 173 fits in uint8\n",
      "  return _convert(image, np.uint8, force_copy)\n",
      "/home/pedro/Documents/UNI/_3_ano/LAB_IACD/project_1/.venv/lib/python3.10/site-packages/skimage/util/dtype.py:576: UserWarning: Downcasting int16 to uint8 without scaling because max value 88 fits in uint8\n",
      "  return _convert(image, np.uint8, force_copy)\n",
      "/home/pedro/Documents/UNI/_3_ano/LAB_IACD/project_1/.venv/lib/python3.10/site-packages/skimage/util/dtype.py:576: UserWarning: Downcasting int16 to uint8 without scaling because max value 117 fits in uint8\n",
      "  return _convert(image, np.uint8, force_copy)\n"
     ]
    },
    {
     "name": "stdout",
     "output_type": "stream",
     "text": [
      "Currently in scan: LIDC-IDRI-0807\n",
      "Loading dicom files ... This may take a moment.\n"
     ]
    },
    {
     "name": "stderr",
     "output_type": "stream",
     "text": [
      "/home/pedro/Documents/UNI/_3_ano/LAB_IACD/project_1/.venv/lib/python3.10/site-packages/skimage/util/dtype.py:576: UserWarning: Downcasting int16 to uint8 without scaling because max value 105 fits in uint8\n",
      "  return _convert(image, np.uint8, force_copy)\n",
      "/home/pedro/Documents/UNI/_3_ano/LAB_IACD/project_1/.venv/lib/python3.10/site-packages/skimage/util/dtype.py:576: UserWarning: Downcasting int16 to uint8 without scaling because max value 117 fits in uint8\n",
      "  return _convert(image, np.uint8, force_copy)\n",
      "/home/pedro/Documents/UNI/_3_ano/LAB_IACD/project_1/.venv/lib/python3.10/site-packages/skimage/util/dtype.py:576: UserWarning: Downcasting int16 to uint8 without scaling because max value -71 fits in uint8\n",
      "  return _convert(image, np.uint8, force_copy)\n",
      "/home/pedro/Documents/UNI/_3_ano/LAB_IACD/project_1/.venv/lib/python3.10/site-packages/skimage/util/dtype.py:576: UserWarning: Downcasting int16 to uint8 without scaling because max value 104 fits in uint8\n",
      "  return _convert(image, np.uint8, force_copy)\n"
     ]
    },
    {
     "name": "stdout",
     "output_type": "stream",
     "text": [
      "Currently in scan: LIDC-IDRI-0808\n",
      "Loading dicom files ... This may take a moment.\n",
      "Currently in scan: LIDC-IDRI-0809\n",
      "Loading dicom files ... This may take a moment.\n",
      "Currently in scan: LIDC-IDRI-0810\n",
      "Loading dicom files ... This may take a moment.\n",
      "Currently in scan: LIDC-IDRI-0811\n",
      "Loading dicom files ... This may take a moment.\n",
      "Currently in scan: LIDC-IDRI-0812\n",
      "Loading dicom files ... This may take a moment.\n",
      "Currently in scan: LIDC-IDRI-0813\n",
      "Loading dicom files ... This may take a moment.\n"
     ]
    },
    {
     "name": "stderr",
     "output_type": "stream",
     "text": [
      "/home/pedro/Documents/UNI/_3_ano/LAB_IACD/project_1/.venv/lib/python3.10/site-packages/skimage/util/dtype.py:576: UserWarning: Downcasting int16 to uint8 without scaling because max value 113 fits in uint8\n",
      "  return _convert(image, np.uint8, force_copy)\n",
      "/home/pedro/Documents/UNI/_3_ano/LAB_IACD/project_1/.venv/lib/python3.10/site-packages/skimage/util/dtype.py:576: UserWarning: Downcasting int16 to uint8 without scaling because max value 90 fits in uint8\n",
      "  return _convert(image, np.uint8, force_copy)\n"
     ]
    },
    {
     "name": "stdout",
     "output_type": "stream",
     "text": [
      "Currently in scan: LIDC-IDRI-0814\n",
      "Loading dicom files ... This may take a moment.\n",
      "Currently in scan: LIDC-IDRI-0815\n",
      "Failed to reduce all groups to <= 4 Annotations.\n",
      "Some nodules may be close and must be grouped manually.\n",
      "Loading dicom files ... This may take a moment.\n",
      "Currently in scan: LIDC-IDRI-0816\n",
      "Loading dicom files ... This may take a moment.\n"
     ]
    },
    {
     "name": "stderr",
     "output_type": "stream",
     "text": [
      "/home/pedro/Documents/UNI/_3_ano/LAB_IACD/project_1/.venv/lib/python3.10/site-packages/skimage/util/dtype.py:576: UserWarning: Downcasting int16 to uint8 without scaling because max value 16 fits in uint8\n",
      "  return _convert(image, np.uint8, force_copy)\n"
     ]
    },
    {
     "name": "stdout",
     "output_type": "stream",
     "text": [
      "Currently in scan: LIDC-IDRI-0817\n",
      "Loading dicom files ... This may take a moment.\n"
     ]
    },
    {
     "name": "stderr",
     "output_type": "stream",
     "text": [
      "/home/pedro/Documents/UNI/_3_ano/LAB_IACD/project_1/.venv/lib/python3.10/site-packages/skimage/util/dtype.py:576: UserWarning: Downcasting int16 to uint8 without scaling because max value 211 fits in uint8\n",
      "  return _convert(image, np.uint8, force_copy)\n"
     ]
    },
    {
     "name": "stdout",
     "output_type": "stream",
     "text": [
      "Currently in scan: LIDC-IDRI-0818\n",
      "Loading dicom files ... This may take a moment.\n",
      "Currently in scan: LIDC-IDRI-0819\n",
      "Loading dicom files ... This may take a moment.\n",
      "Currently in scan: LIDC-IDRI-0820\n",
      "Loading dicom files ... This may take a moment.\n"
     ]
    },
    {
     "name": "stderr",
     "output_type": "stream",
     "text": [
      "/home/pedro/Documents/UNI/_3_ano/LAB_IACD/project_1/.venv/lib/python3.10/site-packages/skimage/util/dtype.py:576: UserWarning: Downcasting int16 to uint8 without scaling because max value 142 fits in uint8\n",
      "  return _convert(image, np.uint8, force_copy)\n"
     ]
    },
    {
     "name": "stdout",
     "output_type": "stream",
     "text": [
      "Currently in scan: LIDC-IDRI-0821\n",
      "Loading dicom files ... This may take a moment.\n",
      "Currently in scan: LIDC-IDRI-0822\n",
      "Loading dicom files ... This may take a moment.\n"
     ]
    },
    {
     "name": "stderr",
     "output_type": "stream",
     "text": [
      "/home/pedro/Documents/UNI/_3_ano/LAB_IACD/project_1/.venv/lib/python3.10/site-packages/skimage/util/dtype.py:576: UserWarning: Downcasting int16 to uint8 without scaling because max value 138 fits in uint8\n",
      "  return _convert(image, np.uint8, force_copy)\n"
     ]
    },
    {
     "name": "stdout",
     "output_type": "stream",
     "text": [
      "Currently in scan: LIDC-IDRI-0823\n",
      "Loading dicom files ... This may take a moment.\n"
     ]
    },
    {
     "name": "stderr",
     "output_type": "stream",
     "text": [
      "/home/pedro/Documents/UNI/_3_ano/LAB_IACD/project_1/.venv/lib/python3.10/site-packages/skimage/util/dtype.py:576: UserWarning: Downcasting int16 to uint8 without scaling because max value 212 fits in uint8\n",
      "  return _convert(image, np.uint8, force_copy)\n"
     ]
    },
    {
     "name": "stdout",
     "output_type": "stream",
     "text": [
      "Currently in scan: LIDC-IDRI-0824\n",
      "Loading dicom files ... This may take a moment.\n"
     ]
    },
    {
     "name": "stderr",
     "output_type": "stream",
     "text": [
      "/home/pedro/Documents/UNI/_3_ano/LAB_IACD/project_1/.venv/lib/python3.10/site-packages/skimage/util/dtype.py:576: UserWarning: Downcasting int16 to uint8 without scaling because max value 165 fits in uint8\n",
      "  return _convert(image, np.uint8, force_copy)\n"
     ]
    },
    {
     "name": "stdout",
     "output_type": "stream",
     "text": [
      "Currently in scan: LIDC-IDRI-0825\n",
      "Loading dicom files ... This may take a moment.\n",
      "Currently in scan: LIDC-IDRI-0826\n",
      "Loading dicom files ... This may take a moment.\n"
     ]
    },
    {
     "name": "stderr",
     "output_type": "stream",
     "text": [
      "/home/pedro/Documents/UNI/_3_ano/LAB_IACD/project_1/.venv/lib/python3.10/site-packages/skimage/util/dtype.py:576: UserWarning: Downcasting int16 to uint8 without scaling because max value -21 fits in uint8\n",
      "  return _convert(image, np.uint8, force_copy)\n"
     ]
    },
    {
     "name": "stdout",
     "output_type": "stream",
     "text": [
      "Currently in scan: LIDC-IDRI-0827\n",
      "Loading dicom files ... This may take a moment.\n",
      "Currently in scan: LIDC-IDRI-0828\n",
      "Loading dicom files ... This may take a moment.\n",
      "Currently in scan: LIDC-IDRI-0829\n",
      "Loading dicom files ... This may take a moment.\n",
      "Currently in scan: LIDC-IDRI-0830\n",
      "Loading dicom files ... This may take a moment.\n",
      "Currently in scan: LIDC-IDRI-0831\n",
      "Loading dicom files ... This may take a moment.\n",
      "Currently in scan: LIDC-IDRI-0832\n",
      "Loading dicom files ... This may take a moment.\n",
      "Currently in scan: LIDC-IDRI-0833\n",
      "Loading dicom files ... This may take a moment.\n"
     ]
    },
    {
     "name": "stderr",
     "output_type": "stream",
     "text": [
      "/home/pedro/Documents/UNI/_3_ano/LAB_IACD/project_1/.venv/lib/python3.10/site-packages/skimage/util/dtype.py:576: UserWarning: Downcasting int16 to uint8 without scaling because max value 95 fits in uint8\n",
      "  return _convert(image, np.uint8, force_copy)\n"
     ]
    },
    {
     "name": "stdout",
     "output_type": "stream",
     "text": [
      "Currently in scan: LIDC-IDRI-0834\n",
      "Loading dicom files ... This may take a moment.\n"
     ]
    },
    {
     "name": "stderr",
     "output_type": "stream",
     "text": [
      "/home/pedro/Documents/UNI/_3_ano/LAB_IACD/project_1/.venv/lib/python3.10/site-packages/skimage/util/dtype.py:576: UserWarning: Downcasting int16 to uint8 without scaling because max value 25 fits in uint8\n",
      "  return _convert(image, np.uint8, force_copy)\n"
     ]
    },
    {
     "name": "stdout",
     "output_type": "stream",
     "text": [
      "Currently in scan: LIDC-IDRI-0835\n",
      "Loading dicom files ... This may take a moment.\n",
      "Currently in scan: LIDC-IDRI-0836\n",
      "Loading dicom files ... This may take a moment.\n"
     ]
    },
    {
     "name": "stderr",
     "output_type": "stream",
     "text": [
      "/home/pedro/Documents/UNI/_3_ano/LAB_IACD/project_1/.venv/lib/python3.10/site-packages/skimage/util/dtype.py:576: UserWarning: Downcasting int16 to uint8 without scaling because max value 169 fits in uint8\n",
      "  return _convert(image, np.uint8, force_copy)\n"
     ]
    },
    {
     "name": "stdout",
     "output_type": "stream",
     "text": [
      "Currently in scan: LIDC-IDRI-0837\n",
      "Loading dicom files ... This may take a moment.\n",
      "Currently in scan: LIDC-IDRI-0838\n",
      "Loading dicom files ... This may take a moment.\n"
     ]
    },
    {
     "name": "stderr",
     "output_type": "stream",
     "text": [
      "/home/pedro/Documents/UNI/_3_ano/LAB_IACD/project_1/.venv/lib/python3.10/site-packages/skimage/util/dtype.py:576: UserWarning: Downcasting int16 to uint8 without scaling because max value 96 fits in uint8\n",
      "  return _convert(image, np.uint8, force_copy)\n"
     ]
    },
    {
     "name": "stdout",
     "output_type": "stream",
     "text": [
      "Currently in scan: LIDC-IDRI-0839\n",
      "Loading dicom files ... This may take a moment.\n",
      "Currently in scan: LIDC-IDRI-0840\n",
      "Loading dicom files ... This may take a moment.\n",
      "Currently in scan: LIDC-IDRI-0841\n",
      "Loading dicom files ... This may take a moment.\n",
      "Currently in scan: LIDC-IDRI-0842\n",
      "Loading dicom files ... This may take a moment.\n",
      "Currently in scan: LIDC-IDRI-0843\n",
      "Loading dicom files ... This may take a moment.\n"
     ]
    },
    {
     "name": "stderr",
     "output_type": "stream",
     "text": [
      "/home/pedro/Documents/UNI/_3_ano/LAB_IACD/project_1/.venv/lib/python3.10/site-packages/skimage/util/dtype.py:576: UserWarning: Downcasting int16 to uint8 without scaling because max value 203 fits in uint8\n",
      "  return _convert(image, np.uint8, force_copy)\n",
      "/home/pedro/Documents/UNI/_3_ano/LAB_IACD/project_1/.venv/lib/python3.10/site-packages/skimage/util/dtype.py:576: UserWarning: Downcasting int16 to uint8 without scaling because max value 138 fits in uint8\n",
      "  return _convert(image, np.uint8, force_copy)\n",
      "/home/pedro/Documents/UNI/_3_ano/LAB_IACD/project_1/.venv/lib/python3.10/site-packages/skimage/util/dtype.py:576: UserWarning: Downcasting int16 to uint8 without scaling because max value 130 fits in uint8\n",
      "  return _convert(image, np.uint8, force_copy)\n"
     ]
    },
    {
     "name": "stdout",
     "output_type": "stream",
     "text": [
      "Currently in scan: LIDC-IDRI-0844\n",
      "Loading dicom files ... This may take a moment.\n"
     ]
    },
    {
     "name": "stderr",
     "output_type": "stream",
     "text": [
      "/home/pedro/Documents/UNI/_3_ano/LAB_IACD/project_1/.venv/lib/python3.10/site-packages/skimage/util/dtype.py:576: UserWarning: Downcasting int16 to uint8 without scaling because max value 77 fits in uint8\n",
      "  return _convert(image, np.uint8, force_copy)\n",
      "/home/pedro/Documents/UNI/_3_ano/LAB_IACD/project_1/.venv/lib/python3.10/site-packages/skimage/util/dtype.py:576: UserWarning: Downcasting int16 to uint8 without scaling because max value -46 fits in uint8\n",
      "  return _convert(image, np.uint8, force_copy)\n"
     ]
    },
    {
     "name": "stdout",
     "output_type": "stream",
     "text": [
      "Currently in scan: LIDC-IDRI-0845\n",
      "Loading dicom files ... This may take a moment.\n",
      "Currently in scan: LIDC-IDRI-0846\n",
      "Loading dicom files ... This may take a moment.\n"
     ]
    },
    {
     "name": "stderr",
     "output_type": "stream",
     "text": [
      "/home/pedro/Documents/UNI/_3_ano/LAB_IACD/project_1/.venv/lib/python3.10/site-packages/skimage/util/dtype.py:576: UserWarning: Downcasting int16 to uint8 without scaling because max value -344 fits in uint8\n",
      "  return _convert(image, np.uint8, force_copy)\n"
     ]
    },
    {
     "name": "stdout",
     "output_type": "stream",
     "text": [
      "Currently in scan: LIDC-IDRI-0847\n",
      "Loading dicom files ... This may take a moment.\n"
     ]
    },
    {
     "name": "stderr",
     "output_type": "stream",
     "text": [
      "/home/pedro/Documents/UNI/_3_ano/LAB_IACD/project_1/.venv/lib/python3.10/site-packages/skimage/util/dtype.py:576: UserWarning: Downcasting int16 to uint8 without scaling because max value 96 fits in uint8\n",
      "  return _convert(image, np.uint8, force_copy)\n"
     ]
    },
    {
     "name": "stdout",
     "output_type": "stream",
     "text": [
      "Currently in scan: LIDC-IDRI-0848\n",
      "Loading dicom files ... This may take a moment.\n",
      "Currently in scan: LIDC-IDRI-0849\n",
      "Loading dicom files ... This may take a moment.\n"
     ]
    },
    {
     "name": "stderr",
     "output_type": "stream",
     "text": [
      "/home/pedro/Documents/UNI/_3_ano/LAB_IACD/project_1/.venv/lib/python3.10/site-packages/skimage/util/dtype.py:576: UserWarning: Downcasting int16 to uint8 without scaling because max value 66 fits in uint8\n",
      "  return _convert(image, np.uint8, force_copy)\n"
     ]
    },
    {
     "name": "stdout",
     "output_type": "stream",
     "text": [
      "Currently in scan: LIDC-IDRI-0850\n",
      "Loading dicom files ... This may take a moment.\n",
      "Currently in scan: LIDC-IDRI-0851\n",
      "Loading dicom files ... This may take a moment.\n"
     ]
    },
    {
     "name": "stderr",
     "output_type": "stream",
     "text": [
      "/home/pedro/Documents/UNI/_3_ano/LAB_IACD/project_1/.venv/lib/python3.10/site-packages/skimage/util/dtype.py:576: UserWarning: Downcasting int16 to uint8 without scaling because max value 73 fits in uint8\n",
      "  return _convert(image, np.uint8, force_copy)\n",
      "/home/pedro/Documents/UNI/_3_ano/LAB_IACD/project_1/.venv/lib/python3.10/site-packages/skimage/util/dtype.py:576: UserWarning: Downcasting int16 to uint8 without scaling because max value 13 fits in uint8\n",
      "  return _convert(image, np.uint8, force_copy)\n",
      "/home/pedro/Documents/UNI/_3_ano/LAB_IACD/project_1/.venv/lib/python3.10/site-packages/skimage/util/dtype.py:576: UserWarning: Downcasting int16 to uint8 without scaling because max value 117 fits in uint8\n",
      "  return _convert(image, np.uint8, force_copy)\n"
     ]
    },
    {
     "name": "stdout",
     "output_type": "stream",
     "text": [
      "Currently in scan: LIDC-IDRI-0852\n",
      "Loading dicom files ... This may take a moment.\n"
     ]
    },
    {
     "name": "stderr",
     "output_type": "stream",
     "text": [
      "/home/pedro/Documents/UNI/_3_ano/LAB_IACD/project_1/.venv/lib/python3.10/site-packages/skimage/util/dtype.py:576: UserWarning: Downcasting int16 to uint8 without scaling because max value -24 fits in uint8\n",
      "  return _convert(image, np.uint8, force_copy)\n",
      "/home/pedro/Documents/UNI/_3_ano/LAB_IACD/project_1/.venv/lib/python3.10/site-packages/skimage/util/dtype.py:576: UserWarning: Downcasting int16 to uint8 without scaling because max value 73 fits in uint8\n",
      "  return _convert(image, np.uint8, force_copy)\n"
     ]
    },
    {
     "name": "stdout",
     "output_type": "stream",
     "text": [
      "Currently in scan: LIDC-IDRI-0853\n",
      "Loading dicom files ... This may take a moment.\n",
      "Currently in scan: LIDC-IDRI-0854\n",
      "Loading dicom files ... This may take a moment.\n"
     ]
    },
    {
     "name": "stderr",
     "output_type": "stream",
     "text": [
      "/home/pedro/Documents/UNI/_3_ano/LAB_IACD/project_1/.venv/lib/python3.10/site-packages/skimage/util/dtype.py:576: UserWarning: Downcasting int16 to uint8 without scaling because max value 76 fits in uint8\n",
      "  return _convert(image, np.uint8, force_copy)\n"
     ]
    },
    {
     "name": "stdout",
     "output_type": "stream",
     "text": [
      "Currently in scan: LIDC-IDRI-0855\n",
      "Loading dicom files ... This may take a moment.\n"
     ]
    },
    {
     "name": "stderr",
     "output_type": "stream",
     "text": [
      "/home/pedro/Documents/UNI/_3_ano/LAB_IACD/project_1/.venv/lib/python3.10/site-packages/skimage/util/dtype.py:576: UserWarning: Downcasting int16 to uint8 without scaling because max value 150 fits in uint8\n",
      "  return _convert(image, np.uint8, force_copy)\n",
      "/home/pedro/Documents/UNI/_3_ano/LAB_IACD/project_1/.venv/lib/python3.10/site-packages/skimage/util/dtype.py:576: UserWarning: Downcasting int16 to uint8 without scaling because max value 52 fits in uint8\n",
      "  return _convert(image, np.uint8, force_copy)\n",
      "/home/pedro/Documents/UNI/_3_ano/LAB_IACD/project_1/.venv/lib/python3.10/site-packages/skimage/util/dtype.py:576: UserWarning: Downcasting int16 to uint8 without scaling because max value -313 fits in uint8\n",
      "  return _convert(image, np.uint8, force_copy)\n",
      "/home/pedro/Documents/UNI/_3_ano/LAB_IACD/project_1/.venv/lib/python3.10/site-packages/skimage/util/dtype.py:576: UserWarning: Downcasting int16 to uint8 without scaling because max value -74 fits in uint8\n",
      "  return _convert(image, np.uint8, force_copy)\n",
      "/home/pedro/Documents/UNI/_3_ano/LAB_IACD/project_1/.venv/lib/python3.10/site-packages/skimage/util/dtype.py:576: UserWarning: Downcasting int16 to uint8 without scaling because max value -63 fits in uint8\n",
      "  return _convert(image, np.uint8, force_copy)\n",
      "/home/pedro/Documents/UNI/_3_ano/LAB_IACD/project_1/.venv/lib/python3.10/site-packages/skimage/util/dtype.py:576: UserWarning: Downcasting int16 to uint8 without scaling because max value -514 fits in uint8\n",
      "  return _convert(image, np.uint8, force_copy)\n"
     ]
    },
    {
     "name": "stdout",
     "output_type": "stream",
     "text": [
      "Currently in scan: LIDC-IDRI-0856\n",
      "Loading dicom files ... This may take a moment.\n",
      "Currently in scan: LIDC-IDRI-0857\n",
      "Loading dicom files ... This may take a moment.\n",
      "Currently in scan: LIDC-IDRI-0858\n",
      "Loading dicom files ... This may take a moment.\n"
     ]
    },
    {
     "name": "stderr",
     "output_type": "stream",
     "text": [
      "/home/pedro/Documents/UNI/_3_ano/LAB_IACD/project_1/.venv/lib/python3.10/site-packages/skimage/util/dtype.py:576: UserWarning: Downcasting int16 to uint8 without scaling because max value 204 fits in uint8\n",
      "  return _convert(image, np.uint8, force_copy)\n",
      "/home/pedro/Documents/UNI/_3_ano/LAB_IACD/project_1/.venv/lib/python3.10/site-packages/skimage/util/dtype.py:576: UserWarning: Downcasting int16 to uint8 without scaling because max value 64 fits in uint8\n",
      "  return _convert(image, np.uint8, force_copy)\n",
      "/home/pedro/Documents/UNI/_3_ano/LAB_IACD/project_1/.venv/lib/python3.10/site-packages/skimage/util/dtype.py:576: UserWarning: Downcasting int16 to uint8 without scaling because max value 178 fits in uint8\n",
      "  return _convert(image, np.uint8, force_copy)\n",
      "/home/pedro/Documents/UNI/_3_ano/LAB_IACD/project_1/.venv/lib/python3.10/site-packages/skimage/util/dtype.py:576: UserWarning: Downcasting int16 to uint8 without scaling because max value -81 fits in uint8\n",
      "  return _convert(image, np.uint8, force_copy)\n"
     ]
    },
    {
     "name": "stdout",
     "output_type": "stream",
     "text": [
      "Currently in scan: LIDC-IDRI-0859\n",
      "Loading dicom files ... This may take a moment.\n",
      "Currently in scan: LIDC-IDRI-0860\n",
      "Loading dicom files ... This may take a moment.\n",
      "Currently in scan: LIDC-IDRI-0861\n",
      "Loading dicom files ... This may take a moment.\n",
      "Currently in scan: LIDC-IDRI-0862\n",
      "Loading dicom files ... This may take a moment.\n",
      "Currently in scan: LIDC-IDRI-0863\n",
      "Failed to reduce all groups to <= 4 Annotations.\n",
      "Some nodules may be close and must be grouped manually.\n",
      "Loading dicom files ... This may take a moment.\n",
      "Currently in scan: LIDC-IDRI-0864\n",
      "Loading dicom files ... This may take a moment.\n",
      "Currently in scan: LIDC-IDRI-0865\n",
      "Failed to reduce all groups to <= 4 Annotations.\n",
      "Some nodules may be close and must be grouped manually.\n",
      "Loading dicom files ... This may take a moment.\n",
      "Currently in scan: LIDC-IDRI-0866\n",
      "Loading dicom files ... This may take a moment.\n",
      "Currently in scan: LIDC-IDRI-0867\n",
      "Loading dicom files ... This may take a moment.\n"
     ]
    },
    {
     "name": "stderr",
     "output_type": "stream",
     "text": [
      "/home/pedro/Documents/UNI/_3_ano/LAB_IACD/project_1/.venv/lib/python3.10/site-packages/skimage/util/dtype.py:576: UserWarning: Downcasting int16 to uint8 without scaling because max value 74 fits in uint8\n",
      "  return _convert(image, np.uint8, force_copy)\n"
     ]
    },
    {
     "name": "stdout",
     "output_type": "stream",
     "text": [
      "Currently in scan: LIDC-IDRI-0868\n",
      "Loading dicom files ... This may take a moment.\n"
     ]
    },
    {
     "name": "stderr",
     "output_type": "stream",
     "text": [
      "/home/pedro/Documents/UNI/_3_ano/LAB_IACD/project_1/.venv/lib/python3.10/site-packages/skimage/util/dtype.py:576: UserWarning: Downcasting int16 to uint8 without scaling because max value 167 fits in uint8\n",
      "  return _convert(image, np.uint8, force_copy)\n"
     ]
    },
    {
     "name": "stdout",
     "output_type": "stream",
     "text": [
      "Currently in scan: LIDC-IDRI-0869\n",
      "Loading dicom files ... This may take a moment.\n"
     ]
    },
    {
     "name": "stderr",
     "output_type": "stream",
     "text": [
      "/home/pedro/Documents/UNI/_3_ano/LAB_IACD/project_1/.venv/lib/python3.10/site-packages/skimage/util/dtype.py:576: UserWarning: Downcasting int16 to uint8 without scaling because max value 87 fits in uint8\n",
      "  return _convert(image, np.uint8, force_copy)\n"
     ]
    },
    {
     "name": "stdout",
     "output_type": "stream",
     "text": [
      "Currently in scan: LIDC-IDRI-0870\n",
      "Loading dicom files ... This may take a moment.\n"
     ]
    },
    {
     "name": "stderr",
     "output_type": "stream",
     "text": [
      "/home/pedro/Documents/UNI/_3_ano/LAB_IACD/project_1/.venv/lib/python3.10/site-packages/skimage/util/dtype.py:576: UserWarning: Downcasting int16 to uint8 without scaling because max value 28 fits in uint8\n",
      "  return _convert(image, np.uint8, force_copy)\n",
      "/home/pedro/Documents/UNI/_3_ano/LAB_IACD/project_1/.venv/lib/python3.10/site-packages/skimage/util/dtype.py:576: UserWarning: Downcasting int16 to uint8 without scaling because max value 50 fits in uint8\n",
      "  return _convert(image, np.uint8, force_copy)\n",
      "/home/pedro/Documents/UNI/_3_ano/LAB_IACD/project_1/.venv/lib/python3.10/site-packages/skimage/util/dtype.py:576: UserWarning: Downcasting int16 to uint8 without scaling because max value 88 fits in uint8\n",
      "  return _convert(image, np.uint8, force_copy)\n",
      "/home/pedro/Documents/UNI/_3_ano/LAB_IACD/project_1/.venv/lib/python3.10/site-packages/skimage/util/dtype.py:576: UserWarning: Downcasting int16 to uint8 without scaling because max value 154 fits in uint8\n",
      "  return _convert(image, np.uint8, force_copy)\n",
      "/home/pedro/Documents/UNI/_3_ano/LAB_IACD/project_1/.venv/lib/python3.10/site-packages/skimage/util/dtype.py:576: UserWarning: Downcasting int16 to uint8 without scaling because max value 237 fits in uint8\n",
      "  return _convert(image, np.uint8, force_copy)\n",
      "/home/pedro/Documents/UNI/_3_ano/LAB_IACD/project_1/.venv/lib/python3.10/site-packages/skimage/util/dtype.py:576: UserWarning: Downcasting int16 to uint8 without scaling because max value -60 fits in uint8\n",
      "  return _convert(image, np.uint8, force_copy)\n",
      "/home/pedro/Documents/UNI/_3_ano/LAB_IACD/project_1/.venv/lib/python3.10/site-packages/skimage/util/dtype.py:576: UserWarning: Downcasting int16 to uint8 without scaling because max value 120 fits in uint8\n",
      "  return _convert(image, np.uint8, force_copy)\n",
      "/home/pedro/Documents/UNI/_3_ano/LAB_IACD/project_1/.venv/lib/python3.10/site-packages/skimage/util/dtype.py:576: UserWarning: Downcasting int16 to uint8 without scaling because max value 136 fits in uint8\n",
      "  return _convert(image, np.uint8, force_copy)\n"
     ]
    },
    {
     "name": "stdout",
     "output_type": "stream",
     "text": [
      "Currently in scan: LIDC-IDRI-0871\n",
      "Loading dicom files ... This may take a moment.\n"
     ]
    },
    {
     "name": "stderr",
     "output_type": "stream",
     "text": [
      "/home/pedro/Documents/UNI/_3_ano/LAB_IACD/project_1/.venv/lib/python3.10/site-packages/skimage/util/dtype.py:576: UserWarning: Downcasting int16 to uint8 without scaling because max value 119 fits in uint8\n",
      "  return _convert(image, np.uint8, force_copy)\n"
     ]
    },
    {
     "name": "stdout",
     "output_type": "stream",
     "text": [
      "Currently in scan: LIDC-IDRI-0872\n",
      "Loading dicom files ... This may take a moment.\n",
      "Currently in scan: LIDC-IDRI-0873\n",
      "Loading dicom files ... This may take a moment.\n"
     ]
    },
    {
     "name": "stderr",
     "output_type": "stream",
     "text": [
      "/home/pedro/Documents/UNI/_3_ano/LAB_IACD/project_1/.venv/lib/python3.10/site-packages/skimage/util/dtype.py:576: UserWarning: Downcasting int16 to uint8 without scaling because max value 117 fits in uint8\n",
      "  return _convert(image, np.uint8, force_copy)\n"
     ]
    },
    {
     "name": "stdout",
     "output_type": "stream",
     "text": [
      "Currently in scan: LIDC-IDRI-0874\n",
      "Loading dicom files ... This may take a moment.\n"
     ]
    },
    {
     "name": "stderr",
     "output_type": "stream",
     "text": [
      "/home/pedro/Documents/UNI/_3_ano/LAB_IACD/project_1/.venv/lib/python3.10/site-packages/skimage/util/dtype.py:576: UserWarning: Downcasting int16 to uint8 without scaling because max value 68 fits in uint8\n",
      "  return _convert(image, np.uint8, force_copy)\n"
     ]
    },
    {
     "name": "stdout",
     "output_type": "stream",
     "text": [
      "Currently in scan: LIDC-IDRI-0875\n",
      "Loading dicom files ... This may take a moment.\n",
      "Currently in scan: LIDC-IDRI-0876\n",
      "Loading dicom files ... This may take a moment.\n",
      "Currently in scan: LIDC-IDRI-0877\n",
      "Loading dicom files ... This may take a moment.\n",
      "Currently in scan: LIDC-IDRI-0878\n",
      "Loading dicom files ... This may take a moment.\n",
      "Currently in scan: LIDC-IDRI-0879\n",
      "Loading dicom files ... This may take a moment.\n"
     ]
    },
    {
     "name": "stderr",
     "output_type": "stream",
     "text": [
      "/home/pedro/Documents/UNI/_3_ano/LAB_IACD/project_1/.venv/lib/python3.10/site-packages/skimage/util/dtype.py:576: UserWarning: Downcasting int16 to uint8 without scaling because max value 138 fits in uint8\n",
      "  return _convert(image, np.uint8, force_copy)\n",
      "/home/pedro/Documents/UNI/_3_ano/LAB_IACD/project_1/.venv/lib/python3.10/site-packages/skimage/util/dtype.py:576: UserWarning: Downcasting int16 to uint8 without scaling because max value 96 fits in uint8\n",
      "  return _convert(image, np.uint8, force_copy)\n"
     ]
    },
    {
     "name": "stdout",
     "output_type": "stream",
     "text": [
      "Currently in scan: LIDC-IDRI-0880\n",
      "Loading dicom files ... This may take a moment.\n",
      "Currently in scan: LIDC-IDRI-0881\n",
      "Loading dicom files ... This may take a moment.\n",
      "Currently in scan: LIDC-IDRI-0882\n",
      "Loading dicom files ... This may take a moment.\n",
      "Currently in scan: LIDC-IDRI-0883\n",
      "Loading dicom files ... This may take a moment.\n",
      "Currently in scan: LIDC-IDRI-0884\n",
      "Loading dicom files ... This may take a moment.\n",
      "Currently in scan: LIDC-IDRI-0885\n",
      "Loading dicom files ... This may take a moment.\n",
      "Currently in scan: LIDC-IDRI-0886\n",
      "Loading dicom files ... This may take a moment.\n"
     ]
    },
    {
     "name": "stderr",
     "output_type": "stream",
     "text": [
      "/home/pedro/Documents/UNI/_3_ano/LAB_IACD/project_1/.venv/lib/python3.10/site-packages/skimage/util/dtype.py:576: UserWarning: Downcasting int16 to uint8 without scaling because max value 140 fits in uint8\n",
      "  return _convert(image, np.uint8, force_copy)\n"
     ]
    },
    {
     "name": "stdout",
     "output_type": "stream",
     "text": [
      "Currently in scan: LIDC-IDRI-0887\n",
      "Loading dicom files ... This may take a moment.\n",
      "Currently in scan: LIDC-IDRI-0888\n",
      "Loading dicom files ... This may take a moment.\n",
      "Currently in scan: LIDC-IDRI-0889\n",
      "Loading dicom files ... This may take a moment.\n",
      "Currently in scan: LIDC-IDRI-0890\n",
      "Loading dicom files ... This may take a moment.\n",
      "Currently in scan: LIDC-IDRI-0891\n",
      "Loading dicom files ... This may take a moment.\n",
      "Currently in scan: LIDC-IDRI-0892\n",
      "Loading dicom files ... This may take a moment.\n",
      "Currently in scan: LIDC-IDRI-0893\n",
      "Loading dicom files ... This may take a moment.\n",
      "Currently in scan: LIDC-IDRI-0894\n",
      "Loading dicom files ... This may take a moment.\n",
      "Currently in scan: LIDC-IDRI-0895\n",
      "Loading dicom files ... This may take a moment.\n",
      "Currently in scan: LIDC-IDRI-0896\n",
      "Loading dicom files ... This may take a moment.\n",
      "Currently in scan: LIDC-IDRI-0897\n",
      "Loading dicom files ... This may take a moment.\n",
      "Currently in scan: LIDC-IDRI-0898\n",
      "Loading dicom files ... This may take a moment.\n"
     ]
    },
    {
     "name": "stderr",
     "output_type": "stream",
     "text": [
      "/home/pedro/Documents/UNI/_3_ano/LAB_IACD/project_1/.venv/lib/python3.10/site-packages/skimage/util/dtype.py:576: UserWarning: Downcasting int16 to uint8 without scaling because max value 108 fits in uint8\n",
      "  return _convert(image, np.uint8, force_copy)\n"
     ]
    },
    {
     "name": "stdout",
     "output_type": "stream",
     "text": [
      "Currently in scan: LIDC-IDRI-0899\n",
      "Loading dicom files ... This may take a moment.\n"
     ]
    },
    {
     "name": "stderr",
     "output_type": "stream",
     "text": [
      "/home/pedro/Documents/UNI/_3_ano/LAB_IACD/project_1/.venv/lib/python3.10/site-packages/skimage/util/dtype.py:576: UserWarning: Downcasting int16 to uint8 without scaling because max value -165 fits in uint8\n",
      "  return _convert(image, np.uint8, force_copy)\n"
     ]
    },
    {
     "name": "stdout",
     "output_type": "stream",
     "text": [
      "Currently in scan: LIDC-IDRI-0900\n",
      "Loading dicom files ... This may take a moment.\n",
      "Currently in scan: LIDC-IDRI-0901\n",
      "Loading dicom files ... This may take a moment.\n",
      "Currently in scan: LIDC-IDRI-0902\n",
      "Loading dicom files ... This may take a moment.\n",
      "Currently in scan: LIDC-IDRI-0903\n",
      "Loading dicom files ... This may take a moment.\n",
      "Currently in scan: LIDC-IDRI-0904\n",
      "Loading dicom files ... This may take a moment.\n"
     ]
    },
    {
     "name": "stderr",
     "output_type": "stream",
     "text": [
      "/home/pedro/Documents/UNI/_3_ano/LAB_IACD/project_1/.venv/lib/python3.10/site-packages/skimage/util/dtype.py:576: UserWarning: Downcasting int16 to uint8 without scaling because max value 51 fits in uint8\n",
      "  return _convert(image, np.uint8, force_copy)\n",
      "/home/pedro/Documents/UNI/_3_ano/LAB_IACD/project_1/.venv/lib/python3.10/site-packages/skimage/util/dtype.py:576: UserWarning: Downcasting int16 to uint8 without scaling because max value 52 fits in uint8\n",
      "  return _convert(image, np.uint8, force_copy)\n"
     ]
    },
    {
     "name": "stdout",
     "output_type": "stream",
     "text": [
      "Currently in scan: LIDC-IDRI-0905\n",
      "Loading dicom files ... This may take a moment.\n",
      "Currently in scan: LIDC-IDRI-0906\n",
      "Loading dicom files ... This may take a moment.\n"
     ]
    },
    {
     "name": "stderr",
     "output_type": "stream",
     "text": [
      "/home/pedro/Documents/UNI/_3_ano/LAB_IACD/project_1/.venv/lib/python3.10/site-packages/skimage/util/dtype.py:576: UserWarning: Downcasting int16 to uint8 without scaling because max value 92 fits in uint8\n",
      "  return _convert(image, np.uint8, force_copy)\n",
      "/home/pedro/Documents/UNI/_3_ano/LAB_IACD/project_1/.venv/lib/python3.10/site-packages/skimage/util/dtype.py:576: UserWarning: Downcasting int16 to uint8 without scaling because max value 110 fits in uint8\n",
      "  return _convert(image, np.uint8, force_copy)\n"
     ]
    },
    {
     "name": "stdout",
     "output_type": "stream",
     "text": [
      "Currently in scan: LIDC-IDRI-0907\n",
      "Loading dicom files ... This may take a moment.\n"
     ]
    },
    {
     "name": "stderr",
     "output_type": "stream",
     "text": [
      "/home/pedro/Documents/UNI/_3_ano/LAB_IACD/project_1/.venv/lib/python3.10/site-packages/skimage/util/dtype.py:576: UserWarning: Downcasting int16 to uint8 without scaling because max value 19 fits in uint8\n",
      "  return _convert(image, np.uint8, force_copy)\n"
     ]
    },
    {
     "name": "stdout",
     "output_type": "stream",
     "text": [
      "Currently in scan: LIDC-IDRI-0908\n",
      "Loading dicom files ... This may take a moment.\n",
      "Currently in scan: LIDC-IDRI-0909\n",
      "Loading dicom files ... This may take a moment.\n"
     ]
    },
    {
     "name": "stderr",
     "output_type": "stream",
     "text": [
      "/home/pedro/Documents/UNI/_3_ano/LAB_IACD/project_1/.venv/lib/python3.10/site-packages/skimage/util/dtype.py:576: UserWarning: Downcasting int16 to uint8 without scaling because max value 109 fits in uint8\n",
      "  return _convert(image, np.uint8, force_copy)\n"
     ]
    },
    {
     "name": "stdout",
     "output_type": "stream",
     "text": [
      "Currently in scan: LIDC-IDRI-0910\n",
      "Loading dicom files ... This may take a moment.\n",
      "Currently in scan: LIDC-IDRI-0911\n",
      "Loading dicom files ... This may take a moment.\n"
     ]
    },
    {
     "name": "stderr",
     "output_type": "stream",
     "text": [
      "/home/pedro/Documents/UNI/_3_ano/LAB_IACD/project_1/.venv/lib/python3.10/site-packages/skimage/util/dtype.py:576: UserWarning: Downcasting int16 to uint8 without scaling because max value 42 fits in uint8\n",
      "  return _convert(image, np.uint8, force_copy)\n"
     ]
    },
    {
     "name": "stdout",
     "output_type": "stream",
     "text": [
      "Currently in scan: LIDC-IDRI-0912\n",
      "Loading dicom files ... This may take a moment.\n"
     ]
    },
    {
     "name": "stderr",
     "output_type": "stream",
     "text": [
      "/home/pedro/Documents/UNI/_3_ano/LAB_IACD/project_1/.venv/lib/python3.10/site-packages/skimage/util/dtype.py:576: UserWarning: Downcasting int16 to uint8 without scaling because max value 124 fits in uint8\n",
      "  return _convert(image, np.uint8, force_copy)\n",
      "/home/pedro/Documents/UNI/_3_ano/LAB_IACD/project_1/.venv/lib/python3.10/site-packages/skimage/util/dtype.py:576: UserWarning: Downcasting int16 to uint8 without scaling because max value 109 fits in uint8\n",
      "  return _convert(image, np.uint8, force_copy)\n",
      "/home/pedro/Documents/UNI/_3_ano/LAB_IACD/project_1/.venv/lib/python3.10/site-packages/skimage/util/dtype.py:576: UserWarning: Downcasting int16 to uint8 without scaling because max value 36 fits in uint8\n",
      "  return _convert(image, np.uint8, force_copy)\n",
      "/home/pedro/Documents/UNI/_3_ano/LAB_IACD/project_1/.venv/lib/python3.10/site-packages/skimage/util/dtype.py:576: UserWarning: Downcasting int16 to uint8 without scaling because max value 169 fits in uint8\n",
      "  return _convert(image, np.uint8, force_copy)\n"
     ]
    },
    {
     "name": "stdout",
     "output_type": "stream",
     "text": [
      "Currently in scan: LIDC-IDRI-0913\n",
      "Loading dicom files ... This may take a moment.\n",
      "Currently in scan: LIDC-IDRI-0914\n",
      "Loading dicom files ... This may take a moment.\n",
      "Currently in scan: LIDC-IDRI-0915\n",
      "Loading dicom files ... This may take a moment.\n",
      "Currently in scan: LIDC-IDRI-0916\n",
      "Loading dicom files ... This may take a moment.\n"
     ]
    },
    {
     "name": "stderr",
     "output_type": "stream",
     "text": [
      "/home/pedro/Documents/UNI/_3_ano/LAB_IACD/project_1/.venv/lib/python3.10/site-packages/skimage/util/dtype.py:576: UserWarning: Downcasting int16 to uint8 without scaling because max value 249 fits in uint8\n",
      "  return _convert(image, np.uint8, force_copy)\n",
      "/home/pedro/Documents/UNI/_3_ano/LAB_IACD/project_1/.venv/lib/python3.10/site-packages/skimage/util/dtype.py:576: UserWarning: Downcasting int16 to uint8 without scaling because max value 180 fits in uint8\n",
      "  return _convert(image, np.uint8, force_copy)\n",
      "/home/pedro/Documents/UNI/_3_ano/LAB_IACD/project_1/.venv/lib/python3.10/site-packages/skimage/util/dtype.py:576: UserWarning: Downcasting int16 to uint8 without scaling because max value -14 fits in uint8\n",
      "  return _convert(image, np.uint8, force_copy)\n"
     ]
    },
    {
     "name": "stdout",
     "output_type": "stream",
     "text": [
      "Currently in scan: LIDC-IDRI-0917\n",
      "Loading dicom files ... This may take a moment.\n"
     ]
    },
    {
     "name": "stderr",
     "output_type": "stream",
     "text": [
      "/home/pedro/Documents/UNI/_3_ano/LAB_IACD/project_1/.venv/lib/python3.10/site-packages/skimage/util/dtype.py:576: UserWarning: Downcasting int16 to uint8 without scaling because max value 74 fits in uint8\n",
      "  return _convert(image, np.uint8, force_copy)\n"
     ]
    },
    {
     "name": "stdout",
     "output_type": "stream",
     "text": [
      "Currently in scan: LIDC-IDRI-0918\n",
      "Loading dicom files ... This may take a moment.\n",
      "Currently in scan: LIDC-IDRI-0919\n",
      "Loading dicom files ... This may take a moment.\n"
     ]
    },
    {
     "name": "stderr",
     "output_type": "stream",
     "text": [
      "/home/pedro/Documents/UNI/_3_ano/LAB_IACD/project_1/.venv/lib/python3.10/site-packages/skimage/util/dtype.py:576: UserWarning: Downcasting int16 to uint8 without scaling because max value 157 fits in uint8\n",
      "  return _convert(image, np.uint8, force_copy)\n"
     ]
    },
    {
     "name": "stdout",
     "output_type": "stream",
     "text": [
      "Currently in scan: LIDC-IDRI-0920\n",
      "Loading dicom files ... This may take a moment.\n",
      "Currently in scan: LIDC-IDRI-0921\n",
      "Loading dicom files ... This may take a moment.\n",
      "Currently in scan: LIDC-IDRI-0922\n",
      "Loading dicom files ... This may take a moment.\n"
     ]
    },
    {
     "name": "stderr",
     "output_type": "stream",
     "text": [
      "/home/pedro/Documents/UNI/_3_ano/LAB_IACD/project_1/.venv/lib/python3.10/site-packages/skimage/util/dtype.py:576: UserWarning: Downcasting int16 to uint8 without scaling because max value 84 fits in uint8\n",
      "  return _convert(image, np.uint8, force_copy)\n",
      "/home/pedro/Documents/UNI/_3_ano/LAB_IACD/project_1/.venv/lib/python3.10/site-packages/skimage/util/dtype.py:576: UserWarning: Downcasting int16 to uint8 without scaling because max value 222 fits in uint8\n",
      "  return _convert(image, np.uint8, force_copy)\n"
     ]
    },
    {
     "name": "stdout",
     "output_type": "stream",
     "text": [
      "Currently in scan: LIDC-IDRI-0923\n",
      "Loading dicom files ... This may take a moment.\n",
      "Currently in scan: LIDC-IDRI-0924\n",
      "Loading dicom files ... This may take a moment.\n"
     ]
    },
    {
     "name": "stderr",
     "output_type": "stream",
     "text": [
      "/home/pedro/Documents/UNI/_3_ano/LAB_IACD/project_1/.venv/lib/python3.10/site-packages/skimage/util/dtype.py:576: UserWarning: Downcasting int16 to uint8 without scaling because max value -18 fits in uint8\n",
      "  return _convert(image, np.uint8, force_copy)\n"
     ]
    },
    {
     "name": "stdout",
     "output_type": "stream",
     "text": [
      "Currently in scan: LIDC-IDRI-0925\n",
      "Loading dicom files ... This may take a moment.\n",
      "Currently in scan: LIDC-IDRI-0926\n",
      "Loading dicom files ... This may take a moment.\n"
     ]
    },
    {
     "name": "stderr",
     "output_type": "stream",
     "text": [
      "/home/pedro/Documents/UNI/_3_ano/LAB_IACD/project_1/.venv/lib/python3.10/site-packages/skimage/util/dtype.py:576: UserWarning: Downcasting int16 to uint8 without scaling because max value 10 fits in uint8\n",
      "  return _convert(image, np.uint8, force_copy)\n"
     ]
    },
    {
     "name": "stdout",
     "output_type": "stream",
     "text": [
      "Currently in scan: LIDC-IDRI-0927\n",
      "Loading dicom files ... This may take a moment.\n",
      "Currently in scan: LIDC-IDRI-0928\n",
      "Loading dicom files ... This may take a moment.\n",
      "Currently in scan: LIDC-IDRI-0929\n",
      "Loading dicom files ... This may take a moment.\n",
      "Currently in scan: LIDC-IDRI-0930\n",
      "Loading dicom files ... This may take a moment.\n",
      "Currently in scan: LIDC-IDRI-0931\n",
      "Loading dicom files ... This may take a moment.\n",
      "Currently in scan: LIDC-IDRI-0932\n",
      "Loading dicom files ... This may take a moment.\n",
      "Currently in scan: LIDC-IDRI-0933\n",
      "Loading dicom files ... This may take a moment.\n"
     ]
    },
    {
     "name": "stderr",
     "output_type": "stream",
     "text": [
      "/home/pedro/Documents/UNI/_3_ano/LAB_IACD/project_1/.venv/lib/python3.10/site-packages/skimage/util/dtype.py:576: UserWarning: Downcasting int16 to uint8 without scaling because max value 111 fits in uint8\n",
      "  return _convert(image, np.uint8, force_copy)\n",
      "/home/pedro/Documents/UNI/_3_ano/LAB_IACD/project_1/.venv/lib/python3.10/site-packages/skimage/util/dtype.py:576: UserWarning: Downcasting int16 to uint8 without scaling because max value 112 fits in uint8\n",
      "  return _convert(image, np.uint8, force_copy)\n"
     ]
    },
    {
     "name": "stdout",
     "output_type": "stream",
     "text": [
      "Currently in scan: LIDC-IDRI-0934\n",
      "Loading dicom files ... This may take a moment.\n",
      "Currently in scan: LIDC-IDRI-0935\n",
      "Loading dicom files ... This may take a moment.\n"
     ]
    },
    {
     "name": "stderr",
     "output_type": "stream",
     "text": [
      "/home/pedro/Documents/UNI/_3_ano/LAB_IACD/project_1/.venv/lib/python3.10/site-packages/skimage/util/dtype.py:576: UserWarning: Downcasting int16 to uint8 without scaling because max value 58 fits in uint8\n",
      "  return _convert(image, np.uint8, force_copy)\n",
      "/home/pedro/Documents/UNI/_3_ano/LAB_IACD/project_1/.venv/lib/python3.10/site-packages/skimage/util/dtype.py:576: UserWarning: Downcasting int16 to uint8 without scaling because max value 68 fits in uint8\n",
      "  return _convert(image, np.uint8, force_copy)\n",
      "/home/pedro/Documents/UNI/_3_ano/LAB_IACD/project_1/.venv/lib/python3.10/site-packages/skimage/util/dtype.py:576: UserWarning: Downcasting int16 to uint8 without scaling because max value 82 fits in uint8\n",
      "  return _convert(image, np.uint8, force_copy)\n"
     ]
    },
    {
     "name": "stdout",
     "output_type": "stream",
     "text": [
      "Currently in scan: LIDC-IDRI-0936\n",
      "Loading dicom files ... This may take a moment.\n"
     ]
    },
    {
     "name": "stderr",
     "output_type": "stream",
     "text": [
      "/home/pedro/Documents/UNI/_3_ano/LAB_IACD/project_1/.venv/lib/python3.10/site-packages/skimage/util/dtype.py:576: UserWarning: Downcasting int16 to uint8 without scaling because max value 152 fits in uint8\n",
      "  return _convert(image, np.uint8, force_copy)\n",
      "/home/pedro/Documents/UNI/_3_ano/LAB_IACD/project_1/.venv/lib/python3.10/site-packages/skimage/util/dtype.py:576: UserWarning: Downcasting int16 to uint8 without scaling because max value 9 fits in uint8\n",
      "  return _convert(image, np.uint8, force_copy)\n"
     ]
    },
    {
     "name": "stdout",
     "output_type": "stream",
     "text": [
      "Currently in scan: LIDC-IDRI-0937\n",
      "Loading dicom files ... This may take a moment.\n",
      "Currently in scan: LIDC-IDRI-0938\n",
      "Loading dicom files ... This may take a moment.\n",
      "Currently in scan: LIDC-IDRI-0939\n",
      "Loading dicom files ... This may take a moment.\n"
     ]
    },
    {
     "name": "stderr",
     "output_type": "stream",
     "text": [
      "/home/pedro/Documents/UNI/_3_ano/LAB_IACD/project_1/.venv/lib/python3.10/site-packages/skimage/util/dtype.py:576: UserWarning: Downcasting int16 to uint8 without scaling because max value -76 fits in uint8\n",
      "  return _convert(image, np.uint8, force_copy)\n"
     ]
    },
    {
     "name": "stdout",
     "output_type": "stream",
     "text": [
      "Currently in scan: LIDC-IDRI-0940\n",
      "Loading dicom files ... This may take a moment.\n",
      "Currently in scan: LIDC-IDRI-0941\n",
      "Loading dicom files ... This may take a moment.\n",
      "Currently in scan: LIDC-IDRI-0942\n",
      "Failed to reduce all groups to <= 4 Annotations.\n",
      "Some nodules may be close and must be grouped manually.\n",
      "Loading dicom files ... This may take a moment.\n",
      "Currently in scan: LIDC-IDRI-0943\n",
      "Loading dicom files ... This may take a moment.\n",
      "Currently in scan: LIDC-IDRI-0944\n",
      "Loading dicom files ... This may take a moment.\n",
      "Currently in scan: LIDC-IDRI-0945\n",
      "Loading dicom files ... This may take a moment.\n"
     ]
    },
    {
     "name": "stderr",
     "output_type": "stream",
     "text": [
      "/home/pedro/Documents/UNI/_3_ano/LAB_IACD/project_1/.venv/lib/python3.10/site-packages/skimage/util/dtype.py:576: UserWarning: Downcasting int16 to uint8 without scaling because max value 209 fits in uint8\n",
      "  return _convert(image, np.uint8, force_copy)\n"
     ]
    },
    {
     "name": "stdout",
     "output_type": "stream",
     "text": [
      "Currently in scan: LIDC-IDRI-0946\n",
      "Loading dicom files ... This may take a moment.\n",
      "Currently in scan: LIDC-IDRI-0947\n",
      "Loading dicom files ... This may take a moment.\n"
     ]
    },
    {
     "name": "stderr",
     "output_type": "stream",
     "text": [
      "/home/pedro/Documents/UNI/_3_ano/LAB_IACD/project_1/.venv/lib/python3.10/site-packages/skimage/util/dtype.py:576: UserWarning: Downcasting int16 to uint8 without scaling because max value -46 fits in uint8\n",
      "  return _convert(image, np.uint8, force_copy)\n"
     ]
    },
    {
     "name": "stdout",
     "output_type": "stream",
     "text": [
      "Currently in scan: LIDC-IDRI-0948\n",
      "Loading dicom files ... This may take a moment.\n",
      "Currently in scan: LIDC-IDRI-0949\n",
      "Loading dicom files ... This may take a moment.\n"
     ]
    },
    {
     "name": "stderr",
     "output_type": "stream",
     "text": [
      "/home/pedro/Documents/UNI/_3_ano/LAB_IACD/project_1/.venv/lib/python3.10/site-packages/skimage/util/dtype.py:576: UserWarning: Downcasting int16 to uint8 without scaling because max value 175 fits in uint8\n",
      "  return _convert(image, np.uint8, force_copy)\n",
      "/home/pedro/Documents/UNI/_3_ano/LAB_IACD/project_1/.venv/lib/python3.10/site-packages/skimage/util/dtype.py:576: UserWarning: Downcasting int16 to uint8 without scaling because max value -190 fits in uint8\n",
      "  return _convert(image, np.uint8, force_copy)\n"
     ]
    },
    {
     "name": "stdout",
     "output_type": "stream",
     "text": [
      "Currently in scan: LIDC-IDRI-0950\n",
      "Loading dicom files ... This may take a moment.\n",
      "Currently in scan: LIDC-IDRI-0951\n",
      "Loading dicom files ... This may take a moment.\n"
     ]
    },
    {
     "name": "stderr",
     "output_type": "stream",
     "text": [
      "/home/pedro/Documents/UNI/_3_ano/LAB_IACD/project_1/.venv/lib/python3.10/site-packages/skimage/util/dtype.py:576: UserWarning: Downcasting int16 to uint8 without scaling because max value 99 fits in uint8\n",
      "  return _convert(image, np.uint8, force_copy)\n",
      "/home/pedro/Documents/UNI/_3_ano/LAB_IACD/project_1/.venv/lib/python3.10/site-packages/skimage/util/dtype.py:576: UserWarning: Downcasting int16 to uint8 without scaling because max value 132 fits in uint8\n",
      "  return _convert(image, np.uint8, force_copy)\n"
     ]
    },
    {
     "name": "stdout",
     "output_type": "stream",
     "text": [
      "Currently in scan: LIDC-IDRI-0952\n",
      "Loading dicom files ... This may take a moment.\n",
      "Currently in scan: LIDC-IDRI-0953\n",
      "Loading dicom files ... This may take a moment.\n"
     ]
    },
    {
     "name": "stderr",
     "output_type": "stream",
     "text": [
      "/home/pedro/Documents/UNI/_3_ano/LAB_IACD/project_1/.venv/lib/python3.10/site-packages/skimage/util/dtype.py:576: UserWarning: Downcasting int16 to uint8 without scaling because max value 8 fits in uint8\n",
      "  return _convert(image, np.uint8, force_copy)\n"
     ]
    },
    {
     "name": "stdout",
     "output_type": "stream",
     "text": [
      "Currently in scan: LIDC-IDRI-0954\n",
      "Loading dicom files ... This may take a moment.\n",
      "Currently in scan: LIDC-IDRI-0955\n",
      "Loading dicom files ... This may take a moment.\n",
      "Currently in scan: LIDC-IDRI-0956\n",
      "Loading dicom files ... This may take a moment.\n",
      "Currently in scan: LIDC-IDRI-0957\n",
      "Loading dicom files ... This may take a moment.\n"
     ]
    },
    {
     "name": "stderr",
     "output_type": "stream",
     "text": [
      "/home/pedro/Documents/UNI/_3_ano/LAB_IACD/project_1/.venv/lib/python3.10/site-packages/skimage/util/dtype.py:576: UserWarning: Downcasting int16 to uint8 without scaling because max value 129 fits in uint8\n",
      "  return _convert(image, np.uint8, force_copy)\n"
     ]
    },
    {
     "name": "stdout",
     "output_type": "stream",
     "text": [
      "Currently in scan: LIDC-IDRI-0958\n",
      "Loading dicom files ... This may take a moment.\n",
      "Currently in scan: LIDC-IDRI-0959\n",
      "Loading dicom files ... This may take a moment.\n",
      "Currently in scan: LIDC-IDRI-0960\n",
      "Loading dicom files ... This may take a moment.\n",
      "Currently in scan: LIDC-IDRI-0961\n",
      "Loading dicom files ... This may take a moment.\n"
     ]
    },
    {
     "name": "stderr",
     "output_type": "stream",
     "text": [
      "/home/pedro/Documents/UNI/_3_ano/LAB_IACD/project_1/.venv/lib/python3.10/site-packages/skimage/util/dtype.py:576: UserWarning: Downcasting int16 to uint8 without scaling because max value -171 fits in uint8\n",
      "  return _convert(image, np.uint8, force_copy)\n",
      "/home/pedro/Documents/UNI/_3_ano/LAB_IACD/project_1/.venv/lib/python3.10/site-packages/skimage/util/dtype.py:576: UserWarning: Downcasting int16 to uint8 without scaling because max value -30 fits in uint8\n",
      "  return _convert(image, np.uint8, force_copy)\n",
      "/home/pedro/Documents/UNI/_3_ano/LAB_IACD/project_1/.venv/lib/python3.10/site-packages/skimage/util/dtype.py:576: UserWarning: Downcasting int16 to uint8 without scaling because max value 91 fits in uint8\n",
      "  return _convert(image, np.uint8, force_copy)\n"
     ]
    },
    {
     "name": "stdout",
     "output_type": "stream",
     "text": [
      "Currently in scan: LIDC-IDRI-0962\n",
      "Loading dicom files ... This may take a moment.\n",
      "Currently in scan: LIDC-IDRI-0963\n",
      "Loading dicom files ... This may take a moment.\n"
     ]
    },
    {
     "name": "stderr",
     "output_type": "stream",
     "text": [
      "/home/pedro/Documents/UNI/_3_ano/LAB_IACD/project_1/.venv/lib/python3.10/site-packages/skimage/util/dtype.py:576: UserWarning: Downcasting int16 to uint8 without scaling because max value 136 fits in uint8\n",
      "  return _convert(image, np.uint8, force_copy)\n"
     ]
    },
    {
     "name": "stdout",
     "output_type": "stream",
     "text": [
      "Currently in scan: LIDC-IDRI-0964\n",
      "Loading dicom files ... This may take a moment.\n",
      "Currently in scan: LIDC-IDRI-0965\n",
      "Loading dicom files ... This may take a moment.\n",
      "Currently in scan: LIDC-IDRI-0966\n",
      "Loading dicom files ... This may take a moment.\n",
      "Currently in scan: LIDC-IDRI-0967\n",
      "Loading dicom files ... This may take a moment.\n",
      "Currently in scan: LIDC-IDRI-0968\n",
      "Loading dicom files ... This may take a moment.\n"
     ]
    },
    {
     "name": "stderr",
     "output_type": "stream",
     "text": [
      "/home/pedro/Documents/UNI/_3_ano/LAB_IACD/project_1/.venv/lib/python3.10/site-packages/skimage/util/dtype.py:576: UserWarning: Downcasting int16 to uint8 without scaling because max value 182 fits in uint8\n",
      "  return _convert(image, np.uint8, force_copy)\n"
     ]
    },
    {
     "name": "stdout",
     "output_type": "stream",
     "text": [
      "Currently in scan: LIDC-IDRI-0969\n",
      "Loading dicom files ... This may take a moment.\n",
      "Currently in scan: LIDC-IDRI-0970\n",
      "Loading dicom files ... This may take a moment.\n",
      "Currently in scan: LIDC-IDRI-0971\n",
      "Loading dicom files ... This may take a moment.\n",
      "Currently in scan: LIDC-IDRI-0972\n",
      "Loading dicom files ... This may take a moment.\n"
     ]
    },
    {
     "name": "stderr",
     "output_type": "stream",
     "text": [
      "/home/pedro/Documents/UNI/_3_ano/LAB_IACD/project_1/.venv/lib/python3.10/site-packages/skimage/util/dtype.py:576: UserWarning: Downcasting int16 to uint8 without scaling because max value -252 fits in uint8\n",
      "  return _convert(image, np.uint8, force_copy)\n",
      "/home/pedro/Documents/UNI/_3_ano/LAB_IACD/project_1/.venv/lib/python3.10/site-packages/skimage/util/dtype.py:576: UserWarning: Downcasting int16 to uint8 without scaling because max value -268 fits in uint8\n",
      "  return _convert(image, np.uint8, force_copy)\n"
     ]
    },
    {
     "name": "stdout",
     "output_type": "stream",
     "text": [
      "Currently in scan: LIDC-IDRI-0973\n",
      "Loading dicom files ... This may take a moment.\n"
     ]
    },
    {
     "name": "stderr",
     "output_type": "stream",
     "text": [
      "/home/pedro/Documents/UNI/_3_ano/LAB_IACD/project_1/.venv/lib/python3.10/site-packages/skimage/util/dtype.py:576: UserWarning: Downcasting int16 to uint8 without scaling because max value 201 fits in uint8\n",
      "  return _convert(image, np.uint8, force_copy)\n",
      "/home/pedro/Documents/UNI/_3_ano/LAB_IACD/project_1/.venv/lib/python3.10/site-packages/skimage/util/dtype.py:576: UserWarning: Downcasting int16 to uint8 without scaling because max value -503 fits in uint8\n",
      "  return _convert(image, np.uint8, force_copy)\n"
     ]
    },
    {
     "name": "stdout",
     "output_type": "stream",
     "text": [
      "Currently in scan: LIDC-IDRI-0974\n",
      "Loading dicom files ... This may take a moment.\n",
      "Currently in scan: LIDC-IDRI-0975\n",
      "Loading dicom files ... This may take a moment.\n",
      "Currently in scan: LIDC-IDRI-0976\n",
      "Loading dicom files ... This may take a moment.\n"
     ]
    },
    {
     "name": "stderr",
     "output_type": "stream",
     "text": [
      "/home/pedro/Documents/UNI/_3_ano/LAB_IACD/project_1/.venv/lib/python3.10/site-packages/skimage/util/dtype.py:576: UserWarning: Downcasting int16 to uint8 without scaling because max value 146 fits in uint8\n",
      "  return _convert(image, np.uint8, force_copy)\n",
      "/home/pedro/Documents/UNI/_3_ano/LAB_IACD/project_1/.venv/lib/python3.10/site-packages/skimage/util/dtype.py:576: UserWarning: Downcasting int16 to uint8 without scaling because max value 142 fits in uint8\n",
      "  return _convert(image, np.uint8, force_copy)\n"
     ]
    },
    {
     "name": "stdout",
     "output_type": "stream",
     "text": [
      "Currently in scan: LIDC-IDRI-0977\n",
      "Loading dicom files ... This may take a moment.\n",
      "Currently in scan: LIDC-IDRI-0978\n",
      "Loading dicom files ... This may take a moment.\n"
     ]
    },
    {
     "name": "stderr",
     "output_type": "stream",
     "text": [
      "/home/pedro/Documents/UNI/_3_ano/LAB_IACD/project_1/.venv/lib/python3.10/site-packages/skimage/util/dtype.py:576: UserWarning: Downcasting int16 to uint8 without scaling because max value 33 fits in uint8\n",
      "  return _convert(image, np.uint8, force_copy)\n"
     ]
    },
    {
     "name": "stdout",
     "output_type": "stream",
     "text": [
      "Currently in scan: LIDC-IDRI-0979\n",
      "Loading dicom files ... This may take a moment.\n",
      "Currently in scan: LIDC-IDRI-0980\n",
      "Loading dicom files ... This may take a moment.\n",
      "Currently in scan: LIDC-IDRI-0981\n",
      "Loading dicom files ... This may take a moment.\n",
      "Currently in scan: LIDC-IDRI-0982\n",
      "Loading dicom files ... This may take a moment.\n"
     ]
    },
    {
     "name": "stderr",
     "output_type": "stream",
     "text": [
      "/home/pedro/Documents/UNI/_3_ano/LAB_IACD/project_1/.venv/lib/python3.10/site-packages/skimage/util/dtype.py:576: UserWarning: Downcasting int16 to uint8 without scaling because max value 69 fits in uint8\n",
      "  return _convert(image, np.uint8, force_copy)\n"
     ]
    },
    {
     "name": "stdout",
     "output_type": "stream",
     "text": [
      "Currently in scan: LIDC-IDRI-0983\n",
      "Loading dicom files ... This may take a moment.\n",
      "Currently in scan: LIDC-IDRI-0984\n",
      "Loading dicom files ... This may take a moment.\n",
      "Currently in scan: LIDC-IDRI-0985\n",
      "Loading dicom files ... This may take a moment.\n"
     ]
    },
    {
     "name": "stderr",
     "output_type": "stream",
     "text": [
      "/home/pedro/Documents/UNI/_3_ano/LAB_IACD/project_1/.venv/lib/python3.10/site-packages/skimage/util/dtype.py:576: UserWarning: Downcasting int16 to uint8 without scaling because max value 52 fits in uint8\n",
      "  return _convert(image, np.uint8, force_copy)\n"
     ]
    },
    {
     "name": "stdout",
     "output_type": "stream",
     "text": [
      "Currently in scan: LIDC-IDRI-0986\n",
      "Loading dicom files ... This may take a moment.\n",
      "Currently in scan: LIDC-IDRI-0987\n",
      "Loading dicom files ... This may take a moment.\n",
      "Currently in scan: LIDC-IDRI-0988\n",
      "Loading dicom files ... This may take a moment.\n",
      "Currently in scan: LIDC-IDRI-0989\n",
      "Loading dicom files ... This may take a moment.\n"
     ]
    },
    {
     "name": "stderr",
     "output_type": "stream",
     "text": [
      "/home/pedro/Documents/UNI/_3_ano/LAB_IACD/project_1/.venv/lib/python3.10/site-packages/skimage/util/dtype.py:576: UserWarning: Downcasting int16 to uint8 without scaling because max value -31 fits in uint8\n",
      "  return _convert(image, np.uint8, force_copy)\n"
     ]
    },
    {
     "name": "stdout",
     "output_type": "stream",
     "text": [
      "Currently in scan: LIDC-IDRI-0990\n",
      "Loading dicom files ... This may take a moment.\n",
      "Currently in scan: LIDC-IDRI-0991\n",
      "Loading dicom files ... This may take a moment.\n"
     ]
    },
    {
     "name": "stderr",
     "output_type": "stream",
     "text": [
      "/home/pedro/Documents/UNI/_3_ano/LAB_IACD/project_1/.venv/lib/python3.10/site-packages/skimage/util/dtype.py:576: UserWarning: Downcasting int16 to uint8 without scaling because max value 193 fits in uint8\n",
      "  return _convert(image, np.uint8, force_copy)\n"
     ]
    },
    {
     "name": "stdout",
     "output_type": "stream",
     "text": [
      "Currently in scan: LIDC-IDRI-0992\n",
      "Loading dicom files ... This may take a moment.\n",
      "Currently in scan: LIDC-IDRI-0993\n",
      "Loading dicom files ... This may take a moment.\n",
      "Currently in scan: LIDC-IDRI-0994\n",
      "Loading dicom files ... This may take a moment.\n"
     ]
    },
    {
     "name": "stderr",
     "output_type": "stream",
     "text": [
      "/home/pedro/Documents/UNI/_3_ano/LAB_IACD/project_1/.venv/lib/python3.10/site-packages/skimage/util/dtype.py:576: UserWarning: Downcasting int16 to uint8 without scaling because max value -28 fits in uint8\n",
      "  return _convert(image, np.uint8, force_copy)\n",
      "/home/pedro/Documents/UNI/_3_ano/LAB_IACD/project_1/.venv/lib/python3.10/site-packages/skimage/util/dtype.py:576: UserWarning: Downcasting int16 to uint8 without scaling because max value 252 fits in uint8\n",
      "  return _convert(image, np.uint8, force_copy)\n",
      "/home/pedro/Documents/UNI/_3_ano/LAB_IACD/project_1/.venv/lib/python3.10/site-packages/skimage/util/dtype.py:576: UserWarning: Downcasting int16 to uint8 without scaling because max value 83 fits in uint8\n",
      "  return _convert(image, np.uint8, force_copy)\n"
     ]
    },
    {
     "name": "stdout",
     "output_type": "stream",
     "text": [
      "Currently in scan: LIDC-IDRI-0995\n",
      "Loading dicom files ... This may take a moment.\n",
      "Currently in scan: LIDC-IDRI-0996\n",
      "Loading dicom files ... This may take a moment.\n",
      "Currently in scan: LIDC-IDRI-0997\n",
      "Loading dicom files ... This may take a moment.\n"
     ]
    },
    {
     "name": "stderr",
     "output_type": "stream",
     "text": [
      "/home/pedro/Documents/UNI/_3_ano/LAB_IACD/project_1/.venv/lib/python3.10/site-packages/skimage/util/dtype.py:576: UserWarning: Downcasting int16 to uint8 without scaling because max value 60 fits in uint8\n",
      "  return _convert(image, np.uint8, force_copy)\n",
      "/home/pedro/Documents/UNI/_3_ano/LAB_IACD/project_1/.venv/lib/python3.10/site-packages/skimage/util/dtype.py:576: UserWarning: Downcasting int16 to uint8 without scaling because max value 184 fits in uint8\n",
      "  return _convert(image, np.uint8, force_copy)\n",
      "/home/pedro/Documents/UNI/_3_ano/LAB_IACD/project_1/.venv/lib/python3.10/site-packages/skimage/util/dtype.py:576: UserWarning: Downcasting int16 to uint8 without scaling because max value 213 fits in uint8\n",
      "  return _convert(image, np.uint8, force_copy)\n"
     ]
    },
    {
     "name": "stdout",
     "output_type": "stream",
     "text": [
      "Currently in scan: LIDC-IDRI-0998\n",
      "Loading dicom files ... This may take a moment.\n"
     ]
    },
    {
     "name": "stderr",
     "output_type": "stream",
     "text": [
      "/home/pedro/Documents/UNI/_3_ano/LAB_IACD/project_1/.venv/lib/python3.10/site-packages/skimage/util/dtype.py:576: UserWarning: Downcasting int16 to uint8 without scaling because max value 74 fits in uint8\n",
      "  return _convert(image, np.uint8, force_copy)\n",
      "/home/pedro/Documents/UNI/_3_ano/LAB_IACD/project_1/.venv/lib/python3.10/site-packages/skimage/util/dtype.py:576: UserWarning: Downcasting int16 to uint8 without scaling because max value -7 fits in uint8\n",
      "  return _convert(image, np.uint8, force_copy)\n",
      "/home/pedro/Documents/UNI/_3_ano/LAB_IACD/project_1/.venv/lib/python3.10/site-packages/skimage/util/dtype.py:576: UserWarning: Downcasting int16 to uint8 without scaling because max value -34 fits in uint8\n",
      "  return _convert(image, np.uint8, force_copy)\n"
     ]
    },
    {
     "name": "stdout",
     "output_type": "stream",
     "text": [
      "Currently in scan: LIDC-IDRI-0999\n",
      "Loading dicom files ... This may take a moment.\n"
     ]
    },
    {
     "name": "stderr",
     "output_type": "stream",
     "text": [
      "/home/pedro/Documents/UNI/_3_ano/LAB_IACD/project_1/.venv/lib/python3.10/site-packages/skimage/util/dtype.py:576: UserWarning: Downcasting int16 to uint8 without scaling because max value 76 fits in uint8\n",
      "  return _convert(image, np.uint8, force_copy)\n"
     ]
    },
    {
     "name": "stdout",
     "output_type": "stream",
     "text": [
      "Currently in scan: LIDC-IDRI-1000\n",
      "Loading dicom files ... This may take a moment.\n"
     ]
    },
    {
     "name": "stderr",
     "output_type": "stream",
     "text": [
      "/home/pedro/Documents/UNI/_3_ano/LAB_IACD/project_1/.venv/lib/python3.10/site-packages/skimage/util/dtype.py:576: UserWarning: Downcasting int16 to uint8 without scaling because max value 228 fits in uint8\n",
      "  return _convert(image, np.uint8, force_copy)\n",
      "/home/pedro/Documents/UNI/_3_ano/LAB_IACD/project_1/.venv/lib/python3.10/site-packages/skimage/util/dtype.py:576: UserWarning: Downcasting int16 to uint8 without scaling because max value -165 fits in uint8\n",
      "  return _convert(image, np.uint8, force_copy)\n"
     ]
    },
    {
     "name": "stdout",
     "output_type": "stream",
     "text": [
      "Currently in scan: LIDC-IDRI-1001\n",
      "Loading dicom files ... This may take a moment.\n",
      "Currently in scan: LIDC-IDRI-1002\n",
      "Loading dicom files ... This may take a moment.\n",
      "Currently in scan: LIDC-IDRI-1003\n",
      "Loading dicom files ... This may take a moment.\n"
     ]
    },
    {
     "name": "stderr",
     "output_type": "stream",
     "text": [
      "/home/pedro/Documents/UNI/_3_ano/LAB_IACD/project_1/.venv/lib/python3.10/site-packages/skimage/util/dtype.py:576: UserWarning: Downcasting int16 to uint8 without scaling because max value 85 fits in uint8\n",
      "  return _convert(image, np.uint8, force_copy)\n",
      "/home/pedro/Documents/UNI/_3_ano/LAB_IACD/project_1/.venv/lib/python3.10/site-packages/skimage/util/dtype.py:576: UserWarning: Downcasting int16 to uint8 without scaling because max value -163 fits in uint8\n",
      "  return _convert(image, np.uint8, force_copy)\n",
      "/home/pedro/Documents/UNI/_3_ano/LAB_IACD/project_1/.venv/lib/python3.10/site-packages/skimage/util/dtype.py:576: UserWarning: Downcasting int16 to uint8 without scaling because max value 96 fits in uint8\n",
      "  return _convert(image, np.uint8, force_copy)\n",
      "/home/pedro/Documents/UNI/_3_ano/LAB_IACD/project_1/.venv/lib/python3.10/site-packages/skimage/util/dtype.py:576: UserWarning: Downcasting int16 to uint8 without scaling because max value 97 fits in uint8\n",
      "  return _convert(image, np.uint8, force_copy)\n",
      "/home/pedro/Documents/UNI/_3_ano/LAB_IACD/project_1/.venv/lib/python3.10/site-packages/skimage/util/dtype.py:576: UserWarning: Downcasting int16 to uint8 without scaling because max value 94 fits in uint8\n",
      "  return _convert(image, np.uint8, force_copy)\n",
      "/home/pedro/Documents/UNI/_3_ano/LAB_IACD/project_1/.venv/lib/python3.10/site-packages/skimage/util/dtype.py:576: UserWarning: Downcasting int16 to uint8 without scaling because max value 6 fits in uint8\n",
      "  return _convert(image, np.uint8, force_copy)\n"
     ]
    },
    {
     "name": "stdout",
     "output_type": "stream",
     "text": [
      "Currently in scan: LIDC-IDRI-1004\n",
      "Loading dicom files ... This may take a moment.\n",
      "Currently in scan: LIDC-IDRI-1005\n",
      "Loading dicom files ... This may take a moment.\n"
     ]
    },
    {
     "name": "stderr",
     "output_type": "stream",
     "text": [
      "/home/pedro/Documents/UNI/_3_ano/LAB_IACD/project_1/.venv/lib/python3.10/site-packages/skimage/util/dtype.py:576: UserWarning: Downcasting int16 to uint8 without scaling because max value 207 fits in uint8\n",
      "  return _convert(image, np.uint8, force_copy)\n",
      "/home/pedro/Documents/UNI/_3_ano/LAB_IACD/project_1/.venv/lib/python3.10/site-packages/skimage/util/dtype.py:576: UserWarning: Downcasting int16 to uint8 without scaling because max value 218 fits in uint8\n",
      "  return _convert(image, np.uint8, force_copy)\n",
      "/home/pedro/Documents/UNI/_3_ano/LAB_IACD/project_1/.venv/lib/python3.10/site-packages/skimage/util/dtype.py:576: UserWarning: Downcasting int16 to uint8 without scaling because max value 183 fits in uint8\n",
      "  return _convert(image, np.uint8, force_copy)\n"
     ]
    },
    {
     "name": "stdout",
     "output_type": "stream",
     "text": [
      "Currently in scan: LIDC-IDRI-1006\n",
      "Loading dicom files ... This may take a moment.\n",
      "Currently in scan: LIDC-IDRI-1007\n",
      "Loading dicom files ... This may take a moment.\n",
      "Currently in scan: LIDC-IDRI-1008\n",
      "Loading dicom files ... This may take a moment.\n"
     ]
    },
    {
     "name": "stderr",
     "output_type": "stream",
     "text": [
      "/home/pedro/Documents/UNI/_3_ano/LAB_IACD/project_1/.venv/lib/python3.10/site-packages/skimage/util/dtype.py:576: UserWarning: Downcasting int16 to uint8 without scaling because max value -73 fits in uint8\n",
      "  return _convert(image, np.uint8, force_copy)\n",
      "/home/pedro/Documents/UNI/_3_ano/LAB_IACD/project_1/.venv/lib/python3.10/site-packages/skimage/util/dtype.py:576: UserWarning: Downcasting int16 to uint8 without scaling because max value 46 fits in uint8\n",
      "  return _convert(image, np.uint8, force_copy)\n"
     ]
    },
    {
     "name": "stdout",
     "output_type": "stream",
     "text": [
      "Currently in scan: LIDC-IDRI-1009\n",
      "Loading dicom files ... This may take a moment.\n",
      "Currently in scan: LIDC-IDRI-1010\n",
      "Loading dicom files ... This may take a moment.\n",
      "Currently in scan: LIDC-IDRI-1011\n",
      "Loading dicom files ... This may take a moment.\n",
      "Currently in scan: LIDC-IDRI-1012\n",
      "Loading dicom files ... This may take a moment.\n"
     ]
    },
    {
     "name": "stderr",
     "output_type": "stream",
     "text": [
      "/home/pedro/Documents/UNI/_3_ano/LAB_IACD/project_1/.venv/lib/python3.10/site-packages/skimage/util/dtype.py:576: UserWarning: Downcasting int16 to uint8 without scaling because max value 81 fits in uint8\n",
      "  return _convert(image, np.uint8, force_copy)\n"
     ]
    }
   ],
   "source": [
    "import matplotlib.pyplot as plt\n",
    "import tensorflow as tf\n",
    "import numpy as np\n",
    "import pandas as pd\n",
    "from pylidc.utils import consensus\n",
    "from tensorflow.keras.applications.vgg16 import preprocess_input\n",
    "from tensorflow.keras.applications import VGG16\n",
    "from tensorflow.keras.layers import GlobalAveragePooling2D\n",
    "from tensorflow.keras.models import Model\n",
    "\n",
    "#load pre-trained model withput the top layers\n",
    "base_model=VGG16(weights='imagenet',include_top=False, input_shape=(512,512,3))\n",
    "\n",
    "#add global pooling to the method\n",
    "x=base_model.output\n",
    "x=GlobalAveragePooling2D()(x)\n",
    "cnn_model=Model(inputs=base_model.input,outputs=x)\n",
    "\n",
    "\n",
    "#create the DataFrame where we ccn features are going to be stored\n",
    "\n",
    "#create the columns names\n",
    "columns_name=[]\n",
    "columns_name.append(\"PatientID\")\n",
    "for i in range(512):\n",
    "    columns_name.append(\"cnn_feature \"+str(i))\n",
    "\n",
    "columns_name.append(\"Label\")\n",
    "\n",
    "df=pd.DataFrame(columns=columns_name)\n",
    "\n",
    "\n",
    "for folder in folders:\n",
    "    \n",
    "    pid=folder\n",
    "    print(f\"Currently in scan: {pid}\")\n",
    "\n",
    "    #get the scann corresponding to the patient_id that we have \n",
    "    scan=pl.query(pl.Scan).filter(pl.Scan.patient_id==pid).first()\n",
    "    \n",
    "    #get all the nodules annotations, each list corresponds to the same lesions \n",
    "    nods=scan.cluster_annotations()\n",
    "    #nods is a list of list of annotations agrouped by nodule\n",
    "\n",
    "    #create an volume with all of the dicom images of that scan (basicly an 3D image of the CT)\n",
    "    vol=scan.to_volume()\n",
    "\n",
    "    padding=[(30,20),(10,25),(0,0)]\n",
    "    #anns represents all the annotations for one lesion in this scann\n",
    "    #nods represents a list of all the annotations for each lesion in this scan \n",
    "    for anns in nods:\n",
    "        #get the concensus for the contours of this nodule\n",
    "        cmask,cbbox,masks=consensus(anns,clevel=0.5,pad=padding)\n",
    "\n",
    "        #get the central slice of the computed bounding box\n",
    "        k=int(0.5*(cbbox[2].stop-cbbox[2].start))\n",
    "\n",
    "        img=vol[cbbox][:,:,k]\n",
    "\n",
    "\n",
    "        #applying possible usefull filters since we don't have that many lesions (2625)\n",
    "        from skimage.filters.rank import entropy\n",
    "        from skimage.morphology import disk\n",
    "        from skimage.util import img_as_ubyte\n",
    "        entropy_img=entropy(img_as_ubyte(img),disk(1))\n",
    "\n",
    "\n",
    "        from skimage.filters import sobel\n",
    "        sobel_img=sobel(img)\n",
    "\n",
    "        #getting the images ready for the cnn\n",
    "        imgs=[img,entropy_img,sobel_img]\n",
    "\n",
    "        for i in range(1):#we can change this after if we want to use the filters\n",
    "            #making each image have 3 dimensions\n",
    "            imgs[i] = np.expand_dims(imgs[i], axis=-1)\n",
    "\n",
    "            #resizing the images so that they match the input of the cnn\n",
    "            imgs[i]=tf.image.resize(imgs[i],(512,512))\n",
    "\n",
    "            #converting the images to rgb\n",
    "            if(imgs[i].shape[-1]==1):\n",
    "                imgs[i]=tf.image.grayscale_to_rgb(imgs[i])\n",
    "            \n",
    "            #preprocess to the VGG16\n",
    "            imgs[i]=preprocess_input(imgs[i].numpy())\n",
    "\n",
    "            #get the features learned by the cnn\n",
    "            features=cnn_model(np.expand_dims(imgs[i], axis=0))\n",
    "            features=features.numpy().flatten()\n",
    "\n",
    "            #create the row with everything that is going in the dataset \n",
    "            row=[pid]\n",
    "            for x in features:\n",
    "                row.append(x)\n",
    "            row.append(get_malignancy(anns))\n",
    "            df.loc[len(df.index)]=row\n",
    "        \n",
    "    #     break #this breaks are for when debugging not having to run all the scanns\n",
    "    # break #this breaks are for when debugging not having to run all the scanns\n"
   ]
  },
  {
   "cell_type": "code",
   "execution_count": 5,
   "metadata": {},
   "outputs": [
    {
     "name": "stdout",
     "output_type": "stream",
     "text": [
      "(2625, 514)\n"
     ]
    },
    {
     "data": {
      "text/html": [
       "<div>\n",
       "<style scoped>\n",
       "    .dataframe tbody tr th:only-of-type {\n",
       "        vertical-align: middle;\n",
       "    }\n",
       "\n",
       "    .dataframe tbody tr th {\n",
       "        vertical-align: top;\n",
       "    }\n",
       "\n",
       "    .dataframe thead th {\n",
       "        text-align: right;\n",
       "    }\n",
       "</style>\n",
       "<table border=\"1\" class=\"dataframe\">\n",
       "  <thead>\n",
       "    <tr style=\"text-align: right;\">\n",
       "      <th></th>\n",
       "      <th>PatientID</th>\n",
       "      <th>cnn_feature 0</th>\n",
       "      <th>cnn_feature 1</th>\n",
       "      <th>cnn_feature 2</th>\n",
       "      <th>cnn_feature 3</th>\n",
       "      <th>cnn_feature 4</th>\n",
       "      <th>cnn_feature 5</th>\n",
       "      <th>cnn_feature 6</th>\n",
       "      <th>cnn_feature 7</th>\n",
       "      <th>cnn_feature 8</th>\n",
       "      <th>...</th>\n",
       "      <th>cnn_feature 503</th>\n",
       "      <th>cnn_feature 504</th>\n",
       "      <th>cnn_feature 505</th>\n",
       "      <th>cnn_feature 506</th>\n",
       "      <th>cnn_feature 507</th>\n",
       "      <th>cnn_feature 508</th>\n",
       "      <th>cnn_feature 509</th>\n",
       "      <th>cnn_feature 510</th>\n",
       "      <th>cnn_feature 511</th>\n",
       "      <th>Label</th>\n",
       "    </tr>\n",
       "  </thead>\n",
       "  <tbody>\n",
       "    <tr>\n",
       "      <th>0</th>\n",
       "      <td>LIDC-IDRI-0001</td>\n",
       "      <td>1.408519</td>\n",
       "      <td>6.613491</td>\n",
       "      <td>0.206812</td>\n",
       "      <td>12.522177</td>\n",
       "      <td>2.842293</td>\n",
       "      <td>2.566988</td>\n",
       "      <td>0.225895</td>\n",
       "      <td>3.202182</td>\n",
       "      <td>14.950947</td>\n",
       "      <td>...</td>\n",
       "      <td>0.080818</td>\n",
       "      <td>1.799512</td>\n",
       "      <td>0.474278</td>\n",
       "      <td>6.975934</td>\n",
       "      <td>1.273983</td>\n",
       "      <td>4.503269</td>\n",
       "      <td>0.129298</td>\n",
       "      <td>9.106273</td>\n",
       "      <td>0.563464</td>\n",
       "      <td>5</td>\n",
       "    </tr>\n",
       "    <tr>\n",
       "      <th>1</th>\n",
       "      <td>LIDC-IDRI-0002</td>\n",
       "      <td>1.461552</td>\n",
       "      <td>9.027784</td>\n",
       "      <td>1.347735</td>\n",
       "      <td>26.601097</td>\n",
       "      <td>2.025649</td>\n",
       "      <td>2.777943</td>\n",
       "      <td>1.059285</td>\n",
       "      <td>2.987700</td>\n",
       "      <td>6.970528</td>\n",
       "      <td>...</td>\n",
       "      <td>3.473532</td>\n",
       "      <td>0.753911</td>\n",
       "      <td>0.949201</td>\n",
       "      <td>1.776874</td>\n",
       "      <td>2.387758</td>\n",
       "      <td>4.194271</td>\n",
       "      <td>1.476390</td>\n",
       "      <td>5.335127</td>\n",
       "      <td>1.748041</td>\n",
       "      <td>4</td>\n",
       "    </tr>\n",
       "    <tr>\n",
       "      <th>2</th>\n",
       "      <td>LIDC-IDRI-0003</td>\n",
       "      <td>5.875987</td>\n",
       "      <td>11.540094</td>\n",
       "      <td>0.045949</td>\n",
       "      <td>27.112854</td>\n",
       "      <td>4.678982</td>\n",
       "      <td>3.787902</td>\n",
       "      <td>1.021508</td>\n",
       "      <td>1.924538</td>\n",
       "      <td>7.500788</td>\n",
       "      <td>...</td>\n",
       "      <td>0.801210</td>\n",
       "      <td>0.239504</td>\n",
       "      <td>9.201927</td>\n",
       "      <td>1.946184</td>\n",
       "      <td>5.459285</td>\n",
       "      <td>0.320320</td>\n",
       "      <td>0.616315</td>\n",
       "      <td>3.036831</td>\n",
       "      <td>0.429381</td>\n",
       "      <td>2</td>\n",
       "    </tr>\n",
       "    <tr>\n",
       "      <th>3</th>\n",
       "      <td>LIDC-IDRI-0003</td>\n",
       "      <td>4.641324</td>\n",
       "      <td>6.771929</td>\n",
       "      <td>0.130819</td>\n",
       "      <td>20.271763</td>\n",
       "      <td>1.972514</td>\n",
       "      <td>5.147611</td>\n",
       "      <td>0.792397</td>\n",
       "      <td>6.882763</td>\n",
       "      <td>15.692515</td>\n",
       "      <td>...</td>\n",
       "      <td>0.951502</td>\n",
       "      <td>1.994685</td>\n",
       "      <td>0.370287</td>\n",
       "      <td>5.199282</td>\n",
       "      <td>1.392501</td>\n",
       "      <td>1.789750</td>\n",
       "      <td>0.671943</td>\n",
       "      <td>5.783095</td>\n",
       "      <td>0.068551</td>\n",
       "      <td>4</td>\n",
       "    </tr>\n",
       "    <tr>\n",
       "      <th>4</th>\n",
       "      <td>LIDC-IDRI-0003</td>\n",
       "      <td>5.158184</td>\n",
       "      <td>4.188747</td>\n",
       "      <td>0.030707</td>\n",
       "      <td>4.444690</td>\n",
       "      <td>3.116260</td>\n",
       "      <td>0.293485</td>\n",
       "      <td>0.000000</td>\n",
       "      <td>3.416024</td>\n",
       "      <td>8.580443</td>\n",
       "      <td>...</td>\n",
       "      <td>0.095775</td>\n",
       "      <td>1.139045</td>\n",
       "      <td>0.818399</td>\n",
       "      <td>4.912726</td>\n",
       "      <td>11.126127</td>\n",
       "      <td>1.109776</td>\n",
       "      <td>1.508004</td>\n",
       "      <td>11.945731</td>\n",
       "      <td>0.484690</td>\n",
       "      <td>3</td>\n",
       "    </tr>\n",
       "  </tbody>\n",
       "</table>\n",
       "<p>5 rows × 514 columns</p>\n",
       "</div>"
      ],
      "text/plain": [
       "        PatientID  cnn_feature 0  cnn_feature 1  cnn_feature 2  cnn_feature 3  \\\n",
       "0  LIDC-IDRI-0001       1.408519       6.613491       0.206812      12.522177   \n",
       "1  LIDC-IDRI-0002       1.461552       9.027784       1.347735      26.601097   \n",
       "2  LIDC-IDRI-0003       5.875987      11.540094       0.045949      27.112854   \n",
       "3  LIDC-IDRI-0003       4.641324       6.771929       0.130819      20.271763   \n",
       "4  LIDC-IDRI-0003       5.158184       4.188747       0.030707       4.444690   \n",
       "\n",
       "   cnn_feature 4  cnn_feature 5  cnn_feature 6  cnn_feature 7  cnn_feature 8  \\\n",
       "0       2.842293       2.566988       0.225895       3.202182      14.950947   \n",
       "1       2.025649       2.777943       1.059285       2.987700       6.970528   \n",
       "2       4.678982       3.787902       1.021508       1.924538       7.500788   \n",
       "3       1.972514       5.147611       0.792397       6.882763      15.692515   \n",
       "4       3.116260       0.293485       0.000000       3.416024       8.580443   \n",
       "\n",
       "   ...  cnn_feature 503  cnn_feature 504  cnn_feature 505  cnn_feature 506  \\\n",
       "0  ...         0.080818         1.799512         0.474278         6.975934   \n",
       "1  ...         3.473532         0.753911         0.949201         1.776874   \n",
       "2  ...         0.801210         0.239504         9.201927         1.946184   \n",
       "3  ...         0.951502         1.994685         0.370287         5.199282   \n",
       "4  ...         0.095775         1.139045         0.818399         4.912726   \n",
       "\n",
       "   cnn_feature 507  cnn_feature 508  cnn_feature 509  cnn_feature 510  \\\n",
       "0         1.273983         4.503269         0.129298         9.106273   \n",
       "1         2.387758         4.194271         1.476390         5.335127   \n",
       "2         5.459285         0.320320         0.616315         3.036831   \n",
       "3         1.392501         1.789750         0.671943         5.783095   \n",
       "4        11.126127         1.109776         1.508004        11.945731   \n",
       "\n",
       "   cnn_feature 511  Label  \n",
       "0         0.563464      5  \n",
       "1         1.748041      4  \n",
       "2         0.429381      2  \n",
       "3         0.068551      4  \n",
       "4         0.484690      3  \n",
       "\n",
       "[5 rows x 514 columns]"
      ]
     },
     "execution_count": 5,
     "metadata": {},
     "output_type": "execute_result"
    }
   ],
   "source": [
    "print(df.shape)\n",
    "df.head()"
   ]
  },
  {
   "cell_type": "markdown",
   "metadata": {},
   "source": [
    "Store the current cnn features values to make it possible to make use them without having to calculate them again as it can take a while (93 min first time we tried)\n"
   ]
  },
  {
   "cell_type": "code",
   "execution_count": 6,
   "metadata": {},
   "outputs": [],
   "source": [
    "df.to_csv('cnn_features.csv', index=False)"
   ]
  },
  {
   "cell_type": "markdown",
   "metadata": {},
   "source": [
    "In order to make the randomforest algorithm to work better we decided to make the number of features smaller (200)"
   ]
  },
  {
   "cell_type": "code",
   "execution_count": 7,
   "metadata": {},
   "outputs": [
    {
     "data": {
      "text/plain": [
       "(2625, 200)"
      ]
     },
     "execution_count": 7,
     "metadata": {},
     "output_type": "execute_result"
    }
   ],
   "source": [
    "from sklearn.decomposition import PCA\n",
    "pca=PCA(n_components=200)\n",
    "features_columns=df.loc[:,~df.columns.isin(['PatientID','Label'])]\n",
    "reduced_features=pca.fit_transform(features_columns)\n",
    "reduced_features.shape"
   ]
  },
  {
   "cell_type": "markdown",
   "metadata": {},
   "source": [
    "Formating the reduced features into an DataFrame"
   ]
  },
  {
   "cell_type": "code",
   "execution_count": 8,
   "metadata": {},
   "outputs": [
    {
     "data": {
      "text/html": [
       "<div>\n",
       "<style scoped>\n",
       "    .dataframe tbody tr th:only-of-type {\n",
       "        vertical-align: middle;\n",
       "    }\n",
       "\n",
       "    .dataframe tbody tr th {\n",
       "        vertical-align: top;\n",
       "    }\n",
       "\n",
       "    .dataframe thead th {\n",
       "        text-align: right;\n",
       "    }\n",
       "</style>\n",
       "<table border=\"1\" class=\"dataframe\">\n",
       "  <thead>\n",
       "    <tr style=\"text-align: right;\">\n",
       "      <th></th>\n",
       "      <th>PatientID</th>\n",
       "      <th>cnn_feature 0</th>\n",
       "      <th>cnn_feature 1</th>\n",
       "      <th>cnn_feature 2</th>\n",
       "      <th>cnn_feature 3</th>\n",
       "      <th>cnn_feature 4</th>\n",
       "      <th>cnn_feature 5</th>\n",
       "      <th>cnn_feature 6</th>\n",
       "      <th>cnn_feature 7</th>\n",
       "      <th>cnn_feature 8</th>\n",
       "      <th>...</th>\n",
       "      <th>cnn_feature 191</th>\n",
       "      <th>cnn_feature 192</th>\n",
       "      <th>cnn_feature 193</th>\n",
       "      <th>cnn_feature 194</th>\n",
       "      <th>cnn_feature 195</th>\n",
       "      <th>cnn_feature 196</th>\n",
       "      <th>cnn_feature 197</th>\n",
       "      <th>cnn_feature 198</th>\n",
       "      <th>cnn_feature 199</th>\n",
       "      <th>Label</th>\n",
       "    </tr>\n",
       "  </thead>\n",
       "  <tbody>\n",
       "    <tr>\n",
       "      <th>0</th>\n",
       "      <td>LIDC-IDRI-0001</td>\n",
       "      <td>-59.270191</td>\n",
       "      <td>-4.731754</td>\n",
       "      <td>-19.260628</td>\n",
       "      <td>-49.457321</td>\n",
       "      <td>-11.942023</td>\n",
       "      <td>-16.354303</td>\n",
       "      <td>-12.154401</td>\n",
       "      <td>6.667793</td>\n",
       "      <td>1.845408</td>\n",
       "      <td>...</td>\n",
       "      <td>-0.035443</td>\n",
       "      <td>0.564248</td>\n",
       "      <td>0.842348</td>\n",
       "      <td>-2.176432</td>\n",
       "      <td>-0.014757</td>\n",
       "      <td>2.239526</td>\n",
       "      <td>-0.390019</td>\n",
       "      <td>0.319650</td>\n",
       "      <td>0.738894</td>\n",
       "      <td>5</td>\n",
       "    </tr>\n",
       "    <tr>\n",
       "      <th>1</th>\n",
       "      <td>LIDC-IDRI-0002</td>\n",
       "      <td>-7.475523</td>\n",
       "      <td>-11.984719</td>\n",
       "      <td>-72.629936</td>\n",
       "      <td>-13.296576</td>\n",
       "      <td>21.873442</td>\n",
       "      <td>-7.505165</td>\n",
       "      <td>-39.059998</td>\n",
       "      <td>-15.960101</td>\n",
       "      <td>15.330404</td>\n",
       "      <td>...</td>\n",
       "      <td>-1.795778</td>\n",
       "      <td>-0.523711</td>\n",
       "      <td>1.677022</td>\n",
       "      <td>0.258018</td>\n",
       "      <td>-3.003587</td>\n",
       "      <td>0.102814</td>\n",
       "      <td>-1.251750</td>\n",
       "      <td>0.749650</td>\n",
       "      <td>-0.240229</td>\n",
       "      <td>4</td>\n",
       "    </tr>\n",
       "    <tr>\n",
       "      <th>2</th>\n",
       "      <td>LIDC-IDRI-0003</td>\n",
       "      <td>16.350088</td>\n",
       "      <td>50.582478</td>\n",
       "      <td>-79.797974</td>\n",
       "      <td>4.395186</td>\n",
       "      <td>23.136997</td>\n",
       "      <td>16.631542</td>\n",
       "      <td>-31.811354</td>\n",
       "      <td>-15.073377</td>\n",
       "      <td>0.979202</td>\n",
       "      <td>...</td>\n",
       "      <td>1.142602</td>\n",
       "      <td>-0.964356</td>\n",
       "      <td>2.940799</td>\n",
       "      <td>-1.391039</td>\n",
       "      <td>-0.301345</td>\n",
       "      <td>-1.437591</td>\n",
       "      <td>2.171166</td>\n",
       "      <td>0.947804</td>\n",
       "      <td>1.161555</td>\n",
       "      <td>2</td>\n",
       "    </tr>\n",
       "    <tr>\n",
       "      <th>3</th>\n",
       "      <td>LIDC-IDRI-0003</td>\n",
       "      <td>-20.658722</td>\n",
       "      <td>27.842659</td>\n",
       "      <td>-50.602596</td>\n",
       "      <td>-30.740786</td>\n",
       "      <td>6.100678</td>\n",
       "      <td>5.994651</td>\n",
       "      <td>-17.880272</td>\n",
       "      <td>-5.460018</td>\n",
       "      <td>2.200853</td>\n",
       "      <td>...</td>\n",
       "      <td>2.244281</td>\n",
       "      <td>-0.816611</td>\n",
       "      <td>0.542074</td>\n",
       "      <td>-1.072884</td>\n",
       "      <td>-3.382216</td>\n",
       "      <td>-2.390389</td>\n",
       "      <td>0.189504</td>\n",
       "      <td>-2.236187</td>\n",
       "      <td>-0.011233</td>\n",
       "      <td>4</td>\n",
       "    </tr>\n",
       "    <tr>\n",
       "      <th>4</th>\n",
       "      <td>LIDC-IDRI-0003</td>\n",
       "      <td>-74.381630</td>\n",
       "      <td>-9.598942</td>\n",
       "      <td>-13.327378</td>\n",
       "      <td>-6.291062</td>\n",
       "      <td>3.200797</td>\n",
       "      <td>10.638253</td>\n",
       "      <td>-9.848012</td>\n",
       "      <td>12.354282</td>\n",
       "      <td>3.165051</td>\n",
       "      <td>...</td>\n",
       "      <td>-0.023434</td>\n",
       "      <td>0.619883</td>\n",
       "      <td>1.100488</td>\n",
       "      <td>-0.642573</td>\n",
       "      <td>0.905817</td>\n",
       "      <td>0.332873</td>\n",
       "      <td>0.526588</td>\n",
       "      <td>-1.331275</td>\n",
       "      <td>-0.017004</td>\n",
       "      <td>3</td>\n",
       "    </tr>\n",
       "  </tbody>\n",
       "</table>\n",
       "<p>5 rows × 202 columns</p>\n",
       "</div>"
      ],
      "text/plain": [
       "        PatientID  cnn_feature 0  cnn_feature 1  cnn_feature 2  cnn_feature 3  \\\n",
       "0  LIDC-IDRI-0001     -59.270191      -4.731754     -19.260628     -49.457321   \n",
       "1  LIDC-IDRI-0002      -7.475523     -11.984719     -72.629936     -13.296576   \n",
       "2  LIDC-IDRI-0003      16.350088      50.582478     -79.797974       4.395186   \n",
       "3  LIDC-IDRI-0003     -20.658722      27.842659     -50.602596     -30.740786   \n",
       "4  LIDC-IDRI-0003     -74.381630      -9.598942     -13.327378      -6.291062   \n",
       "\n",
       "   cnn_feature 4  cnn_feature 5  cnn_feature 6  cnn_feature 7  cnn_feature 8  \\\n",
       "0     -11.942023     -16.354303     -12.154401       6.667793       1.845408   \n",
       "1      21.873442      -7.505165     -39.059998     -15.960101      15.330404   \n",
       "2      23.136997      16.631542     -31.811354     -15.073377       0.979202   \n",
       "3       6.100678       5.994651     -17.880272      -5.460018       2.200853   \n",
       "4       3.200797      10.638253      -9.848012      12.354282       3.165051   \n",
       "\n",
       "   ...  cnn_feature 191  cnn_feature 192  cnn_feature 193  cnn_feature 194  \\\n",
       "0  ...        -0.035443         0.564248         0.842348        -2.176432   \n",
       "1  ...        -1.795778        -0.523711         1.677022         0.258018   \n",
       "2  ...         1.142602        -0.964356         2.940799        -1.391039   \n",
       "3  ...         2.244281        -0.816611         0.542074        -1.072884   \n",
       "4  ...        -0.023434         0.619883         1.100488        -0.642573   \n",
       "\n",
       "   cnn_feature 195  cnn_feature 196  cnn_feature 197  cnn_feature 198  \\\n",
       "0        -0.014757         2.239526        -0.390019         0.319650   \n",
       "1        -3.003587         0.102814        -1.251750         0.749650   \n",
       "2        -0.301345        -1.437591         2.171166         0.947804   \n",
       "3        -3.382216        -2.390389         0.189504        -2.236187   \n",
       "4         0.905817         0.332873         0.526588        -1.331275   \n",
       "\n",
       "   cnn_feature 199  Label  \n",
       "0         0.738894      5  \n",
       "1        -0.240229      4  \n",
       "2         1.161555      2  \n",
       "3        -0.011233      4  \n",
       "4        -0.017004      3  \n",
       "\n",
       "[5 rows x 202 columns]"
      ]
     },
     "execution_count": 8,
     "metadata": {},
     "output_type": "execute_result"
    }
   ],
   "source": [
    "columns_name=[]\n",
    "for i in range(200):\n",
    "    columns_name.append(\"cnn_feature \"+str(i))\n",
    "    \n",
    "reduced_df=pd.DataFrame(columns=columns_name, data=reduced_features)\n",
    "reduced_df=pd.concat([df['PatientID'],reduced_df,df['Label']], axis=1)\n",
    "reduced_df.head()\n",
    "\n",
    "\n"
   ]
  },
  {
   "cell_type": "code",
   "execution_count": 9,
   "metadata": {},
   "outputs": [],
   "source": [
    "#storing the reduced cnn_features\n",
    "reduced_df.to_csv('cnn_reduced_features.csv',index=False)"
   ]
  }
 ],
 "metadata": {
  "kernelspec": {
   "display_name": ".venv",
   "language": "python",
   "name": "python3"
  },
  "language_info": {
   "codemirror_mode": {
    "name": "ipython",
    "version": 3
   },
   "file_extension": ".py",
   "mimetype": "text/x-python",
   "name": "python",
   "nbconvert_exporter": "python",
   "pygments_lexer": "ipython3",
   "version": "3.10.12"
  }
 },
 "nbformat": 4,
 "nbformat_minor": 2
}
