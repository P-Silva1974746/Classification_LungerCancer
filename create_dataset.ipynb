{
 "cells": [
  {
   "cell_type": "markdown",
   "metadata": {},
   "source": [
    "First is necessary to know which files are going to be used in the data set, in our case we tried to use all the information avaiable (so we should have 1012 patient id's inside our local copy of the LIDC-IDRI) so that we could get more accurate results and since we would be using \"one\" image from each pacient \"nodule\""
   ]
  },
  {
   "cell_type": "code",
   "execution_count": 2,
   "metadata": {},
   "outputs": [
    {
     "name": "stdout",
     "output_type": "stream",
     "text": [
      "Number of patients in the dataset: 1010\n",
      "\n",
      "List of the id's that are missing from our dataset:\n",
      "LIDC-IDRI-0239\n",
      "LIDC-IDRI-0586\n"
     ]
    }
   ],
   "source": [
    "import os\n",
    "\n",
    "#specify the path to your dataset where you have the folders with the name of the pacients\n",
    "directory=\"data/dataset/LIDC-IDRI/\"\n",
    "#list all the folders inside our local copy of LIDC-IDRI (that correspond to the patient id's that are going to be used to get the scans and annotations)\n",
    "folders=os.listdir(directory)\n",
    "\n",
    "print(f\"Number of patients in the dataset: {len(folders)}\")\n",
    "#just so that it is easier to know which patients we are don't have in our copy of the LIDC-IDRI\n",
    "folders.sort()\n",
    "print()\n",
    "#printing the patients id's that we couldn't download\n",
    "print(\"List of the id's that are missing from our dataset:\")\n",
    "count=1\n",
    "for folder in folders:\n",
    "    if(str(count) not in folder):\n",
    "        print(folder)\n",
    "        count=int(folder.split('-')[-1])\n",
    "    count+=1\n"
   ]
  },
  {
   "cell_type": "markdown",
   "metadata": {},
   "source": [
    "As it is possible to see the number is diferent from the expected (1012 number of people that are avaiable in the original LODC-IRDI), this is due to the fact that during the download (which was made using the offical tool nbia-data-retriver) we did not have authority to download this instances"
   ]
  },
  {
   "cell_type": "code",
   "execution_count": 3,
   "metadata": {},
   "outputs": [
    {
     "name": "stdout",
     "output_type": "stream",
     "text": [
      "Failed to reduce all groups to <= 4 Annotations.\n",
      "Some nodules may be close and must be grouped manually.\n",
      "Failed to reduce all groups to <= 4 Annotations.\n",
      "Some nodules may be close and must be grouped manually.\n",
      "Failed to reduce all groups to <= 4 Annotations.\n",
      "Some nodules may be close and must be grouped manually.\n",
      "Failed to reduce all groups to <= 4 Annotations.\n",
      "Some nodules may be close and must be grouped manually.\n",
      "Failed to reduce all groups to <= 4 Annotations.\n",
      "Some nodules may be close and must be grouped manually.\n",
      "Failed to reduce all groups to <= 4 Annotations.\n",
      "Some nodules may be close and must be grouped manually.\n",
      "Failed to reduce all groups to <= 4 Annotations.\n",
      "Some nodules may be close and must be grouped manually.\n",
      "Failed to reduce all groups to <= 4 Annotations.\n",
      "Some nodules may be close and must be grouped manually.\n",
      "Failed to reduce all groups to <= 4 Annotations.\n",
      "Some nodules may be close and must be grouped manually.\n",
      "Failed to reduce all groups to <= 4 Annotations.\n",
      "Some nodules may be close and must be grouped manually.\n",
      "Failed to reduce all groups to <= 4 Annotations.\n",
      "Some nodules may be close and must be grouped manually.\n",
      "Failed to reduce all groups to <= 4 Annotations.\n",
      "Some nodules may be close and must be grouped manually.\n",
      "Failed to reduce all groups to <= 4 Annotations.\n",
      "Some nodules may be close and must be grouped manually.\n",
      "Number of lesions: 2625\n",
      "Number of scanns with 0 nodules: 135\n",
      "[['LIDC-IDRI-0028', []], ['LIDC-IDRI-0032', []], ['LIDC-IDRI-0062', []], ['LIDC-IDRI-0071', []], ['LIDC-IDRI-0100', []], ['LIDC-IDRI-0143', []], ['LIDC-IDRI-0174', []], ['LIDC-IDRI-0189', []], ['LIDC-IDRI-0197', []], ['LIDC-IDRI-0205', []], ['LIDC-IDRI-0214', []], ['LIDC-IDRI-0218', []], ['LIDC-IDRI-0224', []], ['LIDC-IDRI-0225', []], ['LIDC-IDRI-0226', []], ['LIDC-IDRI-0239', []], ['LIDC-IDRI-0253', []], ['LIDC-IDRI-0261', []], ['LIDC-IDRI-0279', []], ['LIDC-IDRI-0293', []], ['LIDC-IDRI-0295', []], ['LIDC-IDRI-0306', []], ['LIDC-IDRI-0307', []], ['LIDC-IDRI-0316', []], ['LIDC-IDRI-0322', []], ['LIDC-IDRI-0327', []], ['LIDC-IDRI-0330', []], ['LIDC-IDRI-0331', []], ['LIDC-IDRI-0333', []], ['LIDC-IDRI-0336', []], ['LIDC-IDRI-0342', []], ['LIDC-IDRI-0349', []], ['LIDC-IDRI-0361', []], ['LIDC-IDRI-0364', []], ['LIDC-IDRI-0382', []], ['LIDC-IDRI-0383', []], ['LIDC-IDRI-0389', []], ['LIDC-IDRI-0391', []], ['LIDC-IDRI-0401', []], ['LIDC-IDRI-0410', []], ['LIDC-IDRI-0417', []], ['LIDC-IDRI-0418', []], ['LIDC-IDRI-0422', []], ['LIDC-IDRI-0425', []], ['LIDC-IDRI-0428', []], ['LIDC-IDRI-0441', []], ['LIDC-IDRI-0446', []], ['LIDC-IDRI-0455', []], ['LIDC-IDRI-0465', []], ['LIDC-IDRI-0472', []], ['LIDC-IDRI-0482', []], ['LIDC-IDRI-0506', []], ['LIDC-IDRI-0511', []], ['LIDC-IDRI-0512', []], ['LIDC-IDRI-0513', []], ['LIDC-IDRI-0514', []], ['LIDC-IDRI-0519', []], ['LIDC-IDRI-0528', []], ['LIDC-IDRI-0531', []], ['LIDC-IDRI-0536', []], ['LIDC-IDRI-0540', []], ['LIDC-IDRI-0544', []], ['LIDC-IDRI-0548', []], ['LIDC-IDRI-0561', []], ['LIDC-IDRI-0564', []], ['LIDC-IDRI-0573', []], ['LIDC-IDRI-0589', []], ['LIDC-IDRI-0600', []], ['LIDC-IDRI-0603', []], ['LIDC-IDRI-0612', []], ['LIDC-IDRI-0616', []], ['LIDC-IDRI-0622', []], ['LIDC-IDRI-0623', []], ['LIDC-IDRI-0627', []], ['LIDC-IDRI-0632', []], ['LIDC-IDRI-0646', []], ['LIDC-IDRI-0653', []], ['LIDC-IDRI-0665', []], ['LIDC-IDRI-0667', []], ['LIDC-IDRI-0668', []], ['LIDC-IDRI-0679', []], ['LIDC-IDRI-0683', []], ['LIDC-IDRI-0685', []], ['LIDC-IDRI-0689', []], ['LIDC-IDRI-0690', []], ['LIDC-IDRI-0691', []], ['LIDC-IDRI-0710', []], ['LIDC-IDRI-0711', []], ['LIDC-IDRI-0716', []], ['LIDC-IDRI-0718', []], ['LIDC-IDRI-0731', []], ['LIDC-IDRI-0737', []], ['LIDC-IDRI-0738', []], ['LIDC-IDRI-0745', []], ['LIDC-IDRI-0746', []], ['LIDC-IDRI-0755', []], ['LIDC-IDRI-0760', []], ['LIDC-IDRI-0764', []], ['LIDC-IDRI-0774', []], ['LIDC-IDRI-0784', []], ['LIDC-IDRI-0804', []], ['LIDC-IDRI-0808', []], ['LIDC-IDRI-0839', []], ['LIDC-IDRI-0853', []], ['LIDC-IDRI-0862', []], ['LIDC-IDRI-0876', []], ['LIDC-IDRI-0877', []], ['LIDC-IDRI-0878', []], ['LIDC-IDRI-0881', []], ['LIDC-IDRI-0885', []], ['LIDC-IDRI-0887', []], ['LIDC-IDRI-0889', []], ['LIDC-IDRI-0891', []], ['LIDC-IDRI-0897', []], ['LIDC-IDRI-0900', []], ['LIDC-IDRI-0901', []], ['LIDC-IDRI-0903', []], ['LIDC-IDRI-0918', []], ['LIDC-IDRI-0927', []], ['LIDC-IDRI-0930', []], ['LIDC-IDRI-0931', []], ['LIDC-IDRI-0934', []], ['LIDC-IDRI-0937', []], ['LIDC-IDRI-0948', []], ['LIDC-IDRI-0952', []], ['LIDC-IDRI-0954', []], ['LIDC-IDRI-0960', []], ['LIDC-IDRI-0964', []], ['LIDC-IDRI-0967', []], ['LIDC-IDRI-0970', []], ['LIDC-IDRI-0975', []], ['LIDC-IDRI-0979', []], ['LIDC-IDRI-0988', []], ['LIDC-IDRI-0992', []], ['LIDC-IDRI-0995', []]]\n"
     ]
    }
   ],
   "source": [
    "import pylidc as pl\n",
    "\n",
    "n_lesions=0\n",
    "scans_0_nods=[]\n",
    "\n",
    "for folder in folders:\n",
    "    pid=folder\n",
    "\n",
    "    #get the scann corresponding to the patient_id that we have \n",
    "    scan=pl.query(pl.Scan).filter(pl.Scan.patient_id==pid).first()\n",
    "    #get all the nodules annotations, each list corresponds to the same nodules\n",
    "    nods=scan.cluster_annotations()    \n",
    "    n_lesions+=len(nods)\n",
    "    if(len(nods)==0):\n",
    "        scans_0_nods.append([scan.patient_id,scan.annotations])\n",
    "        \n",
    "\n",
    "\n",
    "print(f\"Number of lesions: {n_lesions}\" )\n",
    "print(f\"Number of scanns with 0 nodules: {len(scans_0_nods)}\")\n",
    "print(scans_0_nods)\n",
    "#13 of them gave an error so in total we have 123 scanns with 0 annotations\n"
   ]
  },
  {
   "cell_type": "markdown",
   "metadata": {},
   "source": [
    "As it is possible to see above some of the scans don't have nodules/annotations "
   ]
  },
  {
   "cell_type": "code",
   "execution_count": 38,
   "metadata": {},
   "outputs": [
    {
     "name": "stdout",
     "output_type": "stream",
     "text": [
      "Loading dicom files ... This may take a moment.\n",
      "Loading dicom files ... This may take a moment.\n",
      "Loading dicom files ... This may take a moment.\n"
     ]
    },
    {
     "name": "stderr",
     "output_type": "stream",
     "text": [
      "/home/pedro/Documents/UNI/_3_ano/LAB_IACD/project_1/.venv/lib/python3.10/site-packages/skimage/util/dtype.py:576: UserWarning: Downcasting int16 to uint8 without scaling because max value 208 fits in uint8\n",
      "  return _convert(image, np.uint8, force_copy)\n"
     ]
    },
    {
     "name": "stdout",
     "output_type": "stream",
     "text": [
      "Loading dicom files ... This may take a moment.\n",
      "Loading dicom files ... This may take a moment.\n"
     ]
    },
    {
     "name": "stderr",
     "output_type": "stream",
     "text": [
      "/home/pedro/Documents/UNI/_3_ano/LAB_IACD/project_1/.venv/lib/python3.10/site-packages/skimage/util/dtype.py:576: UserWarning: Downcasting int16 to uint8 without scaling because max value 176 fits in uint8\n",
      "  return _convert(image, np.uint8, force_copy)\n"
     ]
    },
    {
     "name": "stdout",
     "output_type": "stream",
     "text": [
      "Loading dicom files ... This may take a moment.\n"
     ]
    },
    {
     "name": "stderr",
     "output_type": "stream",
     "text": [
      "/home/pedro/Documents/UNI/_3_ano/LAB_IACD/project_1/.venv/lib/python3.10/site-packages/skimage/util/dtype.py:576: UserWarning: Downcasting int16 to uint8 without scaling because max value 215 fits in uint8\n",
      "  return _convert(image, np.uint8, force_copy)\n",
      "/home/pedro/Documents/UNI/_3_ano/LAB_IACD/project_1/.venv/lib/python3.10/site-packages/skimage/util/dtype.py:576: UserWarning: Downcasting int16 to uint8 without scaling because max value 56 fits in uint8\n",
      "  return _convert(image, np.uint8, force_copy)\n",
      "/home/pedro/Documents/UNI/_3_ano/LAB_IACD/project_1/.venv/lib/python3.10/site-packages/skimage/util/dtype.py:576: UserWarning: Downcasting int16 to uint8 without scaling because max value 32 fits in uint8\n",
      "  return _convert(image, np.uint8, force_copy)\n"
     ]
    },
    {
     "name": "stdout",
     "output_type": "stream",
     "text": [
      "Loading dicom files ... This may take a moment.\n",
      "Loading dicom files ... This may take a moment.\n",
      "Loading dicom files ... This may take a moment.\n",
      "Loading dicom files ... This may take a moment.\n",
      "Loading dicom files ... This may take a moment.\n"
     ]
    },
    {
     "name": "stderr",
     "output_type": "stream",
     "text": [
      "/home/pedro/Documents/UNI/_3_ano/LAB_IACD/project_1/.venv/lib/python3.10/site-packages/skimage/util/dtype.py:576: UserWarning: Downcasting int16 to uint8 without scaling because max value 124 fits in uint8\n",
      "  return _convert(image, np.uint8, force_copy)\n",
      "/home/pedro/Documents/UNI/_3_ano/LAB_IACD/project_1/.venv/lib/python3.10/site-packages/skimage/util/dtype.py:576: UserWarning: Downcasting int16 to uint8 without scaling because max value 64 fits in uint8\n",
      "  return _convert(image, np.uint8, force_copy)\n",
      "/home/pedro/Documents/UNI/_3_ano/LAB_IACD/project_1/.venv/lib/python3.10/site-packages/skimage/util/dtype.py:576: UserWarning: Downcasting int16 to uint8 without scaling because max value 84 fits in uint8\n",
      "  return _convert(image, np.uint8, force_copy)\n"
     ]
    },
    {
     "name": "stdout",
     "output_type": "stream",
     "text": [
      "Loading dicom files ... This may take a moment.\n"
     ]
    },
    {
     "name": "stderr",
     "output_type": "stream",
     "text": [
      "/home/pedro/Documents/UNI/_3_ano/LAB_IACD/project_1/.venv/lib/python3.10/site-packages/skimage/util/dtype.py:576: UserWarning: Downcasting int16 to uint8 without scaling because max value 50 fits in uint8\n",
      "  return _convert(image, np.uint8, force_copy)\n",
      "/home/pedro/Documents/UNI/_3_ano/LAB_IACD/project_1/.venv/lib/python3.10/site-packages/skimage/util/dtype.py:576: UserWarning: Downcasting int16 to uint8 without scaling because max value -17 fits in uint8\n",
      "  return _convert(image, np.uint8, force_copy)\n",
      "/home/pedro/Documents/UNI/_3_ano/LAB_IACD/project_1/.venv/lib/python3.10/site-packages/skimage/util/dtype.py:576: UserWarning: Downcasting int16 to uint8 without scaling because max value 72 fits in uint8\n",
      "  return _convert(image, np.uint8, force_copy)\n",
      "/home/pedro/Documents/UNI/_3_ano/LAB_IACD/project_1/.venv/lib/python3.10/site-packages/skimage/util/dtype.py:576: UserWarning: Downcasting int16 to uint8 without scaling because max value 72 fits in uint8\n",
      "  return _convert(image, np.uint8, force_copy)\n",
      "/home/pedro/Documents/UNI/_3_ano/LAB_IACD/project_1/.venv/lib/python3.10/site-packages/skimage/util/dtype.py:576: UserWarning: Downcasting int16 to uint8 without scaling because max value -22 fits in uint8\n",
      "  return _convert(image, np.uint8, force_copy)\n"
     ]
    },
    {
     "name": "stdout",
     "output_type": "stream",
     "text": [
      "Loading dicom files ... This may take a moment.\n"
     ]
    },
    {
     "name": "stderr",
     "output_type": "stream",
     "text": [
      "/home/pedro/Documents/UNI/_3_ano/LAB_IACD/project_1/.venv/lib/python3.10/site-packages/skimage/util/dtype.py:576: UserWarning: Downcasting int16 to uint8 without scaling because max value 38 fits in uint8\n",
      "  return _convert(image, np.uint8, force_copy)\n"
     ]
    },
    {
     "name": "stdout",
     "output_type": "stream",
     "text": [
      "Loading dicom files ... This may take a moment.\n"
     ]
    },
    {
     "name": "stderr",
     "output_type": "stream",
     "text": [
      "/home/pedro/Documents/UNI/_3_ano/LAB_IACD/project_1/.venv/lib/python3.10/site-packages/skimage/util/dtype.py:576: UserWarning: Downcasting int16 to uint8 without scaling because max value 233 fits in uint8\n",
      "  return _convert(image, np.uint8, force_copy)\n"
     ]
    },
    {
     "name": "stdout",
     "output_type": "stream",
     "text": [
      "Loading dicom files ... This may take a moment.\n",
      "Loading dicom files ... This may take a moment.\n"
     ]
    },
    {
     "name": "stderr",
     "output_type": "stream",
     "text": [
      "/home/pedro/Documents/UNI/_3_ano/LAB_IACD/project_1/.venv/lib/python3.10/site-packages/skimage/util/dtype.py:576: UserWarning: Downcasting int16 to uint8 without scaling because max value 18 fits in uint8\n",
      "  return _convert(image, np.uint8, force_copy)\n",
      "/home/pedro/Documents/UNI/_3_ano/LAB_IACD/project_1/.venv/lib/python3.10/site-packages/skimage/util/dtype.py:576: UserWarning: Downcasting int16 to uint8 without scaling because max value -96 fits in uint8\n",
      "  return _convert(image, np.uint8, force_copy)\n",
      "/home/pedro/Documents/UNI/_3_ano/LAB_IACD/project_1/.venv/lib/python3.10/site-packages/skimage/util/dtype.py:576: UserWarning: Downcasting int16 to uint8 without scaling because max value -92 fits in uint8\n",
      "  return _convert(image, np.uint8, force_copy)\n"
     ]
    },
    {
     "name": "stdout",
     "output_type": "stream",
     "text": [
      "Loading dicom files ... This may take a moment.\n"
     ]
    },
    {
     "name": "stderr",
     "output_type": "stream",
     "text": [
      "/home/pedro/Documents/UNI/_3_ano/LAB_IACD/project_1/.venv/lib/python3.10/site-packages/skimage/util/dtype.py:576: UserWarning: Downcasting int16 to uint8 without scaling because max value 117 fits in uint8\n",
      "  return _convert(image, np.uint8, force_copy)\n"
     ]
    },
    {
     "name": "stdout",
     "output_type": "stream",
     "text": [
      "Loading dicom files ... This may take a moment.\n"
     ]
    },
    {
     "name": "stderr",
     "output_type": "stream",
     "text": [
      "/home/pedro/Documents/UNI/_3_ano/LAB_IACD/project_1/.venv/lib/python3.10/site-packages/skimage/util/dtype.py:576: UserWarning: Downcasting int16 to uint8 without scaling because max value 8 fits in uint8\n",
      "  return _convert(image, np.uint8, force_copy)\n",
      "/home/pedro/Documents/UNI/_3_ano/LAB_IACD/project_1/.venv/lib/python3.10/site-packages/skimage/util/dtype.py:576: UserWarning: Downcasting int16 to uint8 without scaling because max value -218 fits in uint8\n",
      "  return _convert(image, np.uint8, force_copy)\n"
     ]
    },
    {
     "name": "stdout",
     "output_type": "stream",
     "text": [
      "Loading dicom files ... This may take a moment.\n",
      "Loading dicom files ... This may take a moment.\n",
      "Loading dicom files ... This may take a moment.\n"
     ]
    },
    {
     "name": "stderr",
     "output_type": "stream",
     "text": [
      "/home/pedro/Documents/UNI/_3_ano/LAB_IACD/project_1/.venv/lib/python3.10/site-packages/skimage/util/dtype.py:576: UserWarning: Downcasting int16 to uint8 without scaling because max value 80 fits in uint8\n",
      "  return _convert(image, np.uint8, force_copy)\n"
     ]
    },
    {
     "name": "stdout",
     "output_type": "stream",
     "text": [
      "Loading dicom files ... This may take a moment.\n",
      "Loading dicom files ... This may take a moment.\n",
      "Loading dicom files ... This may take a moment.\n"
     ]
    },
    {
     "name": "stderr",
     "output_type": "stream",
     "text": [
      "/home/pedro/Documents/UNI/_3_ano/LAB_IACD/project_1/.venv/lib/python3.10/site-packages/skimage/util/dtype.py:576: UserWarning: Downcasting int16 to uint8 without scaling because max value 72 fits in uint8\n",
      "  return _convert(image, np.uint8, force_copy)\n"
     ]
    },
    {
     "name": "stdout",
     "output_type": "stream",
     "text": [
      "Loading dicom files ... This may take a moment.\n",
      "Loading dicom files ... This may take a moment.\n",
      "Loading dicom files ... This may take a moment.\n"
     ]
    },
    {
     "name": "stderr",
     "output_type": "stream",
     "text": [
      "/home/pedro/Documents/UNI/_3_ano/LAB_IACD/project_1/.venv/lib/python3.10/site-packages/skimage/util/dtype.py:576: UserWarning: Downcasting int16 to uint8 without scaling because max value 170 fits in uint8\n",
      "  return _convert(image, np.uint8, force_copy)\n",
      "/home/pedro/Documents/UNI/_3_ano/LAB_IACD/project_1/.venv/lib/python3.10/site-packages/skimage/util/dtype.py:576: UserWarning: Downcasting int16 to uint8 without scaling because max value -131 fits in uint8\n",
      "  return _convert(image, np.uint8, force_copy)\n"
     ]
    },
    {
     "name": "stdout",
     "output_type": "stream",
     "text": [
      "Loading dicom files ... This may take a moment.\n",
      "Loading dicom files ... This may take a moment.\n",
      "Loading dicom files ... This may take a moment.\n",
      "Loading dicom files ... This may take a moment.\n"
     ]
    },
    {
     "name": "stderr",
     "output_type": "stream",
     "text": [
      "/home/pedro/Documents/UNI/_3_ano/LAB_IACD/project_1/.venv/lib/python3.10/site-packages/skimage/util/dtype.py:576: UserWarning: Downcasting int16 to uint8 without scaling because max value 35 fits in uint8\n",
      "  return _convert(image, np.uint8, force_copy)\n",
      "/home/pedro/Documents/UNI/_3_ano/LAB_IACD/project_1/.venv/lib/python3.10/site-packages/skimage/util/dtype.py:576: UserWarning: Downcasting int16 to uint8 without scaling because max value 25 fits in uint8\n",
      "  return _convert(image, np.uint8, force_copy)\n"
     ]
    },
    {
     "name": "stdout",
     "output_type": "stream",
     "text": [
      "Loading dicom files ... This may take a moment.\n",
      "Loading dicom files ... This may take a moment.\n",
      "Loading dicom files ... This may take a moment.\n",
      "Loading dicom files ... This may take a moment.\n",
      "Loading dicom files ... This may take a moment.\n"
     ]
    },
    {
     "name": "stderr",
     "output_type": "stream",
     "text": [
      "/home/pedro/Documents/UNI/_3_ano/LAB_IACD/project_1/.venv/lib/python3.10/site-packages/skimage/util/dtype.py:576: UserWarning: Downcasting int16 to uint8 without scaling because max value 89 fits in uint8\n",
      "  return _convert(image, np.uint8, force_copy)\n"
     ]
    },
    {
     "name": "stdout",
     "output_type": "stream",
     "text": [
      "Loading dicom files ... This may take a moment.\n",
      "Loading dicom files ... This may take a moment.\n",
      "Loading dicom files ... This may take a moment.\n",
      "Loading dicom files ... This may take a moment.\n"
     ]
    },
    {
     "name": "stderr",
     "output_type": "stream",
     "text": [
      "/home/pedro/Documents/UNI/_3_ano/LAB_IACD/project_1/.venv/lib/python3.10/site-packages/skimage/util/dtype.py:576: UserWarning: Downcasting int16 to uint8 without scaling because max value 203 fits in uint8\n",
      "  return _convert(image, np.uint8, force_copy)\n",
      "/home/pedro/Documents/UNI/_3_ano/LAB_IACD/project_1/.venv/lib/python3.10/site-packages/skimage/util/dtype.py:576: UserWarning: Downcasting int16 to uint8 without scaling because max value 20 fits in uint8\n",
      "  return _convert(image, np.uint8, force_copy)\n"
     ]
    },
    {
     "name": "stdout",
     "output_type": "stream",
     "text": [
      "Loading dicom files ... This may take a moment.\n",
      "Loading dicom files ... This may take a moment.\n"
     ]
    },
    {
     "name": "stderr",
     "output_type": "stream",
     "text": [
      "/home/pedro/Documents/UNI/_3_ano/LAB_IACD/project_1/.venv/lib/python3.10/site-packages/skimage/util/dtype.py:576: UserWarning: Downcasting int16 to uint8 without scaling because max value 77 fits in uint8\n",
      "  return _convert(image, np.uint8, force_copy)\n",
      "/home/pedro/Documents/UNI/_3_ano/LAB_IACD/project_1/.venv/lib/python3.10/site-packages/skimage/util/dtype.py:576: UserWarning: Downcasting int16 to uint8 without scaling because max value 204 fits in uint8\n",
      "  return _convert(image, np.uint8, force_copy)\n",
      "/home/pedro/Documents/UNI/_3_ano/LAB_IACD/project_1/.venv/lib/python3.10/site-packages/skimage/util/dtype.py:576: UserWarning: Downcasting int16 to uint8 without scaling because max value 92 fits in uint8\n",
      "  return _convert(image, np.uint8, force_copy)\n"
     ]
    },
    {
     "name": "stdout",
     "output_type": "stream",
     "text": [
      "Loading dicom files ... This may take a moment.\n",
      "Loading dicom files ... This may take a moment.\n"
     ]
    },
    {
     "name": "stderr",
     "output_type": "stream",
     "text": [
      "/home/pedro/Documents/UNI/_3_ano/LAB_IACD/project_1/.venv/lib/python3.10/site-packages/skimage/util/dtype.py:576: UserWarning: Downcasting int16 to uint8 without scaling because max value 178 fits in uint8\n",
      "  return _convert(image, np.uint8, force_copy)\n"
     ]
    },
    {
     "name": "stdout",
     "output_type": "stream",
     "text": [
      "Loading dicom files ... This may take a moment.\n"
     ]
    },
    {
     "name": "stderr",
     "output_type": "stream",
     "text": [
      "/home/pedro/Documents/UNI/_3_ano/LAB_IACD/project_1/.venv/lib/python3.10/site-packages/skimage/util/dtype.py:576: UserWarning: Downcasting int16 to uint8 without scaling because max value 123 fits in uint8\n",
      "  return _convert(image, np.uint8, force_copy)\n",
      "/home/pedro/Documents/UNI/_3_ano/LAB_IACD/project_1/.venv/lib/python3.10/site-packages/skimage/util/dtype.py:576: UserWarning: Downcasting int16 to uint8 without scaling because max value 172 fits in uint8\n",
      "  return _convert(image, np.uint8, force_copy)\n",
      "/home/pedro/Documents/UNI/_3_ano/LAB_IACD/project_1/.venv/lib/python3.10/site-packages/skimage/util/dtype.py:576: UserWarning: Downcasting int16 to uint8 without scaling because max value 81 fits in uint8\n",
      "  return _convert(image, np.uint8, force_copy)\n",
      "/home/pedro/Documents/UNI/_3_ano/LAB_IACD/project_1/.venv/lib/python3.10/site-packages/skimage/util/dtype.py:576: UserWarning: Downcasting int16 to uint8 without scaling because max value 156 fits in uint8\n",
      "  return _convert(image, np.uint8, force_copy)\n"
     ]
    },
    {
     "name": "stdout",
     "output_type": "stream",
     "text": [
      "Loading dicom files ... This may take a moment.\n"
     ]
    },
    {
     "name": "stderr",
     "output_type": "stream",
     "text": [
      "/home/pedro/Documents/UNI/_3_ano/LAB_IACD/project_1/.venv/lib/python3.10/site-packages/skimage/util/dtype.py:576: UserWarning: Downcasting int16 to uint8 without scaling because max value 20 fits in uint8\n",
      "  return _convert(image, np.uint8, force_copy)\n"
     ]
    },
    {
     "name": "stdout",
     "output_type": "stream",
     "text": [
      "Loading dicom files ... This may take a moment.\n"
     ]
    },
    {
     "name": "stderr",
     "output_type": "stream",
     "text": [
      "/home/pedro/Documents/UNI/_3_ano/LAB_IACD/project_1/.venv/lib/python3.10/site-packages/skimage/util/dtype.py:576: UserWarning: Downcasting int16 to uint8 without scaling because max value 14 fits in uint8\n",
      "  return _convert(image, np.uint8, force_copy)\n"
     ]
    },
    {
     "name": "stdout",
     "output_type": "stream",
     "text": [
      "Loading dicom files ... This may take a moment.\n",
      "Loading dicom files ... This may take a moment.\n"
     ]
    },
    {
     "name": "stderr",
     "output_type": "stream",
     "text": [
      "/home/pedro/Documents/UNI/_3_ano/LAB_IACD/project_1/.venv/lib/python3.10/site-packages/skimage/util/dtype.py:576: UserWarning: Downcasting int16 to uint8 without scaling because max value 228 fits in uint8\n",
      "  return _convert(image, np.uint8, force_copy)\n",
      "/home/pedro/Documents/UNI/_3_ano/LAB_IACD/project_1/.venv/lib/python3.10/site-packages/skimage/util/dtype.py:576: UserWarning: Downcasting int16 to uint8 without scaling because max value 130 fits in uint8\n",
      "  return _convert(image, np.uint8, force_copy)\n",
      "/home/pedro/Documents/UNI/_3_ano/LAB_IACD/project_1/.venv/lib/python3.10/site-packages/skimage/util/dtype.py:576: UserWarning: Downcasting int16 to uint8 without scaling because max value 39 fits in uint8\n",
      "  return _convert(image, np.uint8, force_copy)\n",
      "/home/pedro/Documents/UNI/_3_ano/LAB_IACD/project_1/.venv/lib/python3.10/site-packages/skimage/util/dtype.py:576: UserWarning: Downcasting int16 to uint8 without scaling because max value 180 fits in uint8\n",
      "  return _convert(image, np.uint8, force_copy)\n",
      "/home/pedro/Documents/UNI/_3_ano/LAB_IACD/project_1/.venv/lib/python3.10/site-packages/skimage/util/dtype.py:576: UserWarning: Downcasting int16 to uint8 without scaling because max value 123 fits in uint8\n",
      "  return _convert(image, np.uint8, force_copy)\n"
     ]
    },
    {
     "name": "stdout",
     "output_type": "stream",
     "text": [
      "Loading dicom files ... This may take a moment.\n",
      "Loading dicom files ... This may take a moment.\n",
      "Loading dicom files ... This may take a moment.\n",
      "Loading dicom files ... This may take a moment.\n",
      "Loading dicom files ... This may take a moment.\n",
      "Failed to reduce all groups to <= 4 Annotations.\n",
      "Some nodules may be close and must be grouped manually.\n",
      "Loading dicom files ... This may take a moment.\n"
     ]
    },
    {
     "name": "stderr",
     "output_type": "stream",
     "text": [
      "/home/pedro/Documents/UNI/_3_ano/LAB_IACD/project_1/.venv/lib/python3.10/site-packages/skimage/util/dtype.py:576: UserWarning: Downcasting int16 to uint8 without scaling because max value 160 fits in uint8\n",
      "  return _convert(image, np.uint8, force_copy)\n",
      "/home/pedro/Documents/UNI/_3_ano/LAB_IACD/project_1/.venv/lib/python3.10/site-packages/skimage/util/dtype.py:576: UserWarning: Downcasting int16 to uint8 without scaling because max value -390 fits in uint8\n",
      "  return _convert(image, np.uint8, force_copy)\n",
      "/home/pedro/Documents/UNI/_3_ano/LAB_IACD/project_1/.venv/lib/python3.10/site-packages/skimage/util/dtype.py:576: UserWarning: Downcasting int16 to uint8 without scaling because max value 109 fits in uint8\n",
      "  return _convert(image, np.uint8, force_copy)\n"
     ]
    },
    {
     "name": "stdout",
     "output_type": "stream",
     "text": [
      "Loading dicom files ... This may take a moment.\n"
     ]
    },
    {
     "name": "stderr",
     "output_type": "stream",
     "text": [
      "/home/pedro/Documents/UNI/_3_ano/LAB_IACD/project_1/.venv/lib/python3.10/site-packages/skimage/util/dtype.py:576: UserWarning: Downcasting int16 to uint8 without scaling because max value 174 fits in uint8\n",
      "  return _convert(image, np.uint8, force_copy)\n"
     ]
    },
    {
     "name": "stdout",
     "output_type": "stream",
     "text": [
      "Loading dicom files ... This may take a moment.\n",
      "Loading dicom files ... This may take a moment.\n",
      "Loading dicom files ... This may take a moment.\n",
      "Loading dicom files ... This may take a moment.\n"
     ]
    },
    {
     "name": "stderr",
     "output_type": "stream",
     "text": [
      "/home/pedro/Documents/UNI/_3_ano/LAB_IACD/project_1/.venv/lib/python3.10/site-packages/skimage/util/dtype.py:576: UserWarning: Downcasting int16 to uint8 without scaling because max value 61 fits in uint8\n",
      "  return _convert(image, np.uint8, force_copy)\n",
      "/home/pedro/Documents/UNI/_3_ano/LAB_IACD/project_1/.venv/lib/python3.10/site-packages/skimage/util/dtype.py:576: UserWarning: Downcasting int16 to uint8 without scaling because max value 64 fits in uint8\n",
      "  return _convert(image, np.uint8, force_copy)\n",
      "/home/pedro/Documents/UNI/_3_ano/LAB_IACD/project_1/.venv/lib/python3.10/site-packages/skimage/util/dtype.py:576: UserWarning: Downcasting int16 to uint8 without scaling because max value 216 fits in uint8\n",
      "  return _convert(image, np.uint8, force_copy)\n"
     ]
    },
    {
     "name": "stdout",
     "output_type": "stream",
     "text": [
      "Loading dicom files ... This may take a moment.\n",
      "Loading dicom files ... This may take a moment.\n",
      "Loading dicom files ... This may take a moment.\n",
      "Loading dicom files ... This may take a moment.\n",
      "Loading dicom files ... This may take a moment.\n",
      "Loading dicom files ... This may take a moment.\n",
      "Loading dicom files ... This may take a moment.\n",
      "Loading dicom files ... This may take a moment.\n"
     ]
    },
    {
     "name": "stderr",
     "output_type": "stream",
     "text": [
      "/home/pedro/Documents/UNI/_3_ano/LAB_IACD/project_1/.venv/lib/python3.10/site-packages/skimage/util/dtype.py:576: UserWarning: Downcasting int16 to uint8 without scaling because max value 116 fits in uint8\n",
      "  return _convert(image, np.uint8, force_copy)\n"
     ]
    },
    {
     "name": "stdout",
     "output_type": "stream",
     "text": [
      "Loading dicom files ... This may take a moment.\n",
      "Loading dicom files ... This may take a moment.\n"
     ]
    },
    {
     "name": "stderr",
     "output_type": "stream",
     "text": [
      "/home/pedro/Documents/UNI/_3_ano/LAB_IACD/project_1/.venv/lib/python3.10/site-packages/skimage/util/dtype.py:576: UserWarning: Downcasting int16 to uint8 without scaling because max value -73 fits in uint8\n",
      "  return _convert(image, np.uint8, force_copy)\n"
     ]
    },
    {
     "name": "stdout",
     "output_type": "stream",
     "text": [
      "Loading dicom files ... This may take a moment.\n",
      "Loading dicom files ... This may take a moment.\n",
      "Loading dicom files ... This may take a moment.\n",
      "Loading dicom files ... This may take a moment.\n",
      "Loading dicom files ... This may take a moment.\n",
      "Loading dicom files ... This may take a moment.\n",
      "Loading dicom files ... This may take a moment.\n",
      "Loading dicom files ... This may take a moment.\n"
     ]
    },
    {
     "name": "stderr",
     "output_type": "stream",
     "text": [
      "/home/pedro/Documents/UNI/_3_ano/LAB_IACD/project_1/.venv/lib/python3.10/site-packages/skimage/util/dtype.py:576: UserWarning: Downcasting int16 to uint8 without scaling because max value 79 fits in uint8\n",
      "  return _convert(image, np.uint8, force_copy)\n",
      "/home/pedro/Documents/UNI/_3_ano/LAB_IACD/project_1/.venv/lib/python3.10/site-packages/skimage/util/dtype.py:576: UserWarning: Downcasting int16 to uint8 without scaling because max value 133 fits in uint8\n",
      "  return _convert(image, np.uint8, force_copy)\n"
     ]
    },
    {
     "name": "stdout",
     "output_type": "stream",
     "text": [
      "Loading dicom files ... This may take a moment.\n",
      "Loading dicom files ... This may take a moment.\n",
      "Loading dicom files ... This may take a moment.\n",
      "Loading dicom files ... This may take a moment.\n",
      "Loading dicom files ... This may take a moment.\n",
      "Loading dicom files ... This may take a moment.\n"
     ]
    },
    {
     "name": "stderr",
     "output_type": "stream",
     "text": [
      "/home/pedro/Documents/UNI/_3_ano/LAB_IACD/project_1/.venv/lib/python3.10/site-packages/skimage/util/dtype.py:576: UserWarning: Downcasting int16 to uint8 without scaling because max value 188 fits in uint8\n",
      "  return _convert(image, np.uint8, force_copy)\n",
      "/home/pedro/Documents/UNI/_3_ano/LAB_IACD/project_1/.venv/lib/python3.10/site-packages/skimage/util/dtype.py:576: UserWarning: Downcasting int16 to uint8 without scaling because max value -129 fits in uint8\n",
      "  return _convert(image, np.uint8, force_copy)\n",
      "/home/pedro/Documents/UNI/_3_ano/LAB_IACD/project_1/.venv/lib/python3.10/site-packages/skimage/util/dtype.py:576: UserWarning: Downcasting int16 to uint8 without scaling because max value 97 fits in uint8\n",
      "  return _convert(image, np.uint8, force_copy)\n"
     ]
    },
    {
     "name": "stdout",
     "output_type": "stream",
     "text": [
      "Loading dicom files ... This may take a moment.\n",
      "Loading dicom files ... This may take a moment.\n",
      "Loading dicom files ... This may take a moment.\n",
      "Loading dicom files ... This may take a moment.\n",
      "Loading dicom files ... This may take a moment.\n"
     ]
    },
    {
     "name": "stderr",
     "output_type": "stream",
     "text": [
      "/home/pedro/Documents/UNI/_3_ano/LAB_IACD/project_1/.venv/lib/python3.10/site-packages/skimage/util/dtype.py:576: UserWarning: Downcasting int16 to uint8 without scaling because max value 219 fits in uint8\n",
      "  return _convert(image, np.uint8, force_copy)\n"
     ]
    },
    {
     "name": "stdout",
     "output_type": "stream",
     "text": [
      "Loading dicom files ... This may take a moment.\n"
     ]
    },
    {
     "name": "stderr",
     "output_type": "stream",
     "text": [
      "/home/pedro/Documents/UNI/_3_ano/LAB_IACD/project_1/.venv/lib/python3.10/site-packages/skimage/util/dtype.py:576: UserWarning: Downcasting int16 to uint8 without scaling because max value 182 fits in uint8\n",
      "  return _convert(image, np.uint8, force_copy)\n"
     ]
    },
    {
     "name": "stdout",
     "output_type": "stream",
     "text": [
      "Loading dicom files ... This may take a moment.\n"
     ]
    },
    {
     "name": "stderr",
     "output_type": "stream",
     "text": [
      "/home/pedro/Documents/UNI/_3_ano/LAB_IACD/project_1/.venv/lib/python3.10/site-packages/skimage/util/dtype.py:576: UserWarning: Downcasting int16 to uint8 without scaling because max value 171 fits in uint8\n",
      "  return _convert(image, np.uint8, force_copy)\n"
     ]
    },
    {
     "name": "stdout",
     "output_type": "stream",
     "text": [
      "Failed to reduce all groups to <= 4 Annotations.\n",
      "Some nodules may be close and must be grouped manually.\n",
      "Loading dicom files ... This may take a moment.\n",
      "Loading dicom files ... This may take a moment.\n",
      "Loading dicom files ... This may take a moment.\n",
      "Loading dicom files ... This may take a moment.\n",
      "Loading dicom files ... This may take a moment.\n",
      "Loading dicom files ... This may take a moment.\n"
     ]
    },
    {
     "name": "stderr",
     "output_type": "stream",
     "text": [
      "/home/pedro/Documents/UNI/_3_ano/LAB_IACD/project_1/.venv/lib/python3.10/site-packages/skimage/util/dtype.py:576: UserWarning: Downcasting int16 to uint8 without scaling because max value 116 fits in uint8\n",
      "  return _convert(image, np.uint8, force_copy)\n"
     ]
    },
    {
     "name": "stdout",
     "output_type": "stream",
     "text": [
      "Loading dicom files ... This may take a moment.\n",
      "Loading dicom files ... This may take a moment.\n",
      "Loading dicom files ... This may take a moment.\n",
      "Loading dicom files ... This may take a moment.\n",
      "Loading dicom files ... This may take a moment.\n"
     ]
    },
    {
     "name": "stderr",
     "output_type": "stream",
     "text": [
      "/home/pedro/Documents/UNI/_3_ano/LAB_IACD/project_1/.venv/lib/python3.10/site-packages/skimage/util/dtype.py:576: UserWarning: Downcasting int16 to uint8 without scaling because max value 118 fits in uint8\n",
      "  return _convert(image, np.uint8, force_copy)\n"
     ]
    },
    {
     "name": "stdout",
     "output_type": "stream",
     "text": [
      "Loading dicom files ... This may take a moment.\n"
     ]
    },
    {
     "name": "stderr",
     "output_type": "stream",
     "text": [
      "/home/pedro/Documents/UNI/_3_ano/LAB_IACD/project_1/.venv/lib/python3.10/site-packages/skimage/util/dtype.py:576: UserWarning: Downcasting int16 to uint8 without scaling because max value 11 fits in uint8\n",
      "  return _convert(image, np.uint8, force_copy)\n",
      "/home/pedro/Documents/UNI/_3_ano/LAB_IACD/project_1/.venv/lib/python3.10/site-packages/skimage/util/dtype.py:576: UserWarning: Downcasting int16 to uint8 without scaling because max value -274 fits in uint8\n",
      "  return _convert(image, np.uint8, force_copy)\n"
     ]
    },
    {
     "name": "stdout",
     "output_type": "stream",
     "text": [
      "Loading dicom files ... This may take a moment.\n"
     ]
    },
    {
     "name": "stderr",
     "output_type": "stream",
     "text": [
      "/home/pedro/Documents/UNI/_3_ano/LAB_IACD/project_1/.venv/lib/python3.10/site-packages/skimage/util/dtype.py:576: UserWarning: Downcasting int16 to uint8 without scaling because max value 16 fits in uint8\n",
      "  return _convert(image, np.uint8, force_copy)\n"
     ]
    },
    {
     "name": "stdout",
     "output_type": "stream",
     "text": [
      "Loading dicom files ... This may take a moment.\n"
     ]
    },
    {
     "name": "stderr",
     "output_type": "stream",
     "text": [
      "/home/pedro/Documents/UNI/_3_ano/LAB_IACD/project_1/.venv/lib/python3.10/site-packages/skimage/util/dtype.py:576: UserWarning: Downcasting int16 to uint8 without scaling because max value 124 fits in uint8\n",
      "  return _convert(image, np.uint8, force_copy)\n"
     ]
    },
    {
     "name": "stdout",
     "output_type": "stream",
     "text": [
      "Loading dicom files ... This may take a moment.\n"
     ]
    },
    {
     "name": "stderr",
     "output_type": "stream",
     "text": [
      "/home/pedro/Documents/UNI/_3_ano/LAB_IACD/project_1/.venv/lib/python3.10/site-packages/skimage/util/dtype.py:576: UserWarning: Downcasting int16 to uint8 without scaling because max value 84 fits in uint8\n",
      "  return _convert(image, np.uint8, force_copy)\n",
      "/home/pedro/Documents/UNI/_3_ano/LAB_IACD/project_1/.venv/lib/python3.10/site-packages/skimage/util/dtype.py:576: UserWarning: Downcasting int16 to uint8 without scaling because max value 149 fits in uint8\n",
      "  return _convert(image, np.uint8, force_copy)\n",
      "/home/pedro/Documents/UNI/_3_ano/LAB_IACD/project_1/.venv/lib/python3.10/site-packages/skimage/util/dtype.py:576: UserWarning: Downcasting int16 to uint8 without scaling because max value -489 fits in uint8\n",
      "  return _convert(image, np.uint8, force_copy)\n",
      "/home/pedro/Documents/UNI/_3_ano/LAB_IACD/project_1/.venv/lib/python3.10/site-packages/skimage/util/dtype.py:576: UserWarning: Downcasting int16 to uint8 without scaling because max value -317 fits in uint8\n",
      "  return _convert(image, np.uint8, force_copy)\n"
     ]
    },
    {
     "name": "stdout",
     "output_type": "stream",
     "text": [
      "Loading dicom files ... This may take a moment.\n",
      "Loading dicom files ... This may take a moment.\n"
     ]
    },
    {
     "name": "stderr",
     "output_type": "stream",
     "text": [
      "/home/pedro/Documents/UNI/_3_ano/LAB_IACD/project_1/.venv/lib/python3.10/site-packages/skimage/util/dtype.py:576: UserWarning: Downcasting int16 to uint8 without scaling because max value 24 fits in uint8\n",
      "  return _convert(image, np.uint8, force_copy)\n"
     ]
    },
    {
     "name": "stdout",
     "output_type": "stream",
     "text": [
      "Loading dicom files ... This may take a moment.\n",
      "Loading dicom files ... This may take a moment.\n"
     ]
    },
    {
     "name": "stderr",
     "output_type": "stream",
     "text": [
      "/home/pedro/Documents/UNI/_3_ano/LAB_IACD/project_1/.venv/lib/python3.10/site-packages/skimage/util/dtype.py:576: UserWarning: Downcasting int16 to uint8 without scaling because max value 91 fits in uint8\n",
      "  return _convert(image, np.uint8, force_copy)\n"
     ]
    },
    {
     "name": "stdout",
     "output_type": "stream",
     "text": [
      "Loading dicom files ... This may take a moment.\n"
     ]
    },
    {
     "name": "stderr",
     "output_type": "stream",
     "text": [
      "/home/pedro/Documents/UNI/_3_ano/LAB_IACD/project_1/.venv/lib/python3.10/site-packages/skimage/util/dtype.py:576: UserWarning: Downcasting int16 to uint8 without scaling because max value 202 fits in uint8\n",
      "  return _convert(image, np.uint8, force_copy)\n",
      "/home/pedro/Documents/UNI/_3_ano/LAB_IACD/project_1/.venv/lib/python3.10/site-packages/skimage/util/dtype.py:576: UserWarning: Downcasting int16 to uint8 without scaling because max value 100 fits in uint8\n",
      "  return _convert(image, np.uint8, force_copy)\n",
      "/home/pedro/Documents/UNI/_3_ano/LAB_IACD/project_1/.venv/lib/python3.10/site-packages/skimage/util/dtype.py:576: UserWarning: Downcasting int16 to uint8 without scaling because max value 131 fits in uint8\n",
      "  return _convert(image, np.uint8, force_copy)\n"
     ]
    },
    {
     "name": "stdout",
     "output_type": "stream",
     "text": [
      "Loading dicom files ... This may take a moment.\n"
     ]
    },
    {
     "name": "stderr",
     "output_type": "stream",
     "text": [
      "/home/pedro/Documents/UNI/_3_ano/LAB_IACD/project_1/.venv/lib/python3.10/site-packages/skimage/util/dtype.py:576: UserWarning: Downcasting int16 to uint8 without scaling because max value 148 fits in uint8\n",
      "  return _convert(image, np.uint8, force_copy)\n"
     ]
    },
    {
     "name": "stdout",
     "output_type": "stream",
     "text": [
      "Loading dicom files ... This may take a moment.\n"
     ]
    },
    {
     "name": "stderr",
     "output_type": "stream",
     "text": [
      "/home/pedro/Documents/UNI/_3_ano/LAB_IACD/project_1/.venv/lib/python3.10/site-packages/skimage/util/dtype.py:576: UserWarning: Downcasting int16 to uint8 without scaling because max value 61 fits in uint8\n",
      "  return _convert(image, np.uint8, force_copy)\n"
     ]
    },
    {
     "name": "stdout",
     "output_type": "stream",
     "text": [
      "Loading dicom files ... This may take a moment.\n",
      "Loading dicom files ... This may take a moment.\n",
      "Loading dicom files ... This may take a moment.\n",
      "Loading dicom files ... This may take a moment.\n"
     ]
    },
    {
     "name": "stderr",
     "output_type": "stream",
     "text": [
      "/home/pedro/Documents/UNI/_3_ano/LAB_IACD/project_1/.venv/lib/python3.10/site-packages/skimage/util/dtype.py:576: UserWarning: Downcasting int16 to uint8 without scaling because max value 18 fits in uint8\n",
      "  return _convert(image, np.uint8, force_copy)\n"
     ]
    },
    {
     "name": "stdout",
     "output_type": "stream",
     "text": [
      "Loading dicom files ... This may take a moment.\n",
      "Loading dicom files ... This may take a moment.\n",
      "Loading dicom files ... This may take a moment.\n"
     ]
    },
    {
     "name": "stderr",
     "output_type": "stream",
     "text": [
      "/home/pedro/Documents/UNI/_3_ano/LAB_IACD/project_1/.venv/lib/python3.10/site-packages/skimage/util/dtype.py:576: UserWarning: Downcasting int16 to uint8 without scaling because max value -55 fits in uint8\n",
      "  return _convert(image, np.uint8, force_copy)\n"
     ]
    },
    {
     "name": "stdout",
     "output_type": "stream",
     "text": [
      "Loading dicom files ... This may take a moment.\n"
     ]
    },
    {
     "name": "stderr",
     "output_type": "stream",
     "text": [
      "/home/pedro/Documents/UNI/_3_ano/LAB_IACD/project_1/.venv/lib/python3.10/site-packages/skimage/util/dtype.py:576: UserWarning: Downcasting int16 to uint8 without scaling because max value 179 fits in uint8\n",
      "  return _convert(image, np.uint8, force_copy)\n"
     ]
    },
    {
     "name": "stdout",
     "output_type": "stream",
     "text": [
      "Loading dicom files ... This may take a moment.\n",
      "Loading dicom files ... This may take a moment.\n",
      "Loading dicom files ... This may take a moment.\n"
     ]
    },
    {
     "name": "stderr",
     "output_type": "stream",
     "text": [
      "/home/pedro/Documents/UNI/_3_ano/LAB_IACD/project_1/.venv/lib/python3.10/site-packages/skimage/util/dtype.py:576: UserWarning: Downcasting int16 to uint8 without scaling because max value 148 fits in uint8\n",
      "  return _convert(image, np.uint8, force_copy)\n",
      "/home/pedro/Documents/UNI/_3_ano/LAB_IACD/project_1/.venv/lib/python3.10/site-packages/skimage/util/dtype.py:576: UserWarning: Downcasting int16 to uint8 without scaling because max value 208 fits in uint8\n",
      "  return _convert(image, np.uint8, force_copy)\n",
      "/home/pedro/Documents/UNI/_3_ano/LAB_IACD/project_1/.venv/lib/python3.10/site-packages/skimage/util/dtype.py:576: UserWarning: Downcasting int16 to uint8 without scaling because max value -38 fits in uint8\n",
      "  return _convert(image, np.uint8, force_copy)\n",
      "/home/pedro/Documents/UNI/_3_ano/LAB_IACD/project_1/.venv/lib/python3.10/site-packages/skimage/util/dtype.py:576: UserWarning: Downcasting int16 to uint8 without scaling because max value 29 fits in uint8\n",
      "  return _convert(image, np.uint8, force_copy)\n"
     ]
    },
    {
     "name": "stdout",
     "output_type": "stream",
     "text": [
      "Loading dicom files ... This may take a moment.\n",
      "Loading dicom files ... This may take a moment.\n",
      "Loading dicom files ... This may take a moment.\n",
      "Loading dicom files ... This may take a moment.\n",
      "Loading dicom files ... This may take a moment.\n"
     ]
    },
    {
     "name": "stderr",
     "output_type": "stream",
     "text": [
      "/home/pedro/Documents/UNI/_3_ano/LAB_IACD/project_1/.venv/lib/python3.10/site-packages/skimage/util/dtype.py:576: UserWarning: Downcasting int16 to uint8 without scaling because max value 252 fits in uint8\n",
      "  return _convert(image, np.uint8, force_copy)\n",
      "/home/pedro/Documents/UNI/_3_ano/LAB_IACD/project_1/.venv/lib/python3.10/site-packages/skimage/util/dtype.py:576: UserWarning: Downcasting int16 to uint8 without scaling because max value 212 fits in uint8\n",
      "  return _convert(image, np.uint8, force_copy)\n"
     ]
    },
    {
     "name": "stdout",
     "output_type": "stream",
     "text": [
      "Loading dicom files ... This may take a moment.\n",
      "Loading dicom files ... This may take a moment.\n",
      "Loading dicom files ... This may take a moment.\n"
     ]
    },
    {
     "name": "stderr",
     "output_type": "stream",
     "text": [
      "/home/pedro/Documents/UNI/_3_ano/LAB_IACD/project_1/.venv/lib/python3.10/site-packages/skimage/util/dtype.py:576: UserWarning: Downcasting int16 to uint8 without scaling because max value 178 fits in uint8\n",
      "  return _convert(image, np.uint8, force_copy)\n",
      "/home/pedro/Documents/UNI/_3_ano/LAB_IACD/project_1/.venv/lib/python3.10/site-packages/skimage/util/dtype.py:576: UserWarning: Downcasting int16 to uint8 without scaling because max value 1 fits in uint8\n",
      "  return _convert(image, np.uint8, force_copy)\n",
      "/home/pedro/Documents/UNI/_3_ano/LAB_IACD/project_1/.venv/lib/python3.10/site-packages/skimage/util/dtype.py:576: UserWarning: Downcasting int16 to uint8 without scaling because max value 31 fits in uint8\n",
      "  return _convert(image, np.uint8, force_copy)\n",
      "/home/pedro/Documents/UNI/_3_ano/LAB_IACD/project_1/.venv/lib/python3.10/site-packages/skimage/util/dtype.py:576: UserWarning: Downcasting int16 to uint8 without scaling because max value 224 fits in uint8\n",
      "  return _convert(image, np.uint8, force_copy)\n"
     ]
    },
    {
     "name": "stdout",
     "output_type": "stream",
     "text": [
      "Loading dicom files ... This may take a moment.\n",
      "Loading dicom files ... This may take a moment.\n"
     ]
    },
    {
     "name": "stderr",
     "output_type": "stream",
     "text": [
      "/home/pedro/Documents/UNI/_3_ano/LAB_IACD/project_1/.venv/lib/python3.10/site-packages/skimage/util/dtype.py:576: UserWarning: Downcasting int16 to uint8 without scaling because max value 101 fits in uint8\n",
      "  return _convert(image, np.uint8, force_copy)\n"
     ]
    },
    {
     "name": "stdout",
     "output_type": "stream",
     "text": [
      "Loading dicom files ... This may take a moment.\n"
     ]
    },
    {
     "name": "stderr",
     "output_type": "stream",
     "text": [
      "/home/pedro/Documents/UNI/_3_ano/LAB_IACD/project_1/.venv/lib/python3.10/site-packages/skimage/util/dtype.py:576: UserWarning: Downcasting int16 to uint8 without scaling because max value 215 fits in uint8\n",
      "  return _convert(image, np.uint8, force_copy)\n",
      "/home/pedro/Documents/UNI/_3_ano/LAB_IACD/project_1/.venv/lib/python3.10/site-packages/skimage/util/dtype.py:576: UserWarning: Downcasting int16 to uint8 without scaling because max value -52 fits in uint8\n",
      "  return _convert(image, np.uint8, force_copy)\n"
     ]
    },
    {
     "name": "stdout",
     "output_type": "stream",
     "text": [
      "Loading dicom files ... This may take a moment.\n"
     ]
    },
    {
     "name": "stderr",
     "output_type": "stream",
     "text": [
      "/home/pedro/Documents/UNI/_3_ano/LAB_IACD/project_1/.venv/lib/python3.10/site-packages/skimage/util/dtype.py:576: UserWarning: Downcasting int16 to uint8 without scaling because max value 240 fits in uint8\n",
      "  return _convert(image, np.uint8, force_copy)\n",
      "/home/pedro/Documents/UNI/_3_ano/LAB_IACD/project_1/.venv/lib/python3.10/site-packages/skimage/util/dtype.py:576: UserWarning: Downcasting int16 to uint8 without scaling because max value 166 fits in uint8\n",
      "  return _convert(image, np.uint8, force_copy)\n",
      "/home/pedro/Documents/UNI/_3_ano/LAB_IACD/project_1/.venv/lib/python3.10/site-packages/skimage/util/dtype.py:576: UserWarning: Downcasting int16 to uint8 without scaling because max value 115 fits in uint8\n",
      "  return _convert(image, np.uint8, force_copy)\n",
      "/home/pedro/Documents/UNI/_3_ano/LAB_IACD/project_1/.venv/lib/python3.10/site-packages/skimage/util/dtype.py:576: UserWarning: Downcasting int16 to uint8 without scaling because max value -284 fits in uint8\n",
      "  return _convert(image, np.uint8, force_copy)\n"
     ]
    },
    {
     "name": "stdout",
     "output_type": "stream",
     "text": [
      "Failed to reduce all groups to <= 4 Annotations.\n",
      "Some nodules may be close and must be grouped manually.\n",
      "Loading dicom files ... This may take a moment.\n"
     ]
    },
    {
     "name": "stderr",
     "output_type": "stream",
     "text": [
      "/home/pedro/Documents/UNI/_3_ano/LAB_IACD/project_1/.venv/lib/python3.10/site-packages/skimage/util/dtype.py:576: UserWarning: Downcasting int16 to uint8 without scaling because max value 171 fits in uint8\n",
      "  return _convert(image, np.uint8, force_copy)\n"
     ]
    },
    {
     "name": "stdout",
     "output_type": "stream",
     "text": [
      "Loading dicom files ... This may take a moment.\n",
      "Loading dicom files ... This may take a moment.\n",
      "Loading dicom files ... This may take a moment.\n"
     ]
    },
    {
     "name": "stderr",
     "output_type": "stream",
     "text": [
      "/home/pedro/Documents/UNI/_3_ano/LAB_IACD/project_1/.venv/lib/python3.10/site-packages/skimage/util/dtype.py:576: UserWarning: Downcasting int16 to uint8 without scaling because max value 251 fits in uint8\n",
      "  return _convert(image, np.uint8, force_copy)\n"
     ]
    },
    {
     "name": "stdout",
     "output_type": "stream",
     "text": [
      "Loading dicom files ... This may take a moment.\n",
      "Loading dicom files ... This may take a moment.\n"
     ]
    },
    {
     "name": "stderr",
     "output_type": "stream",
     "text": [
      "/home/pedro/Documents/UNI/_3_ano/LAB_IACD/project_1/.venv/lib/python3.10/site-packages/skimage/util/dtype.py:576: UserWarning: Downcasting int16 to uint8 without scaling because max value 100 fits in uint8\n",
      "  return _convert(image, np.uint8, force_copy)\n"
     ]
    },
    {
     "name": "stdout",
     "output_type": "stream",
     "text": [
      "Loading dicom files ... This may take a moment.\n",
      "Loading dicom files ... This may take a moment.\n",
      "Loading dicom files ... This may take a moment.\n",
      "Loading dicom files ... This may take a moment.\n",
      "Loading dicom files ... This may take a moment.\n"
     ]
    },
    {
     "name": "stderr",
     "output_type": "stream",
     "text": [
      "/home/pedro/Documents/UNI/_3_ano/LAB_IACD/project_1/.venv/lib/python3.10/site-packages/skimage/util/dtype.py:576: UserWarning: Downcasting int16 to uint8 without scaling because max value 90 fits in uint8\n",
      "  return _convert(image, np.uint8, force_copy)\n",
      "/home/pedro/Documents/UNI/_3_ano/LAB_IACD/project_1/.venv/lib/python3.10/site-packages/skimage/util/dtype.py:576: UserWarning: Downcasting int16 to uint8 without scaling because max value 50 fits in uint8\n",
      "  return _convert(image, np.uint8, force_copy)\n"
     ]
    },
    {
     "name": "stdout",
     "output_type": "stream",
     "text": [
      "Loading dicom files ... This may take a moment.\n"
     ]
    },
    {
     "name": "stderr",
     "output_type": "stream",
     "text": [
      "/home/pedro/Documents/UNI/_3_ano/LAB_IACD/project_1/.venv/lib/python3.10/site-packages/skimage/util/dtype.py:576: UserWarning: Downcasting int16 to uint8 without scaling because max value 98 fits in uint8\n",
      "  return _convert(image, np.uint8, force_copy)\n",
      "/home/pedro/Documents/UNI/_3_ano/LAB_IACD/project_1/.venv/lib/python3.10/site-packages/skimage/util/dtype.py:576: UserWarning: Downcasting int16 to uint8 without scaling because max value 214 fits in uint8\n",
      "  return _convert(image, np.uint8, force_copy)\n"
     ]
    },
    {
     "name": "stdout",
     "output_type": "stream",
     "text": [
      "Loading dicom files ... This may take a moment.\n",
      "Loading dicom files ... This may take a moment.\n",
      "Loading dicom files ... This may take a moment.\n",
      "Loading dicom files ... This may take a moment.\n",
      "Loading dicom files ... This may take a moment.\n",
      "Loading dicom files ... This may take a moment.\n"
     ]
    },
    {
     "name": "stderr",
     "output_type": "stream",
     "text": [
      "/home/pedro/Documents/UNI/_3_ano/LAB_IACD/project_1/.venv/lib/python3.10/site-packages/skimage/util/dtype.py:576: UserWarning: Downcasting int16 to uint8 without scaling because max value 127 fits in uint8\n",
      "  return _convert(image, np.uint8, force_copy)\n"
     ]
    },
    {
     "name": "stdout",
     "output_type": "stream",
     "text": [
      "Loading dicom files ... This may take a moment.\n",
      "Loading dicom files ... This may take a moment.\n"
     ]
    },
    {
     "name": "stderr",
     "output_type": "stream",
     "text": [
      "/home/pedro/Documents/UNI/_3_ano/LAB_IACD/project_1/.venv/lib/python3.10/site-packages/skimage/util/dtype.py:576: UserWarning: Downcasting int16 to uint8 without scaling because max value 57 fits in uint8\n",
      "  return _convert(image, np.uint8, force_copy)\n"
     ]
    },
    {
     "name": "stdout",
     "output_type": "stream",
     "text": [
      "Loading dicom files ... This may take a moment.\n",
      "Loading dicom files ... This may take a moment.\n",
      "Loading dicom files ... This may take a moment.\n",
      "Loading dicom files ... This may take a moment.\n",
      "Loading dicom files ... This may take a moment.\n",
      "Loading dicom files ... This may take a moment.\n",
      "Loading dicom files ... This may take a moment.\n",
      "Loading dicom files ... This may take a moment.\n",
      "Loading dicom files ... This may take a moment.\n",
      "Loading dicom files ... This may take a moment.\n",
      "Loading dicom files ... This may take a moment.\n"
     ]
    },
    {
     "name": "stderr",
     "output_type": "stream",
     "text": [
      "/home/pedro/Documents/UNI/_3_ano/LAB_IACD/project_1/.venv/lib/python3.10/site-packages/skimage/util/dtype.py:576: UserWarning: Downcasting int16 to uint8 without scaling because max value 35 fits in uint8\n",
      "  return _convert(image, np.uint8, force_copy)\n"
     ]
    },
    {
     "name": "stdout",
     "output_type": "stream",
     "text": [
      "Loading dicom files ... This may take a moment.\n",
      "Loading dicom files ... This may take a moment.\n"
     ]
    },
    {
     "name": "stderr",
     "output_type": "stream",
     "text": [
      "/home/pedro/Documents/UNI/_3_ano/LAB_IACD/project_1/.venv/lib/python3.10/site-packages/skimage/util/dtype.py:576: UserWarning: Downcasting int16 to uint8 without scaling because max value 200 fits in uint8\n",
      "  return _convert(image, np.uint8, force_copy)\n"
     ]
    },
    {
     "name": "stdout",
     "output_type": "stream",
     "text": [
      "Loading dicom files ... This may take a moment.\n",
      "Loading dicom files ... This may take a moment.\n",
      "Loading dicom files ... This may take a moment.\n"
     ]
    },
    {
     "name": "stderr",
     "output_type": "stream",
     "text": [
      "/home/pedro/Documents/UNI/_3_ano/LAB_IACD/project_1/.venv/lib/python3.10/site-packages/skimage/util/dtype.py:576: UserWarning: Downcasting int16 to uint8 without scaling because max value 181 fits in uint8\n",
      "  return _convert(image, np.uint8, force_copy)\n"
     ]
    },
    {
     "name": "stdout",
     "output_type": "stream",
     "text": [
      "Loading dicom files ... This may take a moment.\n",
      "Loading dicom files ... This may take a moment.\n",
      "Loading dicom files ... This may take a moment.\n",
      "Loading dicom files ... This may take a moment.\n",
      "Loading dicom files ... This may take a moment.\n",
      "Loading dicom files ... This may take a moment.\n",
      "Loading dicom files ... This may take a moment.\n"
     ]
    },
    {
     "name": "stderr",
     "output_type": "stream",
     "text": [
      "/home/pedro/Documents/UNI/_3_ano/LAB_IACD/project_1/.venv/lib/python3.10/site-packages/skimage/util/dtype.py:576: UserWarning: Downcasting int16 to uint8 without scaling because max value 154 fits in uint8\n",
      "  return _convert(image, np.uint8, force_copy)\n",
      "/home/pedro/Documents/UNI/_3_ano/LAB_IACD/project_1/.venv/lib/python3.10/site-packages/skimage/util/dtype.py:576: UserWarning: Downcasting int16 to uint8 without scaling because max value 173 fits in uint8\n",
      "  return _convert(image, np.uint8, force_copy)\n",
      "/home/pedro/Documents/UNI/_3_ano/LAB_IACD/project_1/.venv/lib/python3.10/site-packages/skimage/util/dtype.py:576: UserWarning: Downcasting int16 to uint8 without scaling because max value 42 fits in uint8\n",
      "  return _convert(image, np.uint8, force_copy)\n",
      "/home/pedro/Documents/UNI/_3_ano/LAB_IACD/project_1/.venv/lib/python3.10/site-packages/skimage/util/dtype.py:576: UserWarning: Downcasting int16 to uint8 without scaling because max value 179 fits in uint8\n",
      "  return _convert(image, np.uint8, force_copy)\n"
     ]
    },
    {
     "name": "stdout",
     "output_type": "stream",
     "text": [
      "Loading dicom files ... This may take a moment.\n",
      "Loading dicom files ... This may take a moment.\n",
      "Loading dicom files ... This may take a moment.\n"
     ]
    },
    {
     "name": "stderr",
     "output_type": "stream",
     "text": [
      "/home/pedro/Documents/UNI/_3_ano/LAB_IACD/project_1/.venv/lib/python3.10/site-packages/skimage/util/dtype.py:576: UserWarning: Downcasting int16 to uint8 without scaling because max value 45 fits in uint8\n",
      "  return _convert(image, np.uint8, force_copy)\n",
      "/home/pedro/Documents/UNI/_3_ano/LAB_IACD/project_1/.venv/lib/python3.10/site-packages/skimage/util/dtype.py:576: UserWarning: Downcasting int16 to uint8 without scaling because max value 69 fits in uint8\n",
      "  return _convert(image, np.uint8, force_copy)\n",
      "/home/pedro/Documents/UNI/_3_ano/LAB_IACD/project_1/.venv/lib/python3.10/site-packages/skimage/util/dtype.py:576: UserWarning: Downcasting int16 to uint8 without scaling because max value 140 fits in uint8\n",
      "  return _convert(image, np.uint8, force_copy)\n"
     ]
    },
    {
     "name": "stdout",
     "output_type": "stream",
     "text": [
      "Loading dicom files ... This may take a moment.\n",
      "Loading dicom files ... This may take a moment.\n"
     ]
    },
    {
     "name": "stderr",
     "output_type": "stream",
     "text": [
      "/home/pedro/Documents/UNI/_3_ano/LAB_IACD/project_1/.venv/lib/python3.10/site-packages/skimage/util/dtype.py:576: UserWarning: Downcasting int16 to uint8 without scaling because max value 186 fits in uint8\n",
      "  return _convert(image, np.uint8, force_copy)\n"
     ]
    },
    {
     "name": "stdout",
     "output_type": "stream",
     "text": [
      "Loading dicom files ... This may take a moment.\n"
     ]
    },
    {
     "name": "stderr",
     "output_type": "stream",
     "text": [
      "/home/pedro/Documents/UNI/_3_ano/LAB_IACD/project_1/.venv/lib/python3.10/site-packages/skimage/util/dtype.py:576: UserWarning: Downcasting int16 to uint8 without scaling because max value 87 fits in uint8\n",
      "  return _convert(image, np.uint8, force_copy)\n"
     ]
    },
    {
     "name": "stdout",
     "output_type": "stream",
     "text": [
      "Loading dicom files ... This may take a moment.\n"
     ]
    },
    {
     "name": "stderr",
     "output_type": "stream",
     "text": [
      "/home/pedro/Documents/UNI/_3_ano/LAB_IACD/project_1/.venv/lib/python3.10/site-packages/skimage/util/dtype.py:576: UserWarning: Downcasting int16 to uint8 without scaling because max value 128 fits in uint8\n",
      "  return _convert(image, np.uint8, force_copy)\n"
     ]
    },
    {
     "name": "stdout",
     "output_type": "stream",
     "text": [
      "Loading dicom files ... This may take a moment.\n"
     ]
    },
    {
     "name": "stderr",
     "output_type": "stream",
     "text": [
      "/home/pedro/Documents/UNI/_3_ano/LAB_IACD/project_1/.venv/lib/python3.10/site-packages/skimage/util/dtype.py:576: UserWarning: Downcasting int16 to uint8 without scaling because max value -80 fits in uint8\n",
      "  return _convert(image, np.uint8, force_copy)\n"
     ]
    },
    {
     "name": "stdout",
     "output_type": "stream",
     "text": [
      "Loading dicom files ... This may take a moment.\n"
     ]
    },
    {
     "name": "stderr",
     "output_type": "stream",
     "text": [
      "/home/pedro/Documents/UNI/_3_ano/LAB_IACD/project_1/.venv/lib/python3.10/site-packages/skimage/util/dtype.py:576: UserWarning: Downcasting int16 to uint8 without scaling because max value 76 fits in uint8\n",
      "  return _convert(image, np.uint8, force_copy)\n",
      "/home/pedro/Documents/UNI/_3_ano/LAB_IACD/project_1/.venv/lib/python3.10/site-packages/skimage/util/dtype.py:576: UserWarning: Downcasting int16 to uint8 without scaling because max value 98 fits in uint8\n",
      "  return _convert(image, np.uint8, force_copy)\n",
      "/home/pedro/Documents/UNI/_3_ano/LAB_IACD/project_1/.venv/lib/python3.10/site-packages/skimage/util/dtype.py:576: UserWarning: Downcasting int16 to uint8 without scaling because max value 240 fits in uint8\n",
      "  return _convert(image, np.uint8, force_copy)\n",
      "/home/pedro/Documents/UNI/_3_ano/LAB_IACD/project_1/.venv/lib/python3.10/site-packages/skimage/util/dtype.py:576: UserWarning: Downcasting int16 to uint8 without scaling because max value -10 fits in uint8\n",
      "  return _convert(image, np.uint8, force_copy)\n",
      "/home/pedro/Documents/UNI/_3_ano/LAB_IACD/project_1/.venv/lib/python3.10/site-packages/skimage/util/dtype.py:576: UserWarning: Downcasting int16 to uint8 without scaling because max value 120 fits in uint8\n",
      "  return _convert(image, np.uint8, force_copy)\n"
     ]
    },
    {
     "name": "stdout",
     "output_type": "stream",
     "text": [
      "Loading dicom files ... This may take a moment.\n",
      "Loading dicom files ... This may take a moment.\n",
      "Loading dicom files ... This may take a moment.\n",
      "Loading dicom files ... This may take a moment.\n"
     ]
    },
    {
     "name": "stderr",
     "output_type": "stream",
     "text": [
      "/home/pedro/Documents/UNI/_3_ano/LAB_IACD/project_1/.venv/lib/python3.10/site-packages/skimage/util/dtype.py:576: UserWarning: Downcasting int16 to uint8 without scaling because max value 153 fits in uint8\n",
      "  return _convert(image, np.uint8, force_copy)\n"
     ]
    },
    {
     "name": "stdout",
     "output_type": "stream",
     "text": [
      "Loading dicom files ... This may take a moment.\n"
     ]
    },
    {
     "name": "stderr",
     "output_type": "stream",
     "text": [
      "/home/pedro/Documents/UNI/_3_ano/LAB_IACD/project_1/.venv/lib/python3.10/site-packages/skimage/util/dtype.py:576: UserWarning: Downcasting int16 to uint8 without scaling because max value 94 fits in uint8\n",
      "  return _convert(image, np.uint8, force_copy)\n"
     ]
    },
    {
     "name": "stdout",
     "output_type": "stream",
     "text": [
      "Loading dicom files ... This may take a moment.\n"
     ]
    },
    {
     "name": "stderr",
     "output_type": "stream",
     "text": [
      "/home/pedro/Documents/UNI/_3_ano/LAB_IACD/project_1/.venv/lib/python3.10/site-packages/skimage/util/dtype.py:576: UserWarning: Downcasting int16 to uint8 without scaling because max value 157 fits in uint8\n",
      "  return _convert(image, np.uint8, force_copy)\n"
     ]
    },
    {
     "name": "stdout",
     "output_type": "stream",
     "text": [
      "Loading dicom files ... This may take a moment.\n",
      "Loading dicom files ... This may take a moment.\n",
      "Loading dicom files ... This may take a moment.\n",
      "Loading dicom files ... This may take a moment.\n",
      "Loading dicom files ... This may take a moment.\n",
      "Loading dicom files ... This may take a moment.\n",
      "Loading dicom files ... This may take a moment.\n",
      "Loading dicom files ... This may take a moment.\n",
      "Loading dicom files ... This may take a moment.\n",
      "Failed to reduce all groups to <= 4 Annotations.\n",
      "Some nodules may be close and must be grouped manually.\n",
      "Loading dicom files ... This may take a moment.\n",
      "Loading dicom files ... This may take a moment.\n",
      "Loading dicom files ... This may take a moment.\n"
     ]
    },
    {
     "name": "stderr",
     "output_type": "stream",
     "text": [
      "/home/pedro/Documents/UNI/_3_ano/LAB_IACD/project_1/.venv/lib/python3.10/site-packages/skimage/util/dtype.py:576: UserWarning: Downcasting int16 to uint8 without scaling because max value 69 fits in uint8\n",
      "  return _convert(image, np.uint8, force_copy)\n",
      "/home/pedro/Documents/UNI/_3_ano/LAB_IACD/project_1/.venv/lib/python3.10/site-packages/skimage/util/dtype.py:576: UserWarning: Downcasting int16 to uint8 without scaling because max value 29 fits in uint8\n",
      "  return _convert(image, np.uint8, force_copy)\n"
     ]
    },
    {
     "name": "stdout",
     "output_type": "stream",
     "text": [
      "Loading dicom files ... This may take a moment.\n"
     ]
    },
    {
     "name": "stderr",
     "output_type": "stream",
     "text": [
      "/home/pedro/Documents/UNI/_3_ano/LAB_IACD/project_1/.venv/lib/python3.10/site-packages/skimage/util/dtype.py:576: UserWarning: Downcasting int16 to uint8 without scaling because max value 191 fits in uint8\n",
      "  return _convert(image, np.uint8, force_copy)\n"
     ]
    },
    {
     "name": "stdout",
     "output_type": "stream",
     "text": [
      "Loading dicom files ... This may take a moment.\n",
      "Loading dicom files ... This may take a moment.\n",
      "Loading dicom files ... This may take a moment.\n",
      "Loading dicom files ... This may take a moment.\n",
      "Loading dicom files ... This may take a moment.\n",
      "Loading dicom files ... This may take a moment.\n",
      "Loading dicom files ... This may take a moment.\n",
      "Loading dicom files ... This may take a moment.\n",
      "Loading dicom files ... This may take a moment.\n",
      "Loading dicom files ... This may take a moment.\n",
      "Loading dicom files ... This may take a moment.\n",
      "Loading dicom files ... This may take a moment.\n",
      "Loading dicom files ... This may take a moment.\n"
     ]
    },
    {
     "name": "stderr",
     "output_type": "stream",
     "text": [
      "/home/pedro/Documents/UNI/_3_ano/LAB_IACD/project_1/.venv/lib/python3.10/site-packages/skimage/util/dtype.py:576: UserWarning: Downcasting int16 to uint8 without scaling because max value 209 fits in uint8\n",
      "  return _convert(image, np.uint8, force_copy)\n"
     ]
    },
    {
     "name": "stdout",
     "output_type": "stream",
     "text": [
      "Loading dicom files ... This may take a moment.\n",
      "Loading dicom files ... This may take a moment.\n",
      "Loading dicom files ... This may take a moment.\n",
      "Loading dicom files ... This may take a moment.\n",
      "Loading dicom files ... This may take a moment.\n",
      "Loading dicom files ... This may take a moment.\n",
      "Loading dicom files ... This may take a moment.\n",
      "Loading dicom files ... This may take a moment.\n",
      "Loading dicom files ... This may take a moment.\n"
     ]
    },
    {
     "name": "stderr",
     "output_type": "stream",
     "text": [
      "/home/pedro/Documents/UNI/_3_ano/LAB_IACD/project_1/.venv/lib/python3.10/site-packages/skimage/util/dtype.py:576: UserWarning: Downcasting int16 to uint8 without scaling because max value 160 fits in uint8\n",
      "  return _convert(image, np.uint8, force_copy)\n",
      "/home/pedro/Documents/UNI/_3_ano/LAB_IACD/project_1/.venv/lib/python3.10/site-packages/skimage/util/dtype.py:576: UserWarning: Downcasting int16 to uint8 without scaling because max value 223 fits in uint8\n",
      "  return _convert(image, np.uint8, force_copy)\n"
     ]
    },
    {
     "name": "stdout",
     "output_type": "stream",
     "text": [
      "Loading dicom files ... This may take a moment.\n"
     ]
    },
    {
     "name": "stderr",
     "output_type": "stream",
     "text": [
      "/home/pedro/Documents/UNI/_3_ano/LAB_IACD/project_1/.venv/lib/python3.10/site-packages/skimage/util/dtype.py:576: UserWarning: Downcasting int16 to uint8 without scaling because max value 85 fits in uint8\n",
      "  return _convert(image, np.uint8, force_copy)\n"
     ]
    },
    {
     "name": "stdout",
     "output_type": "stream",
     "text": [
      "Loading dicom files ... This may take a moment.\n",
      "Loading dicom files ... This may take a moment.\n",
      "Loading dicom files ... This may take a moment.\n",
      "Loading dicom files ... This may take a moment.\n"
     ]
    },
    {
     "name": "stderr",
     "output_type": "stream",
     "text": [
      "/home/pedro/Documents/UNI/_3_ano/LAB_IACD/project_1/.venv/lib/python3.10/site-packages/skimage/util/dtype.py:576: UserWarning: Downcasting int16 to uint8 without scaling because max value 68 fits in uint8\n",
      "  return _convert(image, np.uint8, force_copy)\n"
     ]
    },
    {
     "name": "stdout",
     "output_type": "stream",
     "text": [
      "Loading dicom files ... This may take a moment.\n",
      "Loading dicom files ... This may take a moment.\n",
      "Loading dicom files ... This may take a moment.\n"
     ]
    },
    {
     "name": "stderr",
     "output_type": "stream",
     "text": [
      "/home/pedro/Documents/UNI/_3_ano/LAB_IACD/project_1/.venv/lib/python3.10/site-packages/skimage/util/dtype.py:576: UserWarning: Downcasting int16 to uint8 without scaling because max value 225 fits in uint8\n",
      "  return _convert(image, np.uint8, force_copy)\n"
     ]
    },
    {
     "name": "stdout",
     "output_type": "stream",
     "text": [
      "Loading dicom files ... This may take a moment.\n",
      "Loading dicom files ... This may take a moment.\n"
     ]
    },
    {
     "name": "stderr",
     "output_type": "stream",
     "text": [
      "/home/pedro/Documents/UNI/_3_ano/LAB_IACD/project_1/.venv/lib/python3.10/site-packages/skimage/util/dtype.py:576: UserWarning: Downcasting int16 to uint8 without scaling because max value 91 fits in uint8\n",
      "  return _convert(image, np.uint8, force_copy)\n",
      "/home/pedro/Documents/UNI/_3_ano/LAB_IACD/project_1/.venv/lib/python3.10/site-packages/skimage/util/dtype.py:576: UserWarning: Downcasting int16 to uint8 without scaling because max value 185 fits in uint8\n",
      "  return _convert(image, np.uint8, force_copy)\n"
     ]
    },
    {
     "name": "stdout",
     "output_type": "stream",
     "text": [
      "Loading dicom files ... This may take a moment.\n"
     ]
    },
    {
     "name": "stderr",
     "output_type": "stream",
     "text": [
      "/home/pedro/Documents/UNI/_3_ano/LAB_IACD/project_1/.venv/lib/python3.10/site-packages/skimage/util/dtype.py:576: UserWarning: Downcasting int16 to uint8 without scaling because max value 44 fits in uint8\n",
      "  return _convert(image, np.uint8, force_copy)\n"
     ]
    },
    {
     "name": "stdout",
     "output_type": "stream",
     "text": [
      "Loading dicom files ... This may take a moment.\n",
      "Loading dicom files ... This may take a moment.\n",
      "Loading dicom files ... This may take a moment.\n",
      "Loading dicom files ... This may take a moment.\n",
      "Loading dicom files ... This may take a moment.\n",
      "Loading dicom files ... This may take a moment.\n",
      "Loading dicom files ... This may take a moment.\n",
      "Loading dicom files ... This may take a moment.\n",
      "Loading dicom files ... This may take a moment.\n",
      "Loading dicom files ... This may take a moment.\n"
     ]
    },
    {
     "name": "stderr",
     "output_type": "stream",
     "text": [
      "/home/pedro/Documents/UNI/_3_ano/LAB_IACD/project_1/.venv/lib/python3.10/site-packages/skimage/util/dtype.py:576: UserWarning: Downcasting int16 to uint8 without scaling because max value 252 fits in uint8\n",
      "  return _convert(image, np.uint8, force_copy)\n"
     ]
    },
    {
     "name": "stdout",
     "output_type": "stream",
     "text": [
      "Failed to reduce all groups to <= 4 Annotations.\n",
      "Some nodules may be close and must be grouped manually.\n",
      "Loading dicom files ... This may take a moment.\n",
      "Loading dicom files ... This may take a moment.\n",
      "Loading dicom files ... This may take a moment.\n",
      "Loading dicom files ... This may take a moment.\n",
      "Loading dicom files ... This may take a moment.\n"
     ]
    },
    {
     "name": "stderr",
     "output_type": "stream",
     "text": [
      "/home/pedro/Documents/UNI/_3_ano/LAB_IACD/project_1/.venv/lib/python3.10/site-packages/skimage/util/dtype.py:576: UserWarning: Downcasting int16 to uint8 without scaling because max value -111 fits in uint8\n",
      "  return _convert(image, np.uint8, force_copy)\n"
     ]
    },
    {
     "name": "stdout",
     "output_type": "stream",
     "text": [
      "Loading dicom files ... This may take a moment.\n",
      "Loading dicom files ... This may take a moment.\n",
      "Loading dicom files ... This may take a moment.\n",
      "Loading dicom files ... This may take a moment.\n"
     ]
    },
    {
     "name": "stderr",
     "output_type": "stream",
     "text": [
      "/home/pedro/Documents/UNI/_3_ano/LAB_IACD/project_1/.venv/lib/python3.10/site-packages/skimage/util/dtype.py:576: UserWarning: Downcasting int16 to uint8 without scaling because max value 253 fits in uint8\n",
      "  return _convert(image, np.uint8, force_copy)\n"
     ]
    },
    {
     "name": "stdout",
     "output_type": "stream",
     "text": [
      "Loading dicom files ... This may take a moment.\n",
      "Loading dicom files ... This may take a moment.\n",
      "Loading dicom files ... This may take a moment.\n",
      "Loading dicom files ... This may take a moment.\n"
     ]
    },
    {
     "name": "stderr",
     "output_type": "stream",
     "text": [
      "/home/pedro/Documents/UNI/_3_ano/LAB_IACD/project_1/.venv/lib/python3.10/site-packages/skimage/util/dtype.py:576: UserWarning: Downcasting int16 to uint8 without scaling because max value 130 fits in uint8\n",
      "  return _convert(image, np.uint8, force_copy)\n"
     ]
    },
    {
     "name": "stdout",
     "output_type": "stream",
     "text": [
      "Loading dicom files ... This may take a moment.\n",
      "Loading dicom files ... This may take a moment.\n",
      "Loading dicom files ... This may take a moment.\n",
      "Loading dicom files ... This may take a moment.\n"
     ]
    },
    {
     "name": "stderr",
     "output_type": "stream",
     "text": [
      "/home/pedro/Documents/UNI/_3_ano/LAB_IACD/project_1/.venv/lib/python3.10/site-packages/skimage/util/dtype.py:576: UserWarning: Downcasting int16 to uint8 without scaling because max value 58 fits in uint8\n",
      "  return _convert(image, np.uint8, force_copy)\n"
     ]
    },
    {
     "name": "stdout",
     "output_type": "stream",
     "text": [
      "Loading dicom files ... This may take a moment.\n",
      "Loading dicom files ... This may take a moment.\n"
     ]
    },
    {
     "name": "stderr",
     "output_type": "stream",
     "text": [
      "/home/pedro/Documents/UNI/_3_ano/LAB_IACD/project_1/.venv/lib/python3.10/site-packages/skimage/util/dtype.py:576: UserWarning: Downcasting int16 to uint8 without scaling because max value -306 fits in uint8\n",
      "  return _convert(image, np.uint8, force_copy)\n"
     ]
    },
    {
     "name": "stdout",
     "output_type": "stream",
     "text": [
      "Loading dicom files ... This may take a moment.\n",
      "Loading dicom files ... This may take a moment.\n",
      "Loading dicom files ... This may take a moment.\n"
     ]
    },
    {
     "name": "stderr",
     "output_type": "stream",
     "text": [
      "/home/pedro/Documents/UNI/_3_ano/LAB_IACD/project_1/.venv/lib/python3.10/site-packages/skimage/util/dtype.py:576: UserWarning: Downcasting int16 to uint8 without scaling because max value 125 fits in uint8\n",
      "  return _convert(image, np.uint8, force_copy)\n"
     ]
    },
    {
     "name": "stdout",
     "output_type": "stream",
     "text": [
      "Loading dicom files ... This may take a moment.\n",
      "Loading dicom files ... This may take a moment.\n"
     ]
    },
    {
     "name": "stderr",
     "output_type": "stream",
     "text": [
      "/home/pedro/Documents/UNI/_3_ano/LAB_IACD/project_1/.venv/lib/python3.10/site-packages/skimage/util/dtype.py:576: UserWarning: Downcasting int16 to uint8 without scaling because max value 83 fits in uint8\n",
      "  return _convert(image, np.uint8, force_copy)\n"
     ]
    },
    {
     "name": "stdout",
     "output_type": "stream",
     "text": [
      "Loading dicom files ... This may take a moment.\n",
      "Loading dicom files ... This may take a moment.\n",
      "Loading dicom files ... This may take a moment.\n"
     ]
    },
    {
     "name": "stderr",
     "output_type": "stream",
     "text": [
      "/home/pedro/Documents/UNI/_3_ano/LAB_IACD/project_1/.venv/lib/python3.10/site-packages/skimage/util/dtype.py:576: UserWarning: Downcasting int16 to uint8 without scaling because max value 156 fits in uint8\n",
      "  return _convert(image, np.uint8, force_copy)\n"
     ]
    },
    {
     "name": "stdout",
     "output_type": "stream",
     "text": [
      "Loading dicom files ... This may take a moment.\n",
      "Loading dicom files ... This may take a moment.\n",
      "Loading dicom files ... This may take a moment.\n",
      "Loading dicom files ... This may take a moment.\n",
      "Loading dicom files ... This may take a moment.\n",
      "Loading dicom files ... This may take a moment.\n",
      "Loading dicom files ... This may take a moment.\n",
      "Loading dicom files ... This may take a moment.\n"
     ]
    },
    {
     "name": "stderr",
     "output_type": "stream",
     "text": [
      "/home/pedro/Documents/UNI/_3_ano/LAB_IACD/project_1/.venv/lib/python3.10/site-packages/skimage/util/dtype.py:576: UserWarning: Downcasting int16 to uint8 without scaling because max value 48 fits in uint8\n",
      "  return _convert(image, np.uint8, force_copy)\n"
     ]
    },
    {
     "name": "stdout",
     "output_type": "stream",
     "text": [
      "Loading dicom files ... This may take a moment.\n",
      "Loading dicom files ... This may take a moment.\n",
      "Loading dicom files ... This may take a moment.\n"
     ]
    },
    {
     "name": "stderr",
     "output_type": "stream",
     "text": [
      "/home/pedro/Documents/UNI/_3_ano/LAB_IACD/project_1/.venv/lib/python3.10/site-packages/skimage/util/dtype.py:576: UserWarning: Downcasting int16 to uint8 without scaling because max value 187 fits in uint8\n",
      "  return _convert(image, np.uint8, force_copy)\n"
     ]
    },
    {
     "name": "stdout",
     "output_type": "stream",
     "text": [
      "Loading dicom files ... This may take a moment.\n"
     ]
    },
    {
     "name": "stderr",
     "output_type": "stream",
     "text": [
      "/home/pedro/Documents/UNI/_3_ano/LAB_IACD/project_1/.venv/lib/python3.10/site-packages/skimage/util/dtype.py:576: UserWarning: Downcasting int16 to uint8 without scaling because max value 89 fits in uint8\n",
      "  return _convert(image, np.uint8, force_copy)\n"
     ]
    },
    {
     "name": "stdout",
     "output_type": "stream",
     "text": [
      "Loading dicom files ... This may take a moment.\n"
     ]
    },
    {
     "name": "stderr",
     "output_type": "stream",
     "text": [
      "/home/pedro/Documents/UNI/_3_ano/LAB_IACD/project_1/.venv/lib/python3.10/site-packages/skimage/util/dtype.py:576: UserWarning: Downcasting int16 to uint8 without scaling because max value 212 fits in uint8\n",
      "  return _convert(image, np.uint8, force_copy)\n"
     ]
    },
    {
     "name": "stdout",
     "output_type": "stream",
     "text": [
      "Loading dicom files ... This may take a moment.\n"
     ]
    },
    {
     "name": "stderr",
     "output_type": "stream",
     "text": [
      "/home/pedro/Documents/UNI/_3_ano/LAB_IACD/project_1/.venv/lib/python3.10/site-packages/skimage/util/dtype.py:576: UserWarning: Downcasting int16 to uint8 without scaling because max value 90 fits in uint8\n",
      "  return _convert(image, np.uint8, force_copy)\n"
     ]
    },
    {
     "name": "stdout",
     "output_type": "stream",
     "text": [
      "Loading dicom files ... This may take a moment.\n",
      "Loading dicom files ... This may take a moment.\n"
     ]
    },
    {
     "name": "stderr",
     "output_type": "stream",
     "text": [
      "/home/pedro/Documents/UNI/_3_ano/LAB_IACD/project_1/.venv/lib/python3.10/site-packages/skimage/util/dtype.py:576: UserWarning: Downcasting int16 to uint8 without scaling because max value 167 fits in uint8\n",
      "  return _convert(image, np.uint8, force_copy)\n"
     ]
    },
    {
     "name": "stdout",
     "output_type": "stream",
     "text": [
      "Loading dicom files ... This may take a moment.\n",
      "Loading dicom files ... This may take a moment.\n",
      "Loading dicom files ... This may take a moment.\n",
      "Loading dicom files ... This may take a moment.\n"
     ]
    },
    {
     "name": "stderr",
     "output_type": "stream",
     "text": [
      "/home/pedro/Documents/UNI/_3_ano/LAB_IACD/project_1/.venv/lib/python3.10/site-packages/skimage/util/dtype.py:576: UserWarning: Downcasting int16 to uint8 without scaling because max value 239 fits in uint8\n",
      "  return _convert(image, np.uint8, force_copy)\n"
     ]
    },
    {
     "name": "stdout",
     "output_type": "stream",
     "text": [
      "Loading dicom files ... This may take a moment.\n",
      "Loading dicom files ... This may take a moment.\n"
     ]
    },
    {
     "name": "stderr",
     "output_type": "stream",
     "text": [
      "/home/pedro/Documents/UNI/_3_ano/LAB_IACD/project_1/.venv/lib/python3.10/site-packages/skimage/util/dtype.py:576: UserWarning: Downcasting int16 to uint8 without scaling because max value 165 fits in uint8\n",
      "  return _convert(image, np.uint8, force_copy)\n"
     ]
    },
    {
     "name": "stdout",
     "output_type": "stream",
     "text": [
      "Loading dicom files ... This may take a moment.\n"
     ]
    },
    {
     "name": "stderr",
     "output_type": "stream",
     "text": [
      "/home/pedro/Documents/UNI/_3_ano/LAB_IACD/project_1/.venv/lib/python3.10/site-packages/skimage/util/dtype.py:576: UserWarning: Downcasting int16 to uint8 without scaling because max value 13 fits in uint8\n",
      "  return _convert(image, np.uint8, force_copy)\n",
      "/home/pedro/Documents/UNI/_3_ano/LAB_IACD/project_1/.venv/lib/python3.10/site-packages/skimage/util/dtype.py:576: UserWarning: Downcasting int16 to uint8 without scaling because max value 68 fits in uint8\n",
      "  return _convert(image, np.uint8, force_copy)\n"
     ]
    },
    {
     "name": "stdout",
     "output_type": "stream",
     "text": [
      "Loading dicom files ... This may take a moment.\n",
      "Loading dicom files ... This may take a moment.\n",
      "Loading dicom files ... This may take a moment.\n"
     ]
    },
    {
     "name": "stderr",
     "output_type": "stream",
     "text": [
      "/home/pedro/Documents/UNI/_3_ano/LAB_IACD/project_1/.venv/lib/python3.10/site-packages/skimage/util/dtype.py:576: UserWarning: Downcasting int16 to uint8 without scaling because max value 140 fits in uint8\n",
      "  return _convert(image, np.uint8, force_copy)\n"
     ]
    },
    {
     "name": "stdout",
     "output_type": "stream",
     "text": [
      "Loading dicom files ... This may take a moment.\n"
     ]
    },
    {
     "name": "stderr",
     "output_type": "stream",
     "text": [
      "/home/pedro/Documents/UNI/_3_ano/LAB_IACD/project_1/.venv/lib/python3.10/site-packages/skimage/util/dtype.py:576: UserWarning: Downcasting int16 to uint8 without scaling because max value 202 fits in uint8\n",
      "  return _convert(image, np.uint8, force_copy)\n",
      "/home/pedro/Documents/UNI/_3_ano/LAB_IACD/project_1/.venv/lib/python3.10/site-packages/skimage/util/dtype.py:576: UserWarning: Downcasting int16 to uint8 without scaling because max value 242 fits in uint8\n",
      "  return _convert(image, np.uint8, force_copy)\n"
     ]
    },
    {
     "name": "stdout",
     "output_type": "stream",
     "text": [
      "Loading dicom files ... This may take a moment.\n",
      "Loading dicom files ... This may take a moment.\n",
      "Loading dicom files ... This may take a moment.\n"
     ]
    },
    {
     "name": "stderr",
     "output_type": "stream",
     "text": [
      "/home/pedro/Documents/UNI/_3_ano/LAB_IACD/project_1/.venv/lib/python3.10/site-packages/skimage/util/dtype.py:576: UserWarning: Downcasting int16 to uint8 without scaling because max value 77 fits in uint8\n",
      "  return _convert(image, np.uint8, force_copy)\n",
      "/home/pedro/Documents/UNI/_3_ano/LAB_IACD/project_1/.venv/lib/python3.10/site-packages/skimage/util/dtype.py:576: UserWarning: Downcasting int16 to uint8 without scaling because max value 49 fits in uint8\n",
      "  return _convert(image, np.uint8, force_copy)\n"
     ]
    },
    {
     "name": "stdout",
     "output_type": "stream",
     "text": [
      "Loading dicom files ... This may take a moment.\n",
      "Loading dicom files ... This may take a moment.\n",
      "Loading dicom files ... This may take a moment.\n",
      "Loading dicom files ... This may take a moment.\n",
      "Loading dicom files ... This may take a moment.\n",
      "Loading dicom files ... This may take a moment.\n",
      "Loading dicom files ... This may take a moment.\n"
     ]
    },
    {
     "name": "stderr",
     "output_type": "stream",
     "text": [
      "/home/pedro/Documents/UNI/_3_ano/LAB_IACD/project_1/.venv/lib/python3.10/site-packages/skimage/util/dtype.py:576: UserWarning: Downcasting int16 to uint8 without scaling because max value 117 fits in uint8\n",
      "  return _convert(image, np.uint8, force_copy)\n"
     ]
    },
    {
     "name": "stdout",
     "output_type": "stream",
     "text": [
      "Loading dicom files ... This may take a moment.\n",
      "Loading dicom files ... This may take a moment.\n",
      "Loading dicom files ... This may take a moment.\n",
      "Loading dicom files ... This may take a moment.\n",
      "Loading dicom files ... This may take a moment.\n"
     ]
    },
    {
     "name": "stderr",
     "output_type": "stream",
     "text": [
      "/home/pedro/Documents/UNI/_3_ano/LAB_IACD/project_1/.venv/lib/python3.10/site-packages/skimage/util/dtype.py:576: UserWarning: Downcasting int16 to uint8 without scaling because max value 69 fits in uint8\n",
      "  return _convert(image, np.uint8, force_copy)\n"
     ]
    },
    {
     "name": "stdout",
     "output_type": "stream",
     "text": [
      "Loading dicom files ... This may take a moment.\n",
      "Loading dicom files ... This may take a moment.\n",
      "Loading dicom files ... This may take a moment.\n"
     ]
    },
    {
     "name": "stderr",
     "output_type": "stream",
     "text": [
      "/home/pedro/Documents/UNI/_3_ano/LAB_IACD/project_1/.venv/lib/python3.10/site-packages/skimage/util/dtype.py:576: UserWarning: Downcasting int16 to uint8 without scaling because max value 65 fits in uint8\n",
      "  return _convert(image, np.uint8, force_copy)\n"
     ]
    },
    {
     "name": "stdout",
     "output_type": "stream",
     "text": [
      "Loading dicom files ... This may take a moment.\n"
     ]
    },
    {
     "name": "stderr",
     "output_type": "stream",
     "text": [
      "/home/pedro/Documents/UNI/_3_ano/LAB_IACD/project_1/.venv/lib/python3.10/site-packages/skimage/util/dtype.py:576: UserWarning: Downcasting int16 to uint8 without scaling because max value 145 fits in uint8\n",
      "  return _convert(image, np.uint8, force_copy)\n"
     ]
    },
    {
     "name": "stdout",
     "output_type": "stream",
     "text": [
      "Loading dicom files ... This may take a moment.\n",
      "Loading dicom files ... This may take a moment.\n",
      "Loading dicom files ... This may take a moment.\n",
      "Loading dicom files ... This may take a moment.\n"
     ]
    },
    {
     "name": "stderr",
     "output_type": "stream",
     "text": [
      "/home/pedro/Documents/UNI/_3_ano/LAB_IACD/project_1/.venv/lib/python3.10/site-packages/skimage/util/dtype.py:576: UserWarning: Downcasting int16 to uint8 without scaling because max value -188 fits in uint8\n",
      "  return _convert(image, np.uint8, force_copy)\n"
     ]
    },
    {
     "name": "stdout",
     "output_type": "stream",
     "text": [
      "Loading dicom files ... This may take a moment.\n"
     ]
    },
    {
     "name": "stderr",
     "output_type": "stream",
     "text": [
      "/home/pedro/Documents/UNI/_3_ano/LAB_IACD/project_1/.venv/lib/python3.10/site-packages/skimage/util/dtype.py:576: UserWarning: Downcasting int16 to uint8 without scaling because max value -70 fits in uint8\n",
      "  return _convert(image, np.uint8, force_copy)\n",
      "/home/pedro/Documents/UNI/_3_ano/LAB_IACD/project_1/.venv/lib/python3.10/site-packages/skimage/util/dtype.py:576: UserWarning: Downcasting int16 to uint8 without scaling because max value 99 fits in uint8\n",
      "  return _convert(image, np.uint8, force_copy)\n",
      "/home/pedro/Documents/UNI/_3_ano/LAB_IACD/project_1/.venv/lib/python3.10/site-packages/skimage/util/dtype.py:576: UserWarning: Downcasting int16 to uint8 without scaling because max value -284 fits in uint8\n",
      "  return _convert(image, np.uint8, force_copy)\n"
     ]
    },
    {
     "name": "stdout",
     "output_type": "stream",
     "text": [
      "Loading dicom files ... This may take a moment.\n",
      "Loading dicom files ... This may take a moment.\n",
      "Loading dicom files ... This may take a moment.\n"
     ]
    },
    {
     "name": "stderr",
     "output_type": "stream",
     "text": [
      "/home/pedro/Documents/UNI/_3_ano/LAB_IACD/project_1/.venv/lib/python3.10/site-packages/skimage/util/dtype.py:576: UserWarning: Downcasting int16 to uint8 without scaling because max value 66 fits in uint8\n",
      "  return _convert(image, np.uint8, force_copy)\n"
     ]
    },
    {
     "name": "stdout",
     "output_type": "stream",
     "text": [
      "Loading dicom files ... This may take a moment.\n",
      "Loading dicom files ... This may take a moment.\n"
     ]
    },
    {
     "name": "stderr",
     "output_type": "stream",
     "text": [
      "/home/pedro/Documents/UNI/_3_ano/LAB_IACD/project_1/.venv/lib/python3.10/site-packages/skimage/util/dtype.py:576: UserWarning: Downcasting int16 to uint8 without scaling because max value 136 fits in uint8\n",
      "  return _convert(image, np.uint8, force_copy)\n",
      "/home/pedro/Documents/UNI/_3_ano/LAB_IACD/project_1/.venv/lib/python3.10/site-packages/skimage/util/dtype.py:576: UserWarning: Downcasting int16 to uint8 without scaling because max value 109 fits in uint8\n",
      "  return _convert(image, np.uint8, force_copy)\n",
      "/home/pedro/Documents/UNI/_3_ano/LAB_IACD/project_1/.venv/lib/python3.10/site-packages/skimage/util/dtype.py:576: UserWarning: Downcasting int16 to uint8 without scaling because max value -212 fits in uint8\n",
      "  return _convert(image, np.uint8, force_copy)\n",
      "/home/pedro/Documents/UNI/_3_ano/LAB_IACD/project_1/.venv/lib/python3.10/site-packages/skimage/util/dtype.py:576: UserWarning: Downcasting int16 to uint8 without scaling because max value -63 fits in uint8\n",
      "  return _convert(image, np.uint8, force_copy)\n",
      "/home/pedro/Documents/UNI/_3_ano/LAB_IACD/project_1/.venv/lib/python3.10/site-packages/skimage/util/dtype.py:576: UserWarning: Downcasting int16 to uint8 without scaling because max value -52 fits in uint8\n",
      "  return _convert(image, np.uint8, force_copy)\n"
     ]
    },
    {
     "name": "stdout",
     "output_type": "stream",
     "text": [
      "Loading dicom files ... This may take a moment.\n"
     ]
    },
    {
     "name": "stderr",
     "output_type": "stream",
     "text": [
      "/home/pedro/Documents/UNI/_3_ano/LAB_IACD/project_1/.venv/lib/python3.10/site-packages/skimage/util/dtype.py:576: UserWarning: Downcasting int16 to uint8 without scaling because max value 173 fits in uint8\n",
      "  return _convert(image, np.uint8, force_copy)\n",
      "/home/pedro/Documents/UNI/_3_ano/LAB_IACD/project_1/.venv/lib/python3.10/site-packages/skimage/util/dtype.py:576: UserWarning: Downcasting int16 to uint8 without scaling because max value 36 fits in uint8\n",
      "  return _convert(image, np.uint8, force_copy)\n",
      "/home/pedro/Documents/UNI/_3_ano/LAB_IACD/project_1/.venv/lib/python3.10/site-packages/skimage/util/dtype.py:576: UserWarning: Downcasting int16 to uint8 without scaling because max value 112 fits in uint8\n",
      "  return _convert(image, np.uint8, force_copy)\n",
      "/home/pedro/Documents/UNI/_3_ano/LAB_IACD/project_1/.venv/lib/python3.10/site-packages/skimage/util/dtype.py:576: UserWarning: Downcasting int16 to uint8 without scaling because max value 12 fits in uint8\n",
      "  return _convert(image, np.uint8, force_copy)\n"
     ]
    },
    {
     "name": "stdout",
     "output_type": "stream",
     "text": [
      "Loading dicom files ... This may take a moment.\n",
      "Loading dicom files ... This may take a moment.\n"
     ]
    },
    {
     "name": "stderr",
     "output_type": "stream",
     "text": [
      "/home/pedro/Documents/UNI/_3_ano/LAB_IACD/project_1/.venv/lib/python3.10/site-packages/skimage/util/dtype.py:576: UserWarning: Downcasting int16 to uint8 without scaling because max value 222 fits in uint8\n",
      "  return _convert(image, np.uint8, force_copy)\n"
     ]
    },
    {
     "name": "stdout",
     "output_type": "stream",
     "text": [
      "Loading dicom files ... This may take a moment.\n",
      "Loading dicom files ... This may take a moment.\n",
      "Failed to reduce all groups to <= 4 Annotations.\n",
      "Some nodules may be close and must be grouped manually.\n",
      "Loading dicom files ... This may take a moment.\n",
      "Loading dicom files ... This may take a moment.\n"
     ]
    },
    {
     "name": "stderr",
     "output_type": "stream",
     "text": [
      "/home/pedro/Documents/UNI/_3_ano/LAB_IACD/project_1/.venv/lib/python3.10/site-packages/skimage/util/dtype.py:576: UserWarning: Downcasting int16 to uint8 without scaling because max value 248 fits in uint8\n",
      "  return _convert(image, np.uint8, force_copy)\n"
     ]
    },
    {
     "name": "stdout",
     "output_type": "stream",
     "text": [
      "Loading dicom files ... This may take a moment.\n",
      "Loading dicom files ... This may take a moment.\n"
     ]
    },
    {
     "name": "stderr",
     "output_type": "stream",
     "text": [
      "/home/pedro/Documents/UNI/_3_ano/LAB_IACD/project_1/.venv/lib/python3.10/site-packages/skimage/util/dtype.py:576: UserWarning: Downcasting int16 to uint8 without scaling because max value 111 fits in uint8\n",
      "  return _convert(image, np.uint8, force_copy)\n"
     ]
    },
    {
     "name": "stdout",
     "output_type": "stream",
     "text": [
      "Loading dicom files ... This may take a moment.\n"
     ]
    },
    {
     "name": "stderr",
     "output_type": "stream",
     "text": [
      "/home/pedro/Documents/UNI/_3_ano/LAB_IACD/project_1/.venv/lib/python3.10/site-packages/skimage/util/dtype.py:576: UserWarning: Downcasting int16 to uint8 without scaling because max value 116 fits in uint8\n",
      "  return _convert(image, np.uint8, force_copy)\n",
      "/home/pedro/Documents/UNI/_3_ano/LAB_IACD/project_1/.venv/lib/python3.10/site-packages/skimage/util/dtype.py:576: UserWarning: Downcasting int16 to uint8 without scaling because max value 92 fits in uint8\n",
      "  return _convert(image, np.uint8, force_copy)\n"
     ]
    },
    {
     "name": "stdout",
     "output_type": "stream",
     "text": [
      "Loading dicom files ... This may take a moment.\n"
     ]
    },
    {
     "name": "stderr",
     "output_type": "stream",
     "text": [
      "/home/pedro/Documents/UNI/_3_ano/LAB_IACD/project_1/.venv/lib/python3.10/site-packages/skimage/util/dtype.py:576: UserWarning: Downcasting int16 to uint8 without scaling because max value 77 fits in uint8\n",
      "  return _convert(image, np.uint8, force_copy)\n"
     ]
    },
    {
     "name": "stdout",
     "output_type": "stream",
     "text": [
      "Loading dicom files ... This may take a moment.\n"
     ]
    },
    {
     "name": "stderr",
     "output_type": "stream",
     "text": [
      "/home/pedro/Documents/UNI/_3_ano/LAB_IACD/project_1/.venv/lib/python3.10/site-packages/skimage/util/dtype.py:576: UserWarning: Downcasting int16 to uint8 without scaling because max value 145 fits in uint8\n",
      "  return _convert(image, np.uint8, force_copy)\n"
     ]
    },
    {
     "name": "stdout",
     "output_type": "stream",
     "text": [
      "Loading dicom files ... This may take a moment.\n"
     ]
    },
    {
     "name": "stderr",
     "output_type": "stream",
     "text": [
      "/home/pedro/Documents/UNI/_3_ano/LAB_IACD/project_1/.venv/lib/python3.10/site-packages/skimage/util/dtype.py:576: UserWarning: Downcasting int16 to uint8 without scaling because max value 63 fits in uint8\n",
      "  return _convert(image, np.uint8, force_copy)\n"
     ]
    },
    {
     "name": "stdout",
     "output_type": "stream",
     "text": [
      "Loading dicom files ... This may take a moment.\n"
     ]
    },
    {
     "name": "stderr",
     "output_type": "stream",
     "text": [
      "/home/pedro/Documents/UNI/_3_ano/LAB_IACD/project_1/.venv/lib/python3.10/site-packages/skimage/util/dtype.py:576: UserWarning: Downcasting int16 to uint8 without scaling because max value 48 fits in uint8\n",
      "  return _convert(image, np.uint8, force_copy)\n",
      "/home/pedro/Documents/UNI/_3_ano/LAB_IACD/project_1/.venv/lib/python3.10/site-packages/skimage/util/dtype.py:576: UserWarning: Downcasting int16 to uint8 without scaling because max value 70 fits in uint8\n",
      "  return _convert(image, np.uint8, force_copy)\n"
     ]
    },
    {
     "name": "stdout",
     "output_type": "stream",
     "text": [
      "Loading dicom files ... This may take a moment.\n",
      "Loading dicom files ... This may take a moment.\n",
      "Loading dicom files ... This may take a moment.\n"
     ]
    },
    {
     "name": "stderr",
     "output_type": "stream",
     "text": [
      "/home/pedro/Documents/UNI/_3_ano/LAB_IACD/project_1/.venv/lib/python3.10/site-packages/skimage/util/dtype.py:576: UserWarning: Downcasting int16 to uint8 without scaling because max value 69 fits in uint8\n",
      "  return _convert(image, np.uint8, force_copy)\n"
     ]
    },
    {
     "name": "stdout",
     "output_type": "stream",
     "text": [
      "Loading dicom files ... This may take a moment.\n",
      "Loading dicom files ... This may take a moment.\n",
      "Loading dicom files ... This may take a moment.\n"
     ]
    },
    {
     "name": "stderr",
     "output_type": "stream",
     "text": [
      "/home/pedro/Documents/UNI/_3_ano/LAB_IACD/project_1/.venv/lib/python3.10/site-packages/skimage/util/dtype.py:576: UserWarning: Downcasting int16 to uint8 without scaling because max value -120 fits in uint8\n",
      "  return _convert(image, np.uint8, force_copy)\n"
     ]
    },
    {
     "name": "stdout",
     "output_type": "stream",
     "text": [
      "Loading dicom files ... This may take a moment.\n",
      "Loading dicom files ... This may take a moment.\n"
     ]
    },
    {
     "name": "stderr",
     "output_type": "stream",
     "text": [
      "/home/pedro/Documents/UNI/_3_ano/LAB_IACD/project_1/.venv/lib/python3.10/site-packages/skimage/util/dtype.py:576: UserWarning: Downcasting int16 to uint8 without scaling because max value -212 fits in uint8\n",
      "  return _convert(image, np.uint8, force_copy)\n",
      "/home/pedro/Documents/UNI/_3_ano/LAB_IACD/project_1/.venv/lib/python3.10/site-packages/skimage/util/dtype.py:576: UserWarning: Downcasting int16 to uint8 without scaling because max value -474 fits in uint8\n",
      "  return _convert(image, np.uint8, force_copy)\n"
     ]
    },
    {
     "name": "stdout",
     "output_type": "stream",
     "text": [
      "Loading dicom files ... This may take a moment.\n"
     ]
    },
    {
     "name": "stderr",
     "output_type": "stream",
     "text": [
      "/home/pedro/Documents/UNI/_3_ano/LAB_IACD/project_1/.venv/lib/python3.10/site-packages/skimage/util/dtype.py:576: UserWarning: Downcasting int16 to uint8 without scaling because max value 22 fits in uint8\n",
      "  return _convert(image, np.uint8, force_copy)\n"
     ]
    },
    {
     "name": "stdout",
     "output_type": "stream",
     "text": [
      "Loading dicom files ... This may take a moment.\n"
     ]
    },
    {
     "name": "stderr",
     "output_type": "stream",
     "text": [
      "/home/pedro/Documents/UNI/_3_ano/LAB_IACD/project_1/.venv/lib/python3.10/site-packages/skimage/util/dtype.py:576: UserWarning: Downcasting int16 to uint8 without scaling because max value 209 fits in uint8\n",
      "  return _convert(image, np.uint8, force_copy)\n"
     ]
    },
    {
     "name": "stdout",
     "output_type": "stream",
     "text": [
      "Loading dicom files ... This may take a moment.\n",
      "Loading dicom files ... This may take a moment.\n"
     ]
    },
    {
     "name": "stderr",
     "output_type": "stream",
     "text": [
      "/home/pedro/Documents/UNI/_3_ano/LAB_IACD/project_1/.venv/lib/python3.10/site-packages/skimage/util/dtype.py:576: UserWarning: Downcasting int16 to uint8 without scaling because max value 230 fits in uint8\n",
      "  return _convert(image, np.uint8, force_copy)\n",
      "/home/pedro/Documents/UNI/_3_ano/LAB_IACD/project_1/.venv/lib/python3.10/site-packages/skimage/util/dtype.py:576: UserWarning: Downcasting int16 to uint8 without scaling because max value 183 fits in uint8\n",
      "  return _convert(image, np.uint8, force_copy)\n"
     ]
    },
    {
     "name": "stdout",
     "output_type": "stream",
     "text": [
      "Loading dicom files ... This may take a moment.\n",
      "Loading dicom files ... This may take a moment.\n",
      "Loading dicom files ... This may take a moment.\n",
      "Loading dicom files ... This may take a moment.\n",
      "Loading dicom files ... This may take a moment.\n",
      "Failed to reduce all groups to <= 4 Annotations.\n",
      "Some nodules may be close and must be grouped manually.\n",
      "Loading dicom files ... This may take a moment.\n",
      "Loading dicom files ... This may take a moment.\n",
      "Loading dicom files ... This may take a moment.\n"
     ]
    },
    {
     "name": "stderr",
     "output_type": "stream",
     "text": [
      "/home/pedro/Documents/UNI/_3_ano/LAB_IACD/project_1/.venv/lib/python3.10/site-packages/skimage/util/dtype.py:576: UserWarning: Downcasting int16 to uint8 without scaling because max value -27 fits in uint8\n",
      "  return _convert(image, np.uint8, force_copy)\n"
     ]
    },
    {
     "name": "stdout",
     "output_type": "stream",
     "text": [
      "Loading dicom files ... This may take a moment.\n",
      "Loading dicom files ... This may take a moment.\n",
      "Loading dicom files ... This may take a moment.\n",
      "Loading dicom files ... This may take a moment.\n",
      "Loading dicom files ... This may take a moment.\n",
      "Loading dicom files ... This may take a moment.\n"
     ]
    },
    {
     "name": "stderr",
     "output_type": "stream",
     "text": [
      "/home/pedro/Documents/UNI/_3_ano/LAB_IACD/project_1/.venv/lib/python3.10/site-packages/skimage/util/dtype.py:576: UserWarning: Downcasting int16 to uint8 without scaling because max value -103 fits in uint8\n",
      "  return _convert(image, np.uint8, force_copy)\n"
     ]
    },
    {
     "name": "stdout",
     "output_type": "stream",
     "text": [
      "Loading dicom files ... This may take a moment.\n",
      "Loading dicom files ... This may take a moment.\n"
     ]
    },
    {
     "name": "stderr",
     "output_type": "stream",
     "text": [
      "/home/pedro/Documents/UNI/_3_ano/LAB_IACD/project_1/.venv/lib/python3.10/site-packages/skimage/util/dtype.py:576: UserWarning: Downcasting int16 to uint8 without scaling because max value 180 fits in uint8\n",
      "  return _convert(image, np.uint8, force_copy)\n"
     ]
    },
    {
     "name": "stdout",
     "output_type": "stream",
     "text": [
      "Loading dicom files ... This may take a moment.\n",
      "Loading dicom files ... This may take a moment.\n"
     ]
    },
    {
     "name": "stderr",
     "output_type": "stream",
     "text": [
      "/home/pedro/Documents/UNI/_3_ano/LAB_IACD/project_1/.venv/lib/python3.10/site-packages/skimage/util/dtype.py:576: UserWarning: Downcasting int16 to uint8 without scaling because max value -88 fits in uint8\n",
      "  return _convert(image, np.uint8, force_copy)\n"
     ]
    },
    {
     "name": "stdout",
     "output_type": "stream",
     "text": [
      "Loading dicom files ... This may take a moment.\n"
     ]
    },
    {
     "name": "stderr",
     "output_type": "stream",
     "text": [
      "/home/pedro/Documents/UNI/_3_ano/LAB_IACD/project_1/.venv/lib/python3.10/site-packages/skimage/util/dtype.py:576: UserWarning: Downcasting int16 to uint8 without scaling because max value 65 fits in uint8\n",
      "  return _convert(image, np.uint8, force_copy)\n",
      "/home/pedro/Documents/UNI/_3_ano/LAB_IACD/project_1/.venv/lib/python3.10/site-packages/skimage/util/dtype.py:576: UserWarning: Downcasting int16 to uint8 without scaling because max value 220 fits in uint8\n",
      "  return _convert(image, np.uint8, force_copy)\n"
     ]
    },
    {
     "name": "stdout",
     "output_type": "stream",
     "text": [
      "Loading dicom files ... This may take a moment.\n"
     ]
    },
    {
     "name": "stderr",
     "output_type": "stream",
     "text": [
      "/home/pedro/Documents/UNI/_3_ano/LAB_IACD/project_1/.venv/lib/python3.10/site-packages/skimage/util/dtype.py:576: UserWarning: Downcasting int16 to uint8 without scaling because max value -209 fits in uint8\n",
      "  return _convert(image, np.uint8, force_copy)\n",
      "/home/pedro/Documents/UNI/_3_ano/LAB_IACD/project_1/.venv/lib/python3.10/site-packages/skimage/util/dtype.py:576: UserWarning: Downcasting int16 to uint8 without scaling because max value 86 fits in uint8\n",
      "  return _convert(image, np.uint8, force_copy)\n"
     ]
    },
    {
     "name": "stdout",
     "output_type": "stream",
     "text": [
      "Loading dicom files ... This may take a moment.\n",
      "Loading dicom files ... This may take a moment.\n",
      "Loading dicom files ... This may take a moment.\n",
      "Loading dicom files ... This may take a moment.\n"
     ]
    },
    {
     "name": "stderr",
     "output_type": "stream",
     "text": [
      "/home/pedro/Documents/UNI/_3_ano/LAB_IACD/project_1/.venv/lib/python3.10/site-packages/skimage/util/dtype.py:576: UserWarning: Downcasting int16 to uint8 without scaling because max value 176 fits in uint8\n",
      "  return _convert(image, np.uint8, force_copy)\n"
     ]
    },
    {
     "name": "stdout",
     "output_type": "stream",
     "text": [
      "Loading dicom files ... This may take a moment.\n",
      "Loading dicom files ... This may take a moment.\n"
     ]
    },
    {
     "name": "stderr",
     "output_type": "stream",
     "text": [
      "/home/pedro/Documents/UNI/_3_ano/LAB_IACD/project_1/.venv/lib/python3.10/site-packages/skimage/util/dtype.py:576: UserWarning: Downcasting int16 to uint8 without scaling because max value -352 fits in uint8\n",
      "  return _convert(image, np.uint8, force_copy)\n",
      "/home/pedro/Documents/UNI/_3_ano/LAB_IACD/project_1/.venv/lib/python3.10/site-packages/skimage/util/dtype.py:576: UserWarning: Downcasting int16 to uint8 without scaling because max value -240 fits in uint8\n",
      "  return _convert(image, np.uint8, force_copy)\n"
     ]
    },
    {
     "name": "stdout",
     "output_type": "stream",
     "text": [
      "Loading dicom files ... This may take a moment.\n"
     ]
    },
    {
     "name": "stderr",
     "output_type": "stream",
     "text": [
      "/home/pedro/Documents/UNI/_3_ano/LAB_IACD/project_1/.venv/lib/python3.10/site-packages/skimage/util/dtype.py:576: UserWarning: Downcasting int16 to uint8 without scaling because max value 5 fits in uint8\n",
      "  return _convert(image, np.uint8, force_copy)\n",
      "/home/pedro/Documents/UNI/_3_ano/LAB_IACD/project_1/.venv/lib/python3.10/site-packages/skimage/util/dtype.py:576: UserWarning: Downcasting int16 to uint8 without scaling because max value 65 fits in uint8\n",
      "  return _convert(image, np.uint8, force_copy)\n"
     ]
    },
    {
     "name": "stdout",
     "output_type": "stream",
     "text": [
      "Loading dicom files ... This may take a moment.\n",
      "Loading dicom files ... This may take a moment.\n",
      "Loading dicom files ... This may take a moment.\n",
      "Loading dicom files ... This may take a moment.\n",
      "Loading dicom files ... This may take a moment.\n"
     ]
    },
    {
     "name": "stderr",
     "output_type": "stream",
     "text": [
      "/home/pedro/Documents/UNI/_3_ano/LAB_IACD/project_1/.venv/lib/python3.10/site-packages/skimage/util/dtype.py:576: UserWarning: Downcasting int16 to uint8 without scaling because max value -72 fits in uint8\n",
      "  return _convert(image, np.uint8, force_copy)\n"
     ]
    },
    {
     "name": "stdout",
     "output_type": "stream",
     "text": [
      "Loading dicom files ... This may take a moment.\n"
     ]
    },
    {
     "name": "stderr",
     "output_type": "stream",
     "text": [
      "/home/pedro/Documents/UNI/_3_ano/LAB_IACD/project_1/.venv/lib/python3.10/site-packages/skimage/util/dtype.py:576: UserWarning: Downcasting int16 to uint8 without scaling because max value -26 fits in uint8\n",
      "  return _convert(image, np.uint8, force_copy)\n"
     ]
    },
    {
     "name": "stdout",
     "output_type": "stream",
     "text": [
      "Loading dicom files ... This may take a moment.\n"
     ]
    },
    {
     "name": "stderr",
     "output_type": "stream",
     "text": [
      "/home/pedro/Documents/UNI/_3_ano/LAB_IACD/project_1/.venv/lib/python3.10/site-packages/skimage/util/dtype.py:576: UserWarning: Downcasting int16 to uint8 without scaling because max value 39 fits in uint8\n",
      "  return _convert(image, np.uint8, force_copy)\n",
      "/home/pedro/Documents/UNI/_3_ano/LAB_IACD/project_1/.venv/lib/python3.10/site-packages/skimage/util/dtype.py:576: UserWarning: Downcasting int16 to uint8 without scaling because max value 12 fits in uint8\n",
      "  return _convert(image, np.uint8, force_copy)\n"
     ]
    },
    {
     "name": "stdout",
     "output_type": "stream",
     "text": [
      "Loading dicom files ... This may take a moment.\n"
     ]
    },
    {
     "name": "stderr",
     "output_type": "stream",
     "text": [
      "/home/pedro/Documents/UNI/_3_ano/LAB_IACD/project_1/.venv/lib/python3.10/site-packages/skimage/util/dtype.py:576: UserWarning: Downcasting int16 to uint8 without scaling because max value 170 fits in uint8\n",
      "  return _convert(image, np.uint8, force_copy)\n",
      "/home/pedro/Documents/UNI/_3_ano/LAB_IACD/project_1/.venv/lib/python3.10/site-packages/skimage/util/dtype.py:576: UserWarning: Downcasting int16 to uint8 without scaling because max value -195 fits in uint8\n",
      "  return _convert(image, np.uint8, force_copy)\n"
     ]
    },
    {
     "name": "stdout",
     "output_type": "stream",
     "text": [
      "Loading dicom files ... This may take a moment.\n"
     ]
    },
    {
     "name": "stderr",
     "output_type": "stream",
     "text": [
      "/home/pedro/Documents/UNI/_3_ano/LAB_IACD/project_1/.venv/lib/python3.10/site-packages/skimage/util/dtype.py:576: UserWarning: Downcasting int16 to uint8 without scaling because max value 222 fits in uint8\n",
      "  return _convert(image, np.uint8, force_copy)\n"
     ]
    },
    {
     "name": "stdout",
     "output_type": "stream",
     "text": [
      "Loading dicom files ... This may take a moment.\n"
     ]
    },
    {
     "name": "stderr",
     "output_type": "stream",
     "text": [
      "/home/pedro/Documents/UNI/_3_ano/LAB_IACD/project_1/.venv/lib/python3.10/site-packages/skimage/util/dtype.py:576: UserWarning: Downcasting int16 to uint8 without scaling because max value -72 fits in uint8\n",
      "  return _convert(image, np.uint8, force_copy)\n",
      "/home/pedro/Documents/UNI/_3_ano/LAB_IACD/project_1/.venv/lib/python3.10/site-packages/skimage/util/dtype.py:576: UserWarning: Downcasting int16 to uint8 without scaling because max value -226 fits in uint8\n",
      "  return _convert(image, np.uint8, force_copy)\n"
     ]
    },
    {
     "name": "stdout",
     "output_type": "stream",
     "text": [
      "Loading dicom files ... This may take a moment.\n"
     ]
    },
    {
     "name": "stderr",
     "output_type": "stream",
     "text": [
      "/home/pedro/Documents/UNI/_3_ano/LAB_IACD/project_1/.venv/lib/python3.10/site-packages/skimage/util/dtype.py:576: UserWarning: Downcasting int16 to uint8 without scaling because max value 202 fits in uint8\n",
      "  return _convert(image, np.uint8, force_copy)\n",
      "/home/pedro/Documents/UNI/_3_ano/LAB_IACD/project_1/.venv/lib/python3.10/site-packages/skimage/util/dtype.py:576: UserWarning: Downcasting int16 to uint8 without scaling because max value -102 fits in uint8\n",
      "  return _convert(image, np.uint8, force_copy)\n",
      "/home/pedro/Documents/UNI/_3_ano/LAB_IACD/project_1/.venv/lib/python3.10/site-packages/skimage/util/dtype.py:576: UserWarning: Downcasting int16 to uint8 without scaling because max value 181 fits in uint8\n",
      "  return _convert(image, np.uint8, force_copy)\n",
      "/home/pedro/Documents/UNI/_3_ano/LAB_IACD/project_1/.venv/lib/python3.10/site-packages/skimage/util/dtype.py:576: UserWarning: Downcasting int16 to uint8 without scaling because max value 16 fits in uint8\n",
      "  return _convert(image, np.uint8, force_copy)\n",
      "/home/pedro/Documents/UNI/_3_ano/LAB_IACD/project_1/.venv/lib/python3.10/site-packages/skimage/util/dtype.py:576: UserWarning: Downcasting int16 to uint8 without scaling because max value 190 fits in uint8\n",
      "  return _convert(image, np.uint8, force_copy)\n",
      "/home/pedro/Documents/UNI/_3_ano/LAB_IACD/project_1/.venv/lib/python3.10/site-packages/skimage/util/dtype.py:576: UserWarning: Downcasting int16 to uint8 without scaling because max value 154 fits in uint8\n",
      "  return _convert(image, np.uint8, force_copy)\n",
      "/home/pedro/Documents/UNI/_3_ano/LAB_IACD/project_1/.venv/lib/python3.10/site-packages/skimage/util/dtype.py:576: UserWarning: Downcasting int16 to uint8 without scaling because max value 100 fits in uint8\n",
      "  return _convert(image, np.uint8, force_copy)\n"
     ]
    },
    {
     "name": "stdout",
     "output_type": "stream",
     "text": [
      "Loading dicom files ... This may take a moment.\n"
     ]
    },
    {
     "name": "stderr",
     "output_type": "stream",
     "text": [
      "/home/pedro/Documents/UNI/_3_ano/LAB_IACD/project_1/.venv/lib/python3.10/site-packages/skimage/util/dtype.py:576: UserWarning: Downcasting int16 to uint8 without scaling because max value 113 fits in uint8\n",
      "  return _convert(image, np.uint8, force_copy)\n"
     ]
    },
    {
     "name": "stdout",
     "output_type": "stream",
     "text": [
      "Loading dicom files ... This may take a moment.\n"
     ]
    },
    {
     "name": "stderr",
     "output_type": "stream",
     "text": [
      "/home/pedro/Documents/UNI/_3_ano/LAB_IACD/project_1/.venv/lib/python3.10/site-packages/skimage/util/dtype.py:576: UserWarning: Downcasting int16 to uint8 without scaling because max value 190 fits in uint8\n",
      "  return _convert(image, np.uint8, force_copy)\n"
     ]
    },
    {
     "name": "stdout",
     "output_type": "stream",
     "text": [
      "Loading dicom files ... This may take a moment.\n",
      "Loading dicom files ... This may take a moment.\n"
     ]
    },
    {
     "name": "stderr",
     "output_type": "stream",
     "text": [
      "/home/pedro/Documents/UNI/_3_ano/LAB_IACD/project_1/.venv/lib/python3.10/site-packages/skimage/util/dtype.py:576: UserWarning: Downcasting int16 to uint8 without scaling because max value 92 fits in uint8\n",
      "  return _convert(image, np.uint8, force_copy)\n",
      "/home/pedro/Documents/UNI/_3_ano/LAB_IACD/project_1/.venv/lib/python3.10/site-packages/skimage/util/dtype.py:576: UserWarning: Downcasting int16 to uint8 without scaling because max value 167 fits in uint8\n",
      "  return _convert(image, np.uint8, force_copy)\n",
      "/home/pedro/Documents/UNI/_3_ano/LAB_IACD/project_1/.venv/lib/python3.10/site-packages/skimage/util/dtype.py:576: UserWarning: Downcasting int16 to uint8 without scaling because max value 197 fits in uint8\n",
      "  return _convert(image, np.uint8, force_copy)\n"
     ]
    },
    {
     "name": "stdout",
     "output_type": "stream",
     "text": [
      "Loading dicom files ... This may take a moment.\n",
      "Failed to reduce all groups to <= 4 Annotations.\n",
      "Some nodules may be close and must be grouped manually.\n",
      "Loading dicom files ... This may take a moment.\n",
      "Loading dicom files ... This may take a moment.\n"
     ]
    },
    {
     "name": "stderr",
     "output_type": "stream",
     "text": [
      "/home/pedro/Documents/UNI/_3_ano/LAB_IACD/project_1/.venv/lib/python3.10/site-packages/skimage/util/dtype.py:576: UserWarning: Downcasting int16 to uint8 without scaling because max value 202 fits in uint8\n",
      "  return _convert(image, np.uint8, force_copy)\n"
     ]
    },
    {
     "name": "stdout",
     "output_type": "stream",
     "text": [
      "Loading dicom files ... This may take a moment.\n"
     ]
    },
    {
     "name": "stderr",
     "output_type": "stream",
     "text": [
      "/home/pedro/Documents/UNI/_3_ano/LAB_IACD/project_1/.venv/lib/python3.10/site-packages/skimage/util/dtype.py:576: UserWarning: Downcasting int16 to uint8 without scaling because max value 102 fits in uint8\n",
      "  return _convert(image, np.uint8, force_copy)\n"
     ]
    },
    {
     "name": "stdout",
     "output_type": "stream",
     "text": [
      "Loading dicom files ... This may take a moment.\n",
      "Loading dicom files ... This may take a moment.\n"
     ]
    },
    {
     "name": "stderr",
     "output_type": "stream",
     "text": [
      "/home/pedro/Documents/UNI/_3_ano/LAB_IACD/project_1/.venv/lib/python3.10/site-packages/skimage/util/dtype.py:576: UserWarning: Downcasting int16 to uint8 without scaling because max value 237 fits in uint8\n",
      "  return _convert(image, np.uint8, force_copy)\n"
     ]
    },
    {
     "name": "stdout",
     "output_type": "stream",
     "text": [
      "Loading dicom files ... This may take a moment.\n",
      "Loading dicom files ... This may take a moment.\n",
      "Loading dicom files ... This may take a moment.\n",
      "Loading dicom files ... This may take a moment.\n",
      "Loading dicom files ... This may take a moment.\n"
     ]
    },
    {
     "name": "stderr",
     "output_type": "stream",
     "text": [
      "/home/pedro/Documents/UNI/_3_ano/LAB_IACD/project_1/.venv/lib/python3.10/site-packages/skimage/util/dtype.py:576: UserWarning: Downcasting int16 to uint8 without scaling because max value 120 fits in uint8\n",
      "  return _convert(image, np.uint8, force_copy)\n"
     ]
    },
    {
     "name": "stdout",
     "output_type": "stream",
     "text": [
      "Loading dicom files ... This may take a moment.\n",
      "Loading dicom files ... This may take a moment.\n",
      "Loading dicom files ... This may take a moment.\n"
     ]
    },
    {
     "name": "stderr",
     "output_type": "stream",
     "text": [
      "/home/pedro/Documents/UNI/_3_ano/LAB_IACD/project_1/.venv/lib/python3.10/site-packages/skimage/util/dtype.py:576: UserWarning: Downcasting int16 to uint8 without scaling because max value -86 fits in uint8\n",
      "  return _convert(image, np.uint8, force_copy)\n"
     ]
    },
    {
     "name": "stdout",
     "output_type": "stream",
     "text": [
      "Loading dicom files ... This may take a moment.\n",
      "Loading dicom files ... This may take a moment.\n",
      "Loading dicom files ... This may take a moment.\n",
      "Loading dicom files ... This may take a moment.\n"
     ]
    },
    {
     "name": "stderr",
     "output_type": "stream",
     "text": [
      "/home/pedro/Documents/UNI/_3_ano/LAB_IACD/project_1/.venv/lib/python3.10/site-packages/skimage/util/dtype.py:576: UserWarning: Downcasting int16 to uint8 without scaling because max value 130 fits in uint8\n",
      "  return _convert(image, np.uint8, force_copy)\n",
      "/home/pedro/Documents/UNI/_3_ano/LAB_IACD/project_1/.venv/lib/python3.10/site-packages/skimage/util/dtype.py:576: UserWarning: Downcasting int16 to uint8 without scaling because max value 89 fits in uint8\n",
      "  return _convert(image, np.uint8, force_copy)\n"
     ]
    },
    {
     "name": "stdout",
     "output_type": "stream",
     "text": [
      "Loading dicom files ... This may take a moment.\n",
      "Loading dicom files ... This may take a moment.\n",
      "Loading dicom files ... This may take a moment.\n",
      "Loading dicom files ... This may take a moment.\n"
     ]
    },
    {
     "name": "stderr",
     "output_type": "stream",
     "text": [
      "/home/pedro/Documents/UNI/_3_ano/LAB_IACD/project_1/.venv/lib/python3.10/site-packages/skimage/util/dtype.py:576: UserWarning: Downcasting int16 to uint8 without scaling because max value 73 fits in uint8\n",
      "  return _convert(image, np.uint8, force_copy)\n"
     ]
    },
    {
     "name": "stdout",
     "output_type": "stream",
     "text": [
      "Loading dicom files ... This may take a moment.\n",
      "Loading dicom files ... This may take a moment.\n",
      "Loading dicom files ... This may take a moment.\n"
     ]
    },
    {
     "name": "stderr",
     "output_type": "stream",
     "text": [
      "/home/pedro/Documents/UNI/_3_ano/LAB_IACD/project_1/.venv/lib/python3.10/site-packages/skimage/util/dtype.py:576: UserWarning: Downcasting int16 to uint8 without scaling because max value 2 fits in uint8\n",
      "  return _convert(image, np.uint8, force_copy)\n"
     ]
    },
    {
     "name": "stdout",
     "output_type": "stream",
     "text": [
      "Loading dicom files ... This may take a moment.\n",
      "Loading dicom files ... This may take a moment.\n"
     ]
    },
    {
     "name": "stderr",
     "output_type": "stream",
     "text": [
      "/home/pedro/Documents/UNI/_3_ano/LAB_IACD/project_1/.venv/lib/python3.10/site-packages/skimage/util/dtype.py:576: UserWarning: Downcasting int16 to uint8 without scaling because max value 94 fits in uint8\n",
      "  return _convert(image, np.uint8, force_copy)\n"
     ]
    },
    {
     "name": "stdout",
     "output_type": "stream",
     "text": [
      "Loading dicom files ... This may take a moment.\n",
      "Loading dicom files ... This may take a moment.\n",
      "Loading dicom files ... This may take a moment.\n",
      "Loading dicom files ... This may take a moment.\n"
     ]
    },
    {
     "name": "stderr",
     "output_type": "stream",
     "text": [
      "/home/pedro/Documents/UNI/_3_ano/LAB_IACD/project_1/.venv/lib/python3.10/site-packages/skimage/util/dtype.py:576: UserWarning: Downcasting int16 to uint8 without scaling because max value 223 fits in uint8\n",
      "  return _convert(image, np.uint8, force_copy)\n",
      "/home/pedro/Documents/UNI/_3_ano/LAB_IACD/project_1/.venv/lib/python3.10/site-packages/skimage/util/dtype.py:576: UserWarning: Downcasting int16 to uint8 without scaling because max value -40 fits in uint8\n",
      "  return _convert(image, np.uint8, force_copy)\n"
     ]
    },
    {
     "name": "stdout",
     "output_type": "stream",
     "text": [
      "Loading dicom files ... This may take a moment.\n"
     ]
    },
    {
     "name": "stderr",
     "output_type": "stream",
     "text": [
      "/home/pedro/Documents/UNI/_3_ano/LAB_IACD/project_1/.venv/lib/python3.10/site-packages/skimage/util/dtype.py:576: UserWarning: Downcasting int16 to uint8 without scaling because max value 170 fits in uint8\n",
      "  return _convert(image, np.uint8, force_copy)\n",
      "/home/pedro/Documents/UNI/_3_ano/LAB_IACD/project_1/.venv/lib/python3.10/site-packages/skimage/util/dtype.py:576: UserWarning: Downcasting int16 to uint8 without scaling because max value 23 fits in uint8\n",
      "  return _convert(image, np.uint8, force_copy)\n"
     ]
    },
    {
     "name": "stdout",
     "output_type": "stream",
     "text": [
      "Loading dicom files ... This may take a moment.\n"
     ]
    },
    {
     "name": "stderr",
     "output_type": "stream",
     "text": [
      "/home/pedro/Documents/UNI/_3_ano/LAB_IACD/project_1/.venv/lib/python3.10/site-packages/skimage/util/dtype.py:576: UserWarning: Downcasting int16 to uint8 without scaling because max value 55 fits in uint8\n",
      "  return _convert(image, np.uint8, force_copy)\n",
      "/home/pedro/Documents/UNI/_3_ano/LAB_IACD/project_1/.venv/lib/python3.10/site-packages/skimage/util/dtype.py:576: UserWarning: Downcasting int16 to uint8 without scaling because max value -90 fits in uint8\n",
      "  return _convert(image, np.uint8, force_copy)\n",
      "/home/pedro/Documents/UNI/_3_ano/LAB_IACD/project_1/.venv/lib/python3.10/site-packages/skimage/util/dtype.py:576: UserWarning: Downcasting int16 to uint8 without scaling because max value -11 fits in uint8\n",
      "  return _convert(image, np.uint8, force_copy)\n",
      "/home/pedro/Documents/UNI/_3_ano/LAB_IACD/project_1/.venv/lib/python3.10/site-packages/skimage/util/dtype.py:576: UserWarning: Downcasting int16 to uint8 without scaling because max value 101 fits in uint8\n",
      "  return _convert(image, np.uint8, force_copy)\n"
     ]
    },
    {
     "name": "stdout",
     "output_type": "stream",
     "text": [
      "Loading dicom files ... This may take a moment.\n",
      "Loading dicom files ... This may take a moment.\n"
     ]
    },
    {
     "name": "stderr",
     "output_type": "stream",
     "text": [
      "/home/pedro/Documents/UNI/_3_ano/LAB_IACD/project_1/.venv/lib/python3.10/site-packages/skimage/util/dtype.py:576: UserWarning: Downcasting int16 to uint8 without scaling because max value 125 fits in uint8\n",
      "  return _convert(image, np.uint8, force_copy)\n"
     ]
    },
    {
     "name": "stdout",
     "output_type": "stream",
     "text": [
      "Loading dicom files ... This may take a moment.\n"
     ]
    },
    {
     "name": "stderr",
     "output_type": "stream",
     "text": [
      "/home/pedro/Documents/UNI/_3_ano/LAB_IACD/project_1/.venv/lib/python3.10/site-packages/skimage/util/dtype.py:576: UserWarning: Downcasting int16 to uint8 without scaling because max value 242 fits in uint8\n",
      "  return _convert(image, np.uint8, force_copy)\n"
     ]
    },
    {
     "name": "stdout",
     "output_type": "stream",
     "text": [
      "Loading dicom files ... This may take a moment.\n",
      "Loading dicom files ... This may take a moment.\n"
     ]
    },
    {
     "name": "stderr",
     "output_type": "stream",
     "text": [
      "/home/pedro/Documents/UNI/_3_ano/LAB_IACD/project_1/.venv/lib/python3.10/site-packages/skimage/util/dtype.py:576: UserWarning: Downcasting int16 to uint8 without scaling because max value 127 fits in uint8\n",
      "  return _convert(image, np.uint8, force_copy)\n"
     ]
    },
    {
     "name": "stdout",
     "output_type": "stream",
     "text": [
      "Loading dicom files ... This may take a moment.\n",
      "Loading dicom files ... This may take a moment.\n",
      "Loading dicom files ... This may take a moment.\n",
      "Loading dicom files ... This may take a moment.\n",
      "Loading dicom files ... This may take a moment.\n"
     ]
    },
    {
     "name": "stderr",
     "output_type": "stream",
     "text": [
      "/home/pedro/Documents/UNI/_3_ano/LAB_IACD/project_1/.venv/lib/python3.10/site-packages/skimage/util/dtype.py:576: UserWarning: Downcasting int16 to uint8 without scaling because max value 197 fits in uint8\n",
      "  return _convert(image, np.uint8, force_copy)\n"
     ]
    },
    {
     "name": "stdout",
     "output_type": "stream",
     "text": [
      "Loading dicom files ... This may take a moment.\n",
      "Loading dicom files ... This may take a moment.\n",
      "Loading dicom files ... This may take a moment.\n",
      "Loading dicom files ... This may take a moment.\n",
      "Loading dicom files ... This may take a moment.\n"
     ]
    },
    {
     "name": "stderr",
     "output_type": "stream",
     "text": [
      "/home/pedro/Documents/UNI/_3_ano/LAB_IACD/project_1/.venv/lib/python3.10/site-packages/skimage/util/dtype.py:576: UserWarning: Downcasting int16 to uint8 without scaling because max value 77 fits in uint8\n",
      "  return _convert(image, np.uint8, force_copy)\n",
      "/home/pedro/Documents/UNI/_3_ano/LAB_IACD/project_1/.venv/lib/python3.10/site-packages/skimage/util/dtype.py:576: UserWarning: Downcasting int16 to uint8 without scaling because max value 176 fits in uint8\n",
      "  return _convert(image, np.uint8, force_copy)\n",
      "/home/pedro/Documents/UNI/_3_ano/LAB_IACD/project_1/.venv/lib/python3.10/site-packages/skimage/util/dtype.py:576: UserWarning: Downcasting int16 to uint8 without scaling because max value 176 fits in uint8\n",
      "  return _convert(image, np.uint8, force_copy)\n"
     ]
    },
    {
     "name": "stdout",
     "output_type": "stream",
     "text": [
      "Loading dicom files ... This may take a moment.\n",
      "Loading dicom files ... This may take a moment.\n"
     ]
    },
    {
     "name": "stderr",
     "output_type": "stream",
     "text": [
      "/home/pedro/Documents/UNI/_3_ano/LAB_IACD/project_1/.venv/lib/python3.10/site-packages/skimage/util/dtype.py:576: UserWarning: Downcasting int16 to uint8 without scaling because max value 110 fits in uint8\n",
      "  return _convert(image, np.uint8, force_copy)\n"
     ]
    },
    {
     "name": "stdout",
     "output_type": "stream",
     "text": [
      "Loading dicom files ... This may take a moment.\n",
      "Loading dicom files ... This may take a moment.\n",
      "Loading dicom files ... This may take a moment.\n",
      "Loading dicom files ... This may take a moment.\n",
      "Loading dicom files ... This may take a moment.\n"
     ]
    },
    {
     "name": "stderr",
     "output_type": "stream",
     "text": [
      "/home/pedro/Documents/UNI/_3_ano/LAB_IACD/project_1/.venv/lib/python3.10/site-packages/skimage/util/dtype.py:576: UserWarning: Downcasting int16 to uint8 without scaling because max value 74 fits in uint8\n",
      "  return _convert(image, np.uint8, force_copy)\n"
     ]
    },
    {
     "name": "stdout",
     "output_type": "stream",
     "text": [
      "Loading dicom files ... This may take a moment.\n",
      "Loading dicom files ... This may take a moment.\n"
     ]
    },
    {
     "name": "stderr",
     "output_type": "stream",
     "text": [
      "/home/pedro/Documents/UNI/_3_ano/LAB_IACD/project_1/.venv/lib/python3.10/site-packages/skimage/util/dtype.py:576: UserWarning: Downcasting int16 to uint8 without scaling because max value 81 fits in uint8\n",
      "  return _convert(image, np.uint8, force_copy)\n"
     ]
    },
    {
     "name": "stdout",
     "output_type": "stream",
     "text": [
      "Loading dicom files ... This may take a moment.\n"
     ]
    },
    {
     "name": "stderr",
     "output_type": "stream",
     "text": [
      "/home/pedro/Documents/UNI/_3_ano/LAB_IACD/project_1/.venv/lib/python3.10/site-packages/skimage/util/dtype.py:576: UserWarning: Downcasting int16 to uint8 without scaling because max value 149 fits in uint8\n",
      "  return _convert(image, np.uint8, force_copy)\n",
      "/home/pedro/Documents/UNI/_3_ano/LAB_IACD/project_1/.venv/lib/python3.10/site-packages/skimage/util/dtype.py:576: UserWarning: Downcasting int16 to uint8 without scaling because max value 250 fits in uint8\n",
      "  return _convert(image, np.uint8, force_copy)\n"
     ]
    },
    {
     "name": "stdout",
     "output_type": "stream",
     "text": [
      "Loading dicom files ... This may take a moment.\n"
     ]
    },
    {
     "name": "stderr",
     "output_type": "stream",
     "text": [
      "/home/pedro/Documents/UNI/_3_ano/LAB_IACD/project_1/.venv/lib/python3.10/site-packages/skimage/util/dtype.py:576: UserWarning: Downcasting int16 to uint8 without scaling because max value 120 fits in uint8\n",
      "  return _convert(image, np.uint8, force_copy)\n"
     ]
    },
    {
     "name": "stdout",
     "output_type": "stream",
     "text": [
      "Loading dicom files ... This may take a moment.\n",
      "Loading dicom files ... This may take a moment.\n",
      "Loading dicom files ... This may take a moment.\n"
     ]
    },
    {
     "name": "stderr",
     "output_type": "stream",
     "text": [
      "/home/pedro/Documents/UNI/_3_ano/LAB_IACD/project_1/.venv/lib/python3.10/site-packages/skimage/util/dtype.py:576: UserWarning: Downcasting int16 to uint8 without scaling because max value 19 fits in uint8\n",
      "  return _convert(image, np.uint8, force_copy)\n"
     ]
    },
    {
     "name": "stdout",
     "output_type": "stream",
     "text": [
      "Loading dicom files ... This may take a moment.\n",
      "Loading dicom files ... This may take a moment.\n"
     ]
    },
    {
     "name": "stderr",
     "output_type": "stream",
     "text": [
      "/home/pedro/Documents/UNI/_3_ano/LAB_IACD/project_1/.venv/lib/python3.10/site-packages/skimage/util/dtype.py:576: UserWarning: Downcasting int16 to uint8 without scaling because max value 220 fits in uint8\n",
      "  return _convert(image, np.uint8, force_copy)\n"
     ]
    },
    {
     "name": "stdout",
     "output_type": "stream",
     "text": [
      "Loading dicom files ... This may take a moment.\n",
      "Loading dicom files ... This may take a moment.\n",
      "Loading dicom files ... This may take a moment.\n"
     ]
    },
    {
     "name": "stderr",
     "output_type": "stream",
     "text": [
      "/home/pedro/Documents/UNI/_3_ano/LAB_IACD/project_1/.venv/lib/python3.10/site-packages/skimage/util/dtype.py:576: UserWarning: Downcasting int16 to uint8 without scaling because max value 155 fits in uint8\n",
      "  return _convert(image, np.uint8, force_copy)\n"
     ]
    },
    {
     "name": "stdout",
     "output_type": "stream",
     "text": [
      "Loading dicom files ... This may take a moment.\n",
      "Loading dicom files ... This may take a moment.\n",
      "Loading dicom files ... This may take a moment.\n",
      "Loading dicom files ... This may take a moment.\n"
     ]
    },
    {
     "name": "stderr",
     "output_type": "stream",
     "text": [
      "/home/pedro/Documents/UNI/_3_ano/LAB_IACD/project_1/.venv/lib/python3.10/site-packages/skimage/util/dtype.py:576: UserWarning: Downcasting int16 to uint8 without scaling because max value 81 fits in uint8\n",
      "  return _convert(image, np.uint8, force_copy)\n"
     ]
    },
    {
     "name": "stdout",
     "output_type": "stream",
     "text": [
      "Loading dicom files ... This may take a moment.\n"
     ]
    },
    {
     "name": "stderr",
     "output_type": "stream",
     "text": [
      "/home/pedro/Documents/UNI/_3_ano/LAB_IACD/project_1/.venv/lib/python3.10/site-packages/skimage/util/dtype.py:576: UserWarning: Downcasting int16 to uint8 without scaling because max value -30 fits in uint8\n",
      "  return _convert(image, np.uint8, force_copy)\n",
      "/home/pedro/Documents/UNI/_3_ano/LAB_IACD/project_1/.venv/lib/python3.10/site-packages/skimage/util/dtype.py:576: UserWarning: Downcasting int16 to uint8 without scaling because max value -162 fits in uint8\n",
      "  return _convert(image, np.uint8, force_copy)\n",
      "/home/pedro/Documents/UNI/_3_ano/LAB_IACD/project_1/.venv/lib/python3.10/site-packages/skimage/util/dtype.py:576: UserWarning: Downcasting int16 to uint8 without scaling because max value -37 fits in uint8\n",
      "  return _convert(image, np.uint8, force_copy)\n"
     ]
    },
    {
     "name": "stdout",
     "output_type": "stream",
     "text": [
      "Loading dicom files ... This may take a moment.\n",
      "Loading dicom files ... This may take a moment.\n",
      "Loading dicom files ... This may take a moment.\n"
     ]
    },
    {
     "name": "stderr",
     "output_type": "stream",
     "text": [
      "/home/pedro/Documents/UNI/_3_ano/LAB_IACD/project_1/.venv/lib/python3.10/site-packages/skimage/util/dtype.py:576: UserWarning: Downcasting int16 to uint8 without scaling because max value 15 fits in uint8\n",
      "  return _convert(image, np.uint8, force_copy)\n",
      "/home/pedro/Documents/UNI/_3_ano/LAB_IACD/project_1/.venv/lib/python3.10/site-packages/skimage/util/dtype.py:576: UserWarning: Downcasting int16 to uint8 without scaling because max value 188 fits in uint8\n",
      "  return _convert(image, np.uint8, force_copy)\n"
     ]
    },
    {
     "name": "stdout",
     "output_type": "stream",
     "text": [
      "Loading dicom files ... This may take a moment.\n",
      "Loading dicom files ... This may take a moment.\n"
     ]
    },
    {
     "name": "stderr",
     "output_type": "stream",
     "text": [
      "/home/pedro/Documents/UNI/_3_ano/LAB_IACD/project_1/.venv/lib/python3.10/site-packages/skimage/util/dtype.py:576: UserWarning: Downcasting int16 to uint8 without scaling because max value 226 fits in uint8\n",
      "  return _convert(image, np.uint8, force_copy)\n"
     ]
    },
    {
     "name": "stdout",
     "output_type": "stream",
     "text": [
      "Loading dicom files ... This may take a moment.\n"
     ]
    },
    {
     "name": "stderr",
     "output_type": "stream",
     "text": [
      "/home/pedro/Documents/UNI/_3_ano/LAB_IACD/project_1/.venv/lib/python3.10/site-packages/skimage/util/dtype.py:576: UserWarning: Downcasting int16 to uint8 without scaling because max value -317 fits in uint8\n",
      "  return _convert(image, np.uint8, force_copy)\n"
     ]
    },
    {
     "name": "stdout",
     "output_type": "stream",
     "text": [
      "Loading dicom files ... This may take a moment.\n",
      "Loading dicom files ... This may take a moment.\n",
      "Loading dicom files ... This may take a moment.\n",
      "Loading dicom files ... This may take a moment.\n"
     ]
    },
    {
     "name": "stderr",
     "output_type": "stream",
     "text": [
      "/home/pedro/Documents/UNI/_3_ano/LAB_IACD/project_1/.venv/lib/python3.10/site-packages/skimage/util/dtype.py:576: UserWarning: Downcasting int16 to uint8 without scaling because max value 104 fits in uint8\n",
      "  return _convert(image, np.uint8, force_copy)\n"
     ]
    },
    {
     "name": "stdout",
     "output_type": "stream",
     "text": [
      "Loading dicom files ... This may take a moment.\n",
      "Loading dicom files ... This may take a moment.\n"
     ]
    },
    {
     "name": "stderr",
     "output_type": "stream",
     "text": [
      "/home/pedro/Documents/UNI/_3_ano/LAB_IACD/project_1/.venv/lib/python3.10/site-packages/skimage/util/dtype.py:576: UserWarning: Downcasting int16 to uint8 without scaling because max value 238 fits in uint8\n",
      "  return _convert(image, np.uint8, force_copy)\n"
     ]
    },
    {
     "name": "stdout",
     "output_type": "stream",
     "text": [
      "Loading dicom files ... This may take a moment.\n"
     ]
    },
    {
     "name": "stderr",
     "output_type": "stream",
     "text": [
      "/home/pedro/Documents/UNI/_3_ano/LAB_IACD/project_1/.venv/lib/python3.10/site-packages/skimage/util/dtype.py:576: UserWarning: Downcasting int16 to uint8 without scaling because max value 167 fits in uint8\n",
      "  return _convert(image, np.uint8, force_copy)\n",
      "/home/pedro/Documents/UNI/_3_ano/LAB_IACD/project_1/.venv/lib/python3.10/site-packages/skimage/util/dtype.py:576: UserWarning: Downcasting int16 to uint8 without scaling because max value 132 fits in uint8\n",
      "  return _convert(image, np.uint8, force_copy)\n"
     ]
    },
    {
     "name": "stdout",
     "output_type": "stream",
     "text": [
      "Loading dicom files ... This may take a moment.\n",
      "Loading dicom files ... This may take a moment.\n"
     ]
    },
    {
     "name": "stderr",
     "output_type": "stream",
     "text": [
      "/home/pedro/Documents/UNI/_3_ano/LAB_IACD/project_1/.venv/lib/python3.10/site-packages/skimage/util/dtype.py:576: UserWarning: Downcasting int16 to uint8 without scaling because max value 158 fits in uint8\n",
      "  return _convert(image, np.uint8, force_copy)\n",
      "/home/pedro/Documents/UNI/_3_ano/LAB_IACD/project_1/.venv/lib/python3.10/site-packages/skimage/util/dtype.py:576: UserWarning: Downcasting int16 to uint8 without scaling because max value 230 fits in uint8\n",
      "  return _convert(image, np.uint8, force_copy)\n"
     ]
    },
    {
     "name": "stdout",
     "output_type": "stream",
     "text": [
      "Loading dicom files ... This may take a moment.\n"
     ]
    },
    {
     "name": "stderr",
     "output_type": "stream",
     "text": [
      "/home/pedro/Documents/UNI/_3_ano/LAB_IACD/project_1/.venv/lib/python3.10/site-packages/skimage/util/dtype.py:576: UserWarning: Downcasting int16 to uint8 without scaling because max value 65 fits in uint8\n",
      "  return _convert(image, np.uint8, force_copy)\n"
     ]
    },
    {
     "name": "stdout",
     "output_type": "stream",
     "text": [
      "Loading dicom files ... This may take a moment.\n",
      "Loading dicom files ... This may take a moment.\n",
      "Loading dicom files ... This may take a moment.\n",
      "Loading dicom files ... This may take a moment.\n",
      "Loading dicom files ... This may take a moment.\n",
      "Loading dicom files ... This may take a moment.\n"
     ]
    },
    {
     "name": "stderr",
     "output_type": "stream",
     "text": [
      "/home/pedro/Documents/UNI/_3_ano/LAB_IACD/project_1/.venv/lib/python3.10/site-packages/skimage/util/dtype.py:576: UserWarning: Downcasting int16 to uint8 without scaling because max value 190 fits in uint8\n",
      "  return _convert(image, np.uint8, force_copy)\n",
      "/home/pedro/Documents/UNI/_3_ano/LAB_IACD/project_1/.venv/lib/python3.10/site-packages/skimage/util/dtype.py:576: UserWarning: Downcasting int16 to uint8 without scaling because max value 95 fits in uint8\n",
      "  return _convert(image, np.uint8, force_copy)\n"
     ]
    },
    {
     "name": "stdout",
     "output_type": "stream",
     "text": [
      "Loading dicom files ... This may take a moment.\n",
      "Loading dicom files ... This may take a moment.\n",
      "Loading dicom files ... This may take a moment.\n"
     ]
    },
    {
     "name": "stderr",
     "output_type": "stream",
     "text": [
      "/home/pedro/Documents/UNI/_3_ano/LAB_IACD/project_1/.venv/lib/python3.10/site-packages/skimage/util/dtype.py:576: UserWarning: Downcasting int16 to uint8 without scaling because max value 241 fits in uint8\n",
      "  return _convert(image, np.uint8, force_copy)\n"
     ]
    },
    {
     "name": "stdout",
     "output_type": "stream",
     "text": [
      "Loading dicom files ... This may take a moment.\n"
     ]
    },
    {
     "name": "stderr",
     "output_type": "stream",
     "text": [
      "/home/pedro/Documents/UNI/_3_ano/LAB_IACD/project_1/.venv/lib/python3.10/site-packages/skimage/util/dtype.py:576: UserWarning: Downcasting int16 to uint8 without scaling because max value 74 fits in uint8\n",
      "  return _convert(image, np.uint8, force_copy)\n"
     ]
    },
    {
     "name": "stdout",
     "output_type": "stream",
     "text": [
      "Loading dicom files ... This may take a moment.\n"
     ]
    },
    {
     "name": "stderr",
     "output_type": "stream",
     "text": [
      "/home/pedro/Documents/UNI/_3_ano/LAB_IACD/project_1/.venv/lib/python3.10/site-packages/skimage/util/dtype.py:576: UserWarning: Downcasting int16 to uint8 without scaling because max value 98 fits in uint8\n",
      "  return _convert(image, np.uint8, force_copy)\n"
     ]
    },
    {
     "name": "stdout",
     "output_type": "stream",
     "text": [
      "Loading dicom files ... This may take a moment.\n",
      "Loading dicom files ... This may take a moment.\n",
      "Loading dicom files ... This may take a moment.\n",
      "Loading dicom files ... This may take a moment.\n"
     ]
    },
    {
     "name": "stderr",
     "output_type": "stream",
     "text": [
      "/home/pedro/Documents/UNI/_3_ano/LAB_IACD/project_1/.venv/lib/python3.10/site-packages/skimage/util/dtype.py:576: UserWarning: Downcasting int16 to uint8 without scaling because max value 17 fits in uint8\n",
      "  return _convert(image, np.uint8, force_copy)\n"
     ]
    },
    {
     "name": "stdout",
     "output_type": "stream",
     "text": [
      "Loading dicom files ... This may take a moment.\n",
      "Loading dicom files ... This may take a moment.\n"
     ]
    },
    {
     "name": "stderr",
     "output_type": "stream",
     "text": [
      "/home/pedro/Documents/UNI/_3_ano/LAB_IACD/project_1/.venv/lib/python3.10/site-packages/skimage/util/dtype.py:576: UserWarning: Downcasting int16 to uint8 without scaling because max value 103 fits in uint8\n",
      "  return _convert(image, np.uint8, force_copy)\n",
      "/home/pedro/Documents/UNI/_3_ano/LAB_IACD/project_1/.venv/lib/python3.10/site-packages/skimage/util/dtype.py:576: UserWarning: Downcasting int16 to uint8 without scaling because max value 150 fits in uint8\n",
      "  return _convert(image, np.uint8, force_copy)\n",
      "/home/pedro/Documents/UNI/_3_ano/LAB_IACD/project_1/.venv/lib/python3.10/site-packages/skimage/util/dtype.py:576: UserWarning: Downcasting int16 to uint8 without scaling because max value 157 fits in uint8\n",
      "  return _convert(image, np.uint8, force_copy)\n"
     ]
    },
    {
     "name": "stdout",
     "output_type": "stream",
     "text": [
      "Loading dicom files ... This may take a moment.\n",
      "Loading dicom files ... This may take a moment.\n"
     ]
    },
    {
     "name": "stderr",
     "output_type": "stream",
     "text": [
      "/home/pedro/Documents/UNI/_3_ano/LAB_IACD/project_1/.venv/lib/python3.10/site-packages/skimage/util/dtype.py:576: UserWarning: Downcasting int16 to uint8 without scaling because max value 145 fits in uint8\n",
      "  return _convert(image, np.uint8, force_copy)\n",
      "/home/pedro/Documents/UNI/_3_ano/LAB_IACD/project_1/.venv/lib/python3.10/site-packages/skimage/util/dtype.py:576: UserWarning: Downcasting int16 to uint8 without scaling because max value -74 fits in uint8\n",
      "  return _convert(image, np.uint8, force_copy)\n"
     ]
    },
    {
     "name": "stdout",
     "output_type": "stream",
     "text": [
      "Loading dicom files ... This may take a moment.\n",
      "Loading dicom files ... This may take a moment.\n",
      "Loading dicom files ... This may take a moment.\n",
      "Loading dicom files ... This may take a moment.\n",
      "Loading dicom files ... This may take a moment.\n",
      "Loading dicom files ... This may take a moment.\n",
      "Loading dicom files ... This may take a moment.\n"
     ]
    },
    {
     "name": "stderr",
     "output_type": "stream",
     "text": [
      "/home/pedro/Documents/UNI/_3_ano/LAB_IACD/project_1/.venv/lib/python3.10/site-packages/skimage/util/dtype.py:576: UserWarning: Downcasting int16 to uint8 without scaling because max value -378 fits in uint8\n",
      "  return _convert(image, np.uint8, force_copy)\n"
     ]
    },
    {
     "name": "stdout",
     "output_type": "stream",
     "text": [
      "Loading dicom files ... This may take a moment.\n"
     ]
    },
    {
     "name": "stderr",
     "output_type": "stream",
     "text": [
      "/home/pedro/Documents/UNI/_3_ano/LAB_IACD/project_1/.venv/lib/python3.10/site-packages/skimage/util/dtype.py:576: UserWarning: Downcasting int16 to uint8 without scaling because max value -266 fits in uint8\n",
      "  return _convert(image, np.uint8, force_copy)\n",
      "/home/pedro/Documents/UNI/_3_ano/LAB_IACD/project_1/.venv/lib/python3.10/site-packages/skimage/util/dtype.py:576: UserWarning: Downcasting int16 to uint8 without scaling because max value -2 fits in uint8\n",
      "  return _convert(image, np.uint8, force_copy)\n"
     ]
    },
    {
     "name": "stdout",
     "output_type": "stream",
     "text": [
      "Loading dicom files ... This may take a moment.\n",
      "Loading dicom files ... This may take a moment.\n",
      "Loading dicom files ... This may take a moment.\n",
      "Loading dicom files ... This may take a moment.\n",
      "Loading dicom files ... This may take a moment.\n",
      "Loading dicom files ... This may take a moment.\n",
      "Loading dicom files ... This may take a moment.\n"
     ]
    },
    {
     "name": "stderr",
     "output_type": "stream",
     "text": [
      "/home/pedro/Documents/UNI/_3_ano/LAB_IACD/project_1/.venv/lib/python3.10/site-packages/skimage/util/dtype.py:576: UserWarning: Downcasting int16 to uint8 without scaling because max value 84 fits in uint8\n",
      "  return _convert(image, np.uint8, force_copy)\n",
      "/home/pedro/Documents/UNI/_3_ano/LAB_IACD/project_1/.venv/lib/python3.10/site-packages/skimage/util/dtype.py:576: UserWarning: Downcasting int16 to uint8 without scaling because max value 141 fits in uint8\n",
      "  return _convert(image, np.uint8, force_copy)\n"
     ]
    },
    {
     "name": "stdout",
     "output_type": "stream",
     "text": [
      "Loading dicom files ... This may take a moment.\n"
     ]
    },
    {
     "name": "stderr",
     "output_type": "stream",
     "text": [
      "/home/pedro/Documents/UNI/_3_ano/LAB_IACD/project_1/.venv/lib/python3.10/site-packages/skimage/util/dtype.py:576: UserWarning: Downcasting int16 to uint8 without scaling because max value 170 fits in uint8\n",
      "  return _convert(image, np.uint8, force_copy)\n"
     ]
    },
    {
     "name": "stdout",
     "output_type": "stream",
     "text": [
      "Loading dicom files ... This may take a moment.\n"
     ]
    },
    {
     "name": "stderr",
     "output_type": "stream",
     "text": [
      "/home/pedro/Documents/UNI/_3_ano/LAB_IACD/project_1/.venv/lib/python3.10/site-packages/skimage/util/dtype.py:576: UserWarning: Downcasting int16 to uint8 without scaling because max value 232 fits in uint8\n",
      "  return _convert(image, np.uint8, force_copy)\n",
      "/home/pedro/Documents/UNI/_3_ano/LAB_IACD/project_1/.venv/lib/python3.10/site-packages/skimage/util/dtype.py:576: UserWarning: Downcasting int16 to uint8 without scaling because max value 185 fits in uint8\n",
      "  return _convert(image, np.uint8, force_copy)\n",
      "/home/pedro/Documents/UNI/_3_ano/LAB_IACD/project_1/.venv/lib/python3.10/site-packages/skimage/util/dtype.py:576: UserWarning: Downcasting int16 to uint8 without scaling because max value 197 fits in uint8\n",
      "  return _convert(image, np.uint8, force_copy)\n",
      "/home/pedro/Documents/UNI/_3_ano/LAB_IACD/project_1/.venv/lib/python3.10/site-packages/skimage/util/dtype.py:576: UserWarning: Downcasting int16 to uint8 without scaling because max value 95 fits in uint8\n",
      "  return _convert(image, np.uint8, force_copy)\n",
      "/home/pedro/Documents/UNI/_3_ano/LAB_IACD/project_1/.venv/lib/python3.10/site-packages/skimage/util/dtype.py:576: UserWarning: Downcasting int16 to uint8 without scaling because max value 187 fits in uint8\n",
      "  return _convert(image, np.uint8, force_copy)\n"
     ]
    },
    {
     "name": "stdout",
     "output_type": "stream",
     "text": [
      "Loading dicom files ... This may take a moment.\n"
     ]
    },
    {
     "name": "stderr",
     "output_type": "stream",
     "text": [
      "/home/pedro/Documents/UNI/_3_ano/LAB_IACD/project_1/.venv/lib/python3.10/site-packages/skimage/util/dtype.py:576: UserWarning: Downcasting int16 to uint8 without scaling because max value 131 fits in uint8\n",
      "  return _convert(image, np.uint8, force_copy)\n"
     ]
    },
    {
     "name": "stdout",
     "output_type": "stream",
     "text": [
      "Loading dicom files ... This may take a moment.\n",
      "Loading dicom files ... This may take a moment.\n",
      "Loading dicom files ... This may take a moment.\n"
     ]
    },
    {
     "name": "stderr",
     "output_type": "stream",
     "text": [
      "/home/pedro/Documents/UNI/_3_ano/LAB_IACD/project_1/.venv/lib/python3.10/site-packages/skimage/util/dtype.py:576: UserWarning: Downcasting int16 to uint8 without scaling because max value 135 fits in uint8\n",
      "  return _convert(image, np.uint8, force_copy)\n",
      "/home/pedro/Documents/UNI/_3_ano/LAB_IACD/project_1/.venv/lib/python3.10/site-packages/skimage/util/dtype.py:576: UserWarning: Downcasting int16 to uint8 without scaling because max value -113 fits in uint8\n",
      "  return _convert(image, np.uint8, force_copy)\n"
     ]
    },
    {
     "name": "stdout",
     "output_type": "stream",
     "text": [
      "Loading dicom files ... This may take a moment.\n",
      "Loading dicom files ... This may take a moment.\n",
      "Loading dicom files ... This may take a moment.\n"
     ]
    },
    {
     "name": "stderr",
     "output_type": "stream",
     "text": [
      "/home/pedro/Documents/UNI/_3_ano/LAB_IACD/project_1/.venv/lib/python3.10/site-packages/skimage/util/dtype.py:576: UserWarning: Downcasting int16 to uint8 without scaling because max value 42 fits in uint8\n",
      "  return _convert(image, np.uint8, force_copy)\n"
     ]
    },
    {
     "name": "stdout",
     "output_type": "stream",
     "text": [
      "Loading dicom files ... This may take a moment.\n",
      "Loading dicom files ... This may take a moment.\n"
     ]
    },
    {
     "name": "stderr",
     "output_type": "stream",
     "text": [
      "/home/pedro/Documents/UNI/_3_ano/LAB_IACD/project_1/.venv/lib/python3.10/site-packages/skimage/util/dtype.py:576: UserWarning: Downcasting int16 to uint8 without scaling because max value -170 fits in uint8\n",
      "  return _convert(image, np.uint8, force_copy)\n"
     ]
    },
    {
     "name": "stdout",
     "output_type": "stream",
     "text": [
      "Loading dicom files ... This may take a moment.\n",
      "Loading dicom files ... This may take a moment.\n",
      "Loading dicom files ... This may take a moment.\n",
      "Loading dicom files ... This may take a moment.\n",
      "Loading dicom files ... This may take a moment.\n",
      "Loading dicom files ... This may take a moment.\n",
      "Loading dicom files ... This may take a moment.\n"
     ]
    },
    {
     "name": "stderr",
     "output_type": "stream",
     "text": [
      "/home/pedro/Documents/UNI/_3_ano/LAB_IACD/project_1/.venv/lib/python3.10/site-packages/skimage/util/dtype.py:576: UserWarning: Downcasting int16 to uint8 without scaling because max value 235 fits in uint8\n",
      "  return _convert(image, np.uint8, force_copy)\n"
     ]
    },
    {
     "name": "stdout",
     "output_type": "stream",
     "text": [
      "Loading dicom files ... This may take a moment.\n",
      "Loading dicom files ... This may take a moment.\n",
      "Loading dicom files ... This may take a moment.\n",
      "Loading dicom files ... This may take a moment.\n",
      "Loading dicom files ... This may take a moment.\n",
      "Loading dicom files ... This may take a moment.\n",
      "Loading dicom files ... This may take a moment.\n",
      "Loading dicom files ... This may take a moment.\n",
      "Loading dicom files ... This may take a moment.\n",
      "Loading dicom files ... This may take a moment.\n"
     ]
    },
    {
     "name": "stderr",
     "output_type": "stream",
     "text": [
      "/home/pedro/Documents/UNI/_3_ano/LAB_IACD/project_1/.venv/lib/python3.10/site-packages/skimage/util/dtype.py:576: UserWarning: Downcasting int16 to uint8 without scaling because max value 114 fits in uint8\n",
      "  return _convert(image, np.uint8, force_copy)\n"
     ]
    },
    {
     "name": "stdout",
     "output_type": "stream",
     "text": [
      "Loading dicom files ... This may take a moment.\n",
      "Loading dicom files ... This may take a moment.\n"
     ]
    },
    {
     "name": "stderr",
     "output_type": "stream",
     "text": [
      "/home/pedro/Documents/UNI/_3_ano/LAB_IACD/project_1/.venv/lib/python3.10/site-packages/skimage/util/dtype.py:576: UserWarning: Downcasting int16 to uint8 without scaling because max value 170 fits in uint8\n",
      "  return _convert(image, np.uint8, force_copy)\n"
     ]
    },
    {
     "name": "stdout",
     "output_type": "stream",
     "text": [
      "Loading dicom files ... This may take a moment.\n",
      "Loading dicom files ... This may take a moment.\n"
     ]
    },
    {
     "name": "stderr",
     "output_type": "stream",
     "text": [
      "/home/pedro/Documents/UNI/_3_ano/LAB_IACD/project_1/.venv/lib/python3.10/site-packages/skimage/util/dtype.py:576: UserWarning: Downcasting int16 to uint8 without scaling because max value -101 fits in uint8\n",
      "  return _convert(image, np.uint8, force_copy)\n"
     ]
    },
    {
     "name": "stdout",
     "output_type": "stream",
     "text": [
      "Loading dicom files ... This may take a moment.\n"
     ]
    },
    {
     "name": "stderr",
     "output_type": "stream",
     "text": [
      "/home/pedro/Documents/UNI/_3_ano/LAB_IACD/project_1/.venv/lib/python3.10/site-packages/skimage/util/dtype.py:576: UserWarning: Downcasting int16 to uint8 without scaling because max value -76 fits in uint8\n",
      "  return _convert(image, np.uint8, force_copy)\n",
      "/home/pedro/Documents/UNI/_3_ano/LAB_IACD/project_1/.venv/lib/python3.10/site-packages/skimage/util/dtype.py:576: UserWarning: Downcasting int16 to uint8 without scaling because max value 129 fits in uint8\n",
      "  return _convert(image, np.uint8, force_copy)\n"
     ]
    },
    {
     "name": "stdout",
     "output_type": "stream",
     "text": [
      "Loading dicom files ... This may take a moment.\n"
     ]
    },
    {
     "name": "stderr",
     "output_type": "stream",
     "text": [
      "/home/pedro/Documents/UNI/_3_ano/LAB_IACD/project_1/.venv/lib/python3.10/site-packages/skimage/util/dtype.py:576: UserWarning: Downcasting int16 to uint8 without scaling because max value 198 fits in uint8\n",
      "  return _convert(image, np.uint8, force_copy)\n"
     ]
    },
    {
     "name": "stdout",
     "output_type": "stream",
     "text": [
      "Loading dicom files ... This may take a moment.\n",
      "Loading dicom files ... This may take a moment.\n",
      "Loading dicom files ... This may take a moment.\n",
      "Loading dicom files ... This may take a moment.\n",
      "Loading dicom files ... This may take a moment.\n"
     ]
    },
    {
     "name": "stderr",
     "output_type": "stream",
     "text": [
      "/home/pedro/Documents/UNI/_3_ano/LAB_IACD/project_1/.venv/lib/python3.10/site-packages/skimage/util/dtype.py:576: UserWarning: Downcasting int16 to uint8 without scaling because max value 66 fits in uint8\n",
      "  return _convert(image, np.uint8, force_copy)\n",
      "/home/pedro/Documents/UNI/_3_ano/LAB_IACD/project_1/.venv/lib/python3.10/site-packages/skimage/util/dtype.py:576: UserWarning: Downcasting int16 to uint8 without scaling because max value 67 fits in uint8\n",
      "  return _convert(image, np.uint8, force_copy)\n"
     ]
    },
    {
     "name": "stdout",
     "output_type": "stream",
     "text": [
      "Loading dicom files ... This may take a moment.\n",
      "Loading dicom files ... This may take a moment.\n"
     ]
    },
    {
     "name": "stderr",
     "output_type": "stream",
     "text": [
      "/home/pedro/Documents/UNI/_3_ano/LAB_IACD/project_1/.venv/lib/python3.10/site-packages/skimage/util/dtype.py:576: UserWarning: Downcasting int16 to uint8 without scaling because max value 19 fits in uint8\n",
      "  return _convert(image, np.uint8, force_copy)\n",
      "/home/pedro/Documents/UNI/_3_ano/LAB_IACD/project_1/.venv/lib/python3.10/site-packages/skimage/util/dtype.py:576: UserWarning: Downcasting int16 to uint8 without scaling because max value 137 fits in uint8\n",
      "  return _convert(image, np.uint8, force_copy)\n"
     ]
    },
    {
     "name": "stdout",
     "output_type": "stream",
     "text": [
      "Loading dicom files ... This may take a moment.\n",
      "Loading dicom files ... This may take a moment.\n",
      "Loading dicom files ... This may take a moment.\n"
     ]
    },
    {
     "name": "stderr",
     "output_type": "stream",
     "text": [
      "/home/pedro/Documents/UNI/_3_ano/LAB_IACD/project_1/.venv/lib/python3.10/site-packages/skimage/util/dtype.py:576: UserWarning: Downcasting int16 to uint8 without scaling because max value 78 fits in uint8\n",
      "  return _convert(image, np.uint8, force_copy)\n"
     ]
    },
    {
     "name": "stdout",
     "output_type": "stream",
     "text": [
      "Loading dicom files ... This may take a moment.\n",
      "Loading dicom files ... This may take a moment.\n",
      "Loading dicom files ... This may take a moment.\n"
     ]
    },
    {
     "name": "stderr",
     "output_type": "stream",
     "text": [
      "/home/pedro/Documents/UNI/_3_ano/LAB_IACD/project_1/.venv/lib/python3.10/site-packages/skimage/util/dtype.py:576: UserWarning: Downcasting int16 to uint8 without scaling because max value 212 fits in uint8\n",
      "  return _convert(image, np.uint8, force_copy)\n",
      "/home/pedro/Documents/UNI/_3_ano/LAB_IACD/project_1/.venv/lib/python3.10/site-packages/skimage/util/dtype.py:576: UserWarning: Downcasting int16 to uint8 without scaling because max value 232 fits in uint8\n",
      "  return _convert(image, np.uint8, force_copy)\n",
      "/home/pedro/Documents/UNI/_3_ano/LAB_IACD/project_1/.venv/lib/python3.10/site-packages/skimage/util/dtype.py:576: UserWarning: Downcasting int16 to uint8 without scaling because max value -519 fits in uint8\n",
      "  return _convert(image, np.uint8, force_copy)\n"
     ]
    },
    {
     "name": "stdout",
     "output_type": "stream",
     "text": [
      "Loading dicom files ... This may take a moment.\n",
      "Loading dicom files ... This may take a moment.\n",
      "Loading dicom files ... This may take a moment.\n",
      "Loading dicom files ... This may take a moment.\n",
      "Loading dicom files ... This may take a moment.\n"
     ]
    },
    {
     "name": "stderr",
     "output_type": "stream",
     "text": [
      "/home/pedro/Documents/UNI/_3_ano/LAB_IACD/project_1/.venv/lib/python3.10/site-packages/skimage/util/dtype.py:576: UserWarning: Downcasting int16 to uint8 without scaling because max value 176 fits in uint8\n",
      "  return _convert(image, np.uint8, force_copy)\n"
     ]
    },
    {
     "name": "stdout",
     "output_type": "stream",
     "text": [
      "Loading dicom files ... This may take a moment.\n"
     ]
    },
    {
     "name": "stderr",
     "output_type": "stream",
     "text": [
      "/home/pedro/Documents/UNI/_3_ano/LAB_IACD/project_1/.venv/lib/python3.10/site-packages/skimage/util/dtype.py:576: UserWarning: Downcasting int16 to uint8 without scaling because max value -17 fits in uint8\n",
      "  return _convert(image, np.uint8, force_copy)\n",
      "/home/pedro/Documents/UNI/_3_ano/LAB_IACD/project_1/.venv/lib/python3.10/site-packages/skimage/util/dtype.py:576: UserWarning: Downcasting int16 to uint8 without scaling because max value 188 fits in uint8\n",
      "  return _convert(image, np.uint8, force_copy)\n",
      "/home/pedro/Documents/UNI/_3_ano/LAB_IACD/project_1/.venv/lib/python3.10/site-packages/skimage/util/dtype.py:576: UserWarning: Downcasting int16 to uint8 without scaling because max value 82 fits in uint8\n",
      "  return _convert(image, np.uint8, force_copy)\n"
     ]
    },
    {
     "name": "stdout",
     "output_type": "stream",
     "text": [
      "Loading dicom files ... This may take a moment.\n"
     ]
    },
    {
     "name": "stderr",
     "output_type": "stream",
     "text": [
      "/home/pedro/Documents/UNI/_3_ano/LAB_IACD/project_1/.venv/lib/python3.10/site-packages/skimage/util/dtype.py:576: UserWarning: Downcasting int16 to uint8 without scaling because max value 113 fits in uint8\n",
      "  return _convert(image, np.uint8, force_copy)\n"
     ]
    },
    {
     "name": "stdout",
     "output_type": "stream",
     "text": [
      "Loading dicom files ... This may take a moment.\n",
      "Loading dicom files ... This may take a moment.\n"
     ]
    },
    {
     "name": "stderr",
     "output_type": "stream",
     "text": [
      "/home/pedro/Documents/UNI/_3_ano/LAB_IACD/project_1/.venv/lib/python3.10/site-packages/skimage/util/dtype.py:576: UserWarning: Downcasting int16 to uint8 without scaling because max value 41 fits in uint8\n",
      "  return _convert(image, np.uint8, force_copy)\n"
     ]
    },
    {
     "name": "stdout",
     "output_type": "stream",
     "text": [
      "Loading dicom files ... This may take a moment.\n",
      "Loading dicom files ... This may take a moment.\n"
     ]
    },
    {
     "name": "stderr",
     "output_type": "stream",
     "text": [
      "/home/pedro/Documents/UNI/_3_ano/LAB_IACD/project_1/.venv/lib/python3.10/site-packages/skimage/util/dtype.py:576: UserWarning: Downcasting int16 to uint8 without scaling because max value 162 fits in uint8\n",
      "  return _convert(image, np.uint8, force_copy)\n",
      "/home/pedro/Documents/UNI/_3_ano/LAB_IACD/project_1/.venv/lib/python3.10/site-packages/skimage/util/dtype.py:576: UserWarning: Downcasting int16 to uint8 without scaling because max value 202 fits in uint8\n",
      "  return _convert(image, np.uint8, force_copy)\n",
      "/home/pedro/Documents/UNI/_3_ano/LAB_IACD/project_1/.venv/lib/python3.10/site-packages/skimage/util/dtype.py:576: UserWarning: Downcasting int16 to uint8 without scaling because max value 148 fits in uint8\n",
      "  return _convert(image, np.uint8, force_copy)\n"
     ]
    },
    {
     "name": "stdout",
     "output_type": "stream",
     "text": [
      "Loading dicom files ... This may take a moment.\n"
     ]
    },
    {
     "name": "stderr",
     "output_type": "stream",
     "text": [
      "/home/pedro/Documents/UNI/_3_ano/LAB_IACD/project_1/.venv/lib/python3.10/site-packages/skimage/util/dtype.py:576: UserWarning: Downcasting int16 to uint8 without scaling because max value 149 fits in uint8\n",
      "  return _convert(image, np.uint8, force_copy)\n",
      "/home/pedro/Documents/UNI/_3_ano/LAB_IACD/project_1/.venv/lib/python3.10/site-packages/skimage/util/dtype.py:576: UserWarning: Downcasting int16 to uint8 without scaling because max value -236 fits in uint8\n",
      "  return _convert(image, np.uint8, force_copy)\n",
      "/home/pedro/Documents/UNI/_3_ano/LAB_IACD/project_1/.venv/lib/python3.10/site-packages/skimage/util/dtype.py:576: UserWarning: Downcasting int16 to uint8 without scaling because max value -87 fits in uint8\n",
      "  return _convert(image, np.uint8, force_copy)\n",
      "/home/pedro/Documents/UNI/_3_ano/LAB_IACD/project_1/.venv/lib/python3.10/site-packages/skimage/util/dtype.py:576: UserWarning: Downcasting int16 to uint8 without scaling because max value -166 fits in uint8\n",
      "  return _convert(image, np.uint8, force_copy)\n",
      "/home/pedro/Documents/UNI/_3_ano/LAB_IACD/project_1/.venv/lib/python3.10/site-packages/skimage/util/dtype.py:576: UserWarning: Downcasting int16 to uint8 without scaling because max value 32 fits in uint8\n",
      "  return _convert(image, np.uint8, force_copy)\n",
      "/home/pedro/Documents/UNI/_3_ano/LAB_IACD/project_1/.venv/lib/python3.10/site-packages/skimage/util/dtype.py:576: UserWarning: Downcasting int16 to uint8 without scaling because max value 91 fits in uint8\n",
      "  return _convert(image, np.uint8, force_copy)\n"
     ]
    },
    {
     "name": "stdout",
     "output_type": "stream",
     "text": [
      "Loading dicom files ... This may take a moment.\n",
      "Loading dicom files ... This may take a moment.\n"
     ]
    },
    {
     "name": "stderr",
     "output_type": "stream",
     "text": [
      "/home/pedro/Documents/UNI/_3_ano/LAB_IACD/project_1/.venv/lib/python3.10/site-packages/skimage/util/dtype.py:576: UserWarning: Downcasting int16 to uint8 without scaling because max value -81 fits in uint8\n",
      "  return _convert(image, np.uint8, force_copy)\n",
      "/home/pedro/Documents/UNI/_3_ano/LAB_IACD/project_1/.venv/lib/python3.10/site-packages/skimage/util/dtype.py:576: UserWarning: Downcasting int16 to uint8 without scaling because max value -134 fits in uint8\n",
      "  return _convert(image, np.uint8, force_copy)\n"
     ]
    },
    {
     "name": "stdout",
     "output_type": "stream",
     "text": [
      "Loading dicom files ... This may take a moment.\n"
     ]
    },
    {
     "name": "stderr",
     "output_type": "stream",
     "text": [
      "/home/pedro/Documents/UNI/_3_ano/LAB_IACD/project_1/.venv/lib/python3.10/site-packages/skimage/util/dtype.py:576: UserWarning: Downcasting int16 to uint8 without scaling because max value 24 fits in uint8\n",
      "  return _convert(image, np.uint8, force_copy)\n",
      "/home/pedro/Documents/UNI/_3_ano/LAB_IACD/project_1/.venv/lib/python3.10/site-packages/skimage/util/dtype.py:576: UserWarning: Downcasting int16 to uint8 without scaling because max value 133 fits in uint8\n",
      "  return _convert(image, np.uint8, force_copy)\n"
     ]
    },
    {
     "name": "stdout",
     "output_type": "stream",
     "text": [
      "Loading dicom files ... This may take a moment.\n",
      "Loading dicom files ... This may take a moment.\n",
      "Loading dicom files ... This may take a moment.\n",
      "Loading dicom files ... This may take a moment.\n",
      "Loading dicom files ... This may take a moment.\n",
      "Loading dicom files ... This may take a moment.\n"
     ]
    },
    {
     "name": "stderr",
     "output_type": "stream",
     "text": [
      "/home/pedro/Documents/UNI/_3_ano/LAB_IACD/project_1/.venv/lib/python3.10/site-packages/skimage/util/dtype.py:576: UserWarning: Downcasting int16 to uint8 without scaling because max value 63 fits in uint8\n",
      "  return _convert(image, np.uint8, force_copy)\n"
     ]
    },
    {
     "name": "stdout",
     "output_type": "stream",
     "text": [
      "Loading dicom files ... This may take a moment.\n"
     ]
    },
    {
     "name": "stderr",
     "output_type": "stream",
     "text": [
      "/home/pedro/Documents/UNI/_3_ano/LAB_IACD/project_1/.venv/lib/python3.10/site-packages/skimage/util/dtype.py:576: UserWarning: Downcasting int16 to uint8 without scaling because max value -21 fits in uint8\n",
      "  return _convert(image, np.uint8, force_copy)\n"
     ]
    },
    {
     "name": "stdout",
     "output_type": "stream",
     "text": [
      "Loading dicom files ... This may take a moment.\n",
      "Loading dicom files ... This may take a moment.\n",
      "Loading dicom files ... This may take a moment.\n"
     ]
    },
    {
     "name": "stderr",
     "output_type": "stream",
     "text": [
      "/home/pedro/Documents/UNI/_3_ano/LAB_IACD/project_1/.venv/lib/python3.10/site-packages/skimage/util/dtype.py:576: UserWarning: Downcasting int16 to uint8 without scaling because max value 116 fits in uint8\n",
      "  return _convert(image, np.uint8, force_copy)\n"
     ]
    },
    {
     "name": "stdout",
     "output_type": "stream",
     "text": [
      "Loading dicom files ... This may take a moment.\n",
      "Loading dicom files ... This may take a moment.\n",
      "Loading dicom files ... This may take a moment.\n",
      "Loading dicom files ... This may take a moment.\n",
      "Loading dicom files ... This may take a moment.\n"
     ]
    },
    {
     "name": "stderr",
     "output_type": "stream",
     "text": [
      "/home/pedro/Documents/UNI/_3_ano/LAB_IACD/project_1/.venv/lib/python3.10/site-packages/skimage/util/dtype.py:576: UserWarning: Downcasting int16 to uint8 without scaling because max value 238 fits in uint8\n",
      "  return _convert(image, np.uint8, force_copy)\n"
     ]
    },
    {
     "name": "stdout",
     "output_type": "stream",
     "text": [
      "Loading dicom files ... This may take a moment.\n",
      "Loading dicom files ... This may take a moment.\n"
     ]
    },
    {
     "name": "stderr",
     "output_type": "stream",
     "text": [
      "/home/pedro/Documents/UNI/_3_ano/LAB_IACD/project_1/.venv/lib/python3.10/site-packages/skimage/util/dtype.py:576: UserWarning: Downcasting int16 to uint8 without scaling because max value 2 fits in uint8\n",
      "  return _convert(image, np.uint8, force_copy)\n",
      "/home/pedro/Documents/UNI/_3_ano/LAB_IACD/project_1/.venv/lib/python3.10/site-packages/skimage/util/dtype.py:576: UserWarning: Downcasting int16 to uint8 without scaling because max value -191 fits in uint8\n",
      "  return _convert(image, np.uint8, force_copy)\n",
      "/home/pedro/Documents/UNI/_3_ano/LAB_IACD/project_1/.venv/lib/python3.10/site-packages/skimage/util/dtype.py:576: UserWarning: Downcasting int16 to uint8 without scaling because max value -186 fits in uint8\n",
      "  return _convert(image, np.uint8, force_copy)\n",
      "/home/pedro/Documents/UNI/_3_ano/LAB_IACD/project_1/.venv/lib/python3.10/site-packages/skimage/util/dtype.py:576: UserWarning: Downcasting int16 to uint8 without scaling because max value 69 fits in uint8\n",
      "  return _convert(image, np.uint8, force_copy)\n"
     ]
    },
    {
     "name": "stdout",
     "output_type": "stream",
     "text": [
      "Loading dicom files ... This may take a moment.\n"
     ]
    },
    {
     "name": "stderr",
     "output_type": "stream",
     "text": [
      "/home/pedro/Documents/UNI/_3_ano/LAB_IACD/project_1/.venv/lib/python3.10/site-packages/skimage/util/dtype.py:576: UserWarning: Downcasting int16 to uint8 without scaling because max value 56 fits in uint8\n",
      "  return _convert(image, np.uint8, force_copy)\n",
      "/home/pedro/Documents/UNI/_3_ano/LAB_IACD/project_1/.venv/lib/python3.10/site-packages/skimage/util/dtype.py:576: UserWarning: Downcasting int16 to uint8 without scaling because max value -162 fits in uint8\n",
      "  return _convert(image, np.uint8, force_copy)\n",
      "/home/pedro/Documents/UNI/_3_ano/LAB_IACD/project_1/.venv/lib/python3.10/site-packages/skimage/util/dtype.py:576: UserWarning: Downcasting int16 to uint8 without scaling because max value 40 fits in uint8\n",
      "  return _convert(image, np.uint8, force_copy)\n",
      "/home/pedro/Documents/UNI/_3_ano/LAB_IACD/project_1/.venv/lib/python3.10/site-packages/skimage/util/dtype.py:576: UserWarning: Downcasting int16 to uint8 without scaling because max value -114 fits in uint8\n",
      "  return _convert(image, np.uint8, force_copy)\n"
     ]
    },
    {
     "name": "stdout",
     "output_type": "stream",
     "text": [
      "Loading dicom files ... This may take a moment.\n",
      "Loading dicom files ... This may take a moment.\n",
      "Failed to reduce all groups to <= 4 Annotations.\n",
      "Some nodules may be close and must be grouped manually.\n",
      "Loading dicom files ... This may take a moment.\n",
      "Loading dicom files ... This may take a moment.\n"
     ]
    },
    {
     "name": "stderr",
     "output_type": "stream",
     "text": [
      "/home/pedro/Documents/UNI/_3_ano/LAB_IACD/project_1/.venv/lib/python3.10/site-packages/skimage/util/dtype.py:576: UserWarning: Downcasting int16 to uint8 without scaling because max value 97 fits in uint8\n",
      "  return _convert(image, np.uint8, force_copy)\n"
     ]
    },
    {
     "name": "stdout",
     "output_type": "stream",
     "text": [
      "Loading dicom files ... This may take a moment.\n",
      "Loading dicom files ... This may take a moment.\n",
      "Loading dicom files ... This may take a moment.\n",
      "Loading dicom files ... This may take a moment.\n",
      "Loading dicom files ... This may take a moment.\n"
     ]
    },
    {
     "name": "stderr",
     "output_type": "stream",
     "text": [
      "/home/pedro/Documents/UNI/_3_ano/LAB_IACD/project_1/.venv/lib/python3.10/site-packages/skimage/util/dtype.py:576: UserWarning: Downcasting int16 to uint8 without scaling because max value 96 fits in uint8\n",
      "  return _convert(image, np.uint8, force_copy)\n"
     ]
    },
    {
     "name": "stdout",
     "output_type": "stream",
     "text": [
      "Loading dicom files ... This may take a moment.\n"
     ]
    },
    {
     "name": "stderr",
     "output_type": "stream",
     "text": [
      "/home/pedro/Documents/UNI/_3_ano/LAB_IACD/project_1/.venv/lib/python3.10/site-packages/skimage/util/dtype.py:576: UserWarning: Downcasting int16 to uint8 without scaling because max value 102 fits in uint8\n",
      "  return _convert(image, np.uint8, force_copy)\n"
     ]
    },
    {
     "name": "stdout",
     "output_type": "stream",
     "text": [
      "Loading dicom files ... This may take a moment.\n",
      "Loading dicom files ... This may take a moment.\n"
     ]
    },
    {
     "name": "stderr",
     "output_type": "stream",
     "text": [
      "/home/pedro/Documents/UNI/_3_ano/LAB_IACD/project_1/.venv/lib/python3.10/site-packages/skimage/util/dtype.py:576: UserWarning: Downcasting int16 to uint8 without scaling because max value 3 fits in uint8\n",
      "  return _convert(image, np.uint8, force_copy)\n"
     ]
    },
    {
     "name": "stdout",
     "output_type": "stream",
     "text": [
      "Loading dicom files ... This may take a moment.\n"
     ]
    },
    {
     "name": "stderr",
     "output_type": "stream",
     "text": [
      "/home/pedro/Documents/UNI/_3_ano/LAB_IACD/project_1/.venv/lib/python3.10/site-packages/skimage/util/dtype.py:576: UserWarning: Downcasting int16 to uint8 without scaling because max value 167 fits in uint8\n",
      "  return _convert(image, np.uint8, force_copy)\n"
     ]
    },
    {
     "name": "stdout",
     "output_type": "stream",
     "text": [
      "Loading dicom files ... This may take a moment.\n",
      "Loading dicom files ... This may take a moment.\n"
     ]
    },
    {
     "name": "stderr",
     "output_type": "stream",
     "text": [
      "/home/pedro/Documents/UNI/_3_ano/LAB_IACD/project_1/.venv/lib/python3.10/site-packages/skimage/util/dtype.py:576: UserWarning: Downcasting int16 to uint8 without scaling because max value 125 fits in uint8\n",
      "  return _convert(image, np.uint8, force_copy)\n",
      "/home/pedro/Documents/UNI/_3_ano/LAB_IACD/project_1/.venv/lib/python3.10/site-packages/skimage/util/dtype.py:576: UserWarning: Downcasting int16 to uint8 without scaling because max value 99 fits in uint8\n",
      "  return _convert(image, np.uint8, force_copy)\n"
     ]
    },
    {
     "name": "stdout",
     "output_type": "stream",
     "text": [
      "Loading dicom files ... This may take a moment.\n",
      "Loading dicom files ... This may take a moment.\n",
      "Loading dicom files ... This may take a moment.\n",
      "Loading dicom files ... This may take a moment.\n"
     ]
    },
    {
     "name": "stderr",
     "output_type": "stream",
     "text": [
      "/home/pedro/Documents/UNI/_3_ano/LAB_IACD/project_1/.venv/lib/python3.10/site-packages/skimage/util/dtype.py:576: UserWarning: Downcasting int16 to uint8 without scaling because max value 92 fits in uint8\n",
      "  return _convert(image, np.uint8, force_copy)\n",
      "/home/pedro/Documents/UNI/_3_ano/LAB_IACD/project_1/.venv/lib/python3.10/site-packages/skimage/util/dtype.py:576: UserWarning: Downcasting int16 to uint8 without scaling because max value 237 fits in uint8\n",
      "  return _convert(image, np.uint8, force_copy)\n"
     ]
    },
    {
     "name": "stdout",
     "output_type": "stream",
     "text": [
      "Loading dicom files ... This may take a moment.\n"
     ]
    },
    {
     "name": "stderr",
     "output_type": "stream",
     "text": [
      "/home/pedro/Documents/UNI/_3_ano/LAB_IACD/project_1/.venv/lib/python3.10/site-packages/skimage/util/dtype.py:576: UserWarning: Downcasting int16 to uint8 without scaling because max value 149 fits in uint8\n",
      "  return _convert(image, np.uint8, force_copy)\n"
     ]
    },
    {
     "name": "stdout",
     "output_type": "stream",
     "text": [
      "Loading dicom files ... This may take a moment.\n"
     ]
    },
    {
     "name": "stderr",
     "output_type": "stream",
     "text": [
      "/home/pedro/Documents/UNI/_3_ano/LAB_IACD/project_1/.venv/lib/python3.10/site-packages/skimage/util/dtype.py:576: UserWarning: Downcasting int16 to uint8 without scaling because max value -388 fits in uint8\n",
      "  return _convert(image, np.uint8, force_copy)\n"
     ]
    },
    {
     "name": "stdout",
     "output_type": "stream",
     "text": [
      "Loading dicom files ... This may take a moment.\n",
      "Loading dicom files ... This may take a moment.\n"
     ]
    },
    {
     "name": "stderr",
     "output_type": "stream",
     "text": [
      "/home/pedro/Documents/UNI/_3_ano/LAB_IACD/project_1/.venv/lib/python3.10/site-packages/skimage/util/dtype.py:576: UserWarning: Downcasting int16 to uint8 without scaling because max value 254 fits in uint8\n",
      "  return _convert(image, np.uint8, force_copy)\n",
      "/home/pedro/Documents/UNI/_3_ano/LAB_IACD/project_1/.venv/lib/python3.10/site-packages/skimage/util/dtype.py:576: UserWarning: Downcasting int16 to uint8 without scaling because max value -91 fits in uint8\n",
      "  return _convert(image, np.uint8, force_copy)\n",
      "/home/pedro/Documents/UNI/_3_ano/LAB_IACD/project_1/.venv/lib/python3.10/site-packages/skimage/util/dtype.py:576: UserWarning: Downcasting int16 to uint8 without scaling because max value 166 fits in uint8\n",
      "  return _convert(image, np.uint8, force_copy)\n"
     ]
    },
    {
     "name": "stdout",
     "output_type": "stream",
     "text": [
      "Loading dicom files ... This may take a moment.\n"
     ]
    },
    {
     "name": "stderr",
     "output_type": "stream",
     "text": [
      "/home/pedro/Documents/UNI/_3_ano/LAB_IACD/project_1/.venv/lib/python3.10/site-packages/skimage/util/dtype.py:576: UserWarning: Downcasting int16 to uint8 without scaling because max value 251 fits in uint8\n",
      "  return _convert(image, np.uint8, force_copy)\n"
     ]
    },
    {
     "name": "stdout",
     "output_type": "stream",
     "text": [
      "Loading dicom files ... This may take a moment.\n",
      "Loading dicom files ... This may take a moment.\n"
     ]
    },
    {
     "name": "stderr",
     "output_type": "stream",
     "text": [
      "/home/pedro/Documents/UNI/_3_ano/LAB_IACD/project_1/.venv/lib/python3.10/site-packages/skimage/util/dtype.py:576: UserWarning: Downcasting int16 to uint8 without scaling because max value 108 fits in uint8\n",
      "  return _convert(image, np.uint8, force_copy)\n",
      "/home/pedro/Documents/UNI/_3_ano/LAB_IACD/project_1/.venv/lib/python3.10/site-packages/skimage/util/dtype.py:576: UserWarning: Downcasting int16 to uint8 without scaling because max value 112 fits in uint8\n",
      "  return _convert(image, np.uint8, force_copy)\n"
     ]
    },
    {
     "name": "stdout",
     "output_type": "stream",
     "text": [
      "Loading dicom files ... This may take a moment.\n",
      "Loading dicom files ... This may take a moment.\n",
      "Loading dicom files ... This may take a moment.\n"
     ]
    },
    {
     "name": "stderr",
     "output_type": "stream",
     "text": [
      "/home/pedro/Documents/UNI/_3_ano/LAB_IACD/project_1/.venv/lib/python3.10/site-packages/skimage/util/dtype.py:576: UserWarning: Downcasting int16 to uint8 without scaling because max value 57 fits in uint8\n",
      "  return _convert(image, np.uint8, force_copy)\n"
     ]
    },
    {
     "name": "stdout",
     "output_type": "stream",
     "text": [
      "Loading dicom files ... This may take a moment.\n"
     ]
    },
    {
     "name": "stderr",
     "output_type": "stream",
     "text": [
      "/home/pedro/Documents/UNI/_3_ano/LAB_IACD/project_1/.venv/lib/python3.10/site-packages/skimage/util/dtype.py:576: UserWarning: Downcasting int16 to uint8 without scaling because max value 48 fits in uint8\n",
      "  return _convert(image, np.uint8, force_copy)\n"
     ]
    },
    {
     "name": "stdout",
     "output_type": "stream",
     "text": [
      "Loading dicom files ... This may take a moment.\n"
     ]
    },
    {
     "name": "stderr",
     "output_type": "stream",
     "text": [
      "/home/pedro/Documents/UNI/_3_ano/LAB_IACD/project_1/.venv/lib/python3.10/site-packages/skimage/util/dtype.py:576: UserWarning: Downcasting int16 to uint8 without scaling because max value 50 fits in uint8\n",
      "  return _convert(image, np.uint8, force_copy)\n",
      "/home/pedro/Documents/UNI/_3_ano/LAB_IACD/project_1/.venv/lib/python3.10/site-packages/skimage/util/dtype.py:576: UserWarning: Downcasting int16 to uint8 without scaling because max value 230 fits in uint8\n",
      "  return _convert(image, np.uint8, force_copy)\n"
     ]
    },
    {
     "name": "stdout",
     "output_type": "stream",
     "text": [
      "Loading dicom files ... This may take a moment.\n"
     ]
    },
    {
     "name": "stderr",
     "output_type": "stream",
     "text": [
      "/home/pedro/Documents/UNI/_3_ano/LAB_IACD/project_1/.venv/lib/python3.10/site-packages/skimage/util/dtype.py:576: UserWarning: Downcasting int16 to uint8 without scaling because max value 131 fits in uint8\n",
      "  return _convert(image, np.uint8, force_copy)\n",
      "/home/pedro/Documents/UNI/_3_ano/LAB_IACD/project_1/.venv/lib/python3.10/site-packages/skimage/util/dtype.py:576: UserWarning: Downcasting int16 to uint8 without scaling because max value 165 fits in uint8\n",
      "  return _convert(image, np.uint8, force_copy)\n"
     ]
    },
    {
     "name": "stdout",
     "output_type": "stream",
     "text": [
      "Loading dicom files ... This may take a moment.\n"
     ]
    },
    {
     "name": "stderr",
     "output_type": "stream",
     "text": [
      "/home/pedro/Documents/UNI/_3_ano/LAB_IACD/project_1/.venv/lib/python3.10/site-packages/skimage/util/dtype.py:576: UserWarning: Downcasting int16 to uint8 without scaling because max value 24 fits in uint8\n",
      "  return _convert(image, np.uint8, force_copy)\n"
     ]
    },
    {
     "name": "stdout",
     "output_type": "stream",
     "text": [
      "Loading dicom files ... This may take a moment.\n"
     ]
    },
    {
     "name": "stderr",
     "output_type": "stream",
     "text": [
      "/home/pedro/Documents/UNI/_3_ano/LAB_IACD/project_1/.venv/lib/python3.10/site-packages/skimage/util/dtype.py:576: UserWarning: Downcasting int16 to uint8 without scaling because max value -108 fits in uint8\n",
      "  return _convert(image, np.uint8, force_copy)\n"
     ]
    },
    {
     "name": "stdout",
     "output_type": "stream",
     "text": [
      "Loading dicom files ... This may take a moment.\n"
     ]
    },
    {
     "name": "stderr",
     "output_type": "stream",
     "text": [
      "/home/pedro/Documents/UNI/_3_ano/LAB_IACD/project_1/.venv/lib/python3.10/site-packages/skimage/util/dtype.py:576: UserWarning: Downcasting int16 to uint8 without scaling because max value 40 fits in uint8\n",
      "  return _convert(image, np.uint8, force_copy)\n"
     ]
    },
    {
     "name": "stdout",
     "output_type": "stream",
     "text": [
      "Loading dicom files ... This may take a moment.\n"
     ]
    },
    {
     "name": "stderr",
     "output_type": "stream",
     "text": [
      "/home/pedro/Documents/UNI/_3_ano/LAB_IACD/project_1/.venv/lib/python3.10/site-packages/skimage/util/dtype.py:576: UserWarning: Downcasting int16 to uint8 without scaling because max value 67 fits in uint8\n",
      "  return _convert(image, np.uint8, force_copy)\n"
     ]
    },
    {
     "name": "stdout",
     "output_type": "stream",
     "text": [
      "Loading dicom files ... This may take a moment.\n"
     ]
    },
    {
     "name": "stderr",
     "output_type": "stream",
     "text": [
      "/home/pedro/Documents/UNI/_3_ano/LAB_IACD/project_1/.venv/lib/python3.10/site-packages/skimage/util/dtype.py:576: UserWarning: Downcasting int16 to uint8 without scaling because max value 139 fits in uint8\n",
      "  return _convert(image, np.uint8, force_copy)\n",
      "/home/pedro/Documents/UNI/_3_ano/LAB_IACD/project_1/.venv/lib/python3.10/site-packages/skimage/util/dtype.py:576: UserWarning: Downcasting int16 to uint8 without scaling because max value -307 fits in uint8\n",
      "  return _convert(image, np.uint8, force_copy)\n"
     ]
    },
    {
     "name": "stdout",
     "output_type": "stream",
     "text": [
      "Loading dicom files ... This may take a moment.\n",
      "Loading dicom files ... This may take a moment.\n",
      "Loading dicom files ... This may take a moment.\n",
      "Loading dicom files ... This may take a moment.\n",
      "Loading dicom files ... This may take a moment.\n"
     ]
    },
    {
     "name": "stderr",
     "output_type": "stream",
     "text": [
      "/home/pedro/Documents/UNI/_3_ano/LAB_IACD/project_1/.venv/lib/python3.10/site-packages/skimage/util/dtype.py:576: UserWarning: Downcasting int16 to uint8 without scaling because max value 165 fits in uint8\n",
      "  return _convert(image, np.uint8, force_copy)\n"
     ]
    },
    {
     "name": "stdout",
     "output_type": "stream",
     "text": [
      "Loading dicom files ... This may take a moment.\n",
      "Loading dicom files ... This may take a moment.\n",
      "Loading dicom files ... This may take a moment.\n",
      "Loading dicom files ... This may take a moment.\n"
     ]
    },
    {
     "name": "stderr",
     "output_type": "stream",
     "text": [
      "/home/pedro/Documents/UNI/_3_ano/LAB_IACD/project_1/.venv/lib/python3.10/site-packages/skimage/util/dtype.py:576: UserWarning: Downcasting int16 to uint8 without scaling because max value 180 fits in uint8\n",
      "  return _convert(image, np.uint8, force_copy)\n"
     ]
    },
    {
     "name": "stdout",
     "output_type": "stream",
     "text": [
      "Loading dicom files ... This may take a moment.\n",
      "Loading dicom files ... This may take a moment.\n",
      "Loading dicom files ... This may take a moment.\n",
      "Loading dicom files ... This may take a moment.\n",
      "Loading dicom files ... This may take a moment.\n"
     ]
    },
    {
     "name": "stderr",
     "output_type": "stream",
     "text": [
      "/home/pedro/Documents/UNI/_3_ano/LAB_IACD/project_1/.venv/lib/python3.10/site-packages/skimage/util/dtype.py:576: UserWarning: Downcasting int16 to uint8 without scaling because max value 93 fits in uint8\n",
      "  return _convert(image, np.uint8, force_copy)\n"
     ]
    },
    {
     "name": "stdout",
     "output_type": "stream",
     "text": [
      "Loading dicom files ... This may take a moment.\n",
      "Loading dicom files ... This may take a moment.\n",
      "Loading dicom files ... This may take a moment.\n"
     ]
    },
    {
     "name": "stderr",
     "output_type": "stream",
     "text": [
      "/home/pedro/Documents/UNI/_3_ano/LAB_IACD/project_1/.venv/lib/python3.10/site-packages/skimage/util/dtype.py:576: UserWarning: Downcasting int16 to uint8 without scaling because max value 118 fits in uint8\n",
      "  return _convert(image, np.uint8, force_copy)\n",
      "/home/pedro/Documents/UNI/_3_ano/LAB_IACD/project_1/.venv/lib/python3.10/site-packages/skimage/util/dtype.py:576: UserWarning: Downcasting int16 to uint8 without scaling because max value -376 fits in uint8\n",
      "  return _convert(image, np.uint8, force_copy)\n",
      "/home/pedro/Documents/UNI/_3_ano/LAB_IACD/project_1/.venv/lib/python3.10/site-packages/skimage/util/dtype.py:576: UserWarning: Downcasting int16 to uint8 without scaling because max value 115 fits in uint8\n",
      "  return _convert(image, np.uint8, force_copy)\n"
     ]
    },
    {
     "name": "stdout",
     "output_type": "stream",
     "text": [
      "Loading dicom files ... This may take a moment.\n"
     ]
    },
    {
     "name": "stderr",
     "output_type": "stream",
     "text": [
      "/home/pedro/Documents/UNI/_3_ano/LAB_IACD/project_1/.venv/lib/python3.10/site-packages/skimage/util/dtype.py:576: UserWarning: Downcasting int16 to uint8 without scaling because max value 191 fits in uint8\n",
      "  return _convert(image, np.uint8, force_copy)\n"
     ]
    },
    {
     "name": "stdout",
     "output_type": "stream",
     "text": [
      "Loading dicom files ... This may take a moment.\n",
      "Loading dicom files ... This may take a moment.\n"
     ]
    },
    {
     "name": "stderr",
     "output_type": "stream",
     "text": [
      "/home/pedro/Documents/UNI/_3_ano/LAB_IACD/project_1/.venv/lib/python3.10/site-packages/skimage/util/dtype.py:576: UserWarning: Downcasting int16 to uint8 without scaling because max value 131 fits in uint8\n",
      "  return _convert(image, np.uint8, force_copy)\n",
      "/home/pedro/Documents/UNI/_3_ano/LAB_IACD/project_1/.venv/lib/python3.10/site-packages/skimage/util/dtype.py:576: UserWarning: Downcasting int16 to uint8 without scaling because max value 157 fits in uint8\n",
      "  return _convert(image, np.uint8, force_copy)\n",
      "/home/pedro/Documents/UNI/_3_ano/LAB_IACD/project_1/.venv/lib/python3.10/site-packages/skimage/util/dtype.py:576: UserWarning: Downcasting int16 to uint8 without scaling because max value 232 fits in uint8\n",
      "  return _convert(image, np.uint8, force_copy)\n"
     ]
    },
    {
     "name": "stdout",
     "output_type": "stream",
     "text": [
      "Loading dicom files ... This may take a moment.\n"
     ]
    },
    {
     "name": "stderr",
     "output_type": "stream",
     "text": [
      "/home/pedro/Documents/UNI/_3_ano/LAB_IACD/project_1/.venv/lib/python3.10/site-packages/skimage/util/dtype.py:576: UserWarning: Downcasting int16 to uint8 without scaling because max value -14 fits in uint8\n",
      "  return _convert(image, np.uint8, force_copy)\n"
     ]
    },
    {
     "name": "stdout",
     "output_type": "stream",
     "text": [
      "Loading dicom files ... This may take a moment.\n",
      "Loading dicom files ... This may take a moment.\n",
      "Loading dicom files ... This may take a moment.\n"
     ]
    },
    {
     "name": "stderr",
     "output_type": "stream",
     "text": [
      "/home/pedro/Documents/UNI/_3_ano/LAB_IACD/project_1/.venv/lib/python3.10/site-packages/skimage/util/dtype.py:576: UserWarning: Downcasting int16 to uint8 without scaling because max value 69 fits in uint8\n",
      "  return _convert(image, np.uint8, force_copy)\n"
     ]
    },
    {
     "name": "stdout",
     "output_type": "stream",
     "text": [
      "Loading dicom files ... This may take a moment.\n",
      "Loading dicom files ... This may take a moment.\n",
      "Loading dicom files ... This may take a moment.\n",
      "Loading dicom files ... This may take a moment.\n"
     ]
    },
    {
     "name": "stderr",
     "output_type": "stream",
     "text": [
      "/home/pedro/Documents/UNI/_3_ano/LAB_IACD/project_1/.venv/lib/python3.10/site-packages/skimage/util/dtype.py:576: UserWarning: Downcasting int16 to uint8 without scaling because max value 140 fits in uint8\n",
      "  return _convert(image, np.uint8, force_copy)\n"
     ]
    },
    {
     "name": "stdout",
     "output_type": "stream",
     "text": [
      "Loading dicom files ... This may take a moment.\n"
     ]
    },
    {
     "name": "stderr",
     "output_type": "stream",
     "text": [
      "/home/pedro/Documents/UNI/_3_ano/LAB_IACD/project_1/.venv/lib/python3.10/site-packages/skimage/util/dtype.py:576: UserWarning: Downcasting int16 to uint8 without scaling because max value 64 fits in uint8\n",
      "  return _convert(image, np.uint8, force_copy)\n",
      "/home/pedro/Documents/UNI/_3_ano/LAB_IACD/project_1/.venv/lib/python3.10/site-packages/skimage/util/dtype.py:576: UserWarning: Downcasting int16 to uint8 without scaling because max value 18 fits in uint8\n",
      "  return _convert(image, np.uint8, force_copy)\n",
      "/home/pedro/Documents/UNI/_3_ano/LAB_IACD/project_1/.venv/lib/python3.10/site-packages/skimage/util/dtype.py:576: UserWarning: Downcasting int16 to uint8 without scaling because max value 159 fits in uint8\n",
      "  return _convert(image, np.uint8, force_copy)\n",
      "/home/pedro/Documents/UNI/_3_ano/LAB_IACD/project_1/.venv/lib/python3.10/site-packages/skimage/util/dtype.py:576: UserWarning: Downcasting int16 to uint8 without scaling because max value 162 fits in uint8\n",
      "  return _convert(image, np.uint8, force_copy)\n",
      "/home/pedro/Documents/UNI/_3_ano/LAB_IACD/project_1/.venv/lib/python3.10/site-packages/skimage/util/dtype.py:576: UserWarning: Downcasting int16 to uint8 without scaling because max value 14 fits in uint8\n",
      "  return _convert(image, np.uint8, force_copy)\n"
     ]
    },
    {
     "name": "stdout",
     "output_type": "stream",
     "text": [
      "Loading dicom files ... This may take a moment.\n",
      "Loading dicom files ... This may take a moment.\n"
     ]
    },
    {
     "name": "stderr",
     "output_type": "stream",
     "text": [
      "/home/pedro/Documents/UNI/_3_ano/LAB_IACD/project_1/.venv/lib/python3.10/site-packages/skimage/util/dtype.py:576: UserWarning: Downcasting int16 to uint8 without scaling because max value 53 fits in uint8\n",
      "  return _convert(image, np.uint8, force_copy)\n",
      "/home/pedro/Documents/UNI/_3_ano/LAB_IACD/project_1/.venv/lib/python3.10/site-packages/skimage/util/dtype.py:576: UserWarning: Downcasting int16 to uint8 without scaling because max value 52 fits in uint8\n",
      "  return _convert(image, np.uint8, force_copy)\n"
     ]
    },
    {
     "name": "stdout",
     "output_type": "stream",
     "text": [
      "Loading dicom files ... This may take a moment.\n",
      "Loading dicom files ... This may take a moment.\n"
     ]
    },
    {
     "name": "stderr",
     "output_type": "stream",
     "text": [
      "/home/pedro/Documents/UNI/_3_ano/LAB_IACD/project_1/.venv/lib/python3.10/site-packages/skimage/util/dtype.py:576: UserWarning: Downcasting int16 to uint8 without scaling because max value -13 fits in uint8\n",
      "  return _convert(image, np.uint8, force_copy)\n"
     ]
    },
    {
     "name": "stdout",
     "output_type": "stream",
     "text": [
      "Loading dicom files ... This may take a moment.\n",
      "Loading dicom files ... This may take a moment.\n",
      "Loading dicom files ... This may take a moment.\n"
     ]
    },
    {
     "name": "stderr",
     "output_type": "stream",
     "text": [
      "/home/pedro/Documents/UNI/_3_ano/LAB_IACD/project_1/.venv/lib/python3.10/site-packages/skimage/util/dtype.py:576: UserWarning: Downcasting int16 to uint8 without scaling because max value -185 fits in uint8\n",
      "  return _convert(image, np.uint8, force_copy)\n"
     ]
    },
    {
     "name": "stdout",
     "output_type": "stream",
     "text": [
      "Loading dicom files ... This may take a moment.\n",
      "Loading dicom files ... This may take a moment.\n"
     ]
    },
    {
     "name": "stderr",
     "output_type": "stream",
     "text": [
      "/home/pedro/Documents/UNI/_3_ano/LAB_IACD/project_1/.venv/lib/python3.10/site-packages/skimage/util/dtype.py:576: UserWarning: Downcasting int16 to uint8 without scaling because max value 236 fits in uint8\n",
      "  return _convert(image, np.uint8, force_copy)\n"
     ]
    },
    {
     "name": "stdout",
     "output_type": "stream",
     "text": [
      "Loading dicom files ... This may take a moment.\n",
      "Loading dicom files ... This may take a moment.\n"
     ]
    },
    {
     "name": "stderr",
     "output_type": "stream",
     "text": [
      "/home/pedro/Documents/UNI/_3_ano/LAB_IACD/project_1/.venv/lib/python3.10/site-packages/skimage/util/dtype.py:576: UserWarning: Downcasting int16 to uint8 without scaling because max value 22 fits in uint8\n",
      "  return _convert(image, np.uint8, force_copy)\n"
     ]
    },
    {
     "name": "stdout",
     "output_type": "stream",
     "text": [
      "Loading dicom files ... This may take a moment.\n",
      "Loading dicom files ... This may take a moment.\n",
      "Loading dicom files ... This may take a moment.\n",
      "Loading dicom files ... This may take a moment.\n"
     ]
    },
    {
     "name": "stderr",
     "output_type": "stream",
     "text": [
      "/home/pedro/Documents/UNI/_3_ano/LAB_IACD/project_1/.venv/lib/python3.10/site-packages/skimage/util/dtype.py:576: UserWarning: Downcasting int16 to uint8 without scaling because max value 155 fits in uint8\n",
      "  return _convert(image, np.uint8, force_copy)\n",
      "/home/pedro/Documents/UNI/_3_ano/LAB_IACD/project_1/.venv/lib/python3.10/site-packages/skimage/util/dtype.py:576: UserWarning: Downcasting int16 to uint8 without scaling because max value 251 fits in uint8\n",
      "  return _convert(image, np.uint8, force_copy)\n",
      "/home/pedro/Documents/UNI/_3_ano/LAB_IACD/project_1/.venv/lib/python3.10/site-packages/skimage/util/dtype.py:576: UserWarning: Downcasting int16 to uint8 without scaling because max value 112 fits in uint8\n",
      "  return _convert(image, np.uint8, force_copy)\n",
      "/home/pedro/Documents/UNI/_3_ano/LAB_IACD/project_1/.venv/lib/python3.10/site-packages/skimage/util/dtype.py:576: UserWarning: Downcasting int16 to uint8 without scaling because max value 191 fits in uint8\n",
      "  return _convert(image, np.uint8, force_copy)\n",
      "/home/pedro/Documents/UNI/_3_ano/LAB_IACD/project_1/.venv/lib/python3.10/site-packages/skimage/util/dtype.py:576: UserWarning: Downcasting int16 to uint8 without scaling because max value -2 fits in uint8\n",
      "  return _convert(image, np.uint8, force_copy)\n",
      "/home/pedro/Documents/UNI/_3_ano/LAB_IACD/project_1/.venv/lib/python3.10/site-packages/skimage/util/dtype.py:576: UserWarning: Downcasting int16 to uint8 without scaling because max value 74 fits in uint8\n",
      "  return _convert(image, np.uint8, force_copy)\n",
      "/home/pedro/Documents/UNI/_3_ano/LAB_IACD/project_1/.venv/lib/python3.10/site-packages/skimage/util/dtype.py:576: UserWarning: Downcasting int16 to uint8 without scaling because max value 175 fits in uint8\n",
      "  return _convert(image, np.uint8, force_copy)\n",
      "/home/pedro/Documents/UNI/_3_ano/LAB_IACD/project_1/.venv/lib/python3.10/site-packages/skimage/util/dtype.py:576: UserWarning: Downcasting int16 to uint8 without scaling because max value 80 fits in uint8\n",
      "  return _convert(image, np.uint8, force_copy)\n",
      "/home/pedro/Documents/UNI/_3_ano/LAB_IACD/project_1/.venv/lib/python3.10/site-packages/skimage/util/dtype.py:576: UserWarning: Downcasting int16 to uint8 without scaling because max value 187 fits in uint8\n",
      "  return _convert(image, np.uint8, force_copy)\n",
      "/home/pedro/Documents/UNI/_3_ano/LAB_IACD/project_1/.venv/lib/python3.10/site-packages/skimage/util/dtype.py:576: UserWarning: Downcasting int16 to uint8 without scaling because max value 22 fits in uint8\n",
      "  return _convert(image, np.uint8, force_copy)\n"
     ]
    },
    {
     "name": "stdout",
     "output_type": "stream",
     "text": [
      "Loading dicom files ... This may take a moment.\n"
     ]
    },
    {
     "name": "stderr",
     "output_type": "stream",
     "text": [
      "/home/pedro/Documents/UNI/_3_ano/LAB_IACD/project_1/.venv/lib/python3.10/site-packages/skimage/util/dtype.py:576: UserWarning: Downcasting int16 to uint8 without scaling because max value -23 fits in uint8\n",
      "  return _convert(image, np.uint8, force_copy)\n",
      "/home/pedro/Documents/UNI/_3_ano/LAB_IACD/project_1/.venv/lib/python3.10/site-packages/skimage/util/dtype.py:576: UserWarning: Downcasting int16 to uint8 without scaling because max value -119 fits in uint8\n",
      "  return _convert(image, np.uint8, force_copy)\n",
      "/home/pedro/Documents/UNI/_3_ano/LAB_IACD/project_1/.venv/lib/python3.10/site-packages/skimage/util/dtype.py:576: UserWarning: Downcasting int16 to uint8 without scaling because max value 60 fits in uint8\n",
      "  return _convert(image, np.uint8, force_copy)\n",
      "/home/pedro/Documents/UNI/_3_ano/LAB_IACD/project_1/.venv/lib/python3.10/site-packages/skimage/util/dtype.py:576: UserWarning: Downcasting int16 to uint8 without scaling because max value 181 fits in uint8\n",
      "  return _convert(image, np.uint8, force_copy)\n"
     ]
    },
    {
     "name": "stdout",
     "output_type": "stream",
     "text": [
      "Loading dicom files ... This may take a moment.\n",
      "Loading dicom files ... This may take a moment.\n",
      "Loading dicom files ... This may take a moment.\n",
      "Loading dicom files ... This may take a moment.\n",
      "Loading dicom files ... This may take a moment.\n",
      "Loading dicom files ... This may take a moment.\n",
      "Loading dicom files ... This may take a moment.\n"
     ]
    },
    {
     "name": "stderr",
     "output_type": "stream",
     "text": [
      "/home/pedro/Documents/UNI/_3_ano/LAB_IACD/project_1/.venv/lib/python3.10/site-packages/skimage/util/dtype.py:576: UserWarning: Downcasting int16 to uint8 without scaling because max value 248 fits in uint8\n",
      "  return _convert(image, np.uint8, force_copy)\n"
     ]
    },
    {
     "name": "stdout",
     "output_type": "stream",
     "text": [
      "Loading dicom files ... This may take a moment.\n"
     ]
    },
    {
     "name": "stderr",
     "output_type": "stream",
     "text": [
      "/home/pedro/Documents/UNI/_3_ano/LAB_IACD/project_1/.venv/lib/python3.10/site-packages/skimage/util/dtype.py:576: UserWarning: Downcasting int16 to uint8 without scaling because max value 67 fits in uint8\n",
      "  return _convert(image, np.uint8, force_copy)\n",
      "/home/pedro/Documents/UNI/_3_ano/LAB_IACD/project_1/.venv/lib/python3.10/site-packages/skimage/util/dtype.py:576: UserWarning: Downcasting int16 to uint8 without scaling because max value 69 fits in uint8\n",
      "  return _convert(image, np.uint8, force_copy)\n"
     ]
    },
    {
     "name": "stdout",
     "output_type": "stream",
     "text": [
      "Loading dicom files ... This may take a moment.\n",
      "Loading dicom files ... This may take a moment.\n",
      "Loading dicom files ... This may take a moment.\n",
      "Loading dicom files ... This may take a moment.\n",
      "Loading dicom files ... This may take a moment.\n"
     ]
    },
    {
     "name": "stderr",
     "output_type": "stream",
     "text": [
      "/home/pedro/Documents/UNI/_3_ano/LAB_IACD/project_1/.venv/lib/python3.10/site-packages/skimage/util/dtype.py:576: UserWarning: Downcasting int16 to uint8 without scaling because max value 172 fits in uint8\n",
      "  return _convert(image, np.uint8, force_copy)\n"
     ]
    },
    {
     "name": "stdout",
     "output_type": "stream",
     "text": [
      "Loading dicom files ... This may take a moment.\n"
     ]
    },
    {
     "name": "stderr",
     "output_type": "stream",
     "text": [
      "/home/pedro/Documents/UNI/_3_ano/LAB_IACD/project_1/.venv/lib/python3.10/site-packages/skimage/util/dtype.py:576: UserWarning: Downcasting int16 to uint8 without scaling because max value 181 fits in uint8\n",
      "  return _convert(image, np.uint8, force_copy)\n"
     ]
    },
    {
     "name": "stdout",
     "output_type": "stream",
     "text": [
      "Loading dicom files ... This may take a moment.\n"
     ]
    },
    {
     "name": "stderr",
     "output_type": "stream",
     "text": [
      "/home/pedro/Documents/UNI/_3_ano/LAB_IACD/project_1/.venv/lib/python3.10/site-packages/skimage/util/dtype.py:576: UserWarning: Downcasting int16 to uint8 without scaling because max value 55 fits in uint8\n",
      "  return _convert(image, np.uint8, force_copy)\n",
      "/home/pedro/Documents/UNI/_3_ano/LAB_IACD/project_1/.venv/lib/python3.10/site-packages/skimage/util/dtype.py:576: UserWarning: Downcasting int16 to uint8 without scaling because max value 97 fits in uint8\n",
      "  return _convert(image, np.uint8, force_copy)\n",
      "/home/pedro/Documents/UNI/_3_ano/LAB_IACD/project_1/.venv/lib/python3.10/site-packages/skimage/util/dtype.py:576: UserWarning: Downcasting int16 to uint8 without scaling because max value 228 fits in uint8\n",
      "  return _convert(image, np.uint8, force_copy)\n",
      "/home/pedro/Documents/UNI/_3_ano/LAB_IACD/project_1/.venv/lib/python3.10/site-packages/skimage/util/dtype.py:576: UserWarning: Downcasting int16 to uint8 without scaling because max value 25 fits in uint8\n",
      "  return _convert(image, np.uint8, force_copy)\n"
     ]
    },
    {
     "name": "stdout",
     "output_type": "stream",
     "text": [
      "Loading dicom files ... This may take a moment.\n",
      "Loading dicom files ... This may take a moment.\n"
     ]
    },
    {
     "name": "stderr",
     "output_type": "stream",
     "text": [
      "/home/pedro/Documents/UNI/_3_ano/LAB_IACD/project_1/.venv/lib/python3.10/site-packages/skimage/util/dtype.py:576: UserWarning: Downcasting int16 to uint8 without scaling because max value -27 fits in uint8\n",
      "  return _convert(image, np.uint8, force_copy)\n"
     ]
    },
    {
     "name": "stdout",
     "output_type": "stream",
     "text": [
      "Loading dicom files ... This may take a moment.\n"
     ]
    },
    {
     "name": "stderr",
     "output_type": "stream",
     "text": [
      "/home/pedro/Documents/UNI/_3_ano/LAB_IACD/project_1/.venv/lib/python3.10/site-packages/skimage/util/dtype.py:576: UserWarning: Downcasting int16 to uint8 without scaling because max value 150 fits in uint8\n",
      "  return _convert(image, np.uint8, force_copy)\n",
      "/home/pedro/Documents/UNI/_3_ano/LAB_IACD/project_1/.venv/lib/python3.10/site-packages/skimage/util/dtype.py:576: UserWarning: Downcasting int16 to uint8 without scaling because max value -34 fits in uint8\n",
      "  return _convert(image, np.uint8, force_copy)\n"
     ]
    },
    {
     "name": "stdout",
     "output_type": "stream",
     "text": [
      "Loading dicom files ... This may take a moment.\n"
     ]
    },
    {
     "name": "stderr",
     "output_type": "stream",
     "text": [
      "/home/pedro/Documents/UNI/_3_ano/LAB_IACD/project_1/.venv/lib/python3.10/site-packages/skimage/util/dtype.py:576: UserWarning: Downcasting int16 to uint8 without scaling because max value 102 fits in uint8\n",
      "  return _convert(image, np.uint8, force_copy)\n"
     ]
    },
    {
     "name": "stdout",
     "output_type": "stream",
     "text": [
      "Loading dicom files ... This may take a moment.\n"
     ]
    },
    {
     "name": "stderr",
     "output_type": "stream",
     "text": [
      "/home/pedro/Documents/UNI/_3_ano/LAB_IACD/project_1/.venv/lib/python3.10/site-packages/skimage/util/dtype.py:576: UserWarning: Downcasting int16 to uint8 without scaling because max value -111 fits in uint8\n",
      "  return _convert(image, np.uint8, force_copy)\n",
      "/home/pedro/Documents/UNI/_3_ano/LAB_IACD/project_1/.venv/lib/python3.10/site-packages/skimage/util/dtype.py:576: UserWarning: Downcasting int16 to uint8 without scaling because max value -39 fits in uint8\n",
      "  return _convert(image, np.uint8, force_copy)\n",
      "/home/pedro/Documents/UNI/_3_ano/LAB_IACD/project_1/.venv/lib/python3.10/site-packages/skimage/util/dtype.py:576: UserWarning: Downcasting int16 to uint8 without scaling because max value 209 fits in uint8\n",
      "  return _convert(image, np.uint8, force_copy)\n"
     ]
    },
    {
     "name": "stdout",
     "output_type": "stream",
     "text": [
      "Loading dicom files ... This may take a moment.\n",
      "Loading dicom files ... This may take a moment.\n",
      "Loading dicom files ... This may take a moment.\n",
      "Loading dicom files ... This may take a moment.\n",
      "Loading dicom files ... This may take a moment.\n",
      "Loading dicom files ... This may take a moment.\n"
     ]
    },
    {
     "name": "stderr",
     "output_type": "stream",
     "text": [
      "/home/pedro/Documents/UNI/_3_ano/LAB_IACD/project_1/.venv/lib/python3.10/site-packages/skimage/util/dtype.py:576: UserWarning: Downcasting int16 to uint8 without scaling because max value 183 fits in uint8\n",
      "  return _convert(image, np.uint8, force_copy)\n"
     ]
    },
    {
     "name": "stdout",
     "output_type": "stream",
     "text": [
      "Loading dicom files ... This may take a moment.\n",
      "Loading dicom files ... This may take a moment.\n",
      "Loading dicom files ... This may take a moment.\n",
      "Loading dicom files ... This may take a moment.\n",
      "Loading dicom files ... This may take a moment.\n",
      "Loading dicom files ... This may take a moment.\n",
      "Loading dicom files ... This may take a moment.\n"
     ]
    },
    {
     "name": "stderr",
     "output_type": "stream",
     "text": [
      "/home/pedro/Documents/UNI/_3_ano/LAB_IACD/project_1/.venv/lib/python3.10/site-packages/skimage/util/dtype.py:576: UserWarning: Downcasting int16 to uint8 without scaling because max value 37 fits in uint8\n",
      "  return _convert(image, np.uint8, force_copy)\n"
     ]
    },
    {
     "name": "stdout",
     "output_type": "stream",
     "text": [
      "Loading dicom files ... This may take a moment.\n"
     ]
    },
    {
     "name": "stderr",
     "output_type": "stream",
     "text": [
      "/home/pedro/Documents/UNI/_3_ano/LAB_IACD/project_1/.venv/lib/python3.10/site-packages/skimage/util/dtype.py:576: UserWarning: Downcasting int16 to uint8 without scaling because max value 247 fits in uint8\n",
      "  return _convert(image, np.uint8, force_copy)\n"
     ]
    },
    {
     "name": "stdout",
     "output_type": "stream",
     "text": [
      "Loading dicom files ... This may take a moment.\n"
     ]
    },
    {
     "name": "stderr",
     "output_type": "stream",
     "text": [
      "/home/pedro/Documents/UNI/_3_ano/LAB_IACD/project_1/.venv/lib/python3.10/site-packages/skimage/util/dtype.py:576: UserWarning: Downcasting int16 to uint8 without scaling because max value 226 fits in uint8\n",
      "  return _convert(image, np.uint8, force_copy)\n"
     ]
    },
    {
     "name": "stdout",
     "output_type": "stream",
     "text": [
      "Loading dicom files ... This may take a moment.\n"
     ]
    },
    {
     "name": "stderr",
     "output_type": "stream",
     "text": [
      "/home/pedro/Documents/UNI/_3_ano/LAB_IACD/project_1/.venv/lib/python3.10/site-packages/skimage/util/dtype.py:576: UserWarning: Downcasting int16 to uint8 without scaling because max value 237 fits in uint8\n",
      "  return _convert(image, np.uint8, force_copy)\n"
     ]
    },
    {
     "name": "stdout",
     "output_type": "stream",
     "text": [
      "Loading dicom files ... This may take a moment.\n"
     ]
    },
    {
     "name": "stderr",
     "output_type": "stream",
     "text": [
      "/home/pedro/Documents/UNI/_3_ano/LAB_IACD/project_1/.venv/lib/python3.10/site-packages/skimage/util/dtype.py:576: UserWarning: Downcasting int16 to uint8 without scaling because max value 74 fits in uint8\n",
      "  return _convert(image, np.uint8, force_copy)\n",
      "/home/pedro/Documents/UNI/_3_ano/LAB_IACD/project_1/.venv/lib/python3.10/site-packages/skimage/util/dtype.py:576: UserWarning: Downcasting int16 to uint8 without scaling because max value -194 fits in uint8\n",
      "  return _convert(image, np.uint8, force_copy)\n",
      "/home/pedro/Documents/UNI/_3_ano/LAB_IACD/project_1/.venv/lib/python3.10/site-packages/skimage/util/dtype.py:576: UserWarning: Downcasting int16 to uint8 without scaling because max value -42 fits in uint8\n",
      "  return _convert(image, np.uint8, force_copy)\n"
     ]
    },
    {
     "name": "stdout",
     "output_type": "stream",
     "text": [
      "Loading dicom files ... This may take a moment.\n",
      "Loading dicom files ... This may take a moment.\n",
      "Loading dicom files ... This may take a moment.\n",
      "Loading dicom files ... This may take a moment.\n",
      "Loading dicom files ... This may take a moment.\n"
     ]
    },
    {
     "name": "stderr",
     "output_type": "stream",
     "text": [
      "/home/pedro/Documents/UNI/_3_ano/LAB_IACD/project_1/.venv/lib/python3.10/site-packages/skimage/util/dtype.py:576: UserWarning: Downcasting int16 to uint8 without scaling because max value 139 fits in uint8\n",
      "  return _convert(image, np.uint8, force_copy)\n"
     ]
    },
    {
     "name": "stdout",
     "output_type": "stream",
     "text": [
      "Loading dicom files ... This may take a moment.\n",
      "Loading dicom files ... This may take a moment.\n",
      "Loading dicom files ... This may take a moment.\n"
     ]
    },
    {
     "name": "stderr",
     "output_type": "stream",
     "text": [
      "/home/pedro/Documents/UNI/_3_ano/LAB_IACD/project_1/.venv/lib/python3.10/site-packages/skimage/util/dtype.py:576: UserWarning: Downcasting int16 to uint8 without scaling because max value 140 fits in uint8\n",
      "  return _convert(image, np.uint8, force_copy)\n"
     ]
    },
    {
     "name": "stdout",
     "output_type": "stream",
     "text": [
      "Loading dicom files ... This may take a moment.\n"
     ]
    },
    {
     "name": "stderr",
     "output_type": "stream",
     "text": [
      "/home/pedro/Documents/UNI/_3_ano/LAB_IACD/project_1/.venv/lib/python3.10/site-packages/skimage/util/dtype.py:576: UserWarning: Downcasting int16 to uint8 without scaling because max value 245 fits in uint8\n",
      "  return _convert(image, np.uint8, force_copy)\n",
      "/home/pedro/Documents/UNI/_3_ano/LAB_IACD/project_1/.venv/lib/python3.10/site-packages/skimage/util/dtype.py:576: UserWarning: Downcasting int16 to uint8 without scaling because max value 128 fits in uint8\n",
      "  return _convert(image, np.uint8, force_copy)\n",
      "/home/pedro/Documents/UNI/_3_ano/LAB_IACD/project_1/.venv/lib/python3.10/site-packages/skimage/util/dtype.py:576: UserWarning: Downcasting int16 to uint8 without scaling because max value 112 fits in uint8\n",
      "  return _convert(image, np.uint8, force_copy)\n"
     ]
    },
    {
     "name": "stdout",
     "output_type": "stream",
     "text": [
      "Loading dicom files ... This may take a moment.\n",
      "Loading dicom files ... This may take a moment.\n",
      "Loading dicom files ... This may take a moment.\n"
     ]
    },
    {
     "name": "stderr",
     "output_type": "stream",
     "text": [
      "/home/pedro/Documents/UNI/_3_ano/LAB_IACD/project_1/.venv/lib/python3.10/site-packages/skimage/util/dtype.py:576: UserWarning: Downcasting int16 to uint8 without scaling because max value 86 fits in uint8\n",
      "  return _convert(image, np.uint8, force_copy)\n"
     ]
    },
    {
     "name": "stdout",
     "output_type": "stream",
     "text": [
      "Loading dicom files ... This may take a moment.\n",
      "Loading dicom files ... This may take a moment.\n",
      "Loading dicom files ... This may take a moment.\n",
      "Loading dicom files ... This may take a moment.\n",
      "Loading dicom files ... This may take a moment.\n"
     ]
    },
    {
     "name": "stderr",
     "output_type": "stream",
     "text": [
      "/home/pedro/Documents/UNI/_3_ano/LAB_IACD/project_1/.venv/lib/python3.10/site-packages/skimage/util/dtype.py:576: UserWarning: Downcasting int16 to uint8 without scaling because max value 246 fits in uint8\n",
      "  return _convert(image, np.uint8, force_copy)\n",
      "/home/pedro/Documents/UNI/_3_ano/LAB_IACD/project_1/.venv/lib/python3.10/site-packages/skimage/util/dtype.py:576: UserWarning: Downcasting int16 to uint8 without scaling because max value -218 fits in uint8\n",
      "  return _convert(image, np.uint8, force_copy)\n",
      "/home/pedro/Documents/UNI/_3_ano/LAB_IACD/project_1/.venv/lib/python3.10/site-packages/skimage/util/dtype.py:576: UserWarning: Downcasting int16 to uint8 without scaling because max value 225 fits in uint8\n",
      "  return _convert(image, np.uint8, force_copy)\n"
     ]
    },
    {
     "name": "stdout",
     "output_type": "stream",
     "text": [
      "Loading dicom files ... This may take a moment.\n"
     ]
    },
    {
     "name": "stderr",
     "output_type": "stream",
     "text": [
      "/home/pedro/Documents/UNI/_3_ano/LAB_IACD/project_1/.venv/lib/python3.10/site-packages/skimage/util/dtype.py:576: UserWarning: Downcasting int16 to uint8 without scaling because max value -170 fits in uint8\n",
      "  return _convert(image, np.uint8, force_copy)\n"
     ]
    },
    {
     "name": "stdout",
     "output_type": "stream",
     "text": [
      "Loading dicom files ... This may take a moment.\n"
     ]
    },
    {
     "name": "stderr",
     "output_type": "stream",
     "text": [
      "/home/pedro/Documents/UNI/_3_ano/LAB_IACD/project_1/.venv/lib/python3.10/site-packages/skimage/util/dtype.py:576: UserWarning: Downcasting int16 to uint8 without scaling because max value 128 fits in uint8\n",
      "  return _convert(image, np.uint8, force_copy)\n"
     ]
    },
    {
     "name": "stdout",
     "output_type": "stream",
     "text": [
      "Loading dicom files ... This may take a moment.\n"
     ]
    },
    {
     "name": "stderr",
     "output_type": "stream",
     "text": [
      "/home/pedro/Documents/UNI/_3_ano/LAB_IACD/project_1/.venv/lib/python3.10/site-packages/skimage/util/dtype.py:576: UserWarning: Downcasting int16 to uint8 without scaling because max value 59 fits in uint8\n",
      "  return _convert(image, np.uint8, force_copy)\n"
     ]
    },
    {
     "name": "stdout",
     "output_type": "stream",
     "text": [
      "Loading dicom files ... This may take a moment.\n",
      "Loading dicom files ... This may take a moment.\n",
      "Loading dicom files ... This may take a moment.\n",
      "Loading dicom files ... This may take a moment.\n"
     ]
    },
    {
     "name": "stderr",
     "output_type": "stream",
     "text": [
      "/home/pedro/Documents/UNI/_3_ano/LAB_IACD/project_1/.venv/lib/python3.10/site-packages/skimage/util/dtype.py:576: UserWarning: Downcasting int16 to uint8 without scaling because max value 107 fits in uint8\n",
      "  return _convert(image, np.uint8, force_copy)\n",
      "/home/pedro/Documents/UNI/_3_ano/LAB_IACD/project_1/.venv/lib/python3.10/site-packages/skimage/util/dtype.py:576: UserWarning: Downcasting int16 to uint8 without scaling because max value 113 fits in uint8\n",
      "  return _convert(image, np.uint8, force_copy)\n",
      "/home/pedro/Documents/UNI/_3_ano/LAB_IACD/project_1/.venv/lib/python3.10/site-packages/skimage/util/dtype.py:576: UserWarning: Downcasting int16 to uint8 without scaling because max value -216 fits in uint8\n",
      "  return _convert(image, np.uint8, force_copy)\n",
      "/home/pedro/Documents/UNI/_3_ano/LAB_IACD/project_1/.venv/lib/python3.10/site-packages/skimage/util/dtype.py:576: UserWarning: Downcasting int16 to uint8 without scaling because max value 94 fits in uint8\n",
      "  return _convert(image, np.uint8, force_copy)\n"
     ]
    },
    {
     "name": "stdout",
     "output_type": "stream",
     "text": [
      "Loading dicom files ... This may take a moment.\n"
     ]
    },
    {
     "name": "stderr",
     "output_type": "stream",
     "text": [
      "/home/pedro/Documents/UNI/_3_ano/LAB_IACD/project_1/.venv/lib/python3.10/site-packages/skimage/util/dtype.py:576: UserWarning: Downcasting int16 to uint8 without scaling because max value 125 fits in uint8\n",
      "  return _convert(image, np.uint8, force_copy)\n",
      "/home/pedro/Documents/UNI/_3_ano/LAB_IACD/project_1/.venv/lib/python3.10/site-packages/skimage/util/dtype.py:576: UserWarning: Downcasting int16 to uint8 without scaling because max value 189 fits in uint8\n",
      "  return _convert(image, np.uint8, force_copy)\n"
     ]
    },
    {
     "name": "stdout",
     "output_type": "stream",
     "text": [
      "Loading dicom files ... This may take a moment.\n"
     ]
    },
    {
     "name": "stderr",
     "output_type": "stream",
     "text": [
      "/home/pedro/Documents/UNI/_3_ano/LAB_IACD/project_1/.venv/lib/python3.10/site-packages/skimage/util/dtype.py:576: UserWarning: Downcasting int16 to uint8 without scaling because max value -6 fits in uint8\n",
      "  return _convert(image, np.uint8, force_copy)\n",
      "/home/pedro/Documents/UNI/_3_ano/LAB_IACD/project_1/.venv/lib/python3.10/site-packages/skimage/util/dtype.py:576: UserWarning: Downcasting int16 to uint8 without scaling because max value 25 fits in uint8\n",
      "  return _convert(image, np.uint8, force_copy)\n"
     ]
    },
    {
     "name": "stdout",
     "output_type": "stream",
     "text": [
      "Loading dicom files ... This may take a moment.\n"
     ]
    },
    {
     "name": "stderr",
     "output_type": "stream",
     "text": [
      "/home/pedro/Documents/UNI/_3_ano/LAB_IACD/project_1/.venv/lib/python3.10/site-packages/skimage/util/dtype.py:576: UserWarning: Downcasting int16 to uint8 without scaling because max value 118 fits in uint8\n",
      "  return _convert(image, np.uint8, force_copy)\n",
      "/home/pedro/Documents/UNI/_3_ano/LAB_IACD/project_1/.venv/lib/python3.10/site-packages/skimage/util/dtype.py:576: UserWarning: Downcasting int16 to uint8 without scaling because max value 68 fits in uint8\n",
      "  return _convert(image, np.uint8, force_copy)\n",
      "/home/pedro/Documents/UNI/_3_ano/LAB_IACD/project_1/.venv/lib/python3.10/site-packages/skimage/util/dtype.py:576: UserWarning: Downcasting int16 to uint8 without scaling because max value -272 fits in uint8\n",
      "  return _convert(image, np.uint8, force_copy)\n"
     ]
    },
    {
     "name": "stdout",
     "output_type": "stream",
     "text": [
      "Loading dicom files ... This may take a moment.\n"
     ]
    },
    {
     "name": "stderr",
     "output_type": "stream",
     "text": [
      "/home/pedro/Documents/UNI/_3_ano/LAB_IACD/project_1/.venv/lib/python3.10/site-packages/skimage/util/dtype.py:576: UserWarning: Downcasting int16 to uint8 without scaling because max value 182 fits in uint8\n",
      "  return _convert(image, np.uint8, force_copy)\n"
     ]
    },
    {
     "name": "stdout",
     "output_type": "stream",
     "text": [
      "Loading dicom files ... This may take a moment.\n",
      "Loading dicom files ... This may take a moment.\n",
      "Loading dicom files ... This may take a moment.\n",
      "Loading dicom files ... This may take a moment.\n",
      "Loading dicom files ... This may take a moment.\n"
     ]
    },
    {
     "name": "stderr",
     "output_type": "stream",
     "text": [
      "/home/pedro/Documents/UNI/_3_ano/LAB_IACD/project_1/.venv/lib/python3.10/site-packages/skimage/util/dtype.py:576: UserWarning: Downcasting int16 to uint8 without scaling because max value -61 fits in uint8\n",
      "  return _convert(image, np.uint8, force_copy)\n"
     ]
    },
    {
     "name": "stdout",
     "output_type": "stream",
     "text": [
      "Loading dicom files ... This may take a moment.\n",
      "Loading dicom files ... This may take a moment.\n"
     ]
    },
    {
     "name": "stderr",
     "output_type": "stream",
     "text": [
      "/home/pedro/Documents/UNI/_3_ano/LAB_IACD/project_1/.venv/lib/python3.10/site-packages/skimage/util/dtype.py:576: UserWarning: Downcasting int16 to uint8 without scaling because max value 93 fits in uint8\n",
      "  return _convert(image, np.uint8, force_copy)\n"
     ]
    },
    {
     "name": "stdout",
     "output_type": "stream",
     "text": [
      "Loading dicom files ... This may take a moment.\n",
      "Loading dicom files ... This may take a moment.\n",
      "Loading dicom files ... This may take a moment.\n"
     ]
    },
    {
     "name": "stderr",
     "output_type": "stream",
     "text": [
      "/home/pedro/Documents/UNI/_3_ano/LAB_IACD/project_1/.venv/lib/python3.10/site-packages/skimage/util/dtype.py:576: UserWarning: Downcasting int16 to uint8 without scaling because max value 173 fits in uint8\n",
      "  return _convert(image, np.uint8, force_copy)\n"
     ]
    },
    {
     "name": "stdout",
     "output_type": "stream",
     "text": [
      "Loading dicom files ... This may take a moment.\n",
      "Loading dicom files ... This may take a moment.\n",
      "Loading dicom files ... This may take a moment.\n",
      "Loading dicom files ... This may take a moment.\n",
      "Loading dicom files ... This may take a moment.\n"
     ]
    },
    {
     "name": "stderr",
     "output_type": "stream",
     "text": [
      "/home/pedro/Documents/UNI/_3_ano/LAB_IACD/project_1/.venv/lib/python3.10/site-packages/skimage/util/dtype.py:576: UserWarning: Downcasting int16 to uint8 without scaling because max value 98 fits in uint8\n",
      "  return _convert(image, np.uint8, force_copy)\n"
     ]
    },
    {
     "name": "stdout",
     "output_type": "stream",
     "text": [
      "Loading dicom files ... This may take a moment.\n"
     ]
    },
    {
     "name": "stderr",
     "output_type": "stream",
     "text": [
      "/home/pedro/Documents/UNI/_3_ano/LAB_IACD/project_1/.venv/lib/python3.10/site-packages/skimage/util/dtype.py:576: UserWarning: Downcasting int16 to uint8 without scaling because max value 169 fits in uint8\n",
      "  return _convert(image, np.uint8, force_copy)\n"
     ]
    },
    {
     "name": "stdout",
     "output_type": "stream",
     "text": [
      "Loading dicom files ... This may take a moment.\n"
     ]
    },
    {
     "name": "stderr",
     "output_type": "stream",
     "text": [
      "/home/pedro/Documents/UNI/_3_ano/LAB_IACD/project_1/.venv/lib/python3.10/site-packages/skimage/util/dtype.py:576: UserWarning: Downcasting int16 to uint8 without scaling because max value -130 fits in uint8\n",
      "  return _convert(image, np.uint8, force_copy)\n"
     ]
    },
    {
     "name": "stdout",
     "output_type": "stream",
     "text": [
      "Loading dicom files ... This may take a moment.\n"
     ]
    },
    {
     "name": "stderr",
     "output_type": "stream",
     "text": [
      "/home/pedro/Documents/UNI/_3_ano/LAB_IACD/project_1/.venv/lib/python3.10/site-packages/skimage/util/dtype.py:576: UserWarning: Downcasting int16 to uint8 without scaling because max value 132 fits in uint8\n",
      "  return _convert(image, np.uint8, force_copy)\n",
      "/home/pedro/Documents/UNI/_3_ano/LAB_IACD/project_1/.venv/lib/python3.10/site-packages/skimage/util/dtype.py:576: UserWarning: Downcasting int16 to uint8 without scaling because max value 168 fits in uint8\n",
      "  return _convert(image, np.uint8, force_copy)\n",
      "/home/pedro/Documents/UNI/_3_ano/LAB_IACD/project_1/.venv/lib/python3.10/site-packages/skimage/util/dtype.py:576: UserWarning: Downcasting int16 to uint8 without scaling because max value 110 fits in uint8\n",
      "  return _convert(image, np.uint8, force_copy)\n",
      "/home/pedro/Documents/UNI/_3_ano/LAB_IACD/project_1/.venv/lib/python3.10/site-packages/skimage/util/dtype.py:576: UserWarning: Downcasting int16 to uint8 without scaling because max value 97 fits in uint8\n",
      "  return _convert(image, np.uint8, force_copy)\n",
      "/home/pedro/Documents/UNI/_3_ano/LAB_IACD/project_1/.venv/lib/python3.10/site-packages/skimage/util/dtype.py:576: UserWarning: Downcasting int16 to uint8 without scaling because max value 99 fits in uint8\n",
      "  return _convert(image, np.uint8, force_copy)\n",
      "/home/pedro/Documents/UNI/_3_ano/LAB_IACD/project_1/.venv/lib/python3.10/site-packages/skimage/util/dtype.py:576: UserWarning: Downcasting int16 to uint8 without scaling because max value 161 fits in uint8\n",
      "  return _convert(image, np.uint8, force_copy)\n",
      "/home/pedro/Documents/UNI/_3_ano/LAB_IACD/project_1/.venv/lib/python3.10/site-packages/skimage/util/dtype.py:576: UserWarning: Downcasting int16 to uint8 without scaling because max value 159 fits in uint8\n",
      "  return _convert(image, np.uint8, force_copy)\n"
     ]
    },
    {
     "name": "stdout",
     "output_type": "stream",
     "text": [
      "Loading dicom files ... This may take a moment.\n"
     ]
    },
    {
     "name": "stderr",
     "output_type": "stream",
     "text": [
      "/home/pedro/Documents/UNI/_3_ano/LAB_IACD/project_1/.venv/lib/python3.10/site-packages/skimage/util/dtype.py:576: UserWarning: Downcasting int16 to uint8 without scaling because max value 26 fits in uint8\n",
      "  return _convert(image, np.uint8, force_copy)\n"
     ]
    },
    {
     "name": "stdout",
     "output_type": "stream",
     "text": [
      "Loading dicom files ... This may take a moment.\n",
      "Loading dicom files ... This may take a moment.\n"
     ]
    },
    {
     "name": "stderr",
     "output_type": "stream",
     "text": [
      "/home/pedro/Documents/UNI/_3_ano/LAB_IACD/project_1/.venv/lib/python3.10/site-packages/skimage/util/dtype.py:576: UserWarning: Downcasting int16 to uint8 without scaling because max value -258 fits in uint8\n",
      "  return _convert(image, np.uint8, force_copy)\n",
      "/home/pedro/Documents/UNI/_3_ano/LAB_IACD/project_1/.venv/lib/python3.10/site-packages/skimage/util/dtype.py:576: UserWarning: Downcasting int16 to uint8 without scaling because max value -47 fits in uint8\n",
      "  return _convert(image, np.uint8, force_copy)\n",
      "/home/pedro/Documents/UNI/_3_ano/LAB_IACD/project_1/.venv/lib/python3.10/site-packages/skimage/util/dtype.py:576: UserWarning: Downcasting int16 to uint8 without scaling because max value 37 fits in uint8\n",
      "  return _convert(image, np.uint8, force_copy)\n",
      "/home/pedro/Documents/UNI/_3_ano/LAB_IACD/project_1/.venv/lib/python3.10/site-packages/skimage/util/dtype.py:576: UserWarning: Downcasting int16 to uint8 without scaling because max value -198 fits in uint8\n",
      "  return _convert(image, np.uint8, force_copy)\n",
      "/home/pedro/Documents/UNI/_3_ano/LAB_IACD/project_1/.venv/lib/python3.10/site-packages/skimage/util/dtype.py:576: UserWarning: Downcasting int16 to uint8 without scaling because max value -102 fits in uint8\n",
      "  return _convert(image, np.uint8, force_copy)\n",
      "/home/pedro/Documents/UNI/_3_ano/LAB_IACD/project_1/.venv/lib/python3.10/site-packages/skimage/util/dtype.py:576: UserWarning: Downcasting int16 to uint8 without scaling because max value 245 fits in uint8\n",
      "  return _convert(image, np.uint8, force_copy)\n"
     ]
    },
    {
     "name": "stdout",
     "output_type": "stream",
     "text": [
      "Loading dicom files ... This may take a moment.\n",
      "Loading dicom files ... This may take a moment.\n"
     ]
    },
    {
     "name": "stderr",
     "output_type": "stream",
     "text": [
      "/home/pedro/Documents/UNI/_3_ano/LAB_IACD/project_1/.venv/lib/python3.10/site-packages/skimage/util/dtype.py:576: UserWarning: Downcasting int16 to uint8 without scaling because max value 144 fits in uint8\n",
      "  return _convert(image, np.uint8, force_copy)\n",
      "/home/pedro/Documents/UNI/_3_ano/LAB_IACD/project_1/.venv/lib/python3.10/site-packages/skimage/util/dtype.py:576: UserWarning: Downcasting int16 to uint8 without scaling because max value 42 fits in uint8\n",
      "  return _convert(image, np.uint8, force_copy)\n",
      "/home/pedro/Documents/UNI/_3_ano/LAB_IACD/project_1/.venv/lib/python3.10/site-packages/skimage/util/dtype.py:576: UserWarning: Downcasting int16 to uint8 without scaling because max value -16 fits in uint8\n",
      "  return _convert(image, np.uint8, force_copy)\n"
     ]
    },
    {
     "name": "stdout",
     "output_type": "stream",
     "text": [
      "Loading dicom files ... This may take a moment.\n"
     ]
    },
    {
     "name": "stderr",
     "output_type": "stream",
     "text": [
      "/home/pedro/Documents/UNI/_3_ano/LAB_IACD/project_1/.venv/lib/python3.10/site-packages/skimage/util/dtype.py:576: UserWarning: Downcasting int16 to uint8 without scaling because max value 158 fits in uint8\n",
      "  return _convert(image, np.uint8, force_copy)\n"
     ]
    },
    {
     "name": "stdout",
     "output_type": "stream",
     "text": [
      "Loading dicom files ... This may take a moment.\n"
     ]
    },
    {
     "name": "stderr",
     "output_type": "stream",
     "text": [
      "/home/pedro/Documents/UNI/_3_ano/LAB_IACD/project_1/.venv/lib/python3.10/site-packages/skimage/util/dtype.py:576: UserWarning: Downcasting int16 to uint8 without scaling because max value 129 fits in uint8\n",
      "  return _convert(image, np.uint8, force_copy)\n",
      "/home/pedro/Documents/UNI/_3_ano/LAB_IACD/project_1/.venv/lib/python3.10/site-packages/skimage/util/dtype.py:576: UserWarning: Downcasting int16 to uint8 without scaling because max value 191 fits in uint8\n",
      "  return _convert(image, np.uint8, force_copy)\n",
      "/home/pedro/Documents/UNI/_3_ano/LAB_IACD/project_1/.venv/lib/python3.10/site-packages/skimage/util/dtype.py:576: UserWarning: Downcasting int16 to uint8 without scaling because max value 204 fits in uint8\n",
      "  return _convert(image, np.uint8, force_copy)\n",
      "/home/pedro/Documents/UNI/_3_ano/LAB_IACD/project_1/.venv/lib/python3.10/site-packages/skimage/util/dtype.py:576: UserWarning: Downcasting int16 to uint8 without scaling because max value -8 fits in uint8\n",
      "  return _convert(image, np.uint8, force_copy)\n",
      "/home/pedro/Documents/UNI/_3_ano/LAB_IACD/project_1/.venv/lib/python3.10/site-packages/skimage/util/dtype.py:576: UserWarning: Downcasting int16 to uint8 without scaling because max value -377 fits in uint8\n",
      "  return _convert(image, np.uint8, force_copy)\n"
     ]
    },
    {
     "name": "stdout",
     "output_type": "stream",
     "text": [
      "Loading dicom files ... This may take a moment.\n"
     ]
    },
    {
     "name": "stderr",
     "output_type": "stream",
     "text": [
      "/home/pedro/Documents/UNI/_3_ano/LAB_IACD/project_1/.venv/lib/python3.10/site-packages/skimage/util/dtype.py:576: UserWarning: Downcasting int16 to uint8 without scaling because max value -35 fits in uint8\n",
      "  return _convert(image, np.uint8, force_copy)\n"
     ]
    },
    {
     "name": "stdout",
     "output_type": "stream",
     "text": [
      "Loading dicom files ... This may take a moment.\n",
      "Loading dicom files ... This may take a moment.\n",
      "Loading dicom files ... This may take a moment.\n",
      "Loading dicom files ... This may take a moment.\n",
      "Loading dicom files ... This may take a moment.\n"
     ]
    },
    {
     "name": "stderr",
     "output_type": "stream",
     "text": [
      "/home/pedro/Documents/UNI/_3_ano/LAB_IACD/project_1/.venv/lib/python3.10/site-packages/skimage/util/dtype.py:576: UserWarning: Downcasting int16 to uint8 without scaling because max value 31 fits in uint8\n",
      "  return _convert(image, np.uint8, force_copy)\n"
     ]
    },
    {
     "name": "stdout",
     "output_type": "stream",
     "text": [
      "Loading dicom files ... This may take a moment.\n",
      "Loading dicom files ... This may take a moment.\n"
     ]
    },
    {
     "name": "stderr",
     "output_type": "stream",
     "text": [
      "/home/pedro/Documents/UNI/_3_ano/LAB_IACD/project_1/.venv/lib/python3.10/site-packages/skimage/util/dtype.py:576: UserWarning: Downcasting int16 to uint8 without scaling because max value 49 fits in uint8\n",
      "  return _convert(image, np.uint8, force_copy)\n"
     ]
    },
    {
     "name": "stdout",
     "output_type": "stream",
     "text": [
      "Loading dicom files ... This may take a moment.\n"
     ]
    },
    {
     "name": "stderr",
     "output_type": "stream",
     "text": [
      "/home/pedro/Documents/UNI/_3_ano/LAB_IACD/project_1/.venv/lib/python3.10/site-packages/skimage/util/dtype.py:576: UserWarning: Downcasting int16 to uint8 without scaling because max value 14 fits in uint8\n",
      "  return _convert(image, np.uint8, force_copy)\n"
     ]
    },
    {
     "name": "stdout",
     "output_type": "stream",
     "text": [
      "Loading dicom files ... This may take a moment.\n"
     ]
    },
    {
     "name": "stderr",
     "output_type": "stream",
     "text": [
      "/home/pedro/Documents/UNI/_3_ano/LAB_IACD/project_1/.venv/lib/python3.10/site-packages/skimage/util/dtype.py:576: UserWarning: Downcasting int16 to uint8 without scaling because max value -67 fits in uint8\n",
      "  return _convert(image, np.uint8, force_copy)\n"
     ]
    },
    {
     "name": "stdout",
     "output_type": "stream",
     "text": [
      "Loading dicom files ... This may take a moment.\n"
     ]
    },
    {
     "name": "stderr",
     "output_type": "stream",
     "text": [
      "/home/pedro/Documents/UNI/_3_ano/LAB_IACD/project_1/.venv/lib/python3.10/site-packages/skimage/util/dtype.py:576: UserWarning: Downcasting int16 to uint8 without scaling because max value -112 fits in uint8\n",
      "  return _convert(image, np.uint8, force_copy)\n"
     ]
    },
    {
     "name": "stdout",
     "output_type": "stream",
     "text": [
      "Loading dicom files ... This may take a moment.\n",
      "Loading dicom files ... This may take a moment.\n",
      "Loading dicom files ... This may take a moment.\n",
      "Loading dicom files ... This may take a moment.\n"
     ]
    },
    {
     "name": "stderr",
     "output_type": "stream",
     "text": [
      "/home/pedro/Documents/UNI/_3_ano/LAB_IACD/project_1/.venv/lib/python3.10/site-packages/skimage/util/dtype.py:576: UserWarning: Downcasting int16 to uint8 without scaling because max value 112 fits in uint8\n",
      "  return _convert(image, np.uint8, force_copy)\n"
     ]
    },
    {
     "name": "stdout",
     "output_type": "stream",
     "text": [
      "Loading dicom files ... This may take a moment.\n",
      "Loading dicom files ... This may take a moment.\n"
     ]
    },
    {
     "name": "stderr",
     "output_type": "stream",
     "text": [
      "/home/pedro/Documents/UNI/_3_ano/LAB_IACD/project_1/.venv/lib/python3.10/site-packages/skimage/util/dtype.py:576: UserWarning: Downcasting int16 to uint8 without scaling because max value 36 fits in uint8\n",
      "  return _convert(image, np.uint8, force_copy)\n"
     ]
    },
    {
     "name": "stdout",
     "output_type": "stream",
     "text": [
      "Loading dicom files ... This may take a moment.\n"
     ]
    },
    {
     "name": "stderr",
     "output_type": "stream",
     "text": [
      "/home/pedro/Documents/UNI/_3_ano/LAB_IACD/project_1/.venv/lib/python3.10/site-packages/skimage/util/dtype.py:576: UserWarning: Downcasting int16 to uint8 without scaling because max value -42 fits in uint8\n",
      "  return _convert(image, np.uint8, force_copy)\n",
      "/home/pedro/Documents/UNI/_3_ano/LAB_IACD/project_1/.venv/lib/python3.10/site-packages/skimage/util/dtype.py:576: UserWarning: Downcasting int16 to uint8 without scaling because max value 20 fits in uint8\n",
      "  return _convert(image, np.uint8, force_copy)\n"
     ]
    },
    {
     "name": "stdout",
     "output_type": "stream",
     "text": [
      "Loading dicom files ... This may take a moment.\n",
      "Loading dicom files ... This may take a moment.\n",
      "Loading dicom files ... This may take a moment.\n"
     ]
    },
    {
     "name": "stderr",
     "output_type": "stream",
     "text": [
      "/home/pedro/Documents/UNI/_3_ano/LAB_IACD/project_1/.venv/lib/python3.10/site-packages/skimage/util/dtype.py:576: UserWarning: Downcasting int16 to uint8 without scaling because max value 47 fits in uint8\n",
      "  return _convert(image, np.uint8, force_copy)\n"
     ]
    },
    {
     "name": "stdout",
     "output_type": "stream",
     "text": [
      "Loading dicom files ... This may take a moment.\n"
     ]
    },
    {
     "name": "stderr",
     "output_type": "stream",
     "text": [
      "/home/pedro/Documents/UNI/_3_ano/LAB_IACD/project_1/.venv/lib/python3.10/site-packages/skimage/util/dtype.py:576: UserWarning: Downcasting int16 to uint8 without scaling because max value 119 fits in uint8\n",
      "  return _convert(image, np.uint8, force_copy)\n"
     ]
    },
    {
     "name": "stdout",
     "output_type": "stream",
     "text": [
      "Loading dicom files ... This may take a moment.\n",
      "Loading dicom files ... This may take a moment.\n"
     ]
    },
    {
     "name": "stderr",
     "output_type": "stream",
     "text": [
      "/home/pedro/Documents/UNI/_3_ano/LAB_IACD/project_1/.venv/lib/python3.10/site-packages/skimage/util/dtype.py:576: UserWarning: Downcasting int16 to uint8 without scaling because max value 225 fits in uint8\n",
      "  return _convert(image, np.uint8, force_copy)\n"
     ]
    },
    {
     "name": "stdout",
     "output_type": "stream",
     "text": [
      "Loading dicom files ... This may take a moment.\n",
      "Loading dicom files ... This may take a moment.\n",
      "Loading dicom files ... This may take a moment.\n",
      "Loading dicom files ... This may take a moment.\n"
     ]
    },
    {
     "name": "stderr",
     "output_type": "stream",
     "text": [
      "/home/pedro/Documents/UNI/_3_ano/LAB_IACD/project_1/.venv/lib/python3.10/site-packages/skimage/util/dtype.py:576: UserWarning: Downcasting int16 to uint8 without scaling because max value 215 fits in uint8\n",
      "  return _convert(image, np.uint8, force_copy)\n"
     ]
    },
    {
     "name": "stdout",
     "output_type": "stream",
     "text": [
      "Loading dicom files ... This may take a moment.\n"
     ]
    },
    {
     "name": "stderr",
     "output_type": "stream",
     "text": [
      "/home/pedro/Documents/UNI/_3_ano/LAB_IACD/project_1/.venv/lib/python3.10/site-packages/skimage/util/dtype.py:576: UserWarning: Downcasting int16 to uint8 without scaling because max value 173 fits in uint8\n",
      "  return _convert(image, np.uint8, force_copy)\n",
      "/home/pedro/Documents/UNI/_3_ano/LAB_IACD/project_1/.venv/lib/python3.10/site-packages/skimage/util/dtype.py:576: UserWarning: Downcasting int16 to uint8 without scaling because max value 88 fits in uint8\n",
      "  return _convert(image, np.uint8, force_copy)\n",
      "/home/pedro/Documents/UNI/_3_ano/LAB_IACD/project_1/.venv/lib/python3.10/site-packages/skimage/util/dtype.py:576: UserWarning: Downcasting int16 to uint8 without scaling because max value 117 fits in uint8\n",
      "  return _convert(image, np.uint8, force_copy)\n"
     ]
    },
    {
     "name": "stdout",
     "output_type": "stream",
     "text": [
      "Loading dicom files ... This may take a moment.\n"
     ]
    },
    {
     "name": "stderr",
     "output_type": "stream",
     "text": [
      "/home/pedro/Documents/UNI/_3_ano/LAB_IACD/project_1/.venv/lib/python3.10/site-packages/skimage/util/dtype.py:576: UserWarning: Downcasting int16 to uint8 without scaling because max value 105 fits in uint8\n",
      "  return _convert(image, np.uint8, force_copy)\n",
      "/home/pedro/Documents/UNI/_3_ano/LAB_IACD/project_1/.venv/lib/python3.10/site-packages/skimage/util/dtype.py:576: UserWarning: Downcasting int16 to uint8 without scaling because max value 117 fits in uint8\n",
      "  return _convert(image, np.uint8, force_copy)\n",
      "/home/pedro/Documents/UNI/_3_ano/LAB_IACD/project_1/.venv/lib/python3.10/site-packages/skimage/util/dtype.py:576: UserWarning: Downcasting int16 to uint8 without scaling because max value -71 fits in uint8\n",
      "  return _convert(image, np.uint8, force_copy)\n",
      "/home/pedro/Documents/UNI/_3_ano/LAB_IACD/project_1/.venv/lib/python3.10/site-packages/skimage/util/dtype.py:576: UserWarning: Downcasting int16 to uint8 without scaling because max value 104 fits in uint8\n",
      "  return _convert(image, np.uint8, force_copy)\n"
     ]
    },
    {
     "name": "stdout",
     "output_type": "stream",
     "text": [
      "Loading dicom files ... This may take a moment.\n",
      "Loading dicom files ... This may take a moment.\n",
      "Loading dicom files ... This may take a moment.\n",
      "Loading dicom files ... This may take a moment.\n",
      "Loading dicom files ... This may take a moment.\n",
      "Loading dicom files ... This may take a moment.\n"
     ]
    },
    {
     "name": "stderr",
     "output_type": "stream",
     "text": [
      "/home/pedro/Documents/UNI/_3_ano/LAB_IACD/project_1/.venv/lib/python3.10/site-packages/skimage/util/dtype.py:576: UserWarning: Downcasting int16 to uint8 without scaling because max value 113 fits in uint8\n",
      "  return _convert(image, np.uint8, force_copy)\n",
      "/home/pedro/Documents/UNI/_3_ano/LAB_IACD/project_1/.venv/lib/python3.10/site-packages/skimage/util/dtype.py:576: UserWarning: Downcasting int16 to uint8 without scaling because max value 90 fits in uint8\n",
      "  return _convert(image, np.uint8, force_copy)\n"
     ]
    },
    {
     "name": "stdout",
     "output_type": "stream",
     "text": [
      "Loading dicom files ... This may take a moment.\n",
      "Failed to reduce all groups to <= 4 Annotations.\n",
      "Some nodules may be close and must be grouped manually.\n",
      "Loading dicom files ... This may take a moment.\n",
      "Loading dicom files ... This may take a moment.\n"
     ]
    },
    {
     "name": "stderr",
     "output_type": "stream",
     "text": [
      "/home/pedro/Documents/UNI/_3_ano/LAB_IACD/project_1/.venv/lib/python3.10/site-packages/skimage/util/dtype.py:576: UserWarning: Downcasting int16 to uint8 without scaling because max value 16 fits in uint8\n",
      "  return _convert(image, np.uint8, force_copy)\n"
     ]
    },
    {
     "name": "stdout",
     "output_type": "stream",
     "text": [
      "Loading dicom files ... This may take a moment.\n"
     ]
    },
    {
     "name": "stderr",
     "output_type": "stream",
     "text": [
      "/home/pedro/Documents/UNI/_3_ano/LAB_IACD/project_1/.venv/lib/python3.10/site-packages/skimage/util/dtype.py:576: UserWarning: Downcasting int16 to uint8 without scaling because max value 211 fits in uint8\n",
      "  return _convert(image, np.uint8, force_copy)\n"
     ]
    },
    {
     "name": "stdout",
     "output_type": "stream",
     "text": [
      "Loading dicom files ... This may take a moment.\n",
      "Loading dicom files ... This may take a moment.\n",
      "Loading dicom files ... This may take a moment.\n"
     ]
    },
    {
     "name": "stderr",
     "output_type": "stream",
     "text": [
      "/home/pedro/Documents/UNI/_3_ano/LAB_IACD/project_1/.venv/lib/python3.10/site-packages/skimage/util/dtype.py:576: UserWarning: Downcasting int16 to uint8 without scaling because max value 142 fits in uint8\n",
      "  return _convert(image, np.uint8, force_copy)\n"
     ]
    },
    {
     "name": "stdout",
     "output_type": "stream",
     "text": [
      "Loading dicom files ... This may take a moment.\n",
      "Loading dicom files ... This may take a moment.\n"
     ]
    },
    {
     "name": "stderr",
     "output_type": "stream",
     "text": [
      "/home/pedro/Documents/UNI/_3_ano/LAB_IACD/project_1/.venv/lib/python3.10/site-packages/skimage/util/dtype.py:576: UserWarning: Downcasting int16 to uint8 without scaling because max value 138 fits in uint8\n",
      "  return _convert(image, np.uint8, force_copy)\n"
     ]
    },
    {
     "name": "stdout",
     "output_type": "stream",
     "text": [
      "Loading dicom files ... This may take a moment.\n"
     ]
    },
    {
     "name": "stderr",
     "output_type": "stream",
     "text": [
      "/home/pedro/Documents/UNI/_3_ano/LAB_IACD/project_1/.venv/lib/python3.10/site-packages/skimage/util/dtype.py:576: UserWarning: Downcasting int16 to uint8 without scaling because max value 212 fits in uint8\n",
      "  return _convert(image, np.uint8, force_copy)\n"
     ]
    },
    {
     "name": "stdout",
     "output_type": "stream",
     "text": [
      "Loading dicom files ... This may take a moment.\n"
     ]
    },
    {
     "name": "stderr",
     "output_type": "stream",
     "text": [
      "/home/pedro/Documents/UNI/_3_ano/LAB_IACD/project_1/.venv/lib/python3.10/site-packages/skimage/util/dtype.py:576: UserWarning: Downcasting int16 to uint8 without scaling because max value 165 fits in uint8\n",
      "  return _convert(image, np.uint8, force_copy)\n"
     ]
    },
    {
     "name": "stdout",
     "output_type": "stream",
     "text": [
      "Loading dicom files ... This may take a moment.\n",
      "Loading dicom files ... This may take a moment.\n"
     ]
    },
    {
     "name": "stderr",
     "output_type": "stream",
     "text": [
      "/home/pedro/Documents/UNI/_3_ano/LAB_IACD/project_1/.venv/lib/python3.10/site-packages/skimage/util/dtype.py:576: UserWarning: Downcasting int16 to uint8 without scaling because max value -21 fits in uint8\n",
      "  return _convert(image, np.uint8, force_copy)\n"
     ]
    },
    {
     "name": "stdout",
     "output_type": "stream",
     "text": [
      "Loading dicom files ... This may take a moment.\n",
      "Loading dicom files ... This may take a moment.\n",
      "Loading dicom files ... This may take a moment.\n",
      "Loading dicom files ... This may take a moment.\n",
      "Loading dicom files ... This may take a moment.\n",
      "Loading dicom files ... This may take a moment.\n",
      "Loading dicom files ... This may take a moment.\n"
     ]
    },
    {
     "name": "stderr",
     "output_type": "stream",
     "text": [
      "/home/pedro/Documents/UNI/_3_ano/LAB_IACD/project_1/.venv/lib/python3.10/site-packages/skimage/util/dtype.py:576: UserWarning: Downcasting int16 to uint8 without scaling because max value 95 fits in uint8\n",
      "  return _convert(image, np.uint8, force_copy)\n"
     ]
    },
    {
     "name": "stdout",
     "output_type": "stream",
     "text": [
      "Loading dicom files ... This may take a moment.\n"
     ]
    },
    {
     "name": "stderr",
     "output_type": "stream",
     "text": [
      "/home/pedro/Documents/UNI/_3_ano/LAB_IACD/project_1/.venv/lib/python3.10/site-packages/skimage/util/dtype.py:576: UserWarning: Downcasting int16 to uint8 without scaling because max value 25 fits in uint8\n",
      "  return _convert(image, np.uint8, force_copy)\n"
     ]
    },
    {
     "name": "stdout",
     "output_type": "stream",
     "text": [
      "Loading dicom files ... This may take a moment.\n",
      "Loading dicom files ... This may take a moment.\n"
     ]
    },
    {
     "name": "stderr",
     "output_type": "stream",
     "text": [
      "/home/pedro/Documents/UNI/_3_ano/LAB_IACD/project_1/.venv/lib/python3.10/site-packages/skimage/util/dtype.py:576: UserWarning: Downcasting int16 to uint8 without scaling because max value 169 fits in uint8\n",
      "  return _convert(image, np.uint8, force_copy)\n"
     ]
    },
    {
     "name": "stdout",
     "output_type": "stream",
     "text": [
      "Loading dicom files ... This may take a moment.\n",
      "Loading dicom files ... This may take a moment.\n"
     ]
    },
    {
     "name": "stderr",
     "output_type": "stream",
     "text": [
      "/home/pedro/Documents/UNI/_3_ano/LAB_IACD/project_1/.venv/lib/python3.10/site-packages/skimage/util/dtype.py:576: UserWarning: Downcasting int16 to uint8 without scaling because max value 96 fits in uint8\n",
      "  return _convert(image, np.uint8, force_copy)\n"
     ]
    },
    {
     "name": "stdout",
     "output_type": "stream",
     "text": [
      "Loading dicom files ... This may take a moment.\n",
      "Loading dicom files ... This may take a moment.\n",
      "Loading dicom files ... This may take a moment.\n",
      "Loading dicom files ... This may take a moment.\n",
      "Loading dicom files ... This may take a moment.\n"
     ]
    },
    {
     "name": "stderr",
     "output_type": "stream",
     "text": [
      "/home/pedro/Documents/UNI/_3_ano/LAB_IACD/project_1/.venv/lib/python3.10/site-packages/skimage/util/dtype.py:576: UserWarning: Downcasting int16 to uint8 without scaling because max value 203 fits in uint8\n",
      "  return _convert(image, np.uint8, force_copy)\n",
      "/home/pedro/Documents/UNI/_3_ano/LAB_IACD/project_1/.venv/lib/python3.10/site-packages/skimage/util/dtype.py:576: UserWarning: Downcasting int16 to uint8 without scaling because max value 138 fits in uint8\n",
      "  return _convert(image, np.uint8, force_copy)\n",
      "/home/pedro/Documents/UNI/_3_ano/LAB_IACD/project_1/.venv/lib/python3.10/site-packages/skimage/util/dtype.py:576: UserWarning: Downcasting int16 to uint8 without scaling because max value 130 fits in uint8\n",
      "  return _convert(image, np.uint8, force_copy)\n"
     ]
    },
    {
     "name": "stdout",
     "output_type": "stream",
     "text": [
      "Loading dicom files ... This may take a moment.\n"
     ]
    },
    {
     "name": "stderr",
     "output_type": "stream",
     "text": [
      "/home/pedro/Documents/UNI/_3_ano/LAB_IACD/project_1/.venv/lib/python3.10/site-packages/skimage/util/dtype.py:576: UserWarning: Downcasting int16 to uint8 without scaling because max value 77 fits in uint8\n",
      "  return _convert(image, np.uint8, force_copy)\n",
      "/home/pedro/Documents/UNI/_3_ano/LAB_IACD/project_1/.venv/lib/python3.10/site-packages/skimage/util/dtype.py:576: UserWarning: Downcasting int16 to uint8 without scaling because max value -46 fits in uint8\n",
      "  return _convert(image, np.uint8, force_copy)\n"
     ]
    },
    {
     "name": "stdout",
     "output_type": "stream",
     "text": [
      "Loading dicom files ... This may take a moment.\n",
      "Loading dicom files ... This may take a moment.\n"
     ]
    },
    {
     "name": "stderr",
     "output_type": "stream",
     "text": [
      "/home/pedro/Documents/UNI/_3_ano/LAB_IACD/project_1/.venv/lib/python3.10/site-packages/skimage/util/dtype.py:576: UserWarning: Downcasting int16 to uint8 without scaling because max value -344 fits in uint8\n",
      "  return _convert(image, np.uint8, force_copy)\n"
     ]
    },
    {
     "name": "stdout",
     "output_type": "stream",
     "text": [
      "Loading dicom files ... This may take a moment.\n"
     ]
    },
    {
     "name": "stderr",
     "output_type": "stream",
     "text": [
      "/home/pedro/Documents/UNI/_3_ano/LAB_IACD/project_1/.venv/lib/python3.10/site-packages/skimage/util/dtype.py:576: UserWarning: Downcasting int16 to uint8 without scaling because max value 96 fits in uint8\n",
      "  return _convert(image, np.uint8, force_copy)\n"
     ]
    },
    {
     "name": "stdout",
     "output_type": "stream",
     "text": [
      "Loading dicom files ... This may take a moment.\n",
      "Loading dicom files ... This may take a moment.\n"
     ]
    },
    {
     "name": "stderr",
     "output_type": "stream",
     "text": [
      "/home/pedro/Documents/UNI/_3_ano/LAB_IACD/project_1/.venv/lib/python3.10/site-packages/skimage/util/dtype.py:576: UserWarning: Downcasting int16 to uint8 without scaling because max value 66 fits in uint8\n",
      "  return _convert(image, np.uint8, force_copy)\n"
     ]
    },
    {
     "name": "stdout",
     "output_type": "stream",
     "text": [
      "Loading dicom files ... This may take a moment.\n",
      "Loading dicom files ... This may take a moment.\n"
     ]
    },
    {
     "name": "stderr",
     "output_type": "stream",
     "text": [
      "/home/pedro/Documents/UNI/_3_ano/LAB_IACD/project_1/.venv/lib/python3.10/site-packages/skimage/util/dtype.py:576: UserWarning: Downcasting int16 to uint8 without scaling because max value 73 fits in uint8\n",
      "  return _convert(image, np.uint8, force_copy)\n",
      "/home/pedro/Documents/UNI/_3_ano/LAB_IACD/project_1/.venv/lib/python3.10/site-packages/skimage/util/dtype.py:576: UserWarning: Downcasting int16 to uint8 without scaling because max value 13 fits in uint8\n",
      "  return _convert(image, np.uint8, force_copy)\n",
      "/home/pedro/Documents/UNI/_3_ano/LAB_IACD/project_1/.venv/lib/python3.10/site-packages/skimage/util/dtype.py:576: UserWarning: Downcasting int16 to uint8 without scaling because max value 117 fits in uint8\n",
      "  return _convert(image, np.uint8, force_copy)\n"
     ]
    },
    {
     "name": "stdout",
     "output_type": "stream",
     "text": [
      "Loading dicom files ... This may take a moment.\n"
     ]
    },
    {
     "name": "stderr",
     "output_type": "stream",
     "text": [
      "/home/pedro/Documents/UNI/_3_ano/LAB_IACD/project_1/.venv/lib/python3.10/site-packages/skimage/util/dtype.py:576: UserWarning: Downcasting int16 to uint8 without scaling because max value -24 fits in uint8\n",
      "  return _convert(image, np.uint8, force_copy)\n",
      "/home/pedro/Documents/UNI/_3_ano/LAB_IACD/project_1/.venv/lib/python3.10/site-packages/skimage/util/dtype.py:576: UserWarning: Downcasting int16 to uint8 without scaling because max value 73 fits in uint8\n",
      "  return _convert(image, np.uint8, force_copy)\n"
     ]
    },
    {
     "name": "stdout",
     "output_type": "stream",
     "text": [
      "Loading dicom files ... This may take a moment.\n",
      "Loading dicom files ... This may take a moment.\n"
     ]
    },
    {
     "name": "stderr",
     "output_type": "stream",
     "text": [
      "/home/pedro/Documents/UNI/_3_ano/LAB_IACD/project_1/.venv/lib/python3.10/site-packages/skimage/util/dtype.py:576: UserWarning: Downcasting int16 to uint8 without scaling because max value 76 fits in uint8\n",
      "  return _convert(image, np.uint8, force_copy)\n"
     ]
    },
    {
     "name": "stdout",
     "output_type": "stream",
     "text": [
      "Loading dicom files ... This may take a moment.\n"
     ]
    },
    {
     "name": "stderr",
     "output_type": "stream",
     "text": [
      "/home/pedro/Documents/UNI/_3_ano/LAB_IACD/project_1/.venv/lib/python3.10/site-packages/skimage/util/dtype.py:576: UserWarning: Downcasting int16 to uint8 without scaling because max value 150 fits in uint8\n",
      "  return _convert(image, np.uint8, force_copy)\n",
      "/home/pedro/Documents/UNI/_3_ano/LAB_IACD/project_1/.venv/lib/python3.10/site-packages/skimage/util/dtype.py:576: UserWarning: Downcasting int16 to uint8 without scaling because max value 52 fits in uint8\n",
      "  return _convert(image, np.uint8, force_copy)\n",
      "/home/pedro/Documents/UNI/_3_ano/LAB_IACD/project_1/.venv/lib/python3.10/site-packages/skimage/util/dtype.py:576: UserWarning: Downcasting int16 to uint8 without scaling because max value -313 fits in uint8\n",
      "  return _convert(image, np.uint8, force_copy)\n",
      "/home/pedro/Documents/UNI/_3_ano/LAB_IACD/project_1/.venv/lib/python3.10/site-packages/skimage/util/dtype.py:576: UserWarning: Downcasting int16 to uint8 without scaling because max value -74 fits in uint8\n",
      "  return _convert(image, np.uint8, force_copy)\n",
      "/home/pedro/Documents/UNI/_3_ano/LAB_IACD/project_1/.venv/lib/python3.10/site-packages/skimage/util/dtype.py:576: UserWarning: Downcasting int16 to uint8 without scaling because max value -63 fits in uint8\n",
      "  return _convert(image, np.uint8, force_copy)\n",
      "/home/pedro/Documents/UNI/_3_ano/LAB_IACD/project_1/.venv/lib/python3.10/site-packages/skimage/util/dtype.py:576: UserWarning: Downcasting int16 to uint8 without scaling because max value -514 fits in uint8\n",
      "  return _convert(image, np.uint8, force_copy)\n"
     ]
    },
    {
     "name": "stdout",
     "output_type": "stream",
     "text": [
      "Loading dicom files ... This may take a moment.\n",
      "Loading dicom files ... This may take a moment.\n",
      "Loading dicom files ... This may take a moment.\n"
     ]
    },
    {
     "name": "stderr",
     "output_type": "stream",
     "text": [
      "/home/pedro/Documents/UNI/_3_ano/LAB_IACD/project_1/.venv/lib/python3.10/site-packages/skimage/util/dtype.py:576: UserWarning: Downcasting int16 to uint8 without scaling because max value 204 fits in uint8\n",
      "  return _convert(image, np.uint8, force_copy)\n",
      "/home/pedro/Documents/UNI/_3_ano/LAB_IACD/project_1/.venv/lib/python3.10/site-packages/skimage/util/dtype.py:576: UserWarning: Downcasting int16 to uint8 without scaling because max value 64 fits in uint8\n",
      "  return _convert(image, np.uint8, force_copy)\n",
      "/home/pedro/Documents/UNI/_3_ano/LAB_IACD/project_1/.venv/lib/python3.10/site-packages/skimage/util/dtype.py:576: UserWarning: Downcasting int16 to uint8 without scaling because max value 178 fits in uint8\n",
      "  return _convert(image, np.uint8, force_copy)\n",
      "/home/pedro/Documents/UNI/_3_ano/LAB_IACD/project_1/.venv/lib/python3.10/site-packages/skimage/util/dtype.py:576: UserWarning: Downcasting int16 to uint8 without scaling because max value -81 fits in uint8\n",
      "  return _convert(image, np.uint8, force_copy)\n"
     ]
    },
    {
     "name": "stdout",
     "output_type": "stream",
     "text": [
      "Loading dicom files ... This may take a moment.\n",
      "Loading dicom files ... This may take a moment.\n",
      "Loading dicom files ... This may take a moment.\n",
      "Loading dicom files ... This may take a moment.\n",
      "Failed to reduce all groups to <= 4 Annotations.\n",
      "Some nodules may be close and must be grouped manually.\n",
      "Loading dicom files ... This may take a moment.\n",
      "Loading dicom files ... This may take a moment.\n",
      "Failed to reduce all groups to <= 4 Annotations.\n",
      "Some nodules may be close and must be grouped manually.\n",
      "Loading dicom files ... This may take a moment.\n",
      "Loading dicom files ... This may take a moment.\n",
      "Loading dicom files ... This may take a moment.\n"
     ]
    },
    {
     "name": "stderr",
     "output_type": "stream",
     "text": [
      "/home/pedro/Documents/UNI/_3_ano/LAB_IACD/project_1/.venv/lib/python3.10/site-packages/skimage/util/dtype.py:576: UserWarning: Downcasting int16 to uint8 without scaling because max value 74 fits in uint8\n",
      "  return _convert(image, np.uint8, force_copy)\n"
     ]
    },
    {
     "name": "stdout",
     "output_type": "stream",
     "text": [
      "Loading dicom files ... This may take a moment.\n"
     ]
    },
    {
     "name": "stderr",
     "output_type": "stream",
     "text": [
      "/home/pedro/Documents/UNI/_3_ano/LAB_IACD/project_1/.venv/lib/python3.10/site-packages/skimage/util/dtype.py:576: UserWarning: Downcasting int16 to uint8 without scaling because max value 167 fits in uint8\n",
      "  return _convert(image, np.uint8, force_copy)\n"
     ]
    },
    {
     "name": "stdout",
     "output_type": "stream",
     "text": [
      "Loading dicom files ... This may take a moment.\n"
     ]
    },
    {
     "name": "stderr",
     "output_type": "stream",
     "text": [
      "/home/pedro/Documents/UNI/_3_ano/LAB_IACD/project_1/.venv/lib/python3.10/site-packages/skimage/util/dtype.py:576: UserWarning: Downcasting int16 to uint8 without scaling because max value 87 fits in uint8\n",
      "  return _convert(image, np.uint8, force_copy)\n"
     ]
    },
    {
     "name": "stdout",
     "output_type": "stream",
     "text": [
      "Loading dicom files ... This may take a moment.\n"
     ]
    },
    {
     "name": "stderr",
     "output_type": "stream",
     "text": [
      "/home/pedro/Documents/UNI/_3_ano/LAB_IACD/project_1/.venv/lib/python3.10/site-packages/skimage/util/dtype.py:576: UserWarning: Downcasting int16 to uint8 without scaling because max value 28 fits in uint8\n",
      "  return _convert(image, np.uint8, force_copy)\n",
      "/home/pedro/Documents/UNI/_3_ano/LAB_IACD/project_1/.venv/lib/python3.10/site-packages/skimage/util/dtype.py:576: UserWarning: Downcasting int16 to uint8 without scaling because max value 50 fits in uint8\n",
      "  return _convert(image, np.uint8, force_copy)\n",
      "/home/pedro/Documents/UNI/_3_ano/LAB_IACD/project_1/.venv/lib/python3.10/site-packages/skimage/util/dtype.py:576: UserWarning: Downcasting int16 to uint8 without scaling because max value 88 fits in uint8\n",
      "  return _convert(image, np.uint8, force_copy)\n",
      "/home/pedro/Documents/UNI/_3_ano/LAB_IACD/project_1/.venv/lib/python3.10/site-packages/skimage/util/dtype.py:576: UserWarning: Downcasting int16 to uint8 without scaling because max value 154 fits in uint8\n",
      "  return _convert(image, np.uint8, force_copy)\n",
      "/home/pedro/Documents/UNI/_3_ano/LAB_IACD/project_1/.venv/lib/python3.10/site-packages/skimage/util/dtype.py:576: UserWarning: Downcasting int16 to uint8 without scaling because max value 237 fits in uint8\n",
      "  return _convert(image, np.uint8, force_copy)\n",
      "/home/pedro/Documents/UNI/_3_ano/LAB_IACD/project_1/.venv/lib/python3.10/site-packages/skimage/util/dtype.py:576: UserWarning: Downcasting int16 to uint8 without scaling because max value -60 fits in uint8\n",
      "  return _convert(image, np.uint8, force_copy)\n",
      "/home/pedro/Documents/UNI/_3_ano/LAB_IACD/project_1/.venv/lib/python3.10/site-packages/skimage/util/dtype.py:576: UserWarning: Downcasting int16 to uint8 without scaling because max value 120 fits in uint8\n",
      "  return _convert(image, np.uint8, force_copy)\n",
      "/home/pedro/Documents/UNI/_3_ano/LAB_IACD/project_1/.venv/lib/python3.10/site-packages/skimage/util/dtype.py:576: UserWarning: Downcasting int16 to uint8 without scaling because max value 136 fits in uint8\n",
      "  return _convert(image, np.uint8, force_copy)\n"
     ]
    },
    {
     "name": "stdout",
     "output_type": "stream",
     "text": [
      "Loading dicom files ... This may take a moment.\n"
     ]
    },
    {
     "name": "stderr",
     "output_type": "stream",
     "text": [
      "/home/pedro/Documents/UNI/_3_ano/LAB_IACD/project_1/.venv/lib/python3.10/site-packages/skimage/util/dtype.py:576: UserWarning: Downcasting int16 to uint8 without scaling because max value 119 fits in uint8\n",
      "  return _convert(image, np.uint8, force_copy)\n"
     ]
    },
    {
     "name": "stdout",
     "output_type": "stream",
     "text": [
      "Loading dicom files ... This may take a moment.\n",
      "Loading dicom files ... This may take a moment.\n"
     ]
    },
    {
     "name": "stderr",
     "output_type": "stream",
     "text": [
      "/home/pedro/Documents/UNI/_3_ano/LAB_IACD/project_1/.venv/lib/python3.10/site-packages/skimage/util/dtype.py:576: UserWarning: Downcasting int16 to uint8 without scaling because max value 117 fits in uint8\n",
      "  return _convert(image, np.uint8, force_copy)\n"
     ]
    },
    {
     "name": "stdout",
     "output_type": "stream",
     "text": [
      "Loading dicom files ... This may take a moment.\n"
     ]
    },
    {
     "name": "stderr",
     "output_type": "stream",
     "text": [
      "/home/pedro/Documents/UNI/_3_ano/LAB_IACD/project_1/.venv/lib/python3.10/site-packages/skimage/util/dtype.py:576: UserWarning: Downcasting int16 to uint8 without scaling because max value 68 fits in uint8\n",
      "  return _convert(image, np.uint8, force_copy)\n"
     ]
    },
    {
     "name": "stdout",
     "output_type": "stream",
     "text": [
      "Loading dicom files ... This may take a moment.\n",
      "Loading dicom files ... This may take a moment.\n",
      "Loading dicom files ... This may take a moment.\n",
      "Loading dicom files ... This may take a moment.\n",
      "Loading dicom files ... This may take a moment.\n"
     ]
    },
    {
     "name": "stderr",
     "output_type": "stream",
     "text": [
      "/home/pedro/Documents/UNI/_3_ano/LAB_IACD/project_1/.venv/lib/python3.10/site-packages/skimage/util/dtype.py:576: UserWarning: Downcasting int16 to uint8 without scaling because max value 138 fits in uint8\n",
      "  return _convert(image, np.uint8, force_copy)\n",
      "/home/pedro/Documents/UNI/_3_ano/LAB_IACD/project_1/.venv/lib/python3.10/site-packages/skimage/util/dtype.py:576: UserWarning: Downcasting int16 to uint8 without scaling because max value 96 fits in uint8\n",
      "  return _convert(image, np.uint8, force_copy)\n"
     ]
    },
    {
     "name": "stdout",
     "output_type": "stream",
     "text": [
      "Loading dicom files ... This may take a moment.\n",
      "Loading dicom files ... This may take a moment.\n",
      "Loading dicom files ... This may take a moment.\n",
      "Loading dicom files ... This may take a moment.\n",
      "Loading dicom files ... This may take a moment.\n",
      "Loading dicom files ... This may take a moment.\n",
      "Loading dicom files ... This may take a moment.\n"
     ]
    },
    {
     "name": "stderr",
     "output_type": "stream",
     "text": [
      "/home/pedro/Documents/UNI/_3_ano/LAB_IACD/project_1/.venv/lib/python3.10/site-packages/skimage/util/dtype.py:576: UserWarning: Downcasting int16 to uint8 without scaling because max value 140 fits in uint8\n",
      "  return _convert(image, np.uint8, force_copy)\n"
     ]
    },
    {
     "name": "stdout",
     "output_type": "stream",
     "text": [
      "Loading dicom files ... This may take a moment.\n",
      "Loading dicom files ... This may take a moment.\n",
      "Loading dicom files ... This may take a moment.\n",
      "Loading dicom files ... This may take a moment.\n",
      "Loading dicom files ... This may take a moment.\n",
      "Loading dicom files ... This may take a moment.\n",
      "Loading dicom files ... This may take a moment.\n",
      "Loading dicom files ... This may take a moment.\n",
      "Loading dicom files ... This may take a moment.\n",
      "Loading dicom files ... This may take a moment.\n",
      "Loading dicom files ... This may take a moment.\n",
      "Loading dicom files ... This may take a moment.\n"
     ]
    },
    {
     "name": "stderr",
     "output_type": "stream",
     "text": [
      "/home/pedro/Documents/UNI/_3_ano/LAB_IACD/project_1/.venv/lib/python3.10/site-packages/skimage/util/dtype.py:576: UserWarning: Downcasting int16 to uint8 without scaling because max value 108 fits in uint8\n",
      "  return _convert(image, np.uint8, force_copy)\n"
     ]
    },
    {
     "name": "stdout",
     "output_type": "stream",
     "text": [
      "Loading dicom files ... This may take a moment.\n"
     ]
    },
    {
     "name": "stderr",
     "output_type": "stream",
     "text": [
      "/home/pedro/Documents/UNI/_3_ano/LAB_IACD/project_1/.venv/lib/python3.10/site-packages/skimage/util/dtype.py:576: UserWarning: Downcasting int16 to uint8 without scaling because max value -165 fits in uint8\n",
      "  return _convert(image, np.uint8, force_copy)\n"
     ]
    },
    {
     "name": "stdout",
     "output_type": "stream",
     "text": [
      "Loading dicom files ... This may take a moment.\n",
      "Loading dicom files ... This may take a moment.\n",
      "Loading dicom files ... This may take a moment.\n",
      "Loading dicom files ... This may take a moment.\n",
      "Loading dicom files ... This may take a moment.\n"
     ]
    },
    {
     "name": "stderr",
     "output_type": "stream",
     "text": [
      "/home/pedro/Documents/UNI/_3_ano/LAB_IACD/project_1/.venv/lib/python3.10/site-packages/skimage/util/dtype.py:576: UserWarning: Downcasting int16 to uint8 without scaling because max value 51 fits in uint8\n",
      "  return _convert(image, np.uint8, force_copy)\n",
      "/home/pedro/Documents/UNI/_3_ano/LAB_IACD/project_1/.venv/lib/python3.10/site-packages/skimage/util/dtype.py:576: UserWarning: Downcasting int16 to uint8 without scaling because max value 52 fits in uint8\n",
      "  return _convert(image, np.uint8, force_copy)\n"
     ]
    },
    {
     "name": "stdout",
     "output_type": "stream",
     "text": [
      "Loading dicom files ... This may take a moment.\n",
      "Loading dicom files ... This may take a moment.\n"
     ]
    },
    {
     "name": "stderr",
     "output_type": "stream",
     "text": [
      "/home/pedro/Documents/UNI/_3_ano/LAB_IACD/project_1/.venv/lib/python3.10/site-packages/skimage/util/dtype.py:576: UserWarning: Downcasting int16 to uint8 without scaling because max value 92 fits in uint8\n",
      "  return _convert(image, np.uint8, force_copy)\n",
      "/home/pedro/Documents/UNI/_3_ano/LAB_IACD/project_1/.venv/lib/python3.10/site-packages/skimage/util/dtype.py:576: UserWarning: Downcasting int16 to uint8 without scaling because max value 110 fits in uint8\n",
      "  return _convert(image, np.uint8, force_copy)\n"
     ]
    },
    {
     "name": "stdout",
     "output_type": "stream",
     "text": [
      "Loading dicom files ... This may take a moment.\n"
     ]
    },
    {
     "name": "stderr",
     "output_type": "stream",
     "text": [
      "/home/pedro/Documents/UNI/_3_ano/LAB_IACD/project_1/.venv/lib/python3.10/site-packages/skimage/util/dtype.py:576: UserWarning: Downcasting int16 to uint8 without scaling because max value 19 fits in uint8\n",
      "  return _convert(image, np.uint8, force_copy)\n"
     ]
    },
    {
     "name": "stdout",
     "output_type": "stream",
     "text": [
      "Loading dicom files ... This may take a moment.\n",
      "Loading dicom files ... This may take a moment.\n"
     ]
    },
    {
     "name": "stderr",
     "output_type": "stream",
     "text": [
      "/home/pedro/Documents/UNI/_3_ano/LAB_IACD/project_1/.venv/lib/python3.10/site-packages/skimage/util/dtype.py:576: UserWarning: Downcasting int16 to uint8 without scaling because max value 109 fits in uint8\n",
      "  return _convert(image, np.uint8, force_copy)\n"
     ]
    },
    {
     "name": "stdout",
     "output_type": "stream",
     "text": [
      "Loading dicom files ... This may take a moment.\n",
      "Loading dicom files ... This may take a moment.\n"
     ]
    },
    {
     "name": "stderr",
     "output_type": "stream",
     "text": [
      "/home/pedro/Documents/UNI/_3_ano/LAB_IACD/project_1/.venv/lib/python3.10/site-packages/skimage/util/dtype.py:576: UserWarning: Downcasting int16 to uint8 without scaling because max value 42 fits in uint8\n",
      "  return _convert(image, np.uint8, force_copy)\n"
     ]
    },
    {
     "name": "stdout",
     "output_type": "stream",
     "text": [
      "Loading dicom files ... This may take a moment.\n"
     ]
    },
    {
     "name": "stderr",
     "output_type": "stream",
     "text": [
      "/home/pedro/Documents/UNI/_3_ano/LAB_IACD/project_1/.venv/lib/python3.10/site-packages/skimage/util/dtype.py:576: UserWarning: Downcasting int16 to uint8 without scaling because max value 124 fits in uint8\n",
      "  return _convert(image, np.uint8, force_copy)\n",
      "/home/pedro/Documents/UNI/_3_ano/LAB_IACD/project_1/.venv/lib/python3.10/site-packages/skimage/util/dtype.py:576: UserWarning: Downcasting int16 to uint8 without scaling because max value 109 fits in uint8\n",
      "  return _convert(image, np.uint8, force_copy)\n",
      "/home/pedro/Documents/UNI/_3_ano/LAB_IACD/project_1/.venv/lib/python3.10/site-packages/skimage/util/dtype.py:576: UserWarning: Downcasting int16 to uint8 without scaling because max value 36 fits in uint8\n",
      "  return _convert(image, np.uint8, force_copy)\n",
      "/home/pedro/Documents/UNI/_3_ano/LAB_IACD/project_1/.venv/lib/python3.10/site-packages/skimage/util/dtype.py:576: UserWarning: Downcasting int16 to uint8 without scaling because max value 169 fits in uint8\n",
      "  return _convert(image, np.uint8, force_copy)\n"
     ]
    },
    {
     "name": "stdout",
     "output_type": "stream",
     "text": [
      "Loading dicom files ... This may take a moment.\n",
      "Loading dicom files ... This may take a moment.\n",
      "Loading dicom files ... This may take a moment.\n",
      "Loading dicom files ... This may take a moment.\n"
     ]
    },
    {
     "name": "stderr",
     "output_type": "stream",
     "text": [
      "/home/pedro/Documents/UNI/_3_ano/LAB_IACD/project_1/.venv/lib/python3.10/site-packages/skimage/util/dtype.py:576: UserWarning: Downcasting int16 to uint8 without scaling because max value 249 fits in uint8\n",
      "  return _convert(image, np.uint8, force_copy)\n",
      "/home/pedro/Documents/UNI/_3_ano/LAB_IACD/project_1/.venv/lib/python3.10/site-packages/skimage/util/dtype.py:576: UserWarning: Downcasting int16 to uint8 without scaling because max value 180 fits in uint8\n",
      "  return _convert(image, np.uint8, force_copy)\n",
      "/home/pedro/Documents/UNI/_3_ano/LAB_IACD/project_1/.venv/lib/python3.10/site-packages/skimage/util/dtype.py:576: UserWarning: Downcasting int16 to uint8 without scaling because max value -14 fits in uint8\n",
      "  return _convert(image, np.uint8, force_copy)\n"
     ]
    },
    {
     "name": "stdout",
     "output_type": "stream",
     "text": [
      "Loading dicom files ... This may take a moment.\n"
     ]
    },
    {
     "name": "stderr",
     "output_type": "stream",
     "text": [
      "/home/pedro/Documents/UNI/_3_ano/LAB_IACD/project_1/.venv/lib/python3.10/site-packages/skimage/util/dtype.py:576: UserWarning: Downcasting int16 to uint8 without scaling because max value 74 fits in uint8\n",
      "  return _convert(image, np.uint8, force_copy)\n"
     ]
    },
    {
     "name": "stdout",
     "output_type": "stream",
     "text": [
      "Loading dicom files ... This may take a moment.\n",
      "Loading dicom files ... This may take a moment.\n"
     ]
    },
    {
     "name": "stderr",
     "output_type": "stream",
     "text": [
      "/home/pedro/Documents/UNI/_3_ano/LAB_IACD/project_1/.venv/lib/python3.10/site-packages/skimage/util/dtype.py:576: UserWarning: Downcasting int16 to uint8 without scaling because max value 157 fits in uint8\n",
      "  return _convert(image, np.uint8, force_copy)\n"
     ]
    },
    {
     "name": "stdout",
     "output_type": "stream",
     "text": [
      "Loading dicom files ... This may take a moment.\n",
      "Loading dicom files ... This may take a moment.\n",
      "Loading dicom files ... This may take a moment.\n"
     ]
    },
    {
     "name": "stderr",
     "output_type": "stream",
     "text": [
      "/home/pedro/Documents/UNI/_3_ano/LAB_IACD/project_1/.venv/lib/python3.10/site-packages/skimage/util/dtype.py:576: UserWarning: Downcasting int16 to uint8 without scaling because max value 84 fits in uint8\n",
      "  return _convert(image, np.uint8, force_copy)\n",
      "/home/pedro/Documents/UNI/_3_ano/LAB_IACD/project_1/.venv/lib/python3.10/site-packages/skimage/util/dtype.py:576: UserWarning: Downcasting int16 to uint8 without scaling because max value 222 fits in uint8\n",
      "  return _convert(image, np.uint8, force_copy)\n"
     ]
    },
    {
     "name": "stdout",
     "output_type": "stream",
     "text": [
      "Loading dicom files ... This may take a moment.\n",
      "Loading dicom files ... This may take a moment.\n"
     ]
    },
    {
     "name": "stderr",
     "output_type": "stream",
     "text": [
      "/home/pedro/Documents/UNI/_3_ano/LAB_IACD/project_1/.venv/lib/python3.10/site-packages/skimage/util/dtype.py:576: UserWarning: Downcasting int16 to uint8 without scaling because max value -18 fits in uint8\n",
      "  return _convert(image, np.uint8, force_copy)\n"
     ]
    },
    {
     "name": "stdout",
     "output_type": "stream",
     "text": [
      "Loading dicom files ... This may take a moment.\n",
      "Loading dicom files ... This may take a moment.\n"
     ]
    },
    {
     "name": "stderr",
     "output_type": "stream",
     "text": [
      "/home/pedro/Documents/UNI/_3_ano/LAB_IACD/project_1/.venv/lib/python3.10/site-packages/skimage/util/dtype.py:576: UserWarning: Downcasting int16 to uint8 without scaling because max value 10 fits in uint8\n",
      "  return _convert(image, np.uint8, force_copy)\n"
     ]
    },
    {
     "name": "stdout",
     "output_type": "stream",
     "text": [
      "Loading dicom files ... This may take a moment.\n",
      "Loading dicom files ... This may take a moment.\n",
      "Loading dicom files ... This may take a moment.\n",
      "Loading dicom files ... This may take a moment.\n",
      "Loading dicom files ... This may take a moment.\n",
      "Loading dicom files ... This may take a moment.\n",
      "Loading dicom files ... This may take a moment.\n"
     ]
    },
    {
     "name": "stderr",
     "output_type": "stream",
     "text": [
      "/home/pedro/Documents/UNI/_3_ano/LAB_IACD/project_1/.venv/lib/python3.10/site-packages/skimage/util/dtype.py:576: UserWarning: Downcasting int16 to uint8 without scaling because max value 111 fits in uint8\n",
      "  return _convert(image, np.uint8, force_copy)\n",
      "/home/pedro/Documents/UNI/_3_ano/LAB_IACD/project_1/.venv/lib/python3.10/site-packages/skimage/util/dtype.py:576: UserWarning: Downcasting int16 to uint8 without scaling because max value 112 fits in uint8\n",
      "  return _convert(image, np.uint8, force_copy)\n"
     ]
    },
    {
     "name": "stdout",
     "output_type": "stream",
     "text": [
      "Loading dicom files ... This may take a moment.\n",
      "Loading dicom files ... This may take a moment.\n"
     ]
    },
    {
     "name": "stderr",
     "output_type": "stream",
     "text": [
      "/home/pedro/Documents/UNI/_3_ano/LAB_IACD/project_1/.venv/lib/python3.10/site-packages/skimage/util/dtype.py:576: UserWarning: Downcasting int16 to uint8 without scaling because max value 58 fits in uint8\n",
      "  return _convert(image, np.uint8, force_copy)\n",
      "/home/pedro/Documents/UNI/_3_ano/LAB_IACD/project_1/.venv/lib/python3.10/site-packages/skimage/util/dtype.py:576: UserWarning: Downcasting int16 to uint8 without scaling because max value 68 fits in uint8\n",
      "  return _convert(image, np.uint8, force_copy)\n",
      "/home/pedro/Documents/UNI/_3_ano/LAB_IACD/project_1/.venv/lib/python3.10/site-packages/skimage/util/dtype.py:576: UserWarning: Downcasting int16 to uint8 without scaling because max value 82 fits in uint8\n",
      "  return _convert(image, np.uint8, force_copy)\n"
     ]
    },
    {
     "name": "stdout",
     "output_type": "stream",
     "text": [
      "Loading dicom files ... This may take a moment.\n"
     ]
    },
    {
     "name": "stderr",
     "output_type": "stream",
     "text": [
      "/home/pedro/Documents/UNI/_3_ano/LAB_IACD/project_1/.venv/lib/python3.10/site-packages/skimage/util/dtype.py:576: UserWarning: Downcasting int16 to uint8 without scaling because max value 152 fits in uint8\n",
      "  return _convert(image, np.uint8, force_copy)\n",
      "/home/pedro/Documents/UNI/_3_ano/LAB_IACD/project_1/.venv/lib/python3.10/site-packages/skimage/util/dtype.py:576: UserWarning: Downcasting int16 to uint8 without scaling because max value 9 fits in uint8\n",
      "  return _convert(image, np.uint8, force_copy)\n"
     ]
    },
    {
     "name": "stdout",
     "output_type": "stream",
     "text": [
      "Loading dicom files ... This may take a moment.\n",
      "Loading dicom files ... This may take a moment.\n",
      "Loading dicom files ... This may take a moment.\n"
     ]
    },
    {
     "name": "stderr",
     "output_type": "stream",
     "text": [
      "/home/pedro/Documents/UNI/_3_ano/LAB_IACD/project_1/.venv/lib/python3.10/site-packages/skimage/util/dtype.py:576: UserWarning: Downcasting int16 to uint8 without scaling because max value -76 fits in uint8\n",
      "  return _convert(image, np.uint8, force_copy)\n"
     ]
    },
    {
     "name": "stdout",
     "output_type": "stream",
     "text": [
      "Loading dicom files ... This may take a moment.\n",
      "Loading dicom files ... This may take a moment.\n",
      "Failed to reduce all groups to <= 4 Annotations.\n",
      "Some nodules may be close and must be grouped manually.\n",
      "Loading dicom files ... This may take a moment.\n",
      "Loading dicom files ... This may take a moment.\n",
      "Loading dicom files ... This may take a moment.\n",
      "Loading dicom files ... This may take a moment.\n"
     ]
    },
    {
     "name": "stderr",
     "output_type": "stream",
     "text": [
      "/home/pedro/Documents/UNI/_3_ano/LAB_IACD/project_1/.venv/lib/python3.10/site-packages/skimage/util/dtype.py:576: UserWarning: Downcasting int16 to uint8 without scaling because max value 209 fits in uint8\n",
      "  return _convert(image, np.uint8, force_copy)\n"
     ]
    },
    {
     "name": "stdout",
     "output_type": "stream",
     "text": [
      "Loading dicom files ... This may take a moment.\n",
      "Loading dicom files ... This may take a moment.\n"
     ]
    },
    {
     "name": "stderr",
     "output_type": "stream",
     "text": [
      "/home/pedro/Documents/UNI/_3_ano/LAB_IACD/project_1/.venv/lib/python3.10/site-packages/skimage/util/dtype.py:576: UserWarning: Downcasting int16 to uint8 without scaling because max value -46 fits in uint8\n",
      "  return _convert(image, np.uint8, force_copy)\n"
     ]
    },
    {
     "name": "stdout",
     "output_type": "stream",
     "text": [
      "Loading dicom files ... This may take a moment.\n",
      "Loading dicom files ... This may take a moment.\n"
     ]
    },
    {
     "name": "stderr",
     "output_type": "stream",
     "text": [
      "/home/pedro/Documents/UNI/_3_ano/LAB_IACD/project_1/.venv/lib/python3.10/site-packages/skimage/util/dtype.py:576: UserWarning: Downcasting int16 to uint8 without scaling because max value 175 fits in uint8\n",
      "  return _convert(image, np.uint8, force_copy)\n",
      "/home/pedro/Documents/UNI/_3_ano/LAB_IACD/project_1/.venv/lib/python3.10/site-packages/skimage/util/dtype.py:576: UserWarning: Downcasting int16 to uint8 without scaling because max value -190 fits in uint8\n",
      "  return _convert(image, np.uint8, force_copy)\n"
     ]
    },
    {
     "name": "stdout",
     "output_type": "stream",
     "text": [
      "Loading dicom files ... This may take a moment.\n",
      "Loading dicom files ... This may take a moment.\n"
     ]
    },
    {
     "name": "stderr",
     "output_type": "stream",
     "text": [
      "/home/pedro/Documents/UNI/_3_ano/LAB_IACD/project_1/.venv/lib/python3.10/site-packages/skimage/util/dtype.py:576: UserWarning: Downcasting int16 to uint8 without scaling because max value 99 fits in uint8\n",
      "  return _convert(image, np.uint8, force_copy)\n",
      "/home/pedro/Documents/UNI/_3_ano/LAB_IACD/project_1/.venv/lib/python3.10/site-packages/skimage/util/dtype.py:576: UserWarning: Downcasting int16 to uint8 without scaling because max value 132 fits in uint8\n",
      "  return _convert(image, np.uint8, force_copy)\n"
     ]
    },
    {
     "name": "stdout",
     "output_type": "stream",
     "text": [
      "Loading dicom files ... This may take a moment.\n",
      "Loading dicom files ... This may take a moment.\n"
     ]
    },
    {
     "name": "stderr",
     "output_type": "stream",
     "text": [
      "/home/pedro/Documents/UNI/_3_ano/LAB_IACD/project_1/.venv/lib/python3.10/site-packages/skimage/util/dtype.py:576: UserWarning: Downcasting int16 to uint8 without scaling because max value 8 fits in uint8\n",
      "  return _convert(image, np.uint8, force_copy)\n"
     ]
    },
    {
     "name": "stdout",
     "output_type": "stream",
     "text": [
      "Loading dicom files ... This may take a moment.\n",
      "Loading dicom files ... This may take a moment.\n",
      "Loading dicom files ... This may take a moment.\n",
      "Loading dicom files ... This may take a moment.\n"
     ]
    },
    {
     "name": "stderr",
     "output_type": "stream",
     "text": [
      "/home/pedro/Documents/UNI/_3_ano/LAB_IACD/project_1/.venv/lib/python3.10/site-packages/skimage/util/dtype.py:576: UserWarning: Downcasting int16 to uint8 without scaling because max value 129 fits in uint8\n",
      "  return _convert(image, np.uint8, force_copy)\n"
     ]
    },
    {
     "name": "stdout",
     "output_type": "stream",
     "text": [
      "Loading dicom files ... This may take a moment.\n",
      "Loading dicom files ... This may take a moment.\n",
      "Loading dicom files ... This may take a moment.\n",
      "Loading dicom files ... This may take a moment.\n"
     ]
    },
    {
     "name": "stderr",
     "output_type": "stream",
     "text": [
      "/home/pedro/Documents/UNI/_3_ano/LAB_IACD/project_1/.venv/lib/python3.10/site-packages/skimage/util/dtype.py:576: UserWarning: Downcasting int16 to uint8 without scaling because max value -171 fits in uint8\n",
      "  return _convert(image, np.uint8, force_copy)\n",
      "/home/pedro/Documents/UNI/_3_ano/LAB_IACD/project_1/.venv/lib/python3.10/site-packages/skimage/util/dtype.py:576: UserWarning: Downcasting int16 to uint8 without scaling because max value -30 fits in uint8\n",
      "  return _convert(image, np.uint8, force_copy)\n",
      "/home/pedro/Documents/UNI/_3_ano/LAB_IACD/project_1/.venv/lib/python3.10/site-packages/skimage/util/dtype.py:576: UserWarning: Downcasting int16 to uint8 without scaling because max value 91 fits in uint8\n",
      "  return _convert(image, np.uint8, force_copy)\n"
     ]
    },
    {
     "name": "stdout",
     "output_type": "stream",
     "text": [
      "Loading dicom files ... This may take a moment.\n",
      "Loading dicom files ... This may take a moment.\n"
     ]
    },
    {
     "name": "stderr",
     "output_type": "stream",
     "text": [
      "/home/pedro/Documents/UNI/_3_ano/LAB_IACD/project_1/.venv/lib/python3.10/site-packages/skimage/util/dtype.py:576: UserWarning: Downcasting int16 to uint8 without scaling because max value 136 fits in uint8\n",
      "  return _convert(image, np.uint8, force_copy)\n"
     ]
    },
    {
     "name": "stdout",
     "output_type": "stream",
     "text": [
      "Loading dicom files ... This may take a moment.\n",
      "Loading dicom files ... This may take a moment.\n",
      "Loading dicom files ... This may take a moment.\n",
      "Loading dicom files ... This may take a moment.\n",
      "Loading dicom files ... This may take a moment.\n"
     ]
    },
    {
     "name": "stderr",
     "output_type": "stream",
     "text": [
      "/home/pedro/Documents/UNI/_3_ano/LAB_IACD/project_1/.venv/lib/python3.10/site-packages/skimage/util/dtype.py:576: UserWarning: Downcasting int16 to uint8 without scaling because max value 182 fits in uint8\n",
      "  return _convert(image, np.uint8, force_copy)\n"
     ]
    },
    {
     "name": "stdout",
     "output_type": "stream",
     "text": [
      "Loading dicom files ... This may take a moment.\n",
      "Loading dicom files ... This may take a moment.\n",
      "Loading dicom files ... This may take a moment.\n",
      "Loading dicom files ... This may take a moment.\n"
     ]
    },
    {
     "name": "stderr",
     "output_type": "stream",
     "text": [
      "/home/pedro/Documents/UNI/_3_ano/LAB_IACD/project_1/.venv/lib/python3.10/site-packages/skimage/util/dtype.py:576: UserWarning: Downcasting int16 to uint8 without scaling because max value -252 fits in uint8\n",
      "  return _convert(image, np.uint8, force_copy)\n",
      "/home/pedro/Documents/UNI/_3_ano/LAB_IACD/project_1/.venv/lib/python3.10/site-packages/skimage/util/dtype.py:576: UserWarning: Downcasting int16 to uint8 without scaling because max value -268 fits in uint8\n",
      "  return _convert(image, np.uint8, force_copy)\n"
     ]
    },
    {
     "name": "stdout",
     "output_type": "stream",
     "text": [
      "Loading dicom files ... This may take a moment.\n"
     ]
    },
    {
     "name": "stderr",
     "output_type": "stream",
     "text": [
      "/home/pedro/Documents/UNI/_3_ano/LAB_IACD/project_1/.venv/lib/python3.10/site-packages/skimage/util/dtype.py:576: UserWarning: Downcasting int16 to uint8 without scaling because max value 201 fits in uint8\n",
      "  return _convert(image, np.uint8, force_copy)\n",
      "/home/pedro/Documents/UNI/_3_ano/LAB_IACD/project_1/.venv/lib/python3.10/site-packages/skimage/util/dtype.py:576: UserWarning: Downcasting int16 to uint8 without scaling because max value -503 fits in uint8\n",
      "  return _convert(image, np.uint8, force_copy)\n"
     ]
    },
    {
     "name": "stdout",
     "output_type": "stream",
     "text": [
      "Loading dicom files ... This may take a moment.\n",
      "Loading dicom files ... This may take a moment.\n",
      "Loading dicom files ... This may take a moment.\n"
     ]
    },
    {
     "name": "stderr",
     "output_type": "stream",
     "text": [
      "/home/pedro/Documents/UNI/_3_ano/LAB_IACD/project_1/.venv/lib/python3.10/site-packages/skimage/util/dtype.py:576: UserWarning: Downcasting int16 to uint8 without scaling because max value 146 fits in uint8\n",
      "  return _convert(image, np.uint8, force_copy)\n",
      "/home/pedro/Documents/UNI/_3_ano/LAB_IACD/project_1/.venv/lib/python3.10/site-packages/skimage/util/dtype.py:576: UserWarning: Downcasting int16 to uint8 without scaling because max value 142 fits in uint8\n",
      "  return _convert(image, np.uint8, force_copy)\n"
     ]
    },
    {
     "name": "stdout",
     "output_type": "stream",
     "text": [
      "Loading dicom files ... This may take a moment.\n",
      "Loading dicom files ... This may take a moment.\n"
     ]
    },
    {
     "name": "stderr",
     "output_type": "stream",
     "text": [
      "/home/pedro/Documents/UNI/_3_ano/LAB_IACD/project_1/.venv/lib/python3.10/site-packages/skimage/util/dtype.py:576: UserWarning: Downcasting int16 to uint8 without scaling because max value 33 fits in uint8\n",
      "  return _convert(image, np.uint8, force_copy)\n"
     ]
    },
    {
     "name": "stdout",
     "output_type": "stream",
     "text": [
      "Loading dicom files ... This may take a moment.\n",
      "Loading dicom files ... This may take a moment.\n",
      "Loading dicom files ... This may take a moment.\n",
      "Loading dicom files ... This may take a moment.\n"
     ]
    },
    {
     "name": "stderr",
     "output_type": "stream",
     "text": [
      "/home/pedro/Documents/UNI/_3_ano/LAB_IACD/project_1/.venv/lib/python3.10/site-packages/skimage/util/dtype.py:576: UserWarning: Downcasting int16 to uint8 without scaling because max value 69 fits in uint8\n",
      "  return _convert(image, np.uint8, force_copy)\n"
     ]
    },
    {
     "name": "stdout",
     "output_type": "stream",
     "text": [
      "Loading dicom files ... This may take a moment.\n",
      "Loading dicom files ... This may take a moment.\n",
      "Loading dicom files ... This may take a moment.\n"
     ]
    },
    {
     "name": "stderr",
     "output_type": "stream",
     "text": [
      "/home/pedro/Documents/UNI/_3_ano/LAB_IACD/project_1/.venv/lib/python3.10/site-packages/skimage/util/dtype.py:576: UserWarning: Downcasting int16 to uint8 without scaling because max value 52 fits in uint8\n",
      "  return _convert(image, np.uint8, force_copy)\n"
     ]
    },
    {
     "name": "stdout",
     "output_type": "stream",
     "text": [
      "Loading dicom files ... This may take a moment.\n",
      "Loading dicom files ... This may take a moment.\n",
      "Loading dicom files ... This may take a moment.\n",
      "Loading dicom files ... This may take a moment.\n"
     ]
    },
    {
     "name": "stderr",
     "output_type": "stream",
     "text": [
      "/home/pedro/Documents/UNI/_3_ano/LAB_IACD/project_1/.venv/lib/python3.10/site-packages/skimage/util/dtype.py:576: UserWarning: Downcasting int16 to uint8 without scaling because max value -31 fits in uint8\n",
      "  return _convert(image, np.uint8, force_copy)\n"
     ]
    },
    {
     "name": "stdout",
     "output_type": "stream",
     "text": [
      "Loading dicom files ... This may take a moment.\n",
      "Loading dicom files ... This may take a moment.\n"
     ]
    },
    {
     "name": "stderr",
     "output_type": "stream",
     "text": [
      "/home/pedro/Documents/UNI/_3_ano/LAB_IACD/project_1/.venv/lib/python3.10/site-packages/skimage/util/dtype.py:576: UserWarning: Downcasting int16 to uint8 without scaling because max value 193 fits in uint8\n",
      "  return _convert(image, np.uint8, force_copy)\n"
     ]
    },
    {
     "name": "stdout",
     "output_type": "stream",
     "text": [
      "Loading dicom files ... This may take a moment.\n",
      "Loading dicom files ... This may take a moment.\n",
      "Loading dicom files ... This may take a moment.\n"
     ]
    },
    {
     "name": "stderr",
     "output_type": "stream",
     "text": [
      "/home/pedro/Documents/UNI/_3_ano/LAB_IACD/project_1/.venv/lib/python3.10/site-packages/skimage/util/dtype.py:576: UserWarning: Downcasting int16 to uint8 without scaling because max value -28 fits in uint8\n",
      "  return _convert(image, np.uint8, force_copy)\n",
      "/home/pedro/Documents/UNI/_3_ano/LAB_IACD/project_1/.venv/lib/python3.10/site-packages/skimage/util/dtype.py:576: UserWarning: Downcasting int16 to uint8 without scaling because max value 252 fits in uint8\n",
      "  return _convert(image, np.uint8, force_copy)\n",
      "/home/pedro/Documents/UNI/_3_ano/LAB_IACD/project_1/.venv/lib/python3.10/site-packages/skimage/util/dtype.py:576: UserWarning: Downcasting int16 to uint8 without scaling because max value 83 fits in uint8\n",
      "  return _convert(image, np.uint8, force_copy)\n"
     ]
    },
    {
     "name": "stdout",
     "output_type": "stream",
     "text": [
      "Loading dicom files ... This may take a moment.\n",
      "Loading dicom files ... This may take a moment.\n",
      "Loading dicom files ... This may take a moment.\n"
     ]
    },
    {
     "name": "stderr",
     "output_type": "stream",
     "text": [
      "/home/pedro/Documents/UNI/_3_ano/LAB_IACD/project_1/.venv/lib/python3.10/site-packages/skimage/util/dtype.py:576: UserWarning: Downcasting int16 to uint8 without scaling because max value 60 fits in uint8\n",
      "  return _convert(image, np.uint8, force_copy)\n",
      "/home/pedro/Documents/UNI/_3_ano/LAB_IACD/project_1/.venv/lib/python3.10/site-packages/skimage/util/dtype.py:576: UserWarning: Downcasting int16 to uint8 without scaling because max value 184 fits in uint8\n",
      "  return _convert(image, np.uint8, force_copy)\n",
      "/home/pedro/Documents/UNI/_3_ano/LAB_IACD/project_1/.venv/lib/python3.10/site-packages/skimage/util/dtype.py:576: UserWarning: Downcasting int16 to uint8 without scaling because max value 213 fits in uint8\n",
      "  return _convert(image, np.uint8, force_copy)\n"
     ]
    },
    {
     "name": "stdout",
     "output_type": "stream",
     "text": [
      "Loading dicom files ... This may take a moment.\n"
     ]
    },
    {
     "name": "stderr",
     "output_type": "stream",
     "text": [
      "/home/pedro/Documents/UNI/_3_ano/LAB_IACD/project_1/.venv/lib/python3.10/site-packages/skimage/util/dtype.py:576: UserWarning: Downcasting int16 to uint8 without scaling because max value 74 fits in uint8\n",
      "  return _convert(image, np.uint8, force_copy)\n",
      "/home/pedro/Documents/UNI/_3_ano/LAB_IACD/project_1/.venv/lib/python3.10/site-packages/skimage/util/dtype.py:576: UserWarning: Downcasting int16 to uint8 without scaling because max value -7 fits in uint8\n",
      "  return _convert(image, np.uint8, force_copy)\n",
      "/home/pedro/Documents/UNI/_3_ano/LAB_IACD/project_1/.venv/lib/python3.10/site-packages/skimage/util/dtype.py:576: UserWarning: Downcasting int16 to uint8 without scaling because max value -34 fits in uint8\n",
      "  return _convert(image, np.uint8, force_copy)\n"
     ]
    },
    {
     "name": "stdout",
     "output_type": "stream",
     "text": [
      "Loading dicom files ... This may take a moment.\n"
     ]
    },
    {
     "name": "stderr",
     "output_type": "stream",
     "text": [
      "/home/pedro/Documents/UNI/_3_ano/LAB_IACD/project_1/.venv/lib/python3.10/site-packages/skimage/util/dtype.py:576: UserWarning: Downcasting int16 to uint8 without scaling because max value 76 fits in uint8\n",
      "  return _convert(image, np.uint8, force_copy)\n"
     ]
    },
    {
     "name": "stdout",
     "output_type": "stream",
     "text": [
      "Loading dicom files ... This may take a moment.\n"
     ]
    },
    {
     "name": "stderr",
     "output_type": "stream",
     "text": [
      "/home/pedro/Documents/UNI/_3_ano/LAB_IACD/project_1/.venv/lib/python3.10/site-packages/skimage/util/dtype.py:576: UserWarning: Downcasting int16 to uint8 without scaling because max value 228 fits in uint8\n",
      "  return _convert(image, np.uint8, force_copy)\n",
      "/home/pedro/Documents/UNI/_3_ano/LAB_IACD/project_1/.venv/lib/python3.10/site-packages/skimage/util/dtype.py:576: UserWarning: Downcasting int16 to uint8 without scaling because max value -165 fits in uint8\n",
      "  return _convert(image, np.uint8, force_copy)\n"
     ]
    },
    {
     "name": "stdout",
     "output_type": "stream",
     "text": [
      "Loading dicom files ... This may take a moment.\n",
      "Loading dicom files ... This may take a moment.\n",
      "Loading dicom files ... This may take a moment.\n"
     ]
    },
    {
     "name": "stderr",
     "output_type": "stream",
     "text": [
      "/home/pedro/Documents/UNI/_3_ano/LAB_IACD/project_1/.venv/lib/python3.10/site-packages/skimage/util/dtype.py:576: UserWarning: Downcasting int16 to uint8 without scaling because max value 85 fits in uint8\n",
      "  return _convert(image, np.uint8, force_copy)\n",
      "/home/pedro/Documents/UNI/_3_ano/LAB_IACD/project_1/.venv/lib/python3.10/site-packages/skimage/util/dtype.py:576: UserWarning: Downcasting int16 to uint8 without scaling because max value -163 fits in uint8\n",
      "  return _convert(image, np.uint8, force_copy)\n",
      "/home/pedro/Documents/UNI/_3_ano/LAB_IACD/project_1/.venv/lib/python3.10/site-packages/skimage/util/dtype.py:576: UserWarning: Downcasting int16 to uint8 without scaling because max value 96 fits in uint8\n",
      "  return _convert(image, np.uint8, force_copy)\n",
      "/home/pedro/Documents/UNI/_3_ano/LAB_IACD/project_1/.venv/lib/python3.10/site-packages/skimage/util/dtype.py:576: UserWarning: Downcasting int16 to uint8 without scaling because max value 97 fits in uint8\n",
      "  return _convert(image, np.uint8, force_copy)\n",
      "/home/pedro/Documents/UNI/_3_ano/LAB_IACD/project_1/.venv/lib/python3.10/site-packages/skimage/util/dtype.py:576: UserWarning: Downcasting int16 to uint8 without scaling because max value 94 fits in uint8\n",
      "  return _convert(image, np.uint8, force_copy)\n",
      "/home/pedro/Documents/UNI/_3_ano/LAB_IACD/project_1/.venv/lib/python3.10/site-packages/skimage/util/dtype.py:576: UserWarning: Downcasting int16 to uint8 without scaling because max value 6 fits in uint8\n",
      "  return _convert(image, np.uint8, force_copy)\n"
     ]
    },
    {
     "name": "stdout",
     "output_type": "stream",
     "text": [
      "Loading dicom files ... This may take a moment.\n",
      "Loading dicom files ... This may take a moment.\n"
     ]
    },
    {
     "name": "stderr",
     "output_type": "stream",
     "text": [
      "/home/pedro/Documents/UNI/_3_ano/LAB_IACD/project_1/.venv/lib/python3.10/site-packages/skimage/util/dtype.py:576: UserWarning: Downcasting int16 to uint8 without scaling because max value 207 fits in uint8\n",
      "  return _convert(image, np.uint8, force_copy)\n",
      "/home/pedro/Documents/UNI/_3_ano/LAB_IACD/project_1/.venv/lib/python3.10/site-packages/skimage/util/dtype.py:576: UserWarning: Downcasting int16 to uint8 without scaling because max value 218 fits in uint8\n",
      "  return _convert(image, np.uint8, force_copy)\n",
      "/home/pedro/Documents/UNI/_3_ano/LAB_IACD/project_1/.venv/lib/python3.10/site-packages/skimage/util/dtype.py:576: UserWarning: Downcasting int16 to uint8 without scaling because max value 183 fits in uint8\n",
      "  return _convert(image, np.uint8, force_copy)\n"
     ]
    },
    {
     "name": "stdout",
     "output_type": "stream",
     "text": [
      "Loading dicom files ... This may take a moment.\n",
      "Loading dicom files ... This may take a moment.\n",
      "Loading dicom files ... This may take a moment.\n"
     ]
    },
    {
     "name": "stderr",
     "output_type": "stream",
     "text": [
      "/home/pedro/Documents/UNI/_3_ano/LAB_IACD/project_1/.venv/lib/python3.10/site-packages/skimage/util/dtype.py:576: UserWarning: Downcasting int16 to uint8 without scaling because max value -73 fits in uint8\n",
      "  return _convert(image, np.uint8, force_copy)\n",
      "/home/pedro/Documents/UNI/_3_ano/LAB_IACD/project_1/.venv/lib/python3.10/site-packages/skimage/util/dtype.py:576: UserWarning: Downcasting int16 to uint8 without scaling because max value 46 fits in uint8\n",
      "  return _convert(image, np.uint8, force_copy)\n"
     ]
    },
    {
     "name": "stdout",
     "output_type": "stream",
     "text": [
      "Loading dicom files ... This may take a moment.\n",
      "Loading dicom files ... This may take a moment.\n",
      "Loading dicom files ... This may take a moment.\n",
      "Loading dicom files ... This may take a moment.\n"
     ]
    },
    {
     "name": "stderr",
     "output_type": "stream",
     "text": [
      "/home/pedro/Documents/UNI/_3_ano/LAB_IACD/project_1/.venv/lib/python3.10/site-packages/skimage/util/dtype.py:576: UserWarning: Downcasting int16 to uint8 without scaling because max value 81 fits in uint8\n",
      "  return _convert(image, np.uint8, force_copy)\n"
     ]
    }
   ],
   "source": [
    "import matplotlib.pyplot as plt\n",
    "import tensorflow as tf\n",
    "import numpy as np\n",
    "import pandas as pd\n",
    "from pylidc.utils import consensus\n",
    "from tensorflow.keras.applications.vgg16 import preprocess_input\n",
    "from tensorflow.keras.applications import VGG16\n",
    "from tensorflow.keras.layers import GlobalAveragePooling2D\n",
    "from tensorflow.keras.models import Model\n",
    "\n",
    "#load pre-trained model withput the top layers\n",
    "base_model=VGG16(weights='imagenet',include_top=False, input_shape=(512,512,3))\n",
    "\n",
    "#add global pooling to the method\n",
    "x=base_model.output\n",
    "x=GlobalAveragePooling2D()(x)\n",
    "cnn_model=Model(inputs=base_model.input,outputs=x)\n",
    "\n",
    "\n",
    "#create the DataFrame where we ccn features are going to be stored\n",
    "\n",
    "#create the columns names\n",
    "columns_name=[]\n",
    "columns_name.append(\"PatientID\")\n",
    "for i in range(512):\n",
    "    columns_name.append(\"cnn_feature \"+str(i))\n",
    "\n",
    "df=pd.DataFrame(columns=columns_name)\n",
    "\n",
    "\n",
    "for folder in folders:\n",
    "    pid=folder\n",
    "\n",
    "    #get the scann corresponding to the patient_id that we have \n",
    "    scan=pl.query(pl.Scan).filter(pl.Scan.patient_id==pid).first()\n",
    "    \n",
    "    #get all the nodules annotations, each list corresponds to the same lesions \n",
    "    nods=scan.cluster_annotations()\n",
    "    #nods is a list of list of annotations agrouped by nodule\n",
    "\n",
    "    #create an volume with all of the dicom images of that scan (basicly an 3D image of the CT)\n",
    "    vol=scan.to_volume()\n",
    "\n",
    "    padding=[(30,20),(10,25),(0,0)]\n",
    "    #anns represents all the annotations for one lesion in this scann\n",
    "    #nods represents a list of all the annotations for each lesion in this scan \n",
    "    for anns in nods:\n",
    "        #get the concensus for the contours of this nodule\n",
    "        cmask,cbbox,masks=consensus(anns,clevel=0.5,pad=padding)\n",
    "\n",
    "        #get the central slice of the computed bounding box\n",
    "        k=int(0.5*(cbbox[2].stop-cbbox[2].start))\n",
    "\n",
    "        img=vol[cbbox][:,:,k]\n",
    "\n",
    "\n",
    "        #applying possible usefull filters since we don't have that many lesions (2625)\n",
    "        from skimage.filters.rank import entropy\n",
    "        from skimage.morphology import disk\n",
    "        from skimage.util import img_as_ubyte\n",
    "        entropy_img=entropy(img_as_ubyte(img),disk(1))\n",
    "\n",
    "\n",
    "        from skimage.filters import sobel\n",
    "        sobel_img=sobel(img)\n",
    "\n",
    "        #getting the images ready for the cnn\n",
    "        imgs=[img,entropy_img,sobel_img]\n",
    "\n",
    "        for i in range(1):#we can change this after if we want to use the filters\n",
    "            #making each image have 3 dimensions\n",
    "            imgs[i] = np.expand_dims(imgs[i], axis=-1)\n",
    "\n",
    "            #resizing the images so that they match the input of the cnn\n",
    "            imgs[i]=tf.image.resize(imgs[i],(512,512))\n",
    "\n",
    "            #converting the images to rgb\n",
    "            if(imgs[i].shape[-1]==1):\n",
    "                imgs[i]=tf.image.grayscale_to_rgb(imgs[i])\n",
    "            \n",
    "            #preprocess to the VGG16\n",
    "            imgs[i]=preprocess_input(imgs[i].numpy())\n",
    "\n",
    "            #get the features learned by the cnn\n",
    "            features=cnn_model(np.expand_dims(imgs[i], axis=0))\n",
    "            features=features.numpy().flatten()\n",
    "\n",
    "            #create the row with everything that is going in the dataset \n",
    "            row=[pid]\n",
    "            for x in features:\n",
    "                row.append(x)\n",
    "            df.loc[len(df.index)]=row\n",
    "        \n",
    "    #     break #this breaks are for when debugging not having to run all the scanns\n",
    "    # break #this breaks are for when debugging not having to run all the scanns\n",
    "\n",
    "\n",
    "\n",
    "\n",
    "\n",
    "\n",
    "\n"
   ]
  },
  {
   "cell_type": "code",
   "execution_count": 43,
   "metadata": {},
   "outputs": [
    {
     "data": {
      "text/html": [
       "<div>\n",
       "<style scoped>\n",
       "    .dataframe tbody tr th:only-of-type {\n",
       "        vertical-align: middle;\n",
       "    }\n",
       "\n",
       "    .dataframe tbody tr th {\n",
       "        vertical-align: top;\n",
       "    }\n",
       "\n",
       "    .dataframe thead th {\n",
       "        text-align: right;\n",
       "    }\n",
       "</style>\n",
       "<table border=\"1\" class=\"dataframe\">\n",
       "  <thead>\n",
       "    <tr style=\"text-align: right;\">\n",
       "      <th></th>\n",
       "      <th>PatientID</th>\n",
       "      <th>cnn_feature 0</th>\n",
       "      <th>cnn_feature 1</th>\n",
       "      <th>cnn_feature 2</th>\n",
       "      <th>cnn_feature 3</th>\n",
       "      <th>cnn_feature 4</th>\n",
       "      <th>cnn_feature 5</th>\n",
       "      <th>cnn_feature 6</th>\n",
       "      <th>cnn_feature 7</th>\n",
       "      <th>cnn_feature 8</th>\n",
       "      <th>...</th>\n",
       "      <th>cnn_feature 502</th>\n",
       "      <th>cnn_feature 503</th>\n",
       "      <th>cnn_feature 504</th>\n",
       "      <th>cnn_feature 505</th>\n",
       "      <th>cnn_feature 506</th>\n",
       "      <th>cnn_feature 507</th>\n",
       "      <th>cnn_feature 508</th>\n",
       "      <th>cnn_feature 509</th>\n",
       "      <th>cnn_feature 510</th>\n",
       "      <th>cnn_feature 511</th>\n",
       "    </tr>\n",
       "  </thead>\n",
       "  <tbody>\n",
       "    <tr>\n",
       "      <th>0</th>\n",
       "      <td>LIDC-IDRI-0001</td>\n",
       "      <td>1.408519</td>\n",
       "      <td>6.613491</td>\n",
       "      <td>0.206812</td>\n",
       "      <td>12.522177</td>\n",
       "      <td>2.842293</td>\n",
       "      <td>2.566988</td>\n",
       "      <td>0.225895</td>\n",
       "      <td>3.202182</td>\n",
       "      <td>14.950947</td>\n",
       "      <td>...</td>\n",
       "      <td>38.483608</td>\n",
       "      <td>0.080818</td>\n",
       "      <td>1.799512</td>\n",
       "      <td>0.474278</td>\n",
       "      <td>6.975934</td>\n",
       "      <td>1.273983</td>\n",
       "      <td>4.503269</td>\n",
       "      <td>0.129298</td>\n",
       "      <td>9.106273</td>\n",
       "      <td>0.563464</td>\n",
       "    </tr>\n",
       "    <tr>\n",
       "      <th>1</th>\n",
       "      <td>LIDC-IDRI-0002</td>\n",
       "      <td>1.461552</td>\n",
       "      <td>9.027784</td>\n",
       "      <td>1.347735</td>\n",
       "      <td>26.601097</td>\n",
       "      <td>2.025649</td>\n",
       "      <td>2.777943</td>\n",
       "      <td>1.059285</td>\n",
       "      <td>2.987700</td>\n",
       "      <td>6.970528</td>\n",
       "      <td>...</td>\n",
       "      <td>23.129709</td>\n",
       "      <td>3.473532</td>\n",
       "      <td>0.753911</td>\n",
       "      <td>0.949201</td>\n",
       "      <td>1.776874</td>\n",
       "      <td>2.387758</td>\n",
       "      <td>4.194271</td>\n",
       "      <td>1.476390</td>\n",
       "      <td>5.335127</td>\n",
       "      <td>1.748041</td>\n",
       "    </tr>\n",
       "    <tr>\n",
       "      <th>2</th>\n",
       "      <td>LIDC-IDRI-0003</td>\n",
       "      <td>5.875987</td>\n",
       "      <td>11.540094</td>\n",
       "      <td>0.045949</td>\n",
       "      <td>27.112854</td>\n",
       "      <td>4.678982</td>\n",
       "      <td>3.787902</td>\n",
       "      <td>1.021508</td>\n",
       "      <td>1.924538</td>\n",
       "      <td>7.500788</td>\n",
       "      <td>...</td>\n",
       "      <td>24.454956</td>\n",
       "      <td>0.801210</td>\n",
       "      <td>0.239504</td>\n",
       "      <td>9.201927</td>\n",
       "      <td>1.946184</td>\n",
       "      <td>5.459285</td>\n",
       "      <td>0.320320</td>\n",
       "      <td>0.616315</td>\n",
       "      <td>3.036831</td>\n",
       "      <td>0.429381</td>\n",
       "    </tr>\n",
       "    <tr>\n",
       "      <th>3</th>\n",
       "      <td>LIDC-IDRI-0003</td>\n",
       "      <td>4.641324</td>\n",
       "      <td>6.771929</td>\n",
       "      <td>0.130819</td>\n",
       "      <td>20.271763</td>\n",
       "      <td>1.972514</td>\n",
       "      <td>5.147611</td>\n",
       "      <td>0.792397</td>\n",
       "      <td>6.882763</td>\n",
       "      <td>15.692515</td>\n",
       "      <td>...</td>\n",
       "      <td>28.314041</td>\n",
       "      <td>0.951502</td>\n",
       "      <td>1.994685</td>\n",
       "      <td>0.370287</td>\n",
       "      <td>5.199282</td>\n",
       "      <td>1.392501</td>\n",
       "      <td>1.789750</td>\n",
       "      <td>0.671943</td>\n",
       "      <td>5.783095</td>\n",
       "      <td>0.068551</td>\n",
       "    </tr>\n",
       "    <tr>\n",
       "      <th>4</th>\n",
       "      <td>LIDC-IDRI-0003</td>\n",
       "      <td>5.158184</td>\n",
       "      <td>4.188747</td>\n",
       "      <td>0.030707</td>\n",
       "      <td>4.444690</td>\n",
       "      <td>3.116260</td>\n",
       "      <td>0.293485</td>\n",
       "      <td>0.000000</td>\n",
       "      <td>3.416024</td>\n",
       "      <td>8.580443</td>\n",
       "      <td>...</td>\n",
       "      <td>28.857979</td>\n",
       "      <td>0.095775</td>\n",
       "      <td>1.139045</td>\n",
       "      <td>0.818399</td>\n",
       "      <td>4.912726</td>\n",
       "      <td>11.126127</td>\n",
       "      <td>1.109776</td>\n",
       "      <td>1.508004</td>\n",
       "      <td>11.945731</td>\n",
       "      <td>0.484690</td>\n",
       "    </tr>\n",
       "  </tbody>\n",
       "</table>\n",
       "<p>5 rows × 513 columns</p>\n",
       "</div>"
      ],
      "text/plain": [
       "        PatientID  cnn_feature 0  cnn_feature 1  cnn_feature 2  cnn_feature 3  \\\n",
       "0  LIDC-IDRI-0001       1.408519       6.613491       0.206812      12.522177   \n",
       "1  LIDC-IDRI-0002       1.461552       9.027784       1.347735      26.601097   \n",
       "2  LIDC-IDRI-0003       5.875987      11.540094       0.045949      27.112854   \n",
       "3  LIDC-IDRI-0003       4.641324       6.771929       0.130819      20.271763   \n",
       "4  LIDC-IDRI-0003       5.158184       4.188747       0.030707       4.444690   \n",
       "\n",
       "   cnn_feature 4  cnn_feature 5  cnn_feature 6  cnn_feature 7  cnn_feature 8  \\\n",
       "0       2.842293       2.566988       0.225895       3.202182      14.950947   \n",
       "1       2.025649       2.777943       1.059285       2.987700       6.970528   \n",
       "2       4.678982       3.787902       1.021508       1.924538       7.500788   \n",
       "3       1.972514       5.147611       0.792397       6.882763      15.692515   \n",
       "4       3.116260       0.293485       0.000000       3.416024       8.580443   \n",
       "\n",
       "   ...  cnn_feature 502  cnn_feature 503  cnn_feature 504  cnn_feature 505  \\\n",
       "0  ...        38.483608         0.080818         1.799512         0.474278   \n",
       "1  ...        23.129709         3.473532         0.753911         0.949201   \n",
       "2  ...        24.454956         0.801210         0.239504         9.201927   \n",
       "3  ...        28.314041         0.951502         1.994685         0.370287   \n",
       "4  ...        28.857979         0.095775         1.139045         0.818399   \n",
       "\n",
       "   cnn_feature 506  cnn_feature 507  cnn_feature 508  cnn_feature 509  \\\n",
       "0         6.975934         1.273983         4.503269         0.129298   \n",
       "1         1.776874         2.387758         4.194271         1.476390   \n",
       "2         1.946184         5.459285         0.320320         0.616315   \n",
       "3         5.199282         1.392501         1.789750         0.671943   \n",
       "4         4.912726        11.126127         1.109776         1.508004   \n",
       "\n",
       "   cnn_feature 510  cnn_feature 511  \n",
       "0         9.106273         0.563464  \n",
       "1         5.335127         1.748041  \n",
       "2         3.036831         0.429381  \n",
       "3         5.783095         0.068551  \n",
       "4        11.945731         0.484690  \n",
       "\n",
       "[5 rows x 513 columns]"
      ]
     },
     "execution_count": 43,
     "metadata": {},
     "output_type": "execute_result"
    }
   ],
   "source": [
    "df.head()"
   ]
  },
  {
   "cell_type": "code",
   "execution_count": null,
   "metadata": {},
   "outputs": [],
   "source": [
    "#store the current cnn features values to make it possible to make use them without having to calculate them again as it can take a while (93 min first time we tried)\n",
    "df.to_csv('cnn_features.csv', index=False)"
   ]
  },
  {
   "cell_type": "code",
   "execution_count": null,
   "metadata": {},
   "outputs": [],
   "source": []
  }
 ],
 "metadata": {
  "kernelspec": {
   "display_name": ".venv",
   "language": "python",
   "name": "python3"
  },
  "language_info": {
   "codemirror_mode": {
    "name": "ipython",
    "version": 3
   },
   "file_extension": ".py",
   "mimetype": "text/x-python",
   "name": "python",
   "nbconvert_exporter": "python",
   "pygments_lexer": "ipython3",
   "version": "3.10.12"
  }
 },
 "nbformat": 4,
 "nbformat_minor": 2
}
